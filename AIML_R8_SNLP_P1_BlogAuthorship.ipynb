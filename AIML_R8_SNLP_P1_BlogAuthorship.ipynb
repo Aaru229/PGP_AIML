{
 "cells": [
  {
   "cell_type": "markdown",
   "metadata": {},
   "source": [
    "### Load the dataset"
   ]
  },
  {
   "cell_type": "code",
   "execution_count": 1,
   "metadata": {
    "ExecuteTime": {
     "end_time": "2020-02-26T02:54:56.786888Z",
     "start_time": "2020-02-26T02:54:46.195287Z"
    }
   },
   "outputs": [],
   "source": [
    "import pandas as pd\n",
    "from sklearn.model_selection import train_test_split\n",
    "import re\n",
    "import nltk\n",
    "try:\n",
    "    from nltk.corpus import stopwords\n",
    "except:\n",
    "    nltk.download('stopwords')\n",
    "    from nltk.corpus import stopwords"
   ]
  },
  {
   "cell_type": "code",
   "execution_count": 2,
   "metadata": {
    "ExecuteTime": {
     "end_time": "2020-02-26T02:55:20.933432Z",
     "start_time": "2020-02-26T02:55:03.167422Z"
    },
    "scrolled": false
   },
   "outputs": [],
   "source": [
    "blog_data = pd.read_csv('blogtext.csv')"
   ]
  },
  {
   "cell_type": "code",
   "execution_count": 3,
   "metadata": {
    "ExecuteTime": {
     "end_time": "2020-02-26T02:55:21.564595Z",
     "start_time": "2020-02-26T02:55:21.182498Z"
    }
   },
   "outputs": [
    {
     "name": "stdout",
     "output_type": "stream",
     "text": [
      "<class 'pandas.core.frame.DataFrame'>\n",
      "RangeIndex: 681284 entries, 0 to 681283\n",
      "Data columns (total 7 columns):\n",
      "id        681284 non-null int64\n",
      "gender    681284 non-null object\n",
      "age       681284 non-null int64\n",
      "topic     681284 non-null object\n",
      "sign      681284 non-null object\n",
      "date      681284 non-null object\n",
      "text      681284 non-null object\n",
      "dtypes: int64(2), object(5)\n",
      "memory usage: 36.4+ MB\n"
     ]
    }
   ],
   "source": [
    "blog_data.info()"
   ]
  },
  {
   "cell_type": "code",
   "execution_count": 4,
   "metadata": {
    "ExecuteTime": {
     "end_time": "2020-02-26T02:55:21.793652Z",
     "start_time": "2020-02-26T02:55:21.729637Z"
    }
   },
   "outputs": [
    {
     "data": {
      "text/html": [
       "<div>\n",
       "<style scoped>\n",
       "    .dataframe tbody tr th:only-of-type {\n",
       "        vertical-align: middle;\n",
       "    }\n",
       "\n",
       "    .dataframe tbody tr th {\n",
       "        vertical-align: top;\n",
       "    }\n",
       "\n",
       "    .dataframe thead th {\n",
       "        text-align: right;\n",
       "    }\n",
       "</style>\n",
       "<table border=\"1\" class=\"dataframe\">\n",
       "  <thead>\n",
       "    <tr style=\"text-align: right;\">\n",
       "      <th></th>\n",
       "      <th>id</th>\n",
       "      <th>gender</th>\n",
       "      <th>age</th>\n",
       "      <th>topic</th>\n",
       "      <th>sign</th>\n",
       "      <th>date</th>\n",
       "      <th>text</th>\n",
       "    </tr>\n",
       "  </thead>\n",
       "  <tbody>\n",
       "    <tr>\n",
       "      <td>0</td>\n",
       "      <td>2059027</td>\n",
       "      <td>male</td>\n",
       "      <td>15</td>\n",
       "      <td>Student</td>\n",
       "      <td>Leo</td>\n",
       "      <td>14,May,2004</td>\n",
       "      <td>Info has been found (+/- 100 pages,...</td>\n",
       "    </tr>\n",
       "    <tr>\n",
       "      <td>1</td>\n",
       "      <td>2059027</td>\n",
       "      <td>male</td>\n",
       "      <td>15</td>\n",
       "      <td>Student</td>\n",
       "      <td>Leo</td>\n",
       "      <td>13,May,2004</td>\n",
       "      <td>These are the team members:   Drewe...</td>\n",
       "    </tr>\n",
       "    <tr>\n",
       "      <td>2</td>\n",
       "      <td>2059027</td>\n",
       "      <td>male</td>\n",
       "      <td>15</td>\n",
       "      <td>Student</td>\n",
       "      <td>Leo</td>\n",
       "      <td>12,May,2004</td>\n",
       "      <td>In het kader van kernfusie op aarde...</td>\n",
       "    </tr>\n",
       "    <tr>\n",
       "      <td>3</td>\n",
       "      <td>2059027</td>\n",
       "      <td>male</td>\n",
       "      <td>15</td>\n",
       "      <td>Student</td>\n",
       "      <td>Leo</td>\n",
       "      <td>12,May,2004</td>\n",
       "      <td>testing!!!  testing!!!</td>\n",
       "    </tr>\n",
       "    <tr>\n",
       "      <td>4</td>\n",
       "      <td>3581210</td>\n",
       "      <td>male</td>\n",
       "      <td>33</td>\n",
       "      <td>InvestmentBanking</td>\n",
       "      <td>Aquarius</td>\n",
       "      <td>11,June,2004</td>\n",
       "      <td>Thanks to Yahoo!'s Toolbar I can ...</td>\n",
       "    </tr>\n",
       "  </tbody>\n",
       "</table>\n",
       "</div>"
      ],
      "text/plain": [
       "        id gender  age              topic      sign          date  \\\n",
       "0  2059027   male   15            Student       Leo   14,May,2004   \n",
       "1  2059027   male   15            Student       Leo   13,May,2004   \n",
       "2  2059027   male   15            Student       Leo   12,May,2004   \n",
       "3  2059027   male   15            Student       Leo   12,May,2004   \n",
       "4  3581210   male   33  InvestmentBanking  Aquarius  11,June,2004   \n",
       "\n",
       "                                                text  \n",
       "0             Info has been found (+/- 100 pages,...  \n",
       "1             These are the team members:   Drewe...  \n",
       "2             In het kader van kernfusie op aarde...  \n",
       "3                   testing!!!  testing!!!            \n",
       "4               Thanks to Yahoo!'s Toolbar I can ...  "
      ]
     },
     "execution_count": 4,
     "metadata": {},
     "output_type": "execute_result"
    }
   ],
   "source": [
    "blog_data.head(5)"
   ]
  },
  {
   "cell_type": "code",
   "execution_count": 5,
   "metadata": {
    "ExecuteTime": {
     "end_time": "2020-02-26T02:55:21.992703Z",
     "start_time": "2020-02-26T02:55:21.964701Z"
    }
   },
   "outputs": [
    {
     "name": "stdout",
     "output_type": "stream",
     "text": [
      "<class 'pandas.core.frame.DataFrame'>\n",
      "RangeIndex: 5000 entries, 0 to 4999\n",
      "Data columns (total 7 columns):\n",
      "id        5000 non-null int64\n",
      "gender    5000 non-null object\n",
      "age       5000 non-null int64\n",
      "topic     5000 non-null object\n",
      "sign      5000 non-null object\n",
      "date      5000 non-null object\n",
      "text      5000 non-null object\n",
      "dtypes: int64(2), object(5)\n",
      "memory usage: 273.6+ KB\n"
     ]
    }
   ],
   "source": [
    "data = blog_data.head(5000)\n",
    "data.info()"
   ]
  },
  {
   "cell_type": "markdown",
   "metadata": {},
   "source": [
    "### Preprocess rows of the “text” column"
   ]
  },
  {
   "cell_type": "code",
   "execution_count": 6,
   "metadata": {
    "ExecuteTime": {
     "end_time": "2020-02-26T02:55:33.072506Z",
     "start_time": "2020-02-26T02:55:22.244767Z"
    }
   },
   "outputs": [],
   "source": [
    "# Convert text to lowercase\n",
    "data = data.applymap(lambda s: s.lower() if type(s) == str else s)\n",
    "# Remove unwanted characters\n",
    "data = data.applymap(lambda s: re.sub('[^0-9a-z #+_]', \" \", s) if type(s) == str else s)\n",
    "# Remove unwanted spaces\n",
    "data = data.applymap(lambda s: s.strip() if type(s) == str else s)\n",
    "# Remove stopwords\n",
    "stopwords = stopwords.words('english')\n",
    "for sent in data['text']:\n",
    "    sent = [wrd for wrd in sent if wrd not in stopwords]"
   ]
  },
  {
   "cell_type": "code",
   "execution_count": 7,
   "metadata": {
    "ExecuteTime": {
     "end_time": "2020-02-26T02:55:33.544627Z",
     "start_time": "2020-02-26T02:55:33.471607Z"
    }
   },
   "outputs": [
    {
     "data": {
      "text/plain": [
       "'           Info has been found (+/- 100 pages, and 4.5 MB of .pdf files) Now i have to wait untill our team leader has processed it and learns html.         '"
      ]
     },
     "execution_count": 7,
     "metadata": {},
     "output_type": "execute_result"
    }
   ],
   "source": [
    "blog_data['text'][0]"
   ]
  },
  {
   "cell_type": "code",
   "execution_count": 8,
   "metadata": {
    "ExecuteTime": {
     "end_time": "2020-02-26T02:55:33.818694Z",
     "start_time": "2020-02-26T02:55:33.807693Z"
    }
   },
   "outputs": [
    {
     "data": {
      "text/plain": [
       "'info has been found  +   100 pages  and 4 5 mb of  pdf files  now i have to wait untill our team leader has processed it and learns html'"
      ]
     },
     "execution_count": 8,
     "metadata": {},
     "output_type": "execute_result"
    }
   ],
   "source": [
    "data['text'][0]"
   ]
  },
  {
   "cell_type": "markdown",
   "metadata": {},
   "source": [
    "### Merging the labels together"
   ]
  },
  {
   "cell_type": "code",
   "execution_count": 9,
   "metadata": {
    "ExecuteTime": {
     "end_time": "2020-02-26T02:55:34.196790Z",
     "start_time": "2020-02-26T02:55:34.091765Z"
    }
   },
   "outputs": [],
   "source": [
    "data = data.assign(labels=data.gender.astype(str) + ', ' +\n",
    "                   data.age.astype(str) + ', ' + data.topic.astype(str) +\n",
    "                   ', ' + data.sign.astype(str))"
   ]
  },
  {
   "cell_type": "code",
   "execution_count": 10,
   "metadata": {
    "ExecuteTime": {
     "end_time": "2020-02-26T02:55:34.557883Z",
     "start_time": "2020-02-26T02:55:34.518871Z"
    }
   },
   "outputs": [
    {
     "name": "stdout",
     "output_type": "stream",
     "text": [
      "<class 'pandas.core.frame.DataFrame'>\n",
      "RangeIndex: 5000 entries, 0 to 4999\n",
      "Data columns (total 8 columns):\n",
      "id        5000 non-null int64\n",
      "gender    5000 non-null object\n",
      "age       5000 non-null int64\n",
      "topic     5000 non-null object\n",
      "sign      5000 non-null object\n",
      "date      5000 non-null object\n",
      "text      5000 non-null object\n",
      "labels    5000 non-null object\n",
      "dtypes: int64(2), object(6)\n",
      "memory usage: 312.6+ KB\n"
     ]
    }
   ],
   "source": [
    "data.info()"
   ]
  },
  {
   "cell_type": "code",
   "execution_count": 11,
   "metadata": {
    "ExecuteTime": {
     "end_time": "2020-02-26T02:55:34.924974Z",
     "start_time": "2020-02-26T02:55:34.878963Z"
    }
   },
   "outputs": [],
   "source": [
    "data.drop(['id', 'date', 'age', 'gender', 'sign', 'topic'],\n",
    "          axis=1,\n",
    "          inplace=True)\n",
    "\n",
    "# data1 = data.assign(labels = [data.gender, data.age, data.topic, data.sign])\n",
    "# data1 = data.assign(labels=lambda x: pd.array([x.gender, x.age, x.topic, x.sign]))\n",
    "# data[\"labels\"] = [data['gender'], data['age'], data['topic'], data['sign']]"
   ]
  },
  {
   "cell_type": "code",
   "execution_count": 13,
   "metadata": {
    "ExecuteTime": {
     "end_time": "2020-02-26T02:55:58.684344Z",
     "start_time": "2020-02-26T02:55:58.662341Z"
    }
   },
   "outputs": [],
   "source": [
    "data['labels'] = [lbl.split(',') for lbl in data['labels']]"
   ]
  },
  {
   "cell_type": "code",
   "execution_count": 14,
   "metadata": {
    "ExecuteTime": {
     "end_time": "2020-02-26T02:56:01.897251Z",
     "start_time": "2020-02-26T02:56:01.867247Z"
    }
   },
   "outputs": [
    {
     "data": {
      "text/html": [
       "<div>\n",
       "<style scoped>\n",
       "    .dataframe tbody tr th:only-of-type {\n",
       "        vertical-align: middle;\n",
       "    }\n",
       "\n",
       "    .dataframe tbody tr th {\n",
       "        vertical-align: top;\n",
       "    }\n",
       "\n",
       "    .dataframe thead th {\n",
       "        text-align: right;\n",
       "    }\n",
       "</style>\n",
       "<table border=\"1\" class=\"dataframe\">\n",
       "  <thead>\n",
       "    <tr style=\"text-align: right;\">\n",
       "      <th></th>\n",
       "      <th>text</th>\n",
       "      <th>labels</th>\n",
       "    </tr>\n",
       "  </thead>\n",
       "  <tbody>\n",
       "    <tr>\n",
       "      <td>0</td>\n",
       "      <td>info has been found  +   100 pages  and 4 5 mb...</td>\n",
       "      <td>[male,  15,  student,  leo]</td>\n",
       "    </tr>\n",
       "    <tr>\n",
       "      <td>1</td>\n",
       "      <td>these are the team members    drewes van der l...</td>\n",
       "      <td>[male,  15,  student,  leo]</td>\n",
       "    </tr>\n",
       "    <tr>\n",
       "      <td>2</td>\n",
       "      <td>in het kader van kernfusie op aarde   maak je ...</td>\n",
       "      <td>[male,  15,  student,  leo]</td>\n",
       "    </tr>\n",
       "    <tr>\n",
       "      <td>3</td>\n",
       "      <td>testing     testing</td>\n",
       "      <td>[male,  15,  student,  leo]</td>\n",
       "    </tr>\n",
       "    <tr>\n",
       "      <td>4</td>\n",
       "      <td>thanks to yahoo  s toolbar i can now  capture ...</td>\n",
       "      <td>[male,  33,  investmentbanking,  aquarius]</td>\n",
       "    </tr>\n",
       "  </tbody>\n",
       "</table>\n",
       "</div>"
      ],
      "text/plain": [
       "                                                text  \\\n",
       "0  info has been found  +   100 pages  and 4 5 mb...   \n",
       "1  these are the team members    drewes van der l...   \n",
       "2  in het kader van kernfusie op aarde   maak je ...   \n",
       "3                                testing     testing   \n",
       "4  thanks to yahoo  s toolbar i can now  capture ...   \n",
       "\n",
       "                                       labels  \n",
       "0                 [male,  15,  student,  leo]  \n",
       "1                 [male,  15,  student,  leo]  \n",
       "2                 [male,  15,  student,  leo]  \n",
       "3                 [male,  15,  student,  leo]  \n",
       "4  [male,  33,  investmentbanking,  aquarius]  "
      ]
     },
     "execution_count": 14,
     "metadata": {},
     "output_type": "execute_result"
    }
   ],
   "source": [
    "data.head(5)"
   ]
  },
  {
   "cell_type": "code",
   "execution_count": 15,
   "metadata": {
    "ExecuteTime": {
     "end_time": "2020-02-26T02:56:03.324423Z",
     "start_time": "2020-02-26T02:56:03.305417Z"
    }
   },
   "outputs": [
    {
     "name": "stdout",
     "output_type": "stream",
     "text": [
      "<class 'pandas.core.frame.DataFrame'>\n",
      "RangeIndex: 5000 entries, 0 to 4999\n",
      "Data columns (total 2 columns):\n",
      "text      5000 non-null object\n",
      "labels    5000 non-null object\n",
      "dtypes: object(2)\n",
      "memory usage: 78.2+ KB\n"
     ]
    }
   ],
   "source": [
    "data.info()"
   ]
  },
  {
   "cell_type": "markdown",
   "metadata": {},
   "source": [
    "### Separate features and labels, and split the data into training and testing"
   ]
  },
  {
   "cell_type": "code",
   "execution_count": 16,
   "metadata": {
    "ExecuteTime": {
     "end_time": "2020-02-26T02:56:06.086173Z",
     "start_time": "2020-02-26T02:56:06.069170Z"
    }
   },
   "outputs": [],
   "source": [
    "X_train, X_test, y_train, y_test = train_test_split(data['text'],\n",
    "                                                    data['labels'],\n",
    "                                                    test_size=0.3,\n",
    "                                                    random_state=7)"
   ]
  },
  {
   "cell_type": "code",
   "execution_count": 17,
   "metadata": {
    "ExecuteTime": {
     "end_time": "2020-02-26T02:56:06.990338Z",
     "start_time": "2020-02-26T02:56:06.980333Z"
    }
   },
   "outputs": [
    {
     "name": "stdout",
     "output_type": "stream",
     "text": [
      "Shape of the Train data: (3500,), Target Label shape: (3500,)\n"
     ]
    }
   ],
   "source": [
    "print(\n",
    "    f\"Shape of the Train data: {X_train.shape}, Target Label shape: {y_train.shape}\"\n",
    ")"
   ]
  },
  {
   "cell_type": "code",
   "execution_count": 18,
   "metadata": {
    "ExecuteTime": {
     "end_time": "2020-02-26T02:56:07.921574Z",
     "start_time": "2020-02-26T02:56:07.912573Z"
    }
   },
   "outputs": [
    {
     "name": "stdout",
     "output_type": "stream",
     "text": [
      "Shape of the Test data: (1500,), Target Label shape: (1500,)\n"
     ]
    }
   ],
   "source": [
    "print(\n",
    "    f\"Shape of the Test data: {X_test.shape}, Target Label shape: {y_test.shape}\"\n",
    ")"
   ]
  },
  {
   "cell_type": "markdown",
   "metadata": {
    "ExecuteTime": {
     "end_time": "2020-02-26T02:22:06.890033Z",
     "start_time": "2020-02-26T02:22:06.882031Z"
    }
   },
   "source": [
    "### Vectorize the features"
   ]
  },
  {
   "cell_type": "code",
   "execution_count": 19,
   "metadata": {
    "ExecuteTime": {
     "end_time": "2020-02-26T02:56:13.918789Z",
     "start_time": "2020-02-26T02:56:09.589597Z"
    }
   },
   "outputs": [],
   "source": [
    "from sklearn.feature_extraction.text import CountVectorizer\n",
    "vect = CountVectorizer(min_df=2, ngram_range=(1, 2), stop_words=stopwords)\n",
    "X_train = vect.fit_transform(X_train)\n",
    "X_test = vect.transform(X_test)"
   ]
  },
  {
   "cell_type": "code",
   "execution_count": 20,
   "metadata": {
    "ExecuteTime": {
     "end_time": "2020-02-26T02:56:14.455826Z",
     "start_time": "2020-02-26T02:56:14.444820Z"
    }
   },
   "outputs": [
    {
     "data": {
      "text/plain": [
       "(3500, 33699)"
      ]
     },
     "execution_count": 20,
     "metadata": {},
     "output_type": "execute_result"
    }
   ],
   "source": [
    "X_train.shape"
   ]
  },
  {
   "cell_type": "code",
   "execution_count": 21,
   "metadata": {
    "ExecuteTime": {
     "end_time": "2020-02-26T02:56:14.945949Z",
     "start_time": "2020-02-26T02:56:14.933944Z"
    }
   },
   "outputs": [
    {
     "data": {
      "text/plain": [
       "<1x33699 sparse matrix of type '<class 'numpy.int64'>'\n",
       "\twith 137 stored elements in Compressed Sparse Row format>"
      ]
     },
     "execution_count": 21,
     "metadata": {},
     "output_type": "execute_result"
    }
   ],
   "source": [
    "X_train[0]"
   ]
  },
  {
   "cell_type": "code",
   "execution_count": 22,
   "metadata": {
    "ExecuteTime": {
     "end_time": "2020-02-26T02:56:15.506092Z",
     "start_time": "2020-02-26T02:56:15.433071Z"
    }
   },
   "outputs": [
    {
     "data": {
      "text/plain": [
       "{'47': 403,\n",
       " 'hours': 13662,\n",
       " 'bio': 3230,\n",
       " 'doesnt': 7645,\n",
       " 'investigate': 14497,\n",
       " 'isnt': 14568,\n",
       " '48': 404,\n",
       " 'dont': 7722,\n",
       " 'need': 19433,\n",
       " 'instead': 14333,\n",
       " 'going': 11725,\n",
       " 'go': 11514,\n",
       " 'ask': 2077,\n",
       " 'people': 21478,\n",
       " 'things': 28891,\n",
       " 'tell': 28571,\n",
       " 'arnt': 1940,\n",
       " 'investigating': 14499,\n",
       " 'like': 16209,\n",
       " 'get': 11069,\n",
       " 'real': 23506,\n",
       " 'answers': 1595,\n",
       " 'extra': 9320,\n",
       " 'hour': 13646,\n",
       " 'spent': 27067,\n",
       " 'eating': 8145,\n",
       " 'cuz': 6493,\n",
       " 'food': 10349,\n",
       " 'episode': 8664,\n",
       " 'mysterious': 19107,\n",
       " 'ghetto': 11342,\n",
       " 'lexington': 16080,\n",
       " 'somewhere': 26800,\n",
       " 'legendary': 15935,\n",
       " 'town': 30087,\n",
       " 'ohio': 20357,\n",
       " 'lets': 16046,\n",
       " 'move': 18791,\n",
       " 'danielle': 6623,\n",
       " 'house': 13685,\n",
       " 'believes': 2978,\n",
       " 'lives': 16766,\n",
       " 'danille': 6627,\n",
       " 'yes': 33504,\n",
       " 'believe': 2947,\n",
       " 'every': 8972,\n",
       " 'one': 20507,\n",
       " 'nobody': 19993,\n",
       " 'mr': 18856,\n",
       " 'johnreed': 14799,\n",
       " 'thinks': 29183,\n",
       " 'ave': 2308,\n",
       " 'john': 14763,\n",
       " 'send': 25624,\n",
       " 'gave': 10972,\n",
       " 'ur': 30832,\n",
       " 'name': 19131,\n",
       " 'thats': 28752,\n",
       " 'sounds': 26937,\n",
       " 'fun': 10771,\n",
       " 'well': 32128,\n",
       " 'proof': 22867,\n",
       " 'kinda': 15143,\n",
       " 'ignorant': 13932,\n",
       " 'saying': 25064,\n",
       " 'read': 23423,\n",
       " 'books': 3575,\n",
       " 'without': 32640,\n",
       " 'guns': 12532,\n",
       " 'word': 32769,\n",
       " 'around': 1943,\n",
       " 'lol': 16839,\n",
       " 'telling': 28612,\n",
       " 'know': 15227,\n",
       " 'think': 28982,\n",
       " 'gotta': 12183,\n",
       " 'watch': 31784,\n",
       " 'si': 26037,\n",
       " 'fi': 9868,\n",
       " 'channel': 4726,\n",
       " 'leave': 15858,\n",
       " 'fine': 10034,\n",
       " 'anyways': 1768,\n",
       " 'good': 11891,\n",
       " 'leaves': 15875,\n",
       " 'went': 32276,\n",
       " 'figured': 9911,\n",
       " 'made': 17315,\n",
       " 'progress': 22832,\n",
       " 'finished': 10054,\n",
       " 'hard': 12828,\n",
       " 'day': 6691,\n",
       " 'sure': 28026,\n",
       " '2004': 264,\n",
       " 'reed': 23841,\n",
       " 'never': 19568,\n",
       " 'interviewed': 14461,\n",
       " '48 hours': 405,\n",
       " 'dont need': 7738,\n",
       " 'hours instead': 13668,\n",
       " 'instead going': 14338,\n",
       " 'going go': 11759,\n",
       " 'go ask': 11523,\n",
       " 'people things': 21609,\n",
       " 'dont like': 7734,\n",
       " 'like going': 16320,\n",
       " 'going get': 11757,\n",
       " 'real answers': 23507,\n",
       " 'hour spent': 13658,\n",
       " 'eating cuz': 8147,\n",
       " 'cuz need': 6501,\n",
       " 'ghetto lexington': 11344,\n",
       " 'lets go': 16047,\n",
       " 'mr johnreed': 18861,\n",
       " 'dont believe': 7725,\n",
       " 'ghetto john': 11343,\n",
       " 'ur name': 30833,\n",
       " 'john like': 14773,\n",
       " 'like saying': 16441,\n",
       " 'read books': 23432,\n",
       " 'without guns': 32656,\n",
       " 'john telling': 14786,\n",
       " 'know think': 15404,\n",
       " 'gotta go': 12187,\n",
       " 'go watch': 11670,\n",
       " 'watch si': 31795,\n",
       " 'si fi': 26038,\n",
       " 'fi channel': 9869,\n",
       " 'think need': 29079,\n",
       " 'john good': 14768,\n",
       " 'went good': 32307,\n",
       " 'made progress': 17343,\n",
       " 'hours finished': 13666,\n",
       " 'hard day': 12832,\n",
       " 'day sure': 6782,\n",
       " 'danielle 2004': 6624,\n",
       " 'john reed': 14780,\n",
       " 'responsibility': 24170,\n",
       " 'protect': 22899,\n",
       " 'looting': 17005,\n",
       " 'destroying': 7249,\n",
       " 'nation': 19193,\n",
       " 'culture': 6420,\n",
       " 'history': 13293,\n",
       " 'people looting': 21547,\n",
       " 'nation culture': 19195,\n",
       " 'culture history': 6421,\n",
       " 'harmony': 12867,\n",
       " 'would': 33013,\n",
       " 'happening': 12775,\n",
       " 'recess': 23774,\n",
       " 'matter': 17833,\n",
       " 'intent': 14381,\n",
       " 'person': 21715,\n",
       " 'someone': 26632,\n",
       " 'happens': 12777,\n",
       " 'find': 9997,\n",
       " 'attractive': 2250,\n",
       " 'may': 17856,\n",
       " 'look': 16908,\n",
       " 'generally': 11023,\n",
       " 'bother': 3638,\n",
       " 'however': 13724,\n",
       " 'seems': 25542,\n",
       " 'order': 20878,\n",
       " 'hurt': 13833,\n",
       " 'feelings': 9787,\n",
       " 'less': 15970,\n",
       " 'said': 24753,\n",
       " 'definitely': 7060,\n",
       " 'would matter': 33120,\n",
       " 'find someone': 10021,\n",
       " 'someone attractive': 26637,\n",
       " 'think may': 29070,\n",
       " 'may look': 17885,\n",
       " 'look like': 16926,\n",
       " 'would think': 33174,\n",
       " 'think less': 29055,\n",
       " 'person said': 21739,\n",
       " 'said would': 24825,\n",
       " 'would definitely': 33056,\n",
       " 'turned': 30454,\n",
       " 'last': 15607,\n",
       " 'project': 22842,\n",
       " 'today': 29745,\n",
       " 'yeah': 33356,\n",
       " 'tomorrow': 29925,\n",
       " 'first': 10082,\n",
       " 'least': 15821,\n",
       " 'ill': 13944,\n",
       " 'quickly': 23177,\n",
       " 'man': 17589,\n",
       " 'tired': 29703,\n",
       " 'got': 12062,\n",
       " 'email': 8360,\n",
       " 'back': 2430,\n",
       " 'interior': 14424,\n",
       " 'design': 7218,\n",
       " 'company': 5534,\n",
       " 'la': 15517,\n",
       " 'liked': 16525,\n",
       " 'portfolio': 22354,\n",
       " 'yay': 33348,\n",
       " 'looking': 16965,\n",
       " 'hire': 13279,\n",
       " 'immediately': 14027,\n",
       " 'states': 27370,\n",
       " 'till': 29447,\n",
       " 'mid': 18239,\n",
       " 'july': 14895,\n",
       " 'finally': 9967,\n",
       " 'bought': 3654,\n",
       " 'tix': 29730,\n",
       " 'home': 13383,\n",
       " '10th': 80,\n",
       " 'years': 33440,\n",
       " 'im': 13963,\n",
       " 'getting': 11297,\n",
       " 'excited': 9176,\n",
       " 'thinking': 29152,\n",
       " 'last project': 15644,\n",
       " 'today yeah': 29846,\n",
       " 'tired got': 29706,\n",
       " 'got email': 12093,\n",
       " 'interior design': 14425,\n",
       " 'think looking': 29062,\n",
       " 'looking hire': 16973,\n",
       " 'hire someone': 13283,\n",
       " 'back states': 2535,\n",
       " 'till mid': 29451,\n",
       " 'dont know': 7732,\n",
       " 'know yes': 15436,\n",
       " 'finally bought': 9968,\n",
       " 'im getting': 13974,\n",
       " 'getting excited': 11310,\n",
       " 'jimi': 14709,\n",
       " 'room': 24574,\n",
       " 'dammit': 6569,\n",
       " 'nice': 19831,\n",
       " 'hanging': 12735,\n",
       " 'charles': 4755,\n",
       " 'watching': 31806,\n",
       " 'sisters': 26263,\n",
       " 'dinner': 7423,\n",
       " 'date': 6669,\n",
       " 'eg': 8226,\n",
       " 'bugging': 3963,\n",
       " 'spontaneous': 27142,\n",
       " 'beach': 2808,\n",
       " 'something': 26683,\n",
       " 'coz': 6226,\n",
       " 'really': 23552,\n",
       " 'anything': 1687,\n",
       " 'dates': 6672,\n",
       " 'anymore': 1636,\n",
       " 'usually': 31115,\n",
       " 'us': 30974,\n",
       " 'running': 24676,\n",
       " 'errands': 8699,\n",
       " 'together': 29856,\n",
       " 'time': 29461,\n",
       " 'st': 27196,\n",
       " 'kilda': 15097,\n",
       " 'cafe': 4137,\n",
       " 'end': 8463,\n",
       " 'pier': 21901,\n",
       " 'talked': 28381,\n",
       " 'laughed': 15726,\n",
       " 'joked': 14815,\n",
       " 'great': 12292,\n",
       " 'major': 17411,\n",
       " 'event': 8901,\n",
       " 'found': 10468,\n",
       " 'keys': 15048,\n",
       " 'initially': 14257,\n",
       " 'thot': 29206,\n",
       " 'lost': 17036,\n",
       " 'cough': 5981,\n",
       " 'money': 18588,\n",
       " 'new': 19662,\n",
       " 'requested': 24096,\n",
       " 'body': 3509,\n",
       " 'corporate': 5946,\n",
       " 'security': 25349,\n",
       " 'key': 15044,\n",
       " 'wot': 33012,\n",
       " 'miracle': 18432,\n",
       " 'see': 25360,\n",
       " 'car': 4347,\n",
       " 'countless': 6110,\n",
       " 'times': 29664,\n",
       " 'since': 26166,\n",
       " 'yesterday': 33539,\n",
       " 'night': 19881,\n",
       " 'thought': 29264,\n",
       " 'driven': 7907,\n",
       " 'church': 4964,\n",
       " 'search': 25272,\n",
       " 'post': 22404,\n",
       " 'office': 20289,\n",
       " 'drove': 7939,\n",
       " 'etc': 8764,\n",
       " 'many': 17673,\n",
       " 'work': 32794,\n",
       " 'lying': 17281,\n",
       " 'seat': 25294,\n",
       " 'broad': 3849,\n",
       " 'daylight': 6809,\n",
       " 'placed': 22031,\n",
       " 'freaky': 10548,\n",
       " 'either': 8245,\n",
       " 'somehow': 26626,\n",
       " 'gotten': 12192,\n",
       " 'taken': 28309,\n",
       " 'copy': 5929,\n",
       " 'stealing': 27415,\n",
       " 'breaking': 3761,\n",
       " 'windows': 32553,\n",
       " 'touched': 30059,\n",
       " 'angel': 1458,\n",
       " 'eh': 8237,\n",
       " 'must': 19066,\n",
       " 'news': 19757,\n",
       " 'bic': 3153,\n",
       " 'runga': 24674,\n",
       " 'cd': 4575,\n",
       " 'beautiful': 2838,\n",
       " 'jb': 14649,\n",
       " 'hifi': 13230,\n",
       " '18': 181,\n",
       " 'imagine': 14007,\n",
       " 'wanted': 31642,\n",
       " 'buy': 4100,\n",
       " 'earlier': 8056,\n",
       " 'thing': 28815,\n",
       " 'even': 8804,\n",
       " 'killing': 15107,\n",
       " 'heidi': 13095,\n",
       " 'album': 1029,\n",
       " 'enjoying': 8565,\n",
       " 'rite': 24467,\n",
       " 'figuring': 9918,\n",
       " 'online': 20773,\n",
       " 'voucher': 31393,\n",
       " 'could': 5985,\n",
       " 'use': 31061,\n",
       " 'start': 27282,\n",
       " 'christmas': 4948,\n",
       " 'sale': 24838,\n",
       " 'anybody': 1626,\n",
       " 'say': 24964,\n",
       " 'woohooo': 32758,\n",
       " 'wooohooo': 32763,\n",
       " 'echo': 8156,\n",
       " 'right': 24338,\n",
       " 'nice nice': 19847,\n",
       " 'nice day': 19833,\n",
       " 'day today': 6790,\n",
       " 'go somewhere': 11638,\n",
       " 'somewhere like': 26803,\n",
       " 'like beach': 16242,\n",
       " 'coz never': 6231,\n",
       " 'never really': 19630,\n",
       " 'really anything': 23553,\n",
       " 'anything like': 1711,\n",
       " 'like go': 16319,\n",
       " 'anymore usually': 1648,\n",
       " 'usually us': 31124,\n",
       " 'yeah nice': 33373,\n",
       " 'nice time': 19860,\n",
       " 'st kilda': 27198,\n",
       " 'great time': 12337,\n",
       " 'time anyways': 29472,\n",
       " 'major event': 17412,\n",
       " 'money get': 18594,\n",
       " 'get new': 11207,\n",
       " 'new one': 19713,\n",
       " 'see car': 25374,\n",
       " 'countless times': 6113,\n",
       " 'since yesterday': 26216,\n",
       " 'yesterday night': 33557,\n",
       " 'night thought': 19946,\n",
       " 'thought lost': 29289,\n",
       " 'post office': 22419,\n",
       " 'office today': 20295,\n",
       " 'many many': 17697,\n",
       " 'many times': 17716,\n",
       " 'today work': 29843,\n",
       " 'broad daylight': 3850,\n",
       " 'watching news': 31809,\n",
       " 'news got': 19761,\n",
       " 'bic runga': 3154,\n",
       " 'wanted buy': 31646,\n",
       " 'earlier good': 8058,\n",
       " 'good thing': 12019,\n",
       " 'thing even': 28831,\n",
       " 'yesterday bought': 33543,\n",
       " 'killing heidi': 15109,\n",
       " 'really enjoying': 23587,\n",
       " 'could use': 6074,\n",
       " 'work well': 32872,\n",
       " 'holiday': 13363,\n",
       " 'ups': 30821,\n",
       " 'downs': 7807,\n",
       " 'still': 27465,\n",
       " 'bit': 3258,\n",
       " 'funk': 10830,\n",
       " 'whole': 32461,\n",
       " 'unlike': 30757,\n",
       " 'means': 18024,\n",
       " 'reminded': 24006,\n",
       " 'reading': 23477,\n",
       " 'live': 16730,\n",
       " 'moment': 18558,\n",
       " 'breathe': 3771,\n",
       " 'space': 26976,\n",
       " 'breath': 3768,\n",
       " 'let': 16002,\n",
       " 'anticipate': 1610,\n",
       " 'inhale': 14252,\n",
       " 'living': 16775,\n",
       " 'reminder': 24010,\n",
       " 'helping': 13165,\n",
       " 'old': 20427,\n",
       " 'friend': 10616,\n",
       " 'visiting': 31335,\n",
       " 'holidays': 13368,\n",
       " 'little': 16637,\n",
       " 'shopping': 25925,\n",
       " 'downtown': 7810,\n",
       " 'miami': 18209,\n",
       " 'warfare': 31725,\n",
       " 'eve': 8803,\n",
       " 'everything': 9062,\n",
       " 'take': 28235,\n",
       " 'care': 4388,\n",
       " 'myriad': 19104,\n",
       " 'tasks': 28446,\n",
       " 'ahead': 963,\n",
       " 'spend': 27053,\n",
       " 'dear': 6891,\n",
       " 'forward': 10461,\n",
       " 'makes': 17518,\n",
       " 'happy': 12793,\n",
       " 'breathing': 3772,\n",
       " 'diva': 7587,\n",
       " 'yeah still': 33377,\n",
       " 'still bit': 27473,\n",
       " 'whole holiday': 32470,\n",
       " 'means last': 18027,\n",
       " 'last night': 15634,\n",
       " 'night live': 19919,\n",
       " 'let go': 16016,\n",
       " 'today good': 29773,\n",
       " 'good news': 11976,\n",
       " 'old friend': 20444,\n",
       " 'friend visiting': 10642,\n",
       " 'going little': 11781,\n",
       " 'holiday shopping': 13366,\n",
       " 'downtown miami': 7812,\n",
       " 'christmas eve': 4950,\n",
       " 'everything need': 9084,\n",
       " 'day tomorrow': 6792,\n",
       " 'tomorrow take': 29939,\n",
       " 'take care': 28244,\n",
       " 'spend hours': 27056,\n",
       " 'dear friend': 6893,\n",
       " 'something look': 26726,\n",
       " 'look forward': 16922,\n",
       " 'makes happy': 17531,\n",
       " 'even without': 8889,\n",
       " 'senior': 25635,\n",
       " 'picture': 21883,\n",
       " 'photo': 21832,\n",
       " 'shoot': 25916,\n",
       " 'far': 9551,\n",
       " 'nbsp': 19232,\n",
       " 'felt': 9813,\n",
       " 'awkward': 2399,\n",
       " 'poses': 22374,\n",
       " 'floor': 10268,\n",
       " 'roll': 24540,\n",
       " 'towards': 30078,\n",
       " 'bikini': 3205,\n",
       " 'model': 18523,\n",
       " 'obviously': 20238,\n",
       " 'exactly': 9133,\n",
       " 'feels': 9792,\n",
       " 'turn': 30438,\n",
       " 'remember': 23978,\n",
       " 'correctly': 5956,\n",
       " 'tend': 28646,\n",
       " 'blink': 3356,\n",
       " 'lot': 17053,\n",
       " 'grr': 12439,\n",
       " 'bc': 2801,\n",
       " 'took': 29971,\n",
       " 'golf': 11849,\n",
       " 'team': 28501,\n",
       " 'pictures': 21891,\n",
       " 'outside': 20979,\n",
       " 'fall': 9476,\n",
       " 'staring': 27270,\n",
       " 'sun': 27942,\n",
       " 'girls': 11391,\n",
       " 'soccer': 26555,\n",
       " 'background': 2569,\n",
       " 'worth': 32999,\n",
       " 'blinked': 3358,\n",
       " 'though': 29208,\n",
       " 'idea': 13887,\n",
       " 'hopefully': 13555,\n",
       " 'soon': 26846,\n",
       " 'hunchback': 13805,\n",
       " 'notre': 20133,\n",
       " 'dame': 6568,\n",
       " 'honestly': 13485,\n",
       " 'book': 3556,\n",
       " '75': 475,\n",
       " 'suitable': 27917,\n",
       " 'kids': 15076,\n",
       " 'conservative': 5735,\n",
       " 'quite': 23191,\n",
       " 'depressing': 7186,\n",
       " 'ending': 8508,\n",
       " 'entire': 8629,\n",
       " 'kind': 15115,\n",
       " 'scattered': 25123,\n",
       " 'morbid': 18689,\n",
       " 'mixed': 18498,\n",
       " 'next': 19773,\n",
       " 'jane': 14623,\n",
       " 'eyre': 9373,\n",
       " 'ultimate': 30609,\n",
       " 'chick': 4843,\n",
       " 'mom': 18547,\n",
       " 'reads': 23492,\n",
       " 'pretty': 22616,\n",
       " 'much': 18879,\n",
       " 'year': 33387,\n",
       " 'rebecca': 23749,\n",
       " 'longest': 16905,\n",
       " 'guess': 12462,\n",
       " 'suck': 27879,\n",
       " 'went well': 32352,\n",
       " 'could tell': 6068,\n",
       " 'nbsp felt': 19272,\n",
       " 'felt little': 9828,\n",
       " 'little awkward': 16639,\n",
       " 'like lying': 16369,\n",
       " 'lying floor': 17284,\n",
       " 'floor like': 10271,\n",
       " 'little bit': 16642,\n",
       " 'bit nbsp': 3273,\n",
       " 'felt like': 9827,\n",
       " 'since obviously': 26197,\n",
       " 'know exactly': 15282,\n",
       " 'feels like': 9794,\n",
       " 'like nbsp': 16395,\n",
       " 'think everything': 29014,\n",
       " 'everything turn': 9093,\n",
       " 'turn well': 30451,\n",
       " 'well nbsp': 32219,\n",
       " 'nbsp first': 19275,\n",
       " 'today said': 29817,\n",
       " 'remember correctly': 23981,\n",
       " 'lot nbsp': 17072,\n",
       " 'nbsp grr': 19283,\n",
       " 'last fall': 15620,\n",
       " 'soccer team': 26556,\n",
       " 'team background': 28502,\n",
       " 'nbsp think': 19368,\n",
       " 'think worth': 29146,\n",
       " 'today though': 29828,\n",
       " 'though nbsp': 29239,\n",
       " 'nbsp idea': 19292,\n",
       " 'idea get': 13889,\n",
       " 'back least': 2482,\n",
       " 'see nbsp': 25441,\n",
       " 'nbsp hopefully': 19289,\n",
       " 'hunchback notre': 13806,\n",
       " 'notre dame': 20134,\n",
       " 'today finally': 29765,\n",
       " 'little kids': 16673,\n",
       " 'kids nbsp': 15089,\n",
       " 'end nbsp': 8475,\n",
       " 'nbsp quite': 19343,\n",
       " 'quite depressing': 23196,\n",
       " 'nbsp mixed': 19323,\n",
       " 'mixed feelings': 18499,\n",
       " 'jane eyre': 14624,\n",
       " 'pretty much': 22644,\n",
       " 'much every': 18905,\n",
       " 'every year': 9012,\n",
       " 'year nbsp': 33416,\n",
       " 'nbsp looking': 19307,\n",
       " 'looking forward': 16971,\n",
       " 'think longest': 29061,\n",
       " 'book read': 3564,\n",
       " 'read nbsp': 23448,\n",
       " 'nbsp guess': 19284,\n",
       " 'guess suck': 12497,\n",
       " 'get right': 11237,\n",
       " 'right nbsp': 24394,\n",
       " 'nbsp yes': 19394,\n",
       " 'happened': 12752,\n",
       " 'tournament': 30072,\n",
       " 'came': 4219,\n",
       " 'full': 10748,\n",
       " 'circle': 4999,\n",
       " 'result': 24199,\n",
       " 'worse': 32988,\n",
       " 'beginning': 2910,\n",
       " 'looked': 16947,\n",
       " 'portugal': 22370,\n",
       " 'win': 32536,\n",
       " 'urllink': 30845,\n",
       " 'com': 5338,\n",
       " 'match': 17811,\n",
       " 'summary': 27928,\n",
       " 'interesting': 14396,\n",
       " 'statistics': 27383,\n",
       " 'bet': 3068,\n",
       " 'packet': 21065,\n",
       " 'never looked': 19615,\n",
       " 'looked like': 16952,\n",
       " 'going win': 11838,\n",
       " 'bet would': 3069,\n",
       " 'would made': 33117,\n",
       " 'numbers': 20173,\n",
       " 'stand': 27239,\n",
       " 'ddr': 6857,\n",
       " 'party': 21247,\n",
       " 'ffxi': 9867,\n",
       " 'websites': 31971,\n",
       " 'extremely': 9333,\n",
       " 'movies': 18839,\n",
       " 'tuesday': 30412,\n",
       " 'sam': 24855,\n",
       " 'actually': 722,\n",
       " 'prior': 22707,\n",
       " 'experience': 9252,\n",
       " 'playing': 22128,\n",
       " 'bunch': 4001,\n",
       " 'comment': 5473,\n",
       " 'strike': 27719,\n",
       " 'humorous': 13802,\n",
       " 'normal': 20037,\n",
       " 'dvd': 8026,\n",
       " 'connect': 5715,\n",
       " 'pads': 21069,\n",
       " 'site': 26279,\n",
       " 'designing': 7224,\n",
       " 'clan': 5059,\n",
       " 'paid': 21079,\n",
       " 'hosting': 13614,\n",
       " 'also': 1187,\n",
       " 'lead': 15787,\n",
       " 'division': 7616,\n",
       " 'another': 1524,\n",
       " 'website': 31966,\n",
       " 'call': 4161,\n",
       " 'best': 3036,\n",
       " 'timing': 29686,\n",
       " 'come': 5360,\n",
       " 'keep': 14977,\n",
       " 'busy': 4080,\n",
       " 'saw': 24947,\n",
       " 'week': 31992,\n",
       " 'robot': 24501,\n",
       " 'bourne': 3677,\n",
       " 'supremacy': 28019,\n",
       " 'catwoman': 4529,\n",
       " 'recommend': 23789,\n",
       " 'anyone': 1651,\n",
       " 'entertaining': 8622,\n",
       " 'mystery': 19108,\n",
       " 'movie': 18814,\n",
       " 'sequel': 25691,\n",
       " 'although': 1268,\n",
       " 'suggest': 27908,\n",
       " 'seeing': 25508,\n",
       " 'identity': 13914,\n",
       " 'rivals': 24472,\n",
       " 'spiderman': 27089,\n",
       " 'superhero': 27984,\n",
       " 'ever': 8909,\n",
       " 'seen': 25556,\n",
       " 'along': 1133,\n",
       " 'number': 20168,\n",
       " 'called': 4182,\n",
       " 'within': 32631,\n",
       " '45': 397,\n",
       " 'minutes': 18416,\n",
       " 'wanting': 31685,\n",
       " 'answer': 1576,\n",
       " 'exact': 9132,\n",
       " 'question': 23149,\n",
       " 'cross': 6351,\n",
       " 'communication': 5514,\n",
       " 'quite things': 23224,\n",
       " 'things first': 28913,\n",
       " 'first time': 10146,\n",
       " 'time though': 29626,\n",
       " 'though time': 29254,\n",
       " 'extremely good': 9335,\n",
       " 'good movies': 11973,\n",
       " 'tuesday night': 30417,\n",
       " 'bunch people': 4003,\n",
       " 'people made': 21549,\n",
       " 'made comment': 17317,\n",
       " 'wanted go': 31654,\n",
       " 'go buy': 11533,\n",
       " 'sure would': 28068,\n",
       " 'went online': 32331,\n",
       " 'another website': 1570,\n",
       " 'would call': 33043,\n",
       " 'come together': 5409,\n",
       " 'keep busy': 14978,\n",
       " 'movies saw': 18844,\n",
       " 'saw movies': 24956,\n",
       " 'robot bourne': 24502,\n",
       " 'bourne supremacy': 3679,\n",
       " 'supremacy catwoman': 28020,\n",
       " 'whole lot': 32472,\n",
       " 'recommend anyone': 23790,\n",
       " 'anyone reading': 1672,\n",
       " 'go see': 11629,\n",
       " 'see robot': 25470,\n",
       " 'bourne identity': 3678,\n",
       " 'one best': 20524,\n",
       " 'ever seen': 8959,\n",
       " 'going along': 11727,\n",
       " 'many people': 17704,\n",
       " 'called house': 4187,\n",
       " 'within 45': 32632,\n",
       " '45 minutes': 399,\n",
       " 'renee': 24028,\n",
       " 'looks': 16988,\n",
       " 'guinea': 12519,\n",
       " 'pig': 21909,\n",
       " 'looks like': 16994,\n",
       " 'aparently': 1788,\n",
       " 'recently': 23770,\n",
       " 'rumored': 24661,\n",
       " 'b5': 2415,\n",
       " 'based': 2759,\n",
       " 'series': 25699,\n",
       " 'step': 27429,\n",
       " 'closer': 5182,\n",
       " 'reality': 23531,\n",
       " 'jms': 14716,\n",
       " 'working': 32890,\n",
       " 'script': 25250,\n",
       " 'ready': 23497,\n",
       " 'weeks': 32074,\n",
       " 'guessed': 12506,\n",
       " 'tic': 29418,\n",
       " 'making': 17554,\n",
       " 'one step': 20714,\n",
       " 'said working': 24824,\n",
       " 'ready next': 23501,\n",
       " 'next weeks': 19822,\n",
       " 'weeks working': 32092,\n",
       " 'one person': 20669,\n",
       " 'headline': 12973,\n",
       " 'days': 6810,\n",
       " 'late': 15677,\n",
       " 'cooking': 5887,\n",
       " 'julia': 14891,\n",
       " 'child': 4851,\n",
       " 'loved': 17211,\n",
       " 'red': 23817,\n",
       " 'meat': 18048,\n",
       " 'straight': 27653,\n",
       " 'grateful': 12280,\n",
       " 'dead': 6862,\n",
       " 'song': 26810,\n",
       " 'played': 22117,\n",
       " 'mean': 17976,\n",
       " 'game': 10899,\n",
       " 'poker': 22250,\n",
       " 'audblog': 2253,\n",
       " 'audio': 2260,\n",
       " 'urllink urllink': 30962,\n",
       " 'urllink audblog': 30851,\n",
       " 'audblog audio': 2254,\n",
       " 'audio post': 2262,\n",
       " '30': 324,\n",
       " 'bright': 3805,\n",
       " 'raising': 23316,\n",
       " 'helen': 13104,\n",
       " 'friends': 10648,\n",
       " 'already': 1157,\n",
       " 'handle': 12714,\n",
       " 'showing': 26003,\n",
       " '55': 432,\n",
       " 'hopped': 13567,\n",
       " 'raced': 23255,\n",
       " 'west': 32358,\n",
       " 'stadium': 27209,\n",
       " 'seats': 25300,\n",
       " 'three': 29342,\n",
       " 'couples': 6158,\n",
       " 'wonderful': 32725,\n",
       " 'nothing': 20073,\n",
       " 'smug': 26513,\n",
       " 'thursday': 29406,\n",
       " 'whatever': 32374,\n",
       " 'row': 24620,\n",
       " 'settled': 25749,\n",
       " 'put': 23064,\n",
       " 'feet': 9796,\n",
       " 'love': 17115,\n",
       " 'started': 27304,\n",
       " 'alone': 1120,\n",
       " 'ago': 929,\n",
       " 'college': 5319,\n",
       " 'impossibly': 14070,\n",
       " 'popular': 22334,\n",
       " 'co': 5230,\n",
       " 'worker': 32885,\n",
       " 'shocked': 25903,\n",
       " 'hell': 13107,\n",
       " '20': 228,\n",
       " 'blond': 3446,\n",
       " 'size': 26318,\n",
       " 'charming': 4764,\n",
       " 'smart': 26466,\n",
       " 'girl': 11369,\n",
       " 'explained': 9272,\n",
       " 'mother': 18750,\n",
       " 'often': 20308,\n",
       " 'brave': 3742,\n",
       " 'uneventful': 30702,\n",
       " 'ended': 8496,\n",
       " 'solo': 26608,\n",
       " 'virginity': 31308,\n",
       " 'twice': 30489,\n",
       " 'yet': 33567,\n",
       " 'rebel': 23750,\n",
       " 'venture': 31220,\n",
       " 'rent': 24034,\n",
       " 'solitary': 26606,\n",
       " 'act': 693,\n",
       " 'anyway': 1736,\n",
       " 'unless': 30752,\n",
       " 'course': 6163,\n",
       " 'snuggled': 26540,\n",
       " 'couch': 5978,\n",
       " 'want': 31543,\n",
       " 'else': 8310,\n",
       " 'near': 19407,\n",
       " 'theatre': 28770,\n",
       " 'bored': 3599,\n",
       " 'stare': 27267,\n",
       " 'big': 3160,\n",
       " 'deal': 6879,\n",
       " 'sad': 24715,\n",
       " 'plot': 22190,\n",
       " 'weak': 31926,\n",
       " 'lame': 15560,\n",
       " 'scenes': 25133,\n",
       " 'literally': 16629,\n",
       " 'rewind': 24284,\n",
       " 'rewrite': 24285,\n",
       " 'present': 22577,\n",
       " 'continuity': 5819,\n",
       " 'issues': 14578,\n",
       " 'clothes': 5191,\n",
       " 'scene': 25128,\n",
       " 'different': 7364,\n",
       " 'overall': 20998,\n",
       " 'bad': 2585,\n",
       " 'writing': 33256,\n",
       " 'editing': 8188,\n",
       " 'acting': 699,\n",
       " 'adore': 849,\n",
       " 'kate': 14962,\n",
       " 'corbett': 5932,\n",
       " 'joan': 14720,\n",
       " 'premise': 22559,\n",
       " 'done': 7687,\n",
       " 'rethink': 24220,\n",
       " 'cute': 6478,\n",
       " 'wal': 31464,\n",
       " 'midnight': 18257,\n",
       " 'stepped': 27438,\n",
       " 'mart': 17777,\n",
       " '12': 113,\n",
       " '15am': 169,\n",
       " 'supper': 27990,\n",
       " 'center': 4612,\n",
       " 'fabulous': 9379,\n",
       " 'surreal': 28088,\n",
       " 'tons': 29964,\n",
       " 'mostly': 18745,\n",
       " 'workers': 32887,\n",
       " 'restocking': 24187,\n",
       " 'shelves': 25858,\n",
       " 'customers': 6473,\n",
       " 'boxes': 3694,\n",
       " 'everywhere': 9104,\n",
       " 'navigate': 19223,\n",
       " 'sometimes': 26779,\n",
       " 'give': 11408,\n",
       " 'weird': 32109,\n",
       " 'glances': 11471,\n",
       " 'crazy': 6277,\n",
       " 'bargain': 2736,\n",
       " 'middle': 18240,\n",
       " 'please': 22153,\n",
       " 'yarn': 33347,\n",
       " 'stopped': 27616,\n",
       " 'fresh': 10593,\n",
       " 'produce': 22797,\n",
       " 'checked': 4794,\n",
       " '1am': 221,\n",
       " 'wonder': 32709,\n",
       " 'walton': 31524,\n",
       " 'envisioned': 8657,\n",
       " 'store': 27625,\n",
       " 'night 30': 19882,\n",
       " 'idea going': 13891,\n",
       " 'going see': 11808,\n",
       " 'friends already': 10650,\n",
       " 'already seen': 1179,\n",
       " 'since work': 26214,\n",
       " 'work next': 32841,\n",
       " 'next day': 19782,\n",
       " 'day could': 6709,\n",
       " 'late night': 15684,\n",
       " 'hopped car': 13568,\n",
       " 'west end': 32359,\n",
       " 'nothing like': 20094,\n",
       " 'thursday night': 29409,\n",
       " 'whatever took': 32389,\n",
       " 'feet love': 9799,\n",
       " 'love movies': 17172,\n",
       " 'started going': 27312,\n",
       " 'going movies': 11789,\n",
       " 'alone years': 1132,\n",
       " 'years ago': 33442,\n",
       " 'co worker': 5233,\n",
       " 'love going': 17146,\n",
       " 'hell would': 13121,\n",
       " '20 year': 239,\n",
       " 'year old': 33419,\n",
       " 'blond size': 3448,\n",
       " 'girl ever': 11370,\n",
       " 'ever go': 8931,\n",
       " 'go movies': 11600,\n",
       " 'would often': 33130,\n",
       " 'thought brave': 29269,\n",
       " 'good year': 12036,\n",
       " 'even remember': 8861,\n",
       " 'even think': 8875,\n",
       " 'think twice': 29136,\n",
       " 'yet think': 33592,\n",
       " 'think still': 29119,\n",
       " 'think friends': 29024,\n",
       " 'friends even': 10656,\n",
       " 'friend like': 10624,\n",
       " 'rent movies': 24035,\n",
       " 'movie watching': 18836,\n",
       " 'unless course': 30754,\n",
       " 'movie want': 18835,\n",
       " 'want see': 31613,\n",
       " 'see one': 25448,\n",
       " 'one else': 20564,\n",
       " 'movie theatre': 18832,\n",
       " 'see something': 25478,\n",
       " 'something interesting': 26720,\n",
       " 'home need': 13417,\n",
       " 'need something': 19487,\n",
       " 'go movie': 11599,\n",
       " 'big deal': 3172,\n",
       " 'happens last': 12781,\n",
       " 'sad bit': 24716,\n",
       " 'well thought': 32251,\n",
       " 'clothes one': 5193,\n",
       " 'one scene': 20695,\n",
       " 'really great': 23606,\n",
       " 'although still': 1281,\n",
       " 'still adore': 27466,\n",
       " 'thinking anyway': 29153,\n",
       " 'anyway good': 1747,\n",
       " 'well done': 32155,\n",
       " 'friends said': 10676,\n",
       " 'could went': 6078,\n",
       " 'wal mart': 31465,\n",
       " 'tons people': 29966,\n",
       " 'navigate around': 19224,\n",
       " 'like crazy': 16271,\n",
       " 'middle night': 18252,\n",
       " 'like weird': 16504,\n",
       " 'could got': 6019,\n",
       " 'sam walton': 24858,\n",
       " 'club': 5204,\n",
       " 'tonight': 29948,\n",
       " ...}"
      ]
     },
     "execution_count": 22,
     "metadata": {},
     "output_type": "execute_result"
    }
   ],
   "source": [
    "vect.vocabulary_"
   ]
  },
  {
   "cell_type": "markdown",
   "metadata": {},
   "source": [
    "### Count labels"
   ]
  },
  {
   "cell_type": "code",
   "execution_count": 23,
   "metadata": {
    "ExecuteTime": {
     "end_time": "2020-02-26T02:56:17.813334Z",
     "start_time": "2020-02-26T02:56:17.776326Z"
    }
   },
   "outputs": [],
   "source": [
    "count_labels = {}\n",
    "for lbl in data['labels']:\n",
    "    for fea in lbl:\n",
    "        if fea in count_labels:\n",
    "            count_labels[fea] += 1\n",
    "        else:\n",
    "            count_labels[fea] = 1"
   ]
  },
  {
   "cell_type": "code",
   "execution_count": 24,
   "metadata": {
    "ExecuteTime": {
     "end_time": "2020-02-26T02:56:19.377494Z",
     "start_time": "2020-02-26T02:56:19.360486Z"
    }
   },
   "outputs": [
    {
     "data": {
      "text/plain": [
       "{'male': 3294,\n",
       " ' 15': 339,\n",
       " ' student': 569,\n",
       " ' leo': 190,\n",
       " ' 33': 101,\n",
       " ' investmentbanking': 70,\n",
       " ' aquarius': 329,\n",
       " 'female': 1706,\n",
       " ' 14': 170,\n",
       " ' indunk': 1381,\n",
       " ' aries': 2483,\n",
       " ' 25': 268,\n",
       " ' capricorn': 84,\n",
       " ' 17': 331,\n",
       " ' gemini': 86,\n",
       " ' 23': 137,\n",
       " ' non profit': 47,\n",
       " ' cancer': 94,\n",
       " ' banking': 16,\n",
       " ' 37': 19,\n",
       " ' sagittarius': 704,\n",
       " ' 26': 96,\n",
       " ' 24': 353,\n",
       " ' scorpio': 408,\n",
       " ' 27': 86,\n",
       " ' education': 118,\n",
       " ' 45': 14,\n",
       " ' engineering': 119,\n",
       " ' libra': 414,\n",
       " ' science': 33,\n",
       " ' 34': 540,\n",
       " ' 41': 14,\n",
       " ' communications media': 61,\n",
       " ' businessservices': 87,\n",
       " ' sports recreation': 75,\n",
       " ' virgo': 41,\n",
       " ' taurus': 100,\n",
       " ' arts': 31,\n",
       " ' pisces': 67,\n",
       " ' 44': 3,\n",
       " ' 16': 67,\n",
       " ' internet': 20,\n",
       " ' museums libraries': 2,\n",
       " ' accounting': 2,\n",
       " ' 39': 79,\n",
       " ' 35': 2307,\n",
       " ' technology': 2332,\n",
       " ' 36': 60,\n",
       " ' law': 3,\n",
       " ' 46': 7,\n",
       " ' consulting': 16,\n",
       " ' automotive': 14,\n",
       " ' 42': 9,\n",
       " ' religion': 4}"
      ]
     },
     "execution_count": 24,
     "metadata": {},
     "output_type": "execute_result"
    }
   ],
   "source": [
    "count_labels"
   ]
  },
  {
   "cell_type": "markdown",
   "metadata": {},
   "source": [
    "### Transforming the labels"
   ]
  },
  {
   "cell_type": "code",
   "execution_count": 25,
   "metadata": {
    "ExecuteTime": {
     "end_time": "2020-02-26T02:56:22.495698Z",
     "start_time": "2020-02-26T02:56:22.488699Z"
    }
   },
   "outputs": [],
   "source": [
    "from sklearn.preprocessing import MultiLabelBinarizer\n",
    "mlb = MultiLabelBinarizer()"
   ]
  },
  {
   "cell_type": "code",
   "execution_count": 26,
   "metadata": {
    "ExecuteTime": {
     "end_time": "2020-02-26T02:56:23.532875Z",
     "start_time": "2020-02-26T02:56:23.485859Z"
    }
   },
   "outputs": [],
   "source": [
    "y_train = mlb.fit_transform(y_train)\n",
    "y_test = mlb.transform(y_test)"
   ]
  },
  {
   "cell_type": "code",
   "execution_count": 27,
   "metadata": {
    "ExecuteTime": {
     "end_time": "2020-02-26T02:56:24.364031Z",
     "start_time": "2020-02-26T02:56:24.350025Z"
    }
   },
   "outputs": [
    {
     "data": {
      "text/plain": [
       "array([0, 1, 0, 0, 0, 0, 0, 0, 0, 0, 0, 0, 0, 0, 0, 0, 0, 0, 0, 0, 0, 0,\n",
       "       0, 0, 0, 0, 0, 0, 0, 0, 0, 0, 0, 0, 0, 0, 0, 0, 0, 1, 0, 0, 0, 0,\n",
       "       0, 1, 0, 0, 0, 0, 0, 0, 0, 1])"
      ]
     },
     "execution_count": 27,
     "metadata": {},
     "output_type": "execute_result"
    }
   ],
   "source": [
    "y_train[0]"
   ]
  },
  {
   "cell_type": "markdown",
   "metadata": {},
   "source": [
    "### Choosing a classifier"
   ]
  },
  {
   "cell_type": "code",
   "execution_count": 30,
   "metadata": {
    "ExecuteTime": {
     "end_time": "2020-02-26T02:57:00.168504Z",
     "start_time": "2020-02-26T02:57:00.148501Z"
    }
   },
   "outputs": [],
   "source": [
    "from sklearn.multiclass import OneVsRestClassifier\n",
    "from sklearn.linear_model import LogisticRegression\n",
    "lr_clf = LogisticRegression(solver='lbfgs') \n",
    "clf = OneVsRestClassifier(lr_clf)"
   ]
  },
  {
   "cell_type": "markdown",
   "metadata": {},
   "source": [
    "### Fitting the classifier to make predictions and printing the final accuracy metrics"
   ]
  },
  {
   "cell_type": "code",
   "execution_count": 31,
   "metadata": {
    "ExecuteTime": {
     "end_time": "2020-02-26T02:57:36.476514Z",
     "start_time": "2020-02-26T02:57:01.500753Z"
    }
   },
   "outputs": [
    {
     "name": "stderr",
     "output_type": "stream",
     "text": [
      "C:\\Anaconda3\\lib\\site-packages\\sklearn\\linear_model\\logistic.py:947: ConvergenceWarning: lbfgs failed to converge. Increase the number of iterations.\n",
      "  \"of iterations.\", ConvergenceWarning)\n"
     ]
    }
   ],
   "source": [
    "clf.fit(X_train, y_train)\n",
    "y_pred = clf.predict(X_test)"
   ]
  },
  {
   "cell_type": "code",
   "execution_count": 32,
   "metadata": {
    "ExecuteTime": {
     "end_time": "2020-02-26T02:57:36.998650Z",
     "start_time": "2020-02-26T02:57:36.938637Z"
    }
   },
   "outputs": [
    {
     "name": "stderr",
     "output_type": "stream",
     "text": [
      "C:\\Anaconda3\\lib\\site-packages\\sklearn\\metrics\\classification.py:1437: UndefinedMetricWarning: Precision and F-score are ill-defined and being set to 0.0 in labels with no predicted samples.\n",
      "  'precision', 'predicted', average, warn_for)\n",
      "C:\\Anaconda3\\lib\\site-packages\\sklearn\\metrics\\classification.py:1439: UndefinedMetricWarning: Recall and F-score are ill-defined and being set to 0.0 in labels with no true samples.\n",
      "  'recall', 'true', average, warn_for)\n"
     ]
    },
    {
     "data": {
      "text/plain": [
       "'              precision    recall  f1-score   support\\n\\n           0       0.60      0.11      0.19        54\\n           1       0.80      0.39      0.53       109\\n           2       0.80      0.20      0.32        20\\n           3       0.78      0.37      0.50        97\\n           4       0.25      0.03      0.05        37\\n           5       0.78      0.33      0.46       115\\n           6       0.57      0.15      0.24        78\\n           7       1.00      0.07      0.14        27\\n           8       0.83      0.24      0.37        21\\n           9       1.00      0.39      0.56        36\\n          10       0.96      0.72      0.82       174\\n          11       0.82      0.90      0.86       668\\n          12       0.40      0.13      0.20        15\\n          13       0.00      0.00      0.00         6\\n          14       0.50      0.04      0.08        24\\n          15       0.00      0.00      0.00         9\\n          16       0.00      0.00      0.00         3\\n          17       0.00      0.00      0.00         0\\n          18       0.00      0.00      0.00         6\\n          19       0.00      0.00      0.00         1\\n          20       0.00      0.00      0.00         1\\n          21       0.63      0.30      0.41        89\\n          22       0.80      0.89      0.84       716\\n          23       0.00      0.00      0.00        13\\n          24       0.00      0.00      0.00         2\\n          25       0.00      0.00      0.00         8\\n          26       0.89      0.33      0.48        24\\n          27       0.86      0.21      0.34        28\\n          28       1.00      0.46      0.63        26\\n          29       1.00      0.04      0.07        26\\n          30       0.00      0.00      0.00         4\\n          31       1.00      0.21      0.35        28\\n          32       0.73      0.36      0.48        45\\n          33       0.00      0.00      0.00        30\\n          34       0.77      0.56      0.65       428\\n          35       0.00      0.00      0.00         6\\n          36       1.00      0.68      0.81        19\\n          37       0.00      0.00      0.00         2\\n          38       0.58      0.17      0.26        65\\n          39       0.75      0.37      0.50       153\\n          40       0.00      0.00      0.00         1\\n          41       0.50      0.08      0.13        13\\n          42       0.33      0.12      0.17        17\\n          43       0.00      0.00      0.00         1\\n          44       0.90      0.59      0.71       219\\n          45       1.00      0.07      0.12        15\\n          46       0.80      0.28      0.41       126\\n          47       1.00      0.55      0.71        22\\n          48       0.77      0.39      0.52       168\\n          49       0.25      0.05      0.08        22\\n          50       0.82      0.91      0.86       674\\n          51       0.50      0.11      0.18         9\\n          52       0.85      0.73      0.79       535\\n          53       0.86      0.93      0.89       965\\n\\n   micro avg       0.82      0.68      0.74      6000\\n   macro avg       0.53      0.25      0.31      6000\\nweighted avg       0.80      0.68      0.71      6000\\n samples avg       0.80      0.68      0.71      6000\\n'"
      ]
     },
     "execution_count": 32,
     "metadata": {},
     "output_type": "execute_result"
    }
   ],
   "source": [
    "from sklearn import metrics\n",
    "metrics.classification_report(y_test, y_pred)"
   ]
  },
  {
   "cell_type": "code",
   "execution_count": 35,
   "metadata": {
    "ExecuteTime": {
     "end_time": "2020-02-26T02:59:14.300048Z",
     "start_time": "2020-02-26T02:59:14.040983Z"
    }
   },
   "outputs": [
    {
     "name": "stdout",
     "output_type": "stream",
     "text": [
      "Accuracy: 0.522\n",
      "F1 score-Micro: 0.7443602155447986\n",
      "F1 score-Macro: 0.31003263425208866\n",
      "precision: 0.7967365656128985\n",
      "Recall: 0.6791666666666667\n"
     ]
    },
    {
     "name": "stderr",
     "output_type": "stream",
     "text": [
      "C:\\Anaconda3\\lib\\site-packages\\sklearn\\metrics\\classification.py:1437: UndefinedMetricWarning: F-score is ill-defined and being set to 0.0 in labels with no predicted samples.\n",
      "  'precision', 'predicted', average, warn_for)\n",
      "C:\\Anaconda3\\lib\\site-packages\\sklearn\\metrics\\classification.py:1439: UndefinedMetricWarning: F-score is ill-defined and being set to 0.0 in labels with no true samples.\n",
      "  'recall', 'true', average, warn_for)\n",
      "C:\\Anaconda3\\lib\\site-packages\\sklearn\\metrics\\classification.py:1437: UndefinedMetricWarning: Precision is ill-defined and being set to 0.0 in labels with no predicted samples.\n",
      "  'precision', 'predicted', average, warn_for)\n",
      "C:\\Anaconda3\\lib\\site-packages\\sklearn\\metrics\\classification.py:1439: UndefinedMetricWarning: Recall is ill-defined and being set to 0.0 in labels with no true samples.\n",
      "  'recall', 'true', average, warn_for)\n"
     ]
    }
   ],
   "source": [
    "print(f\"Accuracy: {metrics.accuracy_score(y_test, y_pred)}\")\n",
    "print(f\"F1 score-Micro: {metrics.f1_score(y_test, y_pred, average='micro')}\")\n",
    "print(f\"F1 score-Macro: {metrics.f1_score(y_test, y_pred, average='macro')}\")\n",
    "print(f\"precision: {metrics.precision_score(y_test, y_pred, average='weighted')}\")\n",
    "print(f\"Recall: {metrics.recall_score(y_test, y_pred,average='weighted')}\")"
   ]
  },
  {
   "cell_type": "markdown",
   "metadata": {},
   "source": [
    "### Printing the true label and predicted label for five values"
   ]
  },
  {
   "cell_type": "code",
   "execution_count": 36,
   "metadata": {
    "ExecuteTime": {
     "end_time": "2020-02-26T02:59:25.629647Z",
     "start_time": "2020-02-26T02:59:25.598638Z"
    }
   },
   "outputs": [],
   "source": [
    "Y_pred_inv = mlb.inverse_transform(y_pred)\n",
    "#_test_trans_inv =  mlb.inverse_transform(y_test) # inverse transforming original test label data"
   ]
  },
  {
   "cell_type": "code",
   "execution_count": 37,
   "metadata": {
    "ExecuteTime": {
     "end_time": "2020-02-26T02:59:26.745851Z",
     "start_time": "2020-02-26T02:59:26.731848Z"
    }
   },
   "outputs": [
    {
     "data": {
      "text/plain": [
       "[(' 35', ' aries', ' technology', 'male'),\n",
       " (' 24', ' businessservices', ' cancer', 'male'),\n",
       " (' 35', ' aries', ' technology', 'male'),\n",
       " (' 34', ' indunk', ' sagittarius', 'female'),\n",
       " (' 35', ' aries', ' technology', 'male')]"
      ]
     },
     "execution_count": 37,
     "metadata": {},
     "output_type": "execute_result"
    }
   ],
   "source": [
    "Y_pred_inv[0:5]"
   ]
  },
  {
   "cell_type": "code",
   "execution_count": 38,
   "metadata": {
    "ExecuteTime": {
     "end_time": "2020-02-26T02:59:27.781051Z",
     "start_time": "2020-02-26T02:59:27.755048Z"
    }
   },
   "outputs": [],
   "source": [
    "y_test=mlb.inverse_transform(y_test)"
   ]
  },
  {
   "cell_type": "code",
   "execution_count": 39,
   "metadata": {
    "ExecuteTime": {
     "end_time": "2020-02-26T02:59:28.807172Z",
     "start_time": "2020-02-26T02:59:28.790164Z"
    }
   },
   "outputs": [
    {
     "data": {
      "text/plain": [
       "[(' 35', ' aries', ' technology', 'male'),\n",
       " (' 24', ' businessservices', ' cancer', 'male'),\n",
       " (' 35', ' aries', ' technology', 'male'),\n",
       " (' 34', ' indunk', ' sagittarius', 'female'),\n",
       " (' 35', ' aries', ' technology', 'male')]"
      ]
     },
     "execution_count": 39,
     "metadata": {},
     "output_type": "execute_result"
    }
   ],
   "source": [
    "y_test[0:5]"
   ]
  },
  {
   "cell_type": "markdown",
   "metadata": {},
   "source": [
    "## Summary of the project\n",
    "1. Understanding the dataset and preprocessing the text data\n",
    "2. Preparing the data for multi label classification\n",
    "3. Creating a count dict for summarization of the classes\n",
    "4. Using MultiLabelBinarizer for transformin the multiple labels to be predicted and inverse the predictions to the actual values\n",
    "5. Using one vs rest classifier with Logistic regression classifier as base\n"
   ]
  },
  {
   "cell_type": "code",
   "execution_count": null,
   "metadata": {},
   "outputs": [],
   "source": []
  }
 ],
 "metadata": {
  "kernelspec": {
   "display_name": "Python 3",
   "language": "python",
   "name": "python3"
  },
  "language_info": {
   "codemirror_mode": {
    "name": "ipython",
    "version": 3
   },
   "file_extension": ".py",
   "mimetype": "text/x-python",
   "name": "python",
   "nbconvert_exporter": "python",
   "pygments_lexer": "ipython3",
   "version": "3.7.4"
  },
  "toc": {
   "base_numbering": 1,
   "nav_menu": {},
   "number_sections": true,
   "sideBar": true,
   "skip_h1_title": false,
   "title_cell": "Table of Contents",
   "title_sidebar": "Contents",
   "toc_cell": false,
   "toc_position": {},
   "toc_section_display": true,
   "toc_window_display": false
  },
  "varInspector": {
   "cols": {
    "lenName": 16,
    "lenType": 16,
    "lenVar": 40
   },
   "kernels_config": {
    "python": {
     "delete_cmd_postfix": "",
     "delete_cmd_prefix": "del ",
     "library": "var_list.py",
     "varRefreshCmd": "print(var_dic_list())"
    },
    "r": {
     "delete_cmd_postfix": ") ",
     "delete_cmd_prefix": "rm(",
     "library": "var_list.r",
     "varRefreshCmd": "cat(var_dic_list()) "
    }
   },
   "position": {
    "height": "274.219px",
    "left": "676.972px",
    "right": "20px",
    "top": "374.976px",
    "width": "334.757px"
   },
   "types_to_exclude": [
    "module",
    "function",
    "builtin_function_or_method",
    "instance",
    "_Feature"
   ],
   "window_display": false
  }
 },
 "nbformat": 4,
 "nbformat_minor": 2
}
