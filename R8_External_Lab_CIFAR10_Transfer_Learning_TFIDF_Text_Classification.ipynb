{
 "cells": [
  {
   "cell_type": "markdown",
   "metadata": {
    "colab_type": "text",
    "id": "QGIsF1ADyJ58"
   },
   "source": [
    "# Transfer Learning CIFAR10"
   ]
  },
  {
   "cell_type": "markdown",
   "metadata": {
    "colab_type": "text",
    "id": "E-n6tVFayGBe"
   },
   "source": [
    "* Train a simple convnet on the CIFAR dataset the first 5 output classes [0..4].\n",
    "* Freeze convolutional layers and fine-tune dense layers for the last 5 ouput classes [5..9].\n"
   ]
  },
  {
   "cell_type": "code",
   "execution_count": 1,
   "metadata": {},
   "outputs": [
    {
     "name": "stderr",
     "output_type": "stream",
     "text": [
      "Using Theano backend.\n"
     ]
    }
   ],
   "source": [
    "import numpy as np\n",
    "\n",
    "import matplotlib.pyplot as plt\n",
    "%matplotlib inline\n",
    "\n",
    "import keras\n",
    "from keras.backend import backend\n",
    "from keras.datasets import cifar10\n",
    "\n",
    "\n",
    "import warnings\n",
    "warnings.filterwarnings(\"ignore\")"
   ]
  },
  {
   "cell_type": "markdown",
   "metadata": {
    "colab_type": "text",
    "id": "Cq8ejXHJyGYq"
   },
   "source": [
    "### 1. Import CIFAR10 data and create 2 datasets with one dataset having classes from 0 to 4 and other having classes from 5 to 9 "
   ]
  },
  {
   "cell_type": "code",
   "execution_count": 2,
   "metadata": {
    "colab": {},
    "colab_type": "code",
    "id": "uWYbxnBayFUP"
   },
   "outputs": [],
   "source": [
    "(X_train, y_train), (X_test, y_test) = cifar10.load_data()"
   ]
  },
  {
   "cell_type": "code",
   "execution_count": 3,
   "metadata": {},
   "outputs": [
    {
     "name": "stdout",
     "output_type": "stream",
     "text": [
      "Label: [6]\n"
     ]
    },
    {
     "data": {
      "text/plain": [
       "<matplotlib.image.AxesImage at 0x2616e714088>"
      ]
     },
     "execution_count": 3,
     "metadata": {},
     "output_type": "execute_result"
    },
    {
     "data": {
      "image/png": "[encoded data removed]",
      "text/plain": [
       "<Figure size 432x288 with 1 Axes>"
      ]
     },
     "metadata": {
      "needs_background": "light"
     },
     "output_type": "display_data"
    }
   ],
   "source": [
    "print(\"Label: {}\".format(y_train[0]))\n",
    "plt.imshow(X_train[0], cmap='gray')"
   ]
  },
  {
   "cell_type": "code",
   "execution_count": 4,
   "metadata": {},
   "outputs": [],
   "source": [
    "def split_data(source_x, source_y):\n",
    "    target_x_1=[]\n",
    "    target_y_1=[]\n",
    "    target_x_2=[]\n",
    "    target_y_2=[]\n",
    "    for i,v in enumerate(source_y):\n",
    "        if v < 5:\n",
    "            target_x_1.append(source_x[i])\n",
    "            target_y_1.append(v)\n",
    "        else:\n",
    "            target_x_2.append(source_x[i])\n",
    "            target_y_2.append(v)\n",
    "    return ((np.array(target_x_1), np.array(target_y_1)), (np.array(target_x_2), np.array(target_y_2)))"
   ]
  },
  {
   "cell_type": "code",
   "execution_count": 5,
   "metadata": {
    "colab": {},
    "colab_type": "code",
    "id": "uN5O2kJ3yYa6"
   },
   "outputs": [],
   "source": [
    "(X_train_1, y_train_1), (X_train_2, y_train_2) = split_data(X_train, y_train)\n",
    "(X_test_1, y_test_1), (X_test_2, y_test_2) = split_data(X_test, y_test)"
   ]
  },
  {
   "cell_type": "code",
   "execution_count": 6,
   "metadata": {},
   "outputs": [
    {
     "name": "stdout",
     "output_type": "stream",
     "text": [
      "X_train_1 shape (0-4): (25000, 32, 32, 3)\n",
      "X_test_1 shape (0-4): (5000, 32, 32, 3)\n",
      "X_train_2 shape (5-9): (25000, 32, 32, 3)\n",
      "X_test_2 shape (5-9): (5000, 32, 32, 3)\n"
     ]
    }
   ],
   "source": [
    "print(f'X_train_1 shape (0-4): {X_train_1.shape}\\nX_test_1 shape (0-4): {X_test_1.shape}\\nX_train_2 shape (5-9): {X_train_2.shape}\\nX_test_2 shape (5-9): {X_test_2.shape}')"
   ]
  },
  {
   "cell_type": "markdown",
   "metadata": {},
   "source": [
    "Since the shape is already 4-dim, we do not want to reshape again"
   ]
  },
  {
   "cell_type": "markdown",
   "metadata": {
    "colab_type": "text",
    "id": "xtCKmQh4yXhT"
   },
   "source": [
    "### 2. Use One-hot encoding to divide y_train and y_test into required no of output classes"
   ]
  },
  {
   "cell_type": "code",
   "execution_count": 7,
   "metadata": {},
   "outputs": [],
   "source": [
    "y_train_1 = keras.utils.to_categorical(y_train_1, 5)\n",
    "y_test_1 = keras.utils.to_categorical(y_test_1, 5)\n",
    "# Subtracting 5 to generate values 0 - 5 instead of 5 - 9\n",
    "y_train_2 = keras.utils.to_categorical(y_train_2 - 5, 5)\n",
    "y_test_2 = keras.utils.to_categorical(y_test_2 - 5, 5)"
   ]
  },
  {
   "cell_type": "code",
   "execution_count": 8,
   "metadata": {},
   "outputs": [
    {
     "name": "stdout",
     "output_type": "stream",
     "text": [
      "X_train_1 shape (0-4): (25000, 32, 32, 3)\n",
      "X_test_1 shape (0-4): (5000, 32, 32, 3)\n",
      "X_train_2 shape (5-9): (25000, 32, 32, 3)\n",
      "X_test_2 shape (5-9): (5000, 32, 32, 3)\n"
     ]
    }
   ],
   "source": [
    "X_train_1 = X_train_1.astype('float32')\n",
    "X_train_2 = X_train_2.astype('float32')\n",
    "X_test_1 = X_test_1.astype('float32')\n",
    "X_test_2 = X_test_2.astype('float32')\n",
    "\n",
    "#Normalizing the input\n",
    "X_train_1 /= 255\n",
    "X_train_2 /= 255\n",
    "X_test_1 /= 255\n",
    "X_test_2 /= 255\n",
    "\n",
    "print(f'X_train_1 shape (0-4): {X_train_1.shape}\\nX_test_1 shape (0-4): {X_test_1.shape}\\nX_train_2 shape (5-9): {X_train_2.shape}\\nX_test_2 shape (5-9): {X_test_2.shape}')"
   ]
  },
  {
   "cell_type": "code",
   "execution_count": 9,
   "metadata": {},
   "outputs": [
    {
     "name": "stdout",
     "output_type": "stream",
     "text": [
      "Total number of Train values (0-4): 25000\n",
      "Total number of Test values (0-4): 5000\n",
      "Total number of Train values(5-9): 25000\n",
      "Total number of Test values(5-9): 5000\n"
     ]
    }
   ],
   "source": [
    "print(f'Total number of Train values (0-4): {len(y_train_1)}\\nTotal number of Test values (0-4): {len(y_test_1)}\\nTotal number of Train values(5-9): {len(y_train_2)}\\nTotal number of Test values(5-9): {len(y_test_2)}')"
   ]
  },
  {
   "cell_type": "markdown",
   "metadata": {
    "colab_type": "text",
    "id": "cuOiKWfeybAl"
   },
   "source": [
    "### 3. Build a sequential neural network model which can classify the classes 0 to 4 of CIFAR10 dataset with at least 80% accuracy on test data"
   ]
  },
  {
   "cell_type": "code",
   "execution_count": 23,
   "metadata": {
    "colab": {},
    "colab_type": "code",
    "id": "5HzxNbiiyoBD"
   },
   "outputs": [],
   "source": [
    "input_shape = (32, 32, 3)\n",
    "#Initialize the model\n",
    "model = keras.models.Sequential()\n",
    "\n",
    "model.add(keras.layers.Conv2D(32, kernel_size=(3, 3), activation='relu', input_shape=input_shape,name='conv_1'))\n",
    "model.add(keras.layers.MaxPooling2D(pool_size=(2, 2),name='max_1'))\n",
    "model.add(keras.layers.Dropout(0.2,name='drop_1'))\n",
    "model.add(keras.layers.BatchNormalization())\n",
    "\n",
    "# model.add(keras.layers.Conv2D(64, (3, 3), activation='relu',name='conv_2'))\n",
    "# model.add(keras.layers.MaxPooling2D(pool_size=(2, 2),name='max_2'))\n",
    "# model.add(keras.layers.Dropout(0.2,name='drop_2'))\n",
    "# model.add(keras.layers.BatchNormalization())\n",
    "\n",
    "model.add(keras.layers.Conv2D(64, (3, 3), activation='relu',name='conv_3'))\n",
    "model.add(keras.layers.MaxPooling2D(pool_size=(2, 2),name='max_3'))\n",
    "model.add(keras.layers.BatchNormalization())\n",
    "\n",
    "model.add(keras.layers.Conv2D(64, (3, 3), activation='relu',name='conv_4'))\n",
    "model.add(keras.layers.MaxPooling2D(pool_size=(2, 2),name='max_4'))\n",
    "model.add(keras.layers.BatchNormalization())\n",
    "\n",
    "model.add(keras.layers.Flatten())\n",
    "\n",
    "model.add(keras.layers.Dense(128, activation='relu',name='dense_1'))\n",
    "model.add(keras.layers.Dropout(0.2,name='drop_2'))\n",
    "\n",
    "model.add(keras.layers.Dense(5, activation='softmax',name='dense_2'))"
   ]
  },
  {
   "cell_type": "code",
   "execution_count": 24,
   "metadata": {},
   "outputs": [
    {
     "name": "stdout",
     "output_type": "stream",
     "text": [
      "Model: \"sequential_6\"\n",
      "_________________________________________________________________\n",
      "Layer (type)                 Output Shape              Param #   \n",
      "=================================================================\n",
      "conv_1 (Conv2D)              (None, 30, 30, 32)        896       \n",
      "_________________________________________________________________\n",
      "max_1 (MaxPooling2D)         (None, 15, 15, 32)        0         \n",
      "_________________________________________________________________\n",
      "drop_1 (Dropout)             (None, 15, 15, 32)        0         \n",
      "_________________________________________________________________\n",
      "batch_normalization_15 (Batc (None, 15, 15, 32)        128       \n",
      "_________________________________________________________________\n",
      "conv_3 (Conv2D)              (None, 13, 13, 64)        18496     \n",
      "_________________________________________________________________\n",
      "max_3 (MaxPooling2D)         (None, 6, 6, 64)          0         \n",
      "_________________________________________________________________\n",
      "batch_normalization_16 (Batc (None, 6, 6, 64)          256       \n",
      "_________________________________________________________________\n",
      "conv_4 (Conv2D)              (None, 4, 4, 64)          36928     \n",
      "_________________________________________________________________\n",
      "max_4 (MaxPooling2D)         (None, 2, 2, 64)          0         \n",
      "_________________________________________________________________\n",
      "batch_normalization_17 (Batc (None, 2, 2, 64)          256       \n",
      "_________________________________________________________________\n",
      "flatten_5 (Flatten)          (None, 256)               0         \n",
      "_________________________________________________________________\n",
      "dense_1 (Dense)              (None, 128)               32896     \n",
      "_________________________________________________________________\n",
      "drop_2 (Dropout)             (None, 128)               0         \n",
      "_________________________________________________________________\n",
      "dense_2 (Dense)              (None, 5)                 645       \n",
      "=================================================================\n",
      "Total params: 90,501\n",
      "Trainable params: 90,181\n",
      "Non-trainable params: 320\n",
      "_________________________________________________________________\n"
     ]
    }
   ],
   "source": [
    "model.summary()"
   ]
  },
  {
   "cell_type": "code",
   "execution_count": 25,
   "metadata": {},
   "outputs": [],
   "source": [
    "from keras.losses import categorical_crossentropy\n",
    "\n",
    "#Set the loss function and optimizer for the model training\n",
    "model.compile(loss=categorical_crossentropy,\n",
    "              optimizer=keras.optimizers.Adam(lr=0.01),\n",
    "              metrics=['accuracy'])"
   ]
  },
  {
   "cell_type": "code",
   "execution_count": 26,
   "metadata": {},
   "outputs": [],
   "source": [
    "early_stopping = keras.callbacks.EarlyStopping(monitor='val_accuracy', patience=5, verbose=1, mode='auto')\n",
    "callback_list = [early_stopping]"
   ]
  },
  {
   "cell_type": "code",
   "execution_count": 27,
   "metadata": {},
   "outputs": [
    {
     "name": "stdout",
     "output_type": "stream",
     "text": [
      "Train on 25000 samples, validate on 5000 samples\n",
      "Epoch 1/50\n",
      "25000/25000 [==============================] - 181s 7ms/step - loss: 1.0857 - accuracy: 0.5690 - val_loss: 1.6748 - val_accuracy: 0.4520\n",
      "Epoch 2/50\n",
      "25000/25000 [==============================] - 190s 8ms/step - loss: 0.8417 - accuracy: 0.6682 - val_loss: 1.7281 - val_accuracy: 0.4404\n",
      "Epoch 3/50\n",
      "25000/25000 [==============================] - 178s 7ms/step - loss: 0.7475 - accuracy: 0.7122 - val_loss: 0.7774 - val_accuracy: 0.6956\n",
      "Epoch 4/50\n",
      "25000/25000 [==============================] - 178s 7ms/step - loss: 0.6752 - accuracy: 0.7417 - val_loss: 0.8615 - val_accuracy: 0.6870\n",
      "Epoch 5/50\n",
      "25000/25000 [==============================] - 178s 7ms/step - loss: 0.6247 - accuracy: 0.7614 - val_loss: 0.9696 - val_accuracy: 0.6524\n",
      "Epoch 6/50\n",
      "25000/25000 [==============================] - 178s 7ms/step - loss: 0.5855 - accuracy: 0.7803 - val_loss: 0.8097 - val_accuracy: 0.6942\n",
      "Epoch 7/50\n",
      "25000/25000 [==============================] - 181s 7ms/step - loss: 0.5385 - accuracy: 0.7957 - val_loss: 0.6543 - val_accuracy: 0.7506\n",
      "Epoch 8/50\n",
      "25000/25000 [==============================] - 180s 7ms/step - loss: 0.5138 - accuracy: 0.8055 - val_loss: 0.8923 - val_accuracy: 0.6728\n",
      "Epoch 9/50\n",
      "25000/25000 [==============================] - 179s 7ms/step - loss: 0.4949 - accuracy: 0.8145 - val_loss: 0.7622 - val_accuracy: 0.7418\n",
      "Epoch 10/50\n",
      "25000/25000 [==============================] - 178s 7ms/step - loss: 0.4587 - accuracy: 0.8281 - val_loss: 0.7384 - val_accuracy: 0.7664\n",
      "Epoch 11/50\n",
      "25000/25000 [==============================] - 177s 7ms/step - loss: 0.4410 - accuracy: 0.8336 - val_loss: 0.9196 - val_accuracy: 0.6974\n",
      "Epoch 12/50\n",
      "25000/25000 [==============================] - 179s 7ms/step - loss: 0.4246 - accuracy: 0.8416 - val_loss: 0.7359 - val_accuracy: 0.7486\n",
      "Epoch 13/50\n",
      "25000/25000 [==============================] - 180s 7ms/step - loss: 0.4081 - accuracy: 0.8481 - val_loss: 0.6290 - val_accuracy: 0.7786\n",
      "Epoch 14/50\n",
      "25000/25000 [==============================] - 182s 7ms/step - loss: 0.3975 - accuracy: 0.8509 - val_loss: 0.5728 - val_accuracy: 0.7954\n",
      "Epoch 15/50\n",
      "25000/25000 [==============================] - 178s 7ms/step - loss: 0.3859 - accuracy: 0.8564 - val_loss: 0.6082 - val_accuracy: 0.7936\n",
      "Epoch 16/50\n",
      "25000/25000 [==============================] - 183s 7ms/step - loss: 0.3762 - accuracy: 0.8611 - val_loss: 0.6379 - val_accuracy: 0.7846\n",
      "Epoch 17/50\n",
      "25000/25000 [==============================] - 179s 7ms/step - loss: 0.3620 - accuracy: 0.8645 - val_loss: 0.6891 - val_accuracy: 0.7824\n",
      "Epoch 18/50\n",
      "25000/25000 [==============================] - 179s 7ms/step - loss: 0.3428 - accuracy: 0.8747 - val_loss: 0.7991 - val_accuracy: 0.7530\n",
      "Epoch 19/50\n",
      "25000/25000 [==============================] - 177s 7ms/step - loss: 0.3491 - accuracy: 0.8698 - val_loss: 0.6225 - val_accuracy: 0.7970\n",
      "Epoch 20/50\n",
      "25000/25000 [==============================] - 178s 7ms/step - loss: 0.3405 - accuracy: 0.8728 - val_loss: 0.6542 - val_accuracy: 0.7856\n",
      "Epoch 21/50\n",
      "25000/25000 [==============================] - 178s 7ms/step - loss: 0.3321 - accuracy: 0.8768 - val_loss: 0.6624 - val_accuracy: 0.7780\n",
      "Epoch 22/50\n",
      "25000/25000 [==============================] - 186s 7ms/step - loss: 0.3158 - accuracy: 0.8821 - val_loss: 0.7893 - val_accuracy: 0.7736\n",
      "Epoch 23/50\n",
      "25000/25000 [==============================] - 177s 7ms/step - loss: 0.3086 - accuracy: 0.8884 - val_loss: 0.7353 - val_accuracy: 0.7822\n",
      "Epoch 24/50\n",
      "25000/25000 [==============================] - 184s 7ms/step - loss: 0.3114 - accuracy: 0.8847 - val_loss: 0.6765 - val_accuracy: 0.7898\n",
      "Epoch 00024: early stopping\n"
     ]
    },
    {
     "data": {
      "text/plain": [
       "<keras.callbacks.callbacks.History at 0x26124d2ad08>"
      ]
     },
     "execution_count": 27,
     "metadata": {},
     "output_type": "execute_result"
    }
   ],
   "source": [
    "model.fit(X_train_1, y_train_1,\n",
    "          batch_size=128,\n",
    "          epochs=50,\n",
    "          verbose=1,\n",
    "          validation_data=(X_test_1, y_test_1),\n",
    "          callbacks=callback_list)"
   ]
  },
  {
   "cell_type": "code",
   "execution_count": 28,
   "metadata": {},
   "outputs": [
    {
     "name": "stdout",
     "output_type": "stream",
     "text": [
      "5000/5000 [==============================] - 15s 3ms/step\n"
     ]
    }
   ],
   "source": [
    "score = model.evaluate( X_test_1, y_test_1)"
   ]
  },
  {
   "cell_type": "code",
   "execution_count": 29,
   "metadata": {},
   "outputs": [
    {
     "name": "stdout",
     "output_type": "stream",
     "text": [
      "Accuracy of the model is: [0.676528856754303, 0.7897999882698059]\n"
     ]
    }
   ],
   "source": [
    "print(f'Accuracy of the model is: {score}')"
   ]
  },
  {
   "cell_type": "markdown",
   "metadata": {
    "colab_type": "text",
    "id": "woTfNst_ynRG"
   },
   "source": [
    "### 4. In the model which was built above (for classification of classes 0-4 in CIFAR10), make only the dense layers to be trainable and conv layers to be non-trainable"
   ]
  },
  {
   "cell_type": "code",
   "execution_count": 30,
   "metadata": {
    "colab": {},
    "colab_type": "code",
    "id": "o_VCDB3Byb1a"
   },
   "outputs": [],
   "source": [
    "for layer in model.layers:\n",
    "  if('dense' not in layer.name):\n",
    "    layer.trainable = False"
   ]
  },
  {
   "cell_type": "code",
   "execution_count": 33,
   "metadata": {},
   "outputs": [
    {
     "name": "stdout",
     "output_type": "stream",
     "text": [
      "Model: \"sequential_6\"\n",
      "_________________________________________________________________\n",
      "Layer (type)                 Output Shape              Param #   \n",
      "=================================================================\n",
      "conv_1 (Conv2D)              (None, 30, 30, 32)        896       \n",
      "_________________________________________________________________\n",
      "max_1 (MaxPooling2D)         (None, 15, 15, 32)        0         \n",
      "_________________________________________________________________\n",
      "drop_1 (Dropout)             (None, 15, 15, 32)        0         \n",
      "_________________________________________________________________\n",
      "batch_normalization_15 (Batc (None, 15, 15, 32)        128       \n",
      "_________________________________________________________________\n",
      "conv_3 (Conv2D)              (None, 13, 13, 64)        18496     \n",
      "_________________________________________________________________\n",
      "max_3 (MaxPooling2D)         (None, 6, 6, 64)          0         \n",
      "_________________________________________________________________\n",
      "batch_normalization_16 (Batc (None, 6, 6, 64)          256       \n",
      "_________________________________________________________________\n",
      "conv_4 (Conv2D)              (None, 4, 4, 64)          36928     \n",
      "_________________________________________________________________\n",
      "max_4 (MaxPooling2D)         (None, 2, 2, 64)          0         \n",
      "_________________________________________________________________\n",
      "batch_normalization_17 (Batc (None, 2, 2, 64)          256       \n",
      "_________________________________________________________________\n",
      "flatten_5 (Flatten)          (None, 256)               0         \n",
      "_________________________________________________________________\n",
      "dense_1 (Dense)              (None, 128)               32896     \n",
      "_________________________________________________________________\n",
      "drop_2 (Dropout)             (None, 128)               0         \n",
      "_________________________________________________________________\n",
      "dense_2 (Dense)              (None, 5)                 645       \n",
      "=================================================================\n",
      "Total params: 147,141\n",
      "Trainable params: 90,181\n",
      "Non-trainable params: 56,960\n",
      "_________________________________________________________________\n"
     ]
    }
   ],
   "source": [
    "model.summary()"
   ]
  },
  {
   "cell_type": "markdown",
   "metadata": {
    "colab_type": "text",
    "id": "1-uUPqWpyeyX"
   },
   "source": [
    "### 5. Utilize the the model trained on CIFAR 10 (classes 0 to 4) to classify the classes 5 to 9 of CIFAR 10  (Use Transfer Learning) <br>\n",
    "Achieve an accuracy of more than 85% on test data"
   ]
  },
  {
   "cell_type": "code",
   "execution_count": 31,
   "metadata": {
    "colab": {},
    "colab_type": "code",
    "id": "szHjJgDvyfCt"
   },
   "outputs": [
    {
     "name": "stdout",
     "output_type": "stream",
     "text": [
      "Train on 25000 samples, validate on 5000 samples\n",
      "Epoch 1/50\n",
      "25000/25000 [==============================] - 327s 13ms/step - loss: 1.5213 - accuracy: 0.3316 - val_loss: 1.2195 - val_accuracy: 0.4832\n",
      "Epoch 2/50\n",
      "25000/25000 [==============================] - 182s 7ms/step - loss: 1.1638 - accuracy: 0.5156 - val_loss: 0.9650 - val_accuracy: 0.6362\n",
      "Epoch 3/50\n",
      "25000/25000 [==============================] - 181s 7ms/step - loss: 0.8909 - accuracy: 0.6587 - val_loss: 0.7527 - val_accuracy: 0.7406\n",
      "Epoch 4/50\n",
      "25000/25000 [==============================] - 183s 7ms/step - loss: 0.7107 - accuracy: 0.7334 - val_loss: 0.5900 - val_accuracy: 0.7920\n",
      "Epoch 5/50\n",
      "25000/25000 [==============================] - 185s 7ms/step - loss: 0.6061 - accuracy: 0.7838 - val_loss: 0.5718 - val_accuracy: 0.7914\n",
      "Epoch 6/50\n",
      "25000/25000 [==============================] - 183s 7ms/step - loss: 0.5237 - accuracy: 0.8157 - val_loss: 0.7280 - val_accuracy: 0.7698\n",
      "Epoch 7/50\n",
      "25000/25000 [==============================] - 183s 7ms/step - loss: 0.4747 - accuracy: 0.8340 - val_loss: 0.4367 - val_accuracy: 0.8516\n",
      "Epoch 8/50\n",
      "25000/25000 [==============================] - 182s 7ms/step - loss: 0.4267 - accuracy: 0.8508 - val_loss: 0.7115 - val_accuracy: 0.7710\n",
      "Epoch 9/50\n",
      "25000/25000 [==============================] - 182s 7ms/step - loss: 0.4009 - accuracy: 0.8611 - val_loss: 0.4895 - val_accuracy: 0.8356\n",
      "Epoch 10/50\n",
      "25000/25000 [==============================] - 182s 7ms/step - loss: 0.3722 - accuracy: 0.8708 - val_loss: 0.4672 - val_accuracy: 0.8470\n",
      "Epoch 11/50\n",
      "25000/25000 [==============================] - 186s 7ms/step - loss: 0.3536 - accuracy: 0.8764 - val_loss: 0.5311 - val_accuracy: 0.8306\n",
      "Epoch 12/50\n",
      "25000/25000 [==============================] - 181s 7ms/step - loss: 0.3351 - accuracy: 0.8793 - val_loss: 0.4370 - val_accuracy: 0.8612\n",
      "Epoch 13/50\n",
      "25000/25000 [==============================] - 187s 7ms/step - loss: 0.3220 - accuracy: 0.8862 - val_loss: 0.5133 - val_accuracy: 0.8402\n",
      "Epoch 14/50\n",
      "25000/25000 [==============================] - 182s 7ms/step - loss: 0.3012 - accuracy: 0.8931 - val_loss: 0.5069 - val_accuracy: 0.8460\n",
      "Epoch 15/50\n",
      "25000/25000 [==============================] - 182s 7ms/step - loss: 0.2849 - accuracy: 0.8979 - val_loss: 0.5463 - val_accuracy: 0.8368\n",
      "Epoch 16/50\n",
      "25000/25000 [==============================] - 182s 7ms/step - loss: 0.2791 - accuracy: 0.9007 - val_loss: 0.5593 - val_accuracy: 0.8164\n",
      "Epoch 17/50\n",
      "25000/25000 [==============================] - 182s 7ms/step - loss: 0.2686 - accuracy: 0.9058 - val_loss: 0.5540 - val_accuracy: 0.8308\n",
      "Epoch 00017: early stopping\n"
     ]
    },
    {
     "data": {
      "text/plain": [
       "<keras.callbacks.callbacks.History at 0x26127be5948>"
      ]
     },
     "execution_count": 31,
     "metadata": {},
     "output_type": "execute_result"
    }
   ],
   "source": [
    "model.fit(X_train_2, y_train_2,\n",
    "          batch_size=128,\n",
    "          epochs=50,\n",
    "          verbose=1,\n",
    "          validation_data=(X_test_2, y_test_2),\n",
    "          callbacks=callback_list)"
   ]
  },
  {
   "cell_type": "code",
   "execution_count": 32,
   "metadata": {},
   "outputs": [
    {
     "name": "stdout",
     "output_type": "stream",
     "text": [
      "5000/5000 [==============================] - 18s 4ms/step\n"
     ]
    },
    {
     "data": {
      "text/plain": [
       "[0.5539651023864746, 0.8307999968528748]"
      ]
     },
     "execution_count": 32,
     "metadata": {},
     "output_type": "execute_result"
    }
   ],
   "source": [
    "model.evaluate( X_test_2, y_test_2)"
   ]
  },
  {
   "cell_type": "markdown",
   "metadata": {
    "colab_type": "text",
    "id": "0zDuRecXzEtr"
   },
   "source": [
    "# Text classification using TF-IDF"
   ]
  },
  {
   "cell_type": "markdown",
   "metadata": {
    "colab_type": "text",
    "id": "xMPlEJhHzb6P"
   },
   "source": [
    "### 6. Load the dataset from sklearn.datasets"
   ]
  },
  {
   "cell_type": "code",
   "execution_count": 19,
   "metadata": {
    "colab": {},
    "colab_type": "code",
    "id": "Fe-B59u3zHNb"
   },
   "outputs": [],
   "source": [
    "from sklearn.datasets import fetch_20newsgroups"
   ]
  },
  {
   "cell_type": "code",
   "execution_count": 20,
   "metadata": {
    "colab": {},
    "colab_type": "code",
    "id": "PRrMemVQzbHU"
   },
   "outputs": [],
   "source": [
    "categories = ['alt.atheism', 'soc.religion.christian', 'comp.graphics', 'sci.med']"
   ]
  },
  {
   "cell_type": "markdown",
   "metadata": {
    "colab_type": "text",
    "id": "-sZX0UbJzmg5"
   },
   "source": [
    "### 7. Training data"
   ]
  },
  {
   "cell_type": "code",
   "execution_count": 21,
   "metadata": {
    "colab": {},
    "colab_type": "code",
    "id": "CITr_5aXziJ2"
   },
   "outputs": [
    {
     "name": "stderr",
     "output_type": "stream",
     "text": [
      "Downloading 20news dataset. This may take a few minutes.\n",
      "Downloading dataset from https://ndownloader.figshare.com/files/5975967 (14 MB)\n"
     ]
    }
   ],
   "source": [
    "twenty_train = fetch_20newsgroups(subset='train', categories=categories, shuffle=True, random_state=42)"
   ]
  },
  {
   "cell_type": "markdown",
   "metadata": {
    "colab_type": "text",
    "id": "xcESc5QXzr6p"
   },
   "source": [
    "### 8. Test data"
   ]
  },
  {
   "cell_type": "code",
   "execution_count": 22,
   "metadata": {
    "colab": {},
    "colab_type": "code",
    "id": "ysInblUMzpvl"
   },
   "outputs": [],
   "source": [
    "twenty_test = fetch_20newsgroups(subset='test', categories=categories, shuffle=True, random_state=42)"
   ]
  },
  {
   "cell_type": "markdown",
   "metadata": {
    "colab_type": "text",
    "id": "DriL2yZ50DQq"
   },
   "source": [
    "###  a.  You can access the values for the target variable using .target attribute \n",
    "###  b. You can access the name of the class in the target variable with .target_names\n"
   ]
  },
  {
   "cell_type": "code",
   "execution_count": 23,
   "metadata": {
    "colab": {},
    "colab_type": "code",
    "id": "vlUuai99z1hX"
   },
   "outputs": [
    {
     "data": {
      "text/plain": [
       "array([1, 1, 3, ..., 2, 2, 2], dtype=int64)"
      ]
     },
     "execution_count": 23,
     "metadata": {},
     "output_type": "execute_result"
    }
   ],
   "source": [
    "twenty_train.target"
   ]
  },
  {
   "cell_type": "code",
   "execution_count": 24,
   "metadata": {
    "colab": {},
    "colab_type": "code",
    "id": "VEKzaDfSz5E-"
   },
   "outputs": [
    {
     "data": {
      "text/plain": [
       "['alt.atheism', 'comp.graphics', 'sci.med', 'soc.religion.christian']"
      ]
     },
     "execution_count": 24,
     "metadata": {},
     "output_type": "execute_result"
    }
   ],
   "source": [
    "twenty_train.target_names"
   ]
  },
  {
   "cell_type": "code",
   "execution_count": 25,
   "metadata": {
    "colab": {},
    "colab_type": "code",
    "id": "clBMKHzC0_N1"
   },
   "outputs": [
    {
     "data": {
      "text/plain": [
       "['From: sd345@city.ac.uk (Michael Collier)\\nSubject: Converting images to HP LaserJet III?\\nNntp-Posting-Host: hampton\\nOrganization: The City University\\nLines: 14\\n\\nDoes anyone know of a good way (standard PC application/PD utility) to\\nconvert tif/img/tga files into LaserJet III format.  We would also like to\\ndo the same, converting to HPGL (HP plotter) files.\\n\\nPlease email any response.\\n\\nIs this the correct group?\\n\\nThanks in advance.  Michael.\\n-- \\nMichael Collier (Programmer)                 The Computer Unit,\\nEmail: M.P.Collier@uk.ac.city                The City University,\\nTel: 071 477-8000 x3769                      London,\\nFax: 071 477-8565                            EC1V 0HB.\\n',\n",
       " \"From: ani@ms.uky.edu (Aniruddha B. Deglurkar)\\nSubject: help: Splitting a trimming region along a mesh \\nOrganization: University Of Kentucky, Dept. of Math Sciences\\nLines: 28\\n\\n\\n\\n\\tHi,\\n\\n\\tI have a problem, I hope some of the 'gurus' can help me solve.\\n\\n\\tBackground of the problem:\\n\\tI have a rectangular mesh in the uv domain, i.e  the mesh is a \\n\\tmapping of a 3d Bezier patch into 2d. The area in this domain\\n\\twhich is inside a trimming loop had to be rendered. The trimming\\n\\tloop is a set of 2d Bezier curve segments.\\n\\tFor the sake of notation: the mesh is made up of cells.\\n\\n\\tMy problem is this :\\n\\tThe trimming area has to be split up into individual smaller\\n\\tcells bounded by the trimming curve segments. If a cell\\n\\tis wholly inside the area...then it is output as a whole ,\\n\\telse it is trivially rejected. \\n\\n\\tDoes any body know how thiss can be done, or is there any algo. \\n\\tsomewhere for doing this.\\n\\n\\tAny help would be appreciated.\\n\\n\\tThanks, \\n\\tAni.\\n-- \\nTo get irritated is human, to stay cool, divine.\\n\",\n",
       " \"From: djohnson@cs.ucsd.edu (Darin Johnson)\\nSubject: Re: harrassed at work, could use some prayers\\nOrganization: =CSE Dept., U.C. San Diego\\nLines: 63\\n\\n(Well, I'll email also, but this may apply to other people, so\\nI'll post also.)\\n\\n>I've been working at this company for eight years in various\\n>engineering jobs.  I'm female.  Yesterday I counted and realized that\\n>on seven different occasions I've been sexually harrassed at this\\n>company.\\n\\n>I dreaded coming back to work today.  What if my boss comes in to ask\\n>me some kind of question...\\n\\nYour boss should be the person bring these problems to.  If he/she\\ndoes not seem to take any action, keep going up higher and higher.\\nSexual harrassment does not need to be tolerated, and it can be an\\nenormous emotional support to discuss this with someone and know that\\nthey are trying to do something about it.  If you feel you can not\\ndiscuss this with your boss, perhaps your company has a personnel\\ndepartment that can work for you while preserving your privacy.  Most\\ncompanies will want to deal with this problem because constant anxiety\\ndoes seriously affect how effectively employees do their jobs.\\n\\nIt is unclear from your letter if you have done this or not.  It is\\nnot inconceivable that management remains ignorant of employee\\nproblems/strife even after eight years (it's a miracle if they do\\nnotice).  Perhaps your manager did not bring to the attention of\\nhigher ups?  If the company indeed does seem to want to ignore the\\nentire problem, there may be a state agency willing to fight with\\nyou.  (check with a lawyer, a women's resource center, etc to find out)\\n\\nYou may also want to discuss this with your paster, priest, husband,\\netc.  That is, someone you know will not be judgemental and that is\\nsupportive, comforting, etc.  This will bring a lot of healing.\\n\\n>So I returned at 11:25, only to find that ever single\\n>person had already left for lunch.  They left at 11:15 or so.  No one\\n>could be bothered to call me at the other building, even though my\\n>number was posted.\\n\\nThis happens to a lot of people.  Honest.  I believe it may seem\\nto be due to gross insensitivity because of the feelings you are\\ngoing through.  People in offices tend to be more insensitive while\\nworking than they normally are (maybe it's the hustle or stress or...)\\nI've had this happen to me a lot, often because they didn't realize\\nmy car was broken, etc.  Then they will come back and wonder why I\\ndidn't want to go (this would tend to make me stop being angry at\\nbeing ignored and make me laugh).  Once, we went off without our\\nboss, who was paying for the lunch :-)\\n\\n>For this\\n>reason I hope good Mr. Moderator allows me this latest indulgence.\\n\\nWell, if you can't turn to the computer for support, what would\\nwe do?  (signs of the computer age :-)\\n\\nIn closing, please don't let the hateful actions of a single person\\nharm you.  They are doing it because they are still the playground\\nbully and enjoy seeing the hurt they cause.  And you should not\\naccept the opinions of an imbecile that you are worthless - much\\nwiser people hold you in great esteem.\\n-- \\nDarin Johnson\\ndjohnson@ucsd.edu\\n  - Luxury!  In MY day, we had to make do with 5 bytes of swap...\\n\",\n",
       " 'From: s0612596@let.rug.nl (M.M. Zwart)\\nSubject: catholic church poland\\nOrganization: Faculteit der Letteren, Rijksuniversiteit Groningen, NL\\nLines: 10\\n\\nHello,\\n\\nI\\'m writing a paper on the role of the catholic church in Poland after 1989. \\nCan anyone tell me more about this, or fill me in on recent books/articles(\\nin english, german or french). Most important for me is the role of the \\nchurch concerning the abortion-law, religious education at schools,\\nbirth-control and the relation church-state(government). Thanx,\\n\\n                                                 Masja,\\n\"M.M.Zwart\"<s0612596@let.rug.nl>\\n',\n",
       " 'From: stanly@grok11.columbiasc.ncr.com (stanly)\\nSubject: Re: Elder Brother\\nOrganization: NCR Corp., Columbia SC\\nLines: 15\\n\\nIn article <Apr.8.00.57.41.1993.28246@athos.rutgers.edu> REXLEX@fnal.gov writes:\\n>In article <Apr.7.01.56.56.1993.22824@athos.rutgers.edu> shrum@hpfcso.fc.hp.com\\n>Matt. 22:9-14 \\'Go therefore to the main highways, and as many as you find\\n>there, invite to the wedding feast.\\'...\\n\\n>hmmmmmm.  Sounds like your theology and Christ\\'s are at odds. Which one am I \\n>to believe?\\n\\nIn this parable, Jesus tells the parable of the wedding feast. \"The kingdom\\nof heaven is like unto a certain king which made a marriage for his son\".\\nSo the wedding clothes were customary,  and \"given\" to those who \"chose\" to\\nattend.  This man \"refused\" to wear the clothes.  The wedding clothes are\\nequalivant to the \"clothes of righteousness\".  When Jesus died for our sins,\\nthose \"clothes\" were then provided.  Like that man, it is our decision to\\nput the clothes on.\\n']"
      ]
     },
     "execution_count": 25,
     "metadata": {},
     "output_type": "execute_result"
    }
   ],
   "source": [
    "twenty_train.data[0:5]"
   ]
  },
  {
   "cell_type": "markdown",
   "metadata": {
    "colab_type": "text",
    "id": "hTz4EaN_1WGc"
   },
   "source": [
    "### 9.  Now with dependent and independent data available for both train and test datasets, using TfidfVectorizer fit and transform the training data and test data and get the tfidf features for both"
   ]
  },
  {
   "cell_type": "code",
   "execution_count": 26,
   "metadata": {},
   "outputs": [],
   "source": [
    "from sklearn.feature_extraction.text import TfidfVectorizer"
   ]
  },
  {
   "cell_type": "code",
   "execution_count": 40,
   "metadata": {
    "colab": {},
    "colab_type": "code",
    "id": "H5G477f81C0Z"
   },
   "outputs": [],
   "source": [
    "# TfidfVectorizer\n",
    "vect = TfidfVectorizer()\n",
    "X_train_dtm = vect.fit_transform(twenty_train.data)\n",
    "X_test_dtm = vect.transform(twenty_test.data)"
   ]
  },
  {
   "cell_type": "code",
   "execution_count": 41,
   "metadata": {},
   "outputs": [
    {
     "data": {
      "text/plain": [
       "<2257x35788 sparse matrix of type '<class 'numpy.float64'>'\n",
       "\twith 365886 stored elements in Compressed Sparse Row format>"
      ]
     },
     "execution_count": 41,
     "metadata": {},
     "output_type": "execute_result"
    }
   ],
   "source": [
    "X_train_dtm"
   ]
  },
  {
   "cell_type": "code",
   "execution_count": 45,
   "metadata": {},
   "outputs": [
    {
     "data": {
      "text/html": [
       "<div>\n",
       "<style scoped>\n",
       "    .dataframe tbody tr th:only-of-type {\n",
       "        vertical-align: middle;\n",
       "    }\n",
       "\n",
       "    .dataframe tbody tr th {\n",
       "        vertical-align: top;\n",
       "    }\n",
       "\n",
       "    .dataframe thead th {\n",
       "        text-align: right;\n",
       "    }\n",
       "</style>\n",
       "<table border=\"1\" class=\"dataframe\">\n",
       "  <thead>\n",
       "    <tr style=\"text-align: right;\">\n",
       "      <th></th>\n",
       "      <th>00</th>\n",
       "      <th>000</th>\n",
       "      <th>0000</th>\n",
       "      <th>0000001200</th>\n",
       "      <th>000005102000</th>\n",
       "      <th>0001</th>\n",
       "      <th>000100255pixel</th>\n",
       "      <th>00014</th>\n",
       "      <th>000406</th>\n",
       "      <th>0007</th>\n",
       "      <th>...</th>\n",
       "      <th>zvi</th>\n",
       "      <th>zvonko</th>\n",
       "      <th>zwart</th>\n",
       "      <th>zyeh</th>\n",
       "      <th>zyklon</th>\n",
       "      <th>zyxel</th>\n",
       "      <th>zz</th>\n",
       "      <th>zzz</th>\n",
       "      <th>ªl</th>\n",
       "      <th>íålittin</th>\n",
       "    </tr>\n",
       "  </thead>\n",
       "  <tbody>\n",
       "    <tr>\n",
       "      <td>0</td>\n",
       "      <td>0.000000</td>\n",
       "      <td>0.0</td>\n",
       "      <td>0.0</td>\n",
       "      <td>0.0</td>\n",
       "      <td>0.0</td>\n",
       "      <td>0.0</td>\n",
       "      <td>0.0</td>\n",
       "      <td>0.000000</td>\n",
       "      <td>0.0</td>\n",
       "      <td>0.0</td>\n",
       "      <td>...</td>\n",
       "      <td>0.0</td>\n",
       "      <td>0.0</td>\n",
       "      <td>0.00000</td>\n",
       "      <td>0.0</td>\n",
       "      <td>0.0</td>\n",
       "      <td>0.0</td>\n",
       "      <td>0.0</td>\n",
       "      <td>0.0</td>\n",
       "      <td>0.0</td>\n",
       "      <td>0.0</td>\n",
       "    </tr>\n",
       "    <tr>\n",
       "      <td>1</td>\n",
       "      <td>0.000000</td>\n",
       "      <td>0.0</td>\n",
       "      <td>0.0</td>\n",
       "      <td>0.0</td>\n",
       "      <td>0.0</td>\n",
       "      <td>0.0</td>\n",
       "      <td>0.0</td>\n",
       "      <td>0.000000</td>\n",
       "      <td>0.0</td>\n",
       "      <td>0.0</td>\n",
       "      <td>...</td>\n",
       "      <td>0.0</td>\n",
       "      <td>0.0</td>\n",
       "      <td>0.00000</td>\n",
       "      <td>0.0</td>\n",
       "      <td>0.0</td>\n",
       "      <td>0.0</td>\n",
       "      <td>0.0</td>\n",
       "      <td>0.0</td>\n",
       "      <td>0.0</td>\n",
       "      <td>0.0</td>\n",
       "    </tr>\n",
       "    <tr>\n",
       "      <td>2</td>\n",
       "      <td>0.000000</td>\n",
       "      <td>0.0</td>\n",
       "      <td>0.0</td>\n",
       "      <td>0.0</td>\n",
       "      <td>0.0</td>\n",
       "      <td>0.0</td>\n",
       "      <td>0.0</td>\n",
       "      <td>0.000000</td>\n",
       "      <td>0.0</td>\n",
       "      <td>0.0</td>\n",
       "      <td>...</td>\n",
       "      <td>0.0</td>\n",
       "      <td>0.0</td>\n",
       "      <td>0.00000</td>\n",
       "      <td>0.0</td>\n",
       "      <td>0.0</td>\n",
       "      <td>0.0</td>\n",
       "      <td>0.0</td>\n",
       "      <td>0.0</td>\n",
       "      <td>0.0</td>\n",
       "      <td>0.0</td>\n",
       "    </tr>\n",
       "    <tr>\n",
       "      <td>3</td>\n",
       "      <td>0.000000</td>\n",
       "      <td>0.0</td>\n",
       "      <td>0.0</td>\n",
       "      <td>0.0</td>\n",
       "      <td>0.0</td>\n",
       "      <td>0.0</td>\n",
       "      <td>0.0</td>\n",
       "      <td>0.000000</td>\n",
       "      <td>0.0</td>\n",
       "      <td>0.0</td>\n",
       "      <td>...</td>\n",
       "      <td>0.0</td>\n",
       "      <td>0.0</td>\n",
       "      <td>0.29521</td>\n",
       "      <td>0.0</td>\n",
       "      <td>0.0</td>\n",
       "      <td>0.0</td>\n",
       "      <td>0.0</td>\n",
       "      <td>0.0</td>\n",
       "      <td>0.0</td>\n",
       "      <td>0.0</td>\n",
       "    </tr>\n",
       "    <tr>\n",
       "      <td>4</td>\n",
       "      <td>0.055283</td>\n",
       "      <td>0.0</td>\n",
       "      <td>0.0</td>\n",
       "      <td>0.0</td>\n",
       "      <td>0.0</td>\n",
       "      <td>0.0</td>\n",
       "      <td>0.0</td>\n",
       "      <td>0.000000</td>\n",
       "      <td>0.0</td>\n",
       "      <td>0.0</td>\n",
       "      <td>...</td>\n",
       "      <td>0.0</td>\n",
       "      <td>0.0</td>\n",
       "      <td>0.00000</td>\n",
       "      <td>0.0</td>\n",
       "      <td>0.0</td>\n",
       "      <td>0.0</td>\n",
       "      <td>0.0</td>\n",
       "      <td>0.0</td>\n",
       "      <td>0.0</td>\n",
       "      <td>0.0</td>\n",
       "    </tr>\n",
       "    <tr>\n",
       "      <td>...</td>\n",
       "      <td>...</td>\n",
       "      <td>...</td>\n",
       "      <td>...</td>\n",
       "      <td>...</td>\n",
       "      <td>...</td>\n",
       "      <td>...</td>\n",
       "      <td>...</td>\n",
       "      <td>...</td>\n",
       "      <td>...</td>\n",
       "      <td>...</td>\n",
       "      <td>...</td>\n",
       "      <td>...</td>\n",
       "      <td>...</td>\n",
       "      <td>...</td>\n",
       "      <td>...</td>\n",
       "      <td>...</td>\n",
       "      <td>...</td>\n",
       "      <td>...</td>\n",
       "      <td>...</td>\n",
       "      <td>...</td>\n",
       "      <td>...</td>\n",
       "    </tr>\n",
       "    <tr>\n",
       "      <td>2252</td>\n",
       "      <td>0.000000</td>\n",
       "      <td>0.0</td>\n",
       "      <td>0.0</td>\n",
       "      <td>0.0</td>\n",
       "      <td>0.0</td>\n",
       "      <td>0.0</td>\n",
       "      <td>0.0</td>\n",
       "      <td>0.095199</td>\n",
       "      <td>0.0</td>\n",
       "      <td>0.0</td>\n",
       "      <td>...</td>\n",
       "      <td>0.0</td>\n",
       "      <td>0.0</td>\n",
       "      <td>0.00000</td>\n",
       "      <td>0.0</td>\n",
       "      <td>0.0</td>\n",
       "      <td>0.0</td>\n",
       "      <td>0.0</td>\n",
       "      <td>0.0</td>\n",
       "      <td>0.0</td>\n",
       "      <td>0.0</td>\n",
       "    </tr>\n",
       "    <tr>\n",
       "      <td>2253</td>\n",
       "      <td>0.000000</td>\n",
       "      <td>0.0</td>\n",
       "      <td>0.0</td>\n",
       "      <td>0.0</td>\n",
       "      <td>0.0</td>\n",
       "      <td>0.0</td>\n",
       "      <td>0.0</td>\n",
       "      <td>0.000000</td>\n",
       "      <td>0.0</td>\n",
       "      <td>0.0</td>\n",
       "      <td>...</td>\n",
       "      <td>0.0</td>\n",
       "      <td>0.0</td>\n",
       "      <td>0.00000</td>\n",
       "      <td>0.0</td>\n",
       "      <td>0.0</td>\n",
       "      <td>0.0</td>\n",
       "      <td>0.0</td>\n",
       "      <td>0.0</td>\n",
       "      <td>0.0</td>\n",
       "      <td>0.0</td>\n",
       "    </tr>\n",
       "    <tr>\n",
       "      <td>2254</td>\n",
       "      <td>0.000000</td>\n",
       "      <td>0.0</td>\n",
       "      <td>0.0</td>\n",
       "      <td>0.0</td>\n",
       "      <td>0.0</td>\n",
       "      <td>0.0</td>\n",
       "      <td>0.0</td>\n",
       "      <td>0.000000</td>\n",
       "      <td>0.0</td>\n",
       "      <td>0.0</td>\n",
       "      <td>...</td>\n",
       "      <td>0.0</td>\n",
       "      <td>0.0</td>\n",
       "      <td>0.00000</td>\n",
       "      <td>0.0</td>\n",
       "      <td>0.0</td>\n",
       "      <td>0.0</td>\n",
       "      <td>0.0</td>\n",
       "      <td>0.0</td>\n",
       "      <td>0.0</td>\n",
       "      <td>0.0</td>\n",
       "    </tr>\n",
       "    <tr>\n",
       "      <td>2255</td>\n",
       "      <td>0.000000</td>\n",
       "      <td>0.0</td>\n",
       "      <td>0.0</td>\n",
       "      <td>0.0</td>\n",
       "      <td>0.0</td>\n",
       "      <td>0.0</td>\n",
       "      <td>0.0</td>\n",
       "      <td>0.000000</td>\n",
       "      <td>0.0</td>\n",
       "      <td>0.0</td>\n",
       "      <td>...</td>\n",
       "      <td>0.0</td>\n",
       "      <td>0.0</td>\n",
       "      <td>0.00000</td>\n",
       "      <td>0.0</td>\n",
       "      <td>0.0</td>\n",
       "      <td>0.0</td>\n",
       "      <td>0.0</td>\n",
       "      <td>0.0</td>\n",
       "      <td>0.0</td>\n",
       "      <td>0.0</td>\n",
       "    </tr>\n",
       "    <tr>\n",
       "      <td>2256</td>\n",
       "      <td>0.000000</td>\n",
       "      <td>0.0</td>\n",
       "      <td>0.0</td>\n",
       "      <td>0.0</td>\n",
       "      <td>0.0</td>\n",
       "      <td>0.0</td>\n",
       "      <td>0.0</td>\n",
       "      <td>0.000000</td>\n",
       "      <td>0.0</td>\n",
       "      <td>0.0</td>\n",
       "      <td>...</td>\n",
       "      <td>0.0</td>\n",
       "      <td>0.0</td>\n",
       "      <td>0.00000</td>\n",
       "      <td>0.0</td>\n",
       "      <td>0.0</td>\n",
       "      <td>0.0</td>\n",
       "      <td>0.0</td>\n",
       "      <td>0.0</td>\n",
       "      <td>0.0</td>\n",
       "      <td>0.0</td>\n",
       "    </tr>\n",
       "  </tbody>\n",
       "</table>\n",
       "<p>2257 rows × 35788 columns</p>\n",
       "</div>"
      ],
      "text/plain": [
       "            00  000  0000  0000001200  000005102000  0001  000100255pixel  \\\n",
       "0     0.000000  0.0   0.0         0.0           0.0   0.0             0.0   \n",
       "1     0.000000  0.0   0.0         0.0           0.0   0.0             0.0   \n",
       "2     0.000000  0.0   0.0         0.0           0.0   0.0             0.0   \n",
       "3     0.000000  0.0   0.0         0.0           0.0   0.0             0.0   \n",
       "4     0.055283  0.0   0.0         0.0           0.0   0.0             0.0   \n",
       "...        ...  ...   ...         ...           ...   ...             ...   \n",
       "2252  0.000000  0.0   0.0         0.0           0.0   0.0             0.0   \n",
       "2253  0.000000  0.0   0.0         0.0           0.0   0.0             0.0   \n",
       "2254  0.000000  0.0   0.0         0.0           0.0   0.0             0.0   \n",
       "2255  0.000000  0.0   0.0         0.0           0.0   0.0             0.0   \n",
       "2256  0.000000  0.0   0.0         0.0           0.0   0.0             0.0   \n",
       "\n",
       "         00014  000406  0007  ...  zvi  zvonko    zwart  zyeh  zyklon  zyxel  \\\n",
       "0     0.000000     0.0   0.0  ...  0.0     0.0  0.00000   0.0     0.0    0.0   \n",
       "1     0.000000     0.0   0.0  ...  0.0     0.0  0.00000   0.0     0.0    0.0   \n",
       "2     0.000000     0.0   0.0  ...  0.0     0.0  0.00000   0.0     0.0    0.0   \n",
       "3     0.000000     0.0   0.0  ...  0.0     0.0  0.29521   0.0     0.0    0.0   \n",
       "4     0.000000     0.0   0.0  ...  0.0     0.0  0.00000   0.0     0.0    0.0   \n",
       "...        ...     ...   ...  ...  ...     ...      ...   ...     ...    ...   \n",
       "2252  0.095199     0.0   0.0  ...  0.0     0.0  0.00000   0.0     0.0    0.0   \n",
       "2253  0.000000     0.0   0.0  ...  0.0     0.0  0.00000   0.0     0.0    0.0   \n",
       "2254  0.000000     0.0   0.0  ...  0.0     0.0  0.00000   0.0     0.0    0.0   \n",
       "2255  0.000000     0.0   0.0  ...  0.0     0.0  0.00000   0.0     0.0    0.0   \n",
       "2256  0.000000     0.0   0.0  ...  0.0     0.0  0.00000   0.0     0.0    0.0   \n",
       "\n",
       "       zz  zzz   ªl  íålittin  \n",
       "0     0.0  0.0  0.0       0.0  \n",
       "1     0.0  0.0  0.0       0.0  \n",
       "2     0.0  0.0  0.0       0.0  \n",
       "3     0.0  0.0  0.0       0.0  \n",
       "4     0.0  0.0  0.0       0.0  \n",
       "...   ...  ...  ...       ...  \n",
       "2252  0.0  0.0  0.0       0.0  \n",
       "2253  0.0  0.0  0.0       0.0  \n",
       "2254  0.0  0.0  0.0       0.0  \n",
       "2255  0.0  0.0  0.0       0.0  \n",
       "2256  0.0  0.0  0.0       0.0  \n",
       "\n",
       "[2257 rows x 35788 columns]"
      ]
     },
     "execution_count": 45,
     "metadata": {},
     "output_type": "execute_result"
    }
   ],
   "source": [
    "import pandas as pd\n",
    "pd.DataFrame(X_train_dtm.toarray(), columns=vect.get_feature_names())"
   ]
  },
  {
   "cell_type": "code",
   "execution_count": 37,
   "metadata": {},
   "outputs": [
    {
     "data": {
      "text/plain": [
       "<5x5 sparse matrix of type '<class 'numpy.float64'>'\n",
       "\twith 5 stored elements in Compressed Sparse Row format>"
      ]
     },
     "execution_count": 37,
     "metadata": {},
     "output_type": "execute_result"
    }
   ],
   "source": [
    "X_test_dtm"
   ]
  },
  {
   "cell_type": "markdown",
   "metadata": {
    "colab_type": "text",
    "id": "tp_fDINJ1t4L"
   },
   "source": [
    "### 10. Use logisticRegression with tfidf features as input and targets as output and train the model and report the train and test accuracy score"
   ]
  },
  {
   "cell_type": "code",
   "execution_count": 28,
   "metadata": {
    "colab": {},
    "colab_type": "code",
    "id": "THlN2b5d1yQp"
   },
   "outputs": [],
   "source": [
    "from sklearn.linear_model import LogisticRegression\n",
    "logreg = LogisticRegression()"
   ]
  },
  {
   "cell_type": "code",
   "execution_count": 42,
   "metadata": {},
   "outputs": [
    {
     "data": {
      "text/plain": [
       "LogisticRegression(C=1.0, class_weight=None, dual=False, fit_intercept=True,\n",
       "                   intercept_scaling=1, l1_ratio=None, max_iter=100,\n",
       "                   multi_class='warn', n_jobs=None, penalty='l2',\n",
       "                   random_state=None, solver='warn', tol=0.0001, verbose=0,\n",
       "                   warm_start=False)"
      ]
     },
     "execution_count": 42,
     "metadata": {},
     "output_type": "execute_result"
    }
   ],
   "source": [
    "logreg.fit(X_train_dtm, twenty_train.target)"
   ]
  },
  {
   "cell_type": "code",
   "execution_count": 43,
   "metadata": {},
   "outputs": [],
   "source": [
    "y_pred = logreg.predict(X_test_dtm)"
   ]
  },
  {
   "cell_type": "code",
   "execution_count": 44,
   "metadata": {},
   "outputs": [
    {
     "data": {
      "text/plain": [
       "0.8868175765645806"
      ]
     },
     "execution_count": 44,
     "metadata": {},
     "output_type": "execute_result"
    }
   ],
   "source": [
    "from sklearn import metrics\n",
    "metrics.accuracy_score(twenty_test.target, y_pred)"
   ]
  },
  {
   "cell_type": "code",
   "execution_count": null,
   "metadata": {},
   "outputs": [],
   "source": []
  }
 ],
 "metadata": {
  "colab": {
   "collapsed_sections": [],
   "name": "R8_External_Lab_Questions.ipynb",
   "provenance": [],
   "version": "0.3.2"
  },
  "kernelspec": {
   "display_name": "Python 3",
   "language": "python",
   "name": "python3"
  },
  "language_info": {
   "codemirror_mode": {
    "name": "ipython",
    "version": 3
   },
   "file_extension": ".py",
   "mimetype": "text/x-python",
   "name": "python",
   "nbconvert_exporter": "python",
   "pygments_lexer": "ipython3",
   "version": "3.7.4"
  }
 },
 "nbformat": 4,
 "nbformat_minor": 1
}
