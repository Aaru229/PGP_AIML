{
 "cells": [
  {
   "cell_type": "markdown",
   "metadata": {},
   "source": [
    "## Recommendation system based on Popularity and Collobarative filtering methods."
   ]
  },
  {
   "cell_type": "code",
   "execution_count": 1,
   "metadata": {},
   "outputs": [],
   "source": [
    "import numpy as np\n",
    "import pandas as pd\n",
    "import matplotlib.pyplot as plt\n",
    "import seaborn as sns\n",
    "\n",
    "from surprise import Dataset,Reader\n",
    "from surprise import KNNWithMeans\n",
    "from surprise import accuracy\n",
    "from surprise.model_selection import train_test_split\n",
    "\n",
    "#ignore warnings\n",
    "import warnings\n",
    "warnings.filterwarnings('ignore')"
   ]
  },
  {
   "cell_type": "code",
   "execution_count": 2,
   "metadata": {},
   "outputs": [],
   "source": [
    "#Loading data\n",
    "ratings = pd.read_csv(\"ratings_Electronics.csv\")\n",
    "ratings.columns = ['userId', 'productId', 'ratings', 'timestamp']"
   ]
  },
  {
   "cell_type": "code",
   "execution_count": 3,
   "metadata": {},
   "outputs": [
    {
     "name": "stdout",
     "output_type": "stream",
     "text": [
      "<class 'pandas.core.frame.DataFrame'>\n",
      "RangeIndex: 7824481 entries, 0 to 7824480\n",
      "Data columns (total 4 columns):\n",
      "userId       object\n",
      "productId    object\n",
      "ratings      float64\n",
      "timestamp    int64\n",
      "dtypes: float64(1), int64(1), object(2)\n",
      "memory usage: 238.8+ MB\n"
     ]
    }
   ],
   "source": [
    "ratings.info()"
   ]
  },
  {
   "cell_type": "markdown",
   "metadata": {},
   "source": [
    "* There are a total of 7824481 numbers of records available and the file size is too large.\n",
    "* There are no null values of missing values as per the info function\n",
    "* There are two numeric and two non numeric columns. Of the two numeric columns one is timestamp which is ignored as per instructions\n",
    "* The ratings are from 1 to 5"
   ]
  },
  {
   "cell_type": "code",
   "execution_count": 4,
   "metadata": {},
   "outputs": [],
   "source": [
    "# Ignoring the timestamp column as per the current requirement\n",
    "ratings.drop('timestamp', axis=1, inplace=True)"
   ]
  },
  {
   "cell_type": "code",
   "execution_count": 5,
   "metadata": {},
   "outputs": [
    {
     "name": "stdout",
     "output_type": "stream",
     "text": [
      "<class 'pandas.core.frame.DataFrame'>\n",
      "RangeIndex: 7824481 entries, 0 to 7824480\n",
      "Data columns (total 3 columns):\n",
      "userId       object\n",
      "productId    object\n",
      "ratings      float64\n",
      "dtypes: float64(1), object(2)\n",
      "memory usage: 179.1+ MB\n"
     ]
    }
   ],
   "source": [
    "ratings.info()"
   ]
  },
  {
   "cell_type": "code",
   "execution_count": 6,
   "metadata": {},
   "outputs": [
    {
     "data": {
      "text/html": [
       "<div>\n",
       "<style scoped>\n",
       "    .dataframe tbody tr th:only-of-type {\n",
       "        vertical-align: middle;\n",
       "    }\n",
       "\n",
       "    .dataframe tbody tr th {\n",
       "        vertical-align: top;\n",
       "    }\n",
       "\n",
       "    .dataframe thead th {\n",
       "        text-align: right;\n",
       "    }\n",
       "</style>\n",
       "<table border=\"1\" class=\"dataframe\">\n",
       "  <thead>\n",
       "    <tr style=\"text-align: right;\">\n",
       "      <th></th>\n",
       "      <th>userId</th>\n",
       "      <th>productId</th>\n",
       "      <th>ratings</th>\n",
       "    </tr>\n",
       "  </thead>\n",
       "  <tbody>\n",
       "    <tr>\n",
       "      <th>6860572</th>\n",
       "      <td>A24BM3UT02WRPW</td>\n",
       "      <td>B00AANQLRI</td>\n",
       "      <td>5.0</td>\n",
       "    </tr>\n",
       "    <tr>\n",
       "      <th>2649864</th>\n",
       "      <td>ATI0922DE3HAN</td>\n",
       "      <td>B002JIEGWY</td>\n",
       "      <td>2.0</td>\n",
       "    </tr>\n",
       "    <tr>\n",
       "      <th>7374885</th>\n",
       "      <td>A2L12B46ANQVBK</td>\n",
       "      <td>B00D9KP70G</td>\n",
       "      <td>5.0</td>\n",
       "    </tr>\n",
       "    <tr>\n",
       "      <th>6542644</th>\n",
       "      <td>ARM6HQBVJDTXX</td>\n",
       "      <td>B0098Y77N2</td>\n",
       "      <td>5.0</td>\n",
       "    </tr>\n",
       "    <tr>\n",
       "      <th>6367356</th>\n",
       "      <td>AEHWV0P63GZR7</td>\n",
       "      <td>B008THTOKS</td>\n",
       "      <td>5.0</td>\n",
       "    </tr>\n",
       "    <tr>\n",
       "      <th>7075257</th>\n",
       "      <td>A3C3JN219NIQVS</td>\n",
       "      <td>B00BCHHZGW</td>\n",
       "      <td>5.0</td>\n",
       "    </tr>\n",
       "    <tr>\n",
       "      <th>172149</th>\n",
       "      <td>A2MOVLZ429BFLZ</td>\n",
       "      <td>B00006B820</td>\n",
       "      <td>3.0</td>\n",
       "    </tr>\n",
       "    <tr>\n",
       "      <th>2108599</th>\n",
       "      <td>A32ZVXVJFK94XS</td>\n",
       "      <td>B001KSJCVY</td>\n",
       "      <td>5.0</td>\n",
       "    </tr>\n",
       "    <tr>\n",
       "      <th>5167442</th>\n",
       "      <td>A18NGP0QR5MKM4</td>\n",
       "      <td>B005S0BYQ6</td>\n",
       "      <td>5.0</td>\n",
       "    </tr>\n",
       "    <tr>\n",
       "      <th>5384293</th>\n",
       "      <td>A2G7XM6LWR1A5D</td>\n",
       "      <td>B006GWO5WK</td>\n",
       "      <td>5.0</td>\n",
       "    </tr>\n",
       "  </tbody>\n",
       "</table>\n",
       "</div>"
      ],
      "text/plain": [
       "                 userId   productId  ratings\n",
       "6860572  A24BM3UT02WRPW  B00AANQLRI      5.0\n",
       "2649864   ATI0922DE3HAN  B002JIEGWY      2.0\n",
       "7374885  A2L12B46ANQVBK  B00D9KP70G      5.0\n",
       "6542644   ARM6HQBVJDTXX  B0098Y77N2      5.0\n",
       "6367356   AEHWV0P63GZR7  B008THTOKS      5.0\n",
       "7075257  A3C3JN219NIQVS  B00BCHHZGW      5.0\n",
       "172149   A2MOVLZ429BFLZ  B00006B820      3.0\n",
       "2108599  A32ZVXVJFK94XS  B001KSJCVY      5.0\n",
       "5167442  A18NGP0QR5MKM4  B005S0BYQ6      5.0\n",
       "5384293  A2G7XM6LWR1A5D  B006GWO5WK      5.0"
      ]
     },
     "execution_count": 6,
     "metadata": {},
     "output_type": "execute_result"
    }
   ],
   "source": [
    "ratings.sample(10)"
   ]
  },
  {
   "cell_type": "code",
   "execution_count": 7,
   "metadata": {},
   "outputs": [
    {
     "data": {
      "text/plain": [
       "userId       0\n",
       "productId    0\n",
       "ratings      0\n",
       "dtype: int64"
      ]
     },
     "execution_count": 7,
     "metadata": {},
     "output_type": "execute_result"
    }
   ],
   "source": [
    "# checking for missing values\n",
    "ratings.isna().sum()"
   ]
  },
  {
   "cell_type": "markdown",
   "metadata": {},
   "source": [
    "#### No missing values found"
   ]
  },
  {
   "cell_type": "code",
   "execution_count": 8,
   "metadata": {},
   "outputs": [
    {
     "data": {
      "text/plain": [
       "array([5., 1., 3., 2., 4.])"
      ]
     },
     "execution_count": 8,
     "metadata": {},
     "output_type": "execute_result"
    }
   ],
   "source": [
    "ratings['ratings'].unique()"
   ]
  },
  {
   "cell_type": "markdown",
   "metadata": {},
   "source": [
    "Ratings range from 1 to 5"
   ]
  },
  {
   "cell_type": "code",
   "execution_count": 9,
   "metadata": {},
   "outputs": [
    {
     "data": {
      "text/plain": [
       "<matplotlib.axes._subplots.AxesSubplot at 0x2433bf3fd68>"
      ]
     },
     "execution_count": 9,
     "metadata": {},
     "output_type": "execute_result"
    },
    {
     "data": {
      "image/png": "[encoded data removed]",
      "text/plain": [
       "<Figure size 432x288 with 1 Axes>"
      ]
     },
     "metadata": {
      "needs_background": "light"
     },
     "output_type": "display_data"
    }
   ],
   "source": [
    "sns.countplot(data=ratings , x='ratings')"
   ]
  },
  {
   "cell_type": "markdown",
   "metadata": {},
   "source": [
    "* More than half of the dataset have been highly rated\n"
   ]
  },
  {
   "cell_type": "code",
   "execution_count": 10,
   "metadata": {},
   "outputs": [
    {
     "data": {
      "text/plain": [
       "A5JLAU2ARJ0BO     520\n",
       "ADLVFFE4VBT8      501\n",
       "A3OXHLG6DIBRW8    498\n",
       "A6FIAB28IS79      431\n",
       "A680RUE1FDO8B     406\n",
       "A1ODOGXEYECQQ8    380\n",
       "A36K2N527TXXJN    314\n",
       "A2AY4YUOX2N1BQ    311\n",
       "AWPODHOB4GFWL     308\n",
       "A25C2M3QF9G7OQ    296\n",
       "ARBKYIVNYWK3C     296\n",
       "A22CW0ZHY3NJH8    292\n",
       "A3EXWV8FNSSFL6    282\n",
       "A38RMU1Y5TDP9     282\n",
       "A3LGT6UZL99IW1    279\n",
       "A2NOW4U7W3F7RI    277\n",
       "A23GFTVIETX7DS    270\n",
       "A3PD8JD9L4WEII    266\n",
       "A17BUUBOU0598B    261\n",
       "A3AYSYSLHU26U9    257\n",
       "A2XRMQA6PJ5ZJ8    253\n",
       "A231WM2Z2JL0U3    252\n",
       "A12DQZKRKTNF5E    252\n",
       "A1UQBFCERIP7VJ    247\n",
       "AGVWTYW0ULXHT     244\n",
       "A203OCQQ12MAVT    240\n",
       "AEJAGHLC675A7     239\n",
       "A2NYK9KWFMJV4Y    238\n",
       "A3A4ZAIBQWKOZS    236\n",
       "A3CW0ZLUO5X2B1    227\n",
       "                 ... \n",
       "A2ONQGY94YFHB6      1\n",
       "A2G0D1Z8D2NE14      1\n",
       "ADFZJ0YEZBY5J       1\n",
       "ARHH1EIOTQQGV       1\n",
       "A1076JYIVAYP3D      1\n",
       "A1LBKY4COT6Z9I      1\n",
       "A1RM9M92EHTCTJ      1\n",
       "A2MPV0TNE8QBYA      1\n",
       "A2YVUMOZUGONSP      1\n",
       "A1IZTAGVQP885O      1\n",
       "A83YUFEGJ9IHV       1\n",
       "A1H4GL7VSF5BNP      1\n",
       "A38N6UL2Y1L3QR      1\n",
       "A1SO4NNFQT4F1Q      1\n",
       "A360EBGKPUIKSY      1\n",
       "ARFZJG26JJNH9       1\n",
       "A32Y2GOAW9NHXT      1\n",
       "A3SZNGAQCPKOZ0      1\n",
       "A35FRZ3JN2FY9G      1\n",
       "A138EJVNU5PAJ3      1\n",
       "ARX9TQXKF8GES       1\n",
       "A3C97SG12WMA70      1\n",
       "A34JBFHXP72AHO      1\n",
       "A2UKHQQS9BAF1W      1\n",
       "AFWGQQANGO29P       1\n",
       "A18FES3QAR4ZKM      1\n",
       "A21YJG2JOO3U7S      1\n",
       "A3V4Q8MKADP47B      1\n",
       "A3I30DI6E0HSA6      1\n",
       "A1MTJDPQW0B9OZ      1\n",
       "Name: userId, Length: 4201696, dtype: int64"
      ]
     },
     "execution_count": 10,
     "metadata": {},
     "output_type": "execute_result"
    }
   ],
   "source": [
    "users_cnts = ratings['userId'].value_counts()\n",
    "users_cnts"
   ]
  },
  {
   "cell_type": "markdown",
   "metadata": {},
   "source": [
    "Maximum number of times an user has rated a product stands at 520 while the least stands at 1.\n",
    "Considering the users who have atleast rated 50 products and removing the other datas"
   ]
  },
  {
   "cell_type": "code",
   "execution_count": 11,
   "metadata": {},
   "outputs": [
    {
     "name": "stdout",
     "output_type": "stream",
     "text": [
      "<class 'pandas.core.frame.DataFrame'>\n",
      "Int64Index: 125871 entries, 93 to 7824443\n",
      "Data columns (total 3 columns):\n",
      "userId       125871 non-null object\n",
      "productId    125871 non-null object\n",
      "ratings      125871 non-null float64\n",
      "dtypes: float64(1), object(2)\n",
      "memory usage: 3.8+ MB\n"
     ]
    }
   ],
   "source": [
    "# considering only users who rated over 50 products\n",
    "ratings_data = ratings[ratings['userId'].map(ratings['userId'].value_counts()) > 49]\n",
    "ratings_data.info()"
   ]
  },
  {
   "cell_type": "markdown",
   "metadata": {},
   "source": []
  },
  {
   "cell_type": "markdown",
   "metadata": {},
   "source": [
    "## Collobarative filtering method"
   ]
  },
  {
   "cell_type": "markdown",
   "metadata": {},
   "source": [
    "Considering only 10 % of the data for building the model as the memory error occurs. "
   ]
  },
  {
   "cell_type": "code",
   "execution_count": 12,
   "metadata": {},
   "outputs": [],
   "source": [
    "# rating scale for 1 to 5\n",
    "reader = Reader(rating_scale=(1, 5))\n",
    "\n",
    "# considering 10 % of data due to memory error\n",
    "data_for_model = ratings_data.head(int(len(ratings_data)*(10/100)))\n",
    "\n",
    "# trainset.to_inner_iid('002542730X')`"
   ]
  },
  {
   "cell_type": "code",
   "execution_count": 13,
   "metadata": {},
   "outputs": [
    {
     "data": {
      "text/html": [
       "<div>\n",
       "<style scoped>\n",
       "    .dataframe tbody tr th:only-of-type {\n",
       "        vertical-align: middle;\n",
       "    }\n",
       "\n",
       "    .dataframe tbody tr th {\n",
       "        vertical-align: top;\n",
       "    }\n",
       "\n",
       "    .dataframe thead th {\n",
       "        text-align: right;\n",
       "    }\n",
       "</style>\n",
       "<table border=\"1\" class=\"dataframe\">\n",
       "  <thead>\n",
       "    <tr style=\"text-align: right;\">\n",
       "      <th></th>\n",
       "      <th>userId</th>\n",
       "      <th>productId</th>\n",
       "      <th>ratings</th>\n",
       "    </tr>\n",
       "  </thead>\n",
       "  <tbody>\n",
       "    <tr>\n",
       "      <th>174132</th>\n",
       "      <td>A3GX0FAMEXV6FB</td>\n",
       "      <td>B00006B92A</td>\n",
       "      <td>3.0</td>\n",
       "    </tr>\n",
       "    <tr>\n",
       "      <th>316347</th>\n",
       "      <td>A2N75ADJSRW0AH</td>\n",
       "      <td>B0000AG92S</td>\n",
       "      <td>4.0</td>\n",
       "    </tr>\n",
       "    <tr>\n",
       "      <th>113935</th>\n",
       "      <td>A1PN2U0AWXGVML</td>\n",
       "      <td>B00005OUJW</td>\n",
       "      <td>4.0</td>\n",
       "    </tr>\n",
       "    <tr>\n",
       "      <th>533854</th>\n",
       "      <td>A2L42QEWR77PKZ</td>\n",
       "      <td>B00061UISM</td>\n",
       "      <td>5.0</td>\n",
       "    </tr>\n",
       "    <tr>\n",
       "      <th>17324</th>\n",
       "      <td>A1522TN5FVJL0Y</td>\n",
       "      <td>B00000JMUC</td>\n",
       "      <td>5.0</td>\n",
       "    </tr>\n",
       "    <tr>\n",
       "      <th>50580</th>\n",
       "      <td>A2BGZ52M908MJY</td>\n",
       "      <td>B00004TLP9</td>\n",
       "      <td>4.0</td>\n",
       "    </tr>\n",
       "    <tr>\n",
       "      <th>273403</th>\n",
       "      <td>A1KD8NJPZ01R37</td>\n",
       "      <td>B000099679</td>\n",
       "      <td>1.0</td>\n",
       "    </tr>\n",
       "    <tr>\n",
       "      <th>269449</th>\n",
       "      <td>A2ME89MSWVG9NF</td>\n",
       "      <td>B000094ADV</td>\n",
       "      <td>4.0</td>\n",
       "    </tr>\n",
       "    <tr>\n",
       "      <th>328619</th>\n",
       "      <td>A2PC9ZZIFV31B1</td>\n",
       "      <td>B0000BYDKO</td>\n",
       "      <td>3.0</td>\n",
       "    </tr>\n",
       "    <tr>\n",
       "      <th>550180</th>\n",
       "      <td>A2Y3WWPUKIJ59I</td>\n",
       "      <td>B00066IJPQ</td>\n",
       "      <td>1.0</td>\n",
       "    </tr>\n",
       "  </tbody>\n",
       "</table>\n",
       "</div>"
      ],
      "text/plain": [
       "                userId   productId  ratings\n",
       "174132  A3GX0FAMEXV6FB  B00006B92A      3.0\n",
       "316347  A2N75ADJSRW0AH  B0000AG92S      4.0\n",
       "113935  A1PN2U0AWXGVML  B00005OUJW      4.0\n",
       "533854  A2L42QEWR77PKZ  B00061UISM      5.0\n",
       "17324   A1522TN5FVJL0Y  B00000JMUC      5.0\n",
       "50580   A2BGZ52M908MJY  B00004TLP9      4.0\n",
       "273403  A1KD8NJPZ01R37  B000099679      1.0\n",
       "269449  A2ME89MSWVG9NF  B000094ADV      4.0\n",
       "328619  A2PC9ZZIFV31B1  B0000BYDKO      3.0\n",
       "550180  A2Y3WWPUKIJ59I  B00066IJPQ      1.0"
      ]
     },
     "execution_count": 13,
     "metadata": {},
     "output_type": "execute_result"
    }
   ],
   "source": [
    "data_for_model.sample(10)"
   ]
  },
  {
   "cell_type": "code",
   "execution_count": 14,
   "metadata": {},
   "outputs": [],
   "source": [
    "data = Dataset.load_from_df(data_for_model[['userId', 'productId', 'ratings']], reader,)\n",
    "\n",
    "trainset, testset = train_test_split(data, test_size=.3,random_state=7)"
   ]
  },
  {
   "cell_type": "code",
   "execution_count": 15,
   "metadata": {},
   "outputs": [
    {
     "name": "stdout",
     "output_type": "stream",
     "text": [
      "Computing the cosine similarity matrix...\n",
      "Done computing similarity matrix.\n"
     ]
    },
    {
     "data": {
      "text/plain": [
       "<surprise.prediction_algorithms.knns.KNNWithMeans at 0x2430bbad1d0>"
      ]
     },
     "execution_count": 15,
     "metadata": {},
     "output_type": "execute_result"
    }
   ],
   "source": [
    "algo = KNNWithMeans(k=50, sim_options={'name': 'cosine', 'user_based': False})\n",
    "algo.fit(trainset)"
   ]
  },
  {
   "cell_type": "code",
   "execution_count": 16,
   "metadata": {},
   "outputs": [],
   "source": [
    "res = algo.get_neighbors(trainset.to_inner_iid('B00006HQV5'), k=5)"
   ]
  },
  {
   "cell_type": "code",
   "execution_count": 17,
   "metadata": {},
   "outputs": [
    {
     "data": {
      "text/plain": [
       "[385, 1237, 1376, 3057, 3842]"
      ]
     },
     "execution_count": 17,
     "metadata": {},
     "output_type": "execute_result"
    }
   ],
   "source": [
    "res"
   ]
  },
  {
   "cell_type": "code",
   "execution_count": 18,
   "metadata": {},
   "outputs": [
    {
     "data": {
      "text/plain": [
       "['B0000AZK4G', 'B0000932KS', 'B00009XSYV', 'B000067TNE', 'B000234SSU']"
      ]
     },
     "execution_count": 18,
     "metadata": {},
     "output_type": "execute_result"
    }
   ],
   "source": [
    "[trainset.to_raw_iid(v) for v in res]"
   ]
  },
  {
   "cell_type": "code",
   "execution_count": 19,
   "metadata": {},
   "outputs": [],
   "source": [
    "test_pred = algo.test(testset)"
   ]
  },
  {
   "cell_type": "code",
   "execution_count": 20,
   "metadata": {},
   "outputs": [
    {
     "name": "stdout",
     "output_type": "stream",
     "text": [
      "RMSE: 1.2249\n"
     ]
    },
    {
     "data": {
      "text/plain": [
       "1.2248763135235685"
      ]
     },
     "execution_count": 20,
     "metadata": {},
     "output_type": "execute_result"
    }
   ],
   "source": [
    "accuracy.rmse(test_pred)"
   ]
  },
  {
   "cell_type": "markdown",
   "metadata": {},
   "source": [
    "__Popularity based recommendation system__"
   ]
  },
  {
   "cell_type": "code",
   "execution_count": 21,
   "metadata": {},
   "outputs": [
    {
     "data": {
      "text/plain": [
       "productId\n",
       "0594451647    5.000000\n",
       "0594481813    3.000000\n",
       "0970407998    2.500000\n",
       "0972683275    4.750000\n",
       "1400501466    3.333333\n",
       "Name: ratings, dtype: float64"
      ]
     },
     "execution_count": 21,
     "metadata": {},
     "output_type": "execute_result"
    }
   ],
   "source": [
    "ratings_data.groupby('productId')['ratings'].mean().head()"
   ]
  },
  {
   "cell_type": "code",
   "execution_count": 22,
   "metadata": {},
   "outputs": [
    {
     "data": {
      "text/plain": [
       "productId\n",
       "B00LKG1MC8    5.0\n",
       "B002QUZM3M    5.0\n",
       "B002QWNZHU    5.0\n",
       "B002QXZPFE    5.0\n",
       "B002R0DWNS    5.0\n",
       "Name: ratings, dtype: float64"
      ]
     },
     "execution_count": 22,
     "metadata": {},
     "output_type": "execute_result"
    }
   ],
   "source": [
    "ratings_data.groupby('productId')['ratings'].mean().sort_values(ascending=False).head() "
   ]
  },
  {
   "cell_type": "code",
   "execution_count": 23,
   "metadata": {},
   "outputs": [
    {
     "data": {
      "text/plain": [
       "productId\n",
       "B0088CJT4U    206\n",
       "B003ES5ZUU    184\n",
       "B000N99BBC    167\n",
       "B007WTAJTO    164\n",
       "B00829TIEK    149\n",
       "Name: ratings, dtype: int64"
      ]
     },
     "execution_count": 23,
     "metadata": {},
     "output_type": "execute_result"
    }
   ],
   "source": [
    "ratings_data.groupby('productId')['ratings'].count().sort_values(ascending=False).head()  "
   ]
  },
  {
   "cell_type": "code",
   "execution_count": 24,
   "metadata": {},
   "outputs": [],
   "source": [
    "ratings_mean_count = pd.DataFrame(ratings_data.groupby('productId')['ratings'].mean()) "
   ]
  },
  {
   "cell_type": "code",
   "execution_count": 25,
   "metadata": {},
   "outputs": [],
   "source": [
    "ratings_mean_count['rating_counts'] = pd.DataFrame(ratings_data.groupby('productId')['ratings'].count()) "
   ]
  },
  {
   "cell_type": "code",
   "execution_count": 26,
   "metadata": {},
   "outputs": [
    {
     "data": {
      "text/html": [
       "<div>\n",
       "<style scoped>\n",
       "    .dataframe tbody tr th:only-of-type {\n",
       "        vertical-align: middle;\n",
       "    }\n",
       "\n",
       "    .dataframe tbody tr th {\n",
       "        vertical-align: top;\n",
       "    }\n",
       "\n",
       "    .dataframe thead th {\n",
       "        text-align: right;\n",
       "    }\n",
       "</style>\n",
       "<table border=\"1\" class=\"dataframe\">\n",
       "  <thead>\n",
       "    <tr style=\"text-align: right;\">\n",
       "      <th></th>\n",
       "      <th>ratings</th>\n",
       "      <th>rating_counts</th>\n",
       "    </tr>\n",
       "    <tr>\n",
       "      <th>productId</th>\n",
       "      <th></th>\n",
       "      <th></th>\n",
       "    </tr>\n",
       "  </thead>\n",
       "  <tbody>\n",
       "    <tr>\n",
       "      <th>0594451647</th>\n",
       "      <td>5.000000</td>\n",
       "      <td>1</td>\n",
       "    </tr>\n",
       "    <tr>\n",
       "      <th>0594481813</th>\n",
       "      <td>3.000000</td>\n",
       "      <td>1</td>\n",
       "    </tr>\n",
       "    <tr>\n",
       "      <th>0970407998</th>\n",
       "      <td>2.500000</td>\n",
       "      <td>2</td>\n",
       "    </tr>\n",
       "    <tr>\n",
       "      <th>0972683275</th>\n",
       "      <td>4.750000</td>\n",
       "      <td>4</td>\n",
       "    </tr>\n",
       "    <tr>\n",
       "      <th>1400501466</th>\n",
       "      <td>3.333333</td>\n",
       "      <td>6</td>\n",
       "    </tr>\n",
       "  </tbody>\n",
       "</table>\n",
       "</div>"
      ],
      "text/plain": [
       "             ratings  rating_counts\n",
       "productId                          \n",
       "0594451647  5.000000              1\n",
       "0594481813  3.000000              1\n",
       "0970407998  2.500000              2\n",
       "0972683275  4.750000              4\n",
       "1400501466  3.333333              6"
      ]
     },
     "execution_count": 26,
     "metadata": {},
     "output_type": "execute_result"
    }
   ],
   "source": [
    "ratings_mean_count.head()"
   ]
  },
  {
   "cell_type": "markdown",
   "metadata": {},
   "source": []
  }
 ],
 "metadata": {
  "kernelspec": {
   "display_name": "Python 3",
   "language": "python",
   "name": "python3"
  },
  "language_info": {
   "codemirror_mode": {
    "name": "ipython",
    "version": 3
   },
   "file_extension": ".py",
   "mimetype": "text/x-python",
   "name": "python",
   "nbconvert_exporter": "python",
   "pygments_lexer": "ipython3",
   "version": "3.7.3"
  }
 },
 "nbformat": 4,
 "nbformat_minor": 2
}
