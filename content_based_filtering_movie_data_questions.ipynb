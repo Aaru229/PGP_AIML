{
 "cells": [
  {
   "cell_type": "markdown",
   "metadata": {
    "colab_type": "text",
    "id": "qYJahSqlqwWe"
   },
   "source": [
    "### Content Based Recommendation System"
   ]
  },
  {
   "cell_type": "code",
   "execution_count": 1,
   "metadata": {},
   "outputs": [],
   "source": [
    "import pandas as pd\n",
    "import numpy as np\n",
    "from sklearn.feature_extraction.text import TfidfVectorizer\n",
    "from sklearn.metrics.pairwise import cosine_similarity\n",
    "\n",
    "import warnings\n",
    "warnings.simplefilter('ignore')"
   ]
  },
  {
   "cell_type": "markdown",
   "metadata": {
    "colab_type": "text",
    "id": "XEsPLJ0rqwWh"
   },
   "source": [
    "### Read the Dataset `movies_metadata.csv`"
   ]
  },
  {
   "cell_type": "code",
   "execution_count": 2,
   "metadata": {
    "colab": {},
    "colab_type": "code",
    "id": "lvcFnBRpqwWj"
   },
   "outputs": [
    {
     "name": "stdout",
     "output_type": "stream",
     "text": [
      "<class 'pandas.core.frame.DataFrame'>\n",
      "RangeIndex: 45466 entries, 0 to 45465\n",
      "Data columns (total 24 columns):\n",
      "adult                    45466 non-null object\n",
      "belongs_to_collection    4494 non-null object\n",
      "budget                   45466 non-null object\n",
      "genres                   45466 non-null object\n",
      "homepage                 7782 non-null object\n",
      "id                       45466 non-null object\n",
      "imdb_id                  45449 non-null object\n",
      "original_language        45455 non-null object\n",
      "original_title           45466 non-null object\n",
      "overview                 44512 non-null object\n",
      "popularity               45461 non-null object\n",
      "poster_path              45080 non-null object\n",
      "production_companies     45463 non-null object\n",
      "production_countries     45463 non-null object\n",
      "release_date             45379 non-null object\n",
      "revenue                  45460 non-null float64\n",
      "runtime                  45203 non-null float64\n",
      "spoken_languages         45460 non-null object\n",
      "status                   45379 non-null object\n",
      "tagline                  20412 non-null object\n",
      "title                    45460 non-null object\n",
      "video                    45460 non-null object\n",
      "vote_average             45460 non-null float64\n",
      "vote_count               45460 non-null float64\n",
      "dtypes: float64(4), object(20)\n",
      "memory usage: 8.3+ MB\n"
     ]
    }
   ],
   "source": [
    "mvs = pd.read_csv('movies_metadata.csv')\n",
    "mvs.info()"
   ]
  },
  {
   "cell_type": "markdown",
   "metadata": {},
   "source": [
    "## Inferences from the Information of the DF\n",
    "* Rows - 45466\n",
    "* Columns - 24\n",
    "* Missing values are present in almost all the columns with the lease amount of information present in the homepage column\n",
    "* Except revenue, runtime, vote_average, vote_count all the other columns are non numerical data types"
   ]
  },
  {
   "cell_type": "code",
   "execution_count": 3,
   "metadata": {},
   "outputs": [
    {
     "data": {
      "text/html": [
       "<div>\n",
       "<style scoped>\n",
       "    .dataframe tbody tr th:only-of-type {\n",
       "        vertical-align: middle;\n",
       "    }\n",
       "\n",
       "    .dataframe tbody tr th {\n",
       "        vertical-align: top;\n",
       "    }\n",
       "\n",
       "    .dataframe thead th {\n",
       "        text-align: right;\n",
       "    }\n",
       "</style>\n",
       "<table border=\"1\" class=\"dataframe\">\n",
       "  <thead>\n",
       "    <tr style=\"text-align: right;\">\n",
       "      <th></th>\n",
       "      <th>revenue</th>\n",
       "      <th>runtime</th>\n",
       "      <th>vote_average</th>\n",
       "      <th>vote_count</th>\n",
       "    </tr>\n",
       "  </thead>\n",
       "  <tbody>\n",
       "    <tr>\n",
       "      <th>count</th>\n",
       "      <td>4.546000e+04</td>\n",
       "      <td>45203.000000</td>\n",
       "      <td>45460.000000</td>\n",
       "      <td>45460.000000</td>\n",
       "    </tr>\n",
       "    <tr>\n",
       "      <th>mean</th>\n",
       "      <td>1.120935e+07</td>\n",
       "      <td>94.128199</td>\n",
       "      <td>5.618207</td>\n",
       "      <td>109.897338</td>\n",
       "    </tr>\n",
       "    <tr>\n",
       "      <th>std</th>\n",
       "      <td>6.433225e+07</td>\n",
       "      <td>38.407810</td>\n",
       "      <td>1.924216</td>\n",
       "      <td>491.310374</td>\n",
       "    </tr>\n",
       "    <tr>\n",
       "      <th>min</th>\n",
       "      <td>0.000000e+00</td>\n",
       "      <td>0.000000</td>\n",
       "      <td>0.000000</td>\n",
       "      <td>0.000000</td>\n",
       "    </tr>\n",
       "    <tr>\n",
       "      <th>25%</th>\n",
       "      <td>0.000000e+00</td>\n",
       "      <td>85.000000</td>\n",
       "      <td>5.000000</td>\n",
       "      <td>3.000000</td>\n",
       "    </tr>\n",
       "    <tr>\n",
       "      <th>50%</th>\n",
       "      <td>0.000000e+00</td>\n",
       "      <td>95.000000</td>\n",
       "      <td>6.000000</td>\n",
       "      <td>10.000000</td>\n",
       "    </tr>\n",
       "    <tr>\n",
       "      <th>75%</th>\n",
       "      <td>0.000000e+00</td>\n",
       "      <td>107.000000</td>\n",
       "      <td>6.800000</td>\n",
       "      <td>34.000000</td>\n",
       "    </tr>\n",
       "    <tr>\n",
       "      <th>max</th>\n",
       "      <td>2.787965e+09</td>\n",
       "      <td>1256.000000</td>\n",
       "      <td>10.000000</td>\n",
       "      <td>14075.000000</td>\n",
       "    </tr>\n",
       "  </tbody>\n",
       "</table>\n",
       "</div>"
      ],
      "text/plain": [
       "            revenue       runtime  vote_average    vote_count\n",
       "count  4.546000e+04  45203.000000  45460.000000  45460.000000\n",
       "mean   1.120935e+07     94.128199      5.618207    109.897338\n",
       "std    6.433225e+07     38.407810      1.924216    491.310374\n",
       "min    0.000000e+00      0.000000      0.000000      0.000000\n",
       "25%    0.000000e+00     85.000000      5.000000      3.000000\n",
       "50%    0.000000e+00     95.000000      6.000000     10.000000\n",
       "75%    0.000000e+00    107.000000      6.800000     34.000000\n",
       "max    2.787965e+09   1256.000000     10.000000  14075.000000"
      ]
     },
     "execution_count": 3,
     "metadata": {},
     "output_type": "execute_result"
    }
   ],
   "source": [
    "mvs.describe()"
   ]
  },
  {
   "cell_type": "markdown",
   "metadata": {},
   "source": [
    "## Inferences from the Describe function of DF"
   ]
  },
  {
   "cell_type": "markdown",
   "metadata": {
    "colab_type": "text",
    "id": "56GOCzwgqwWx"
   },
   "source": [
    "### Create a new column with name 'description' combining `'overview' and 'tagline'` columns in the given dataset"
   ]
  },
  {
   "cell_type": "markdown",
   "metadata": {},
   "source": [
    "from the info it is visible that the Tagline column has almost half of the values as null values\n",
    "Overview column has close to 1000 values as null values.."
   ]
  },
  {
   "cell_type": "code",
   "execution_count": 4,
   "metadata": {
    "colab": {},
    "colab_type": "code",
    "id": "pS1RajgzqwWz"
   },
   "outputs": [],
   "source": [
    "# mvs['tagline'].fillna('')\n",
    "mvs['description'] = mvs['overview'] + mvs['tagline']"
   ]
  },
  {
   "cell_type": "code",
   "execution_count": 5,
   "metadata": {},
   "outputs": [
    {
     "name": "stdout",
     "output_type": "stream",
     "text": [
      "<class 'pandas.core.frame.DataFrame'>\n",
      "RangeIndex: 45466 entries, 0 to 45465\n",
      "Data columns (total 25 columns):\n",
      "adult                    45466 non-null object\n",
      "belongs_to_collection    4494 non-null object\n",
      "budget                   45466 non-null object\n",
      "genres                   45466 non-null object\n",
      "homepage                 7782 non-null object\n",
      "id                       45466 non-null object\n",
      "imdb_id                  45449 non-null object\n",
      "original_language        45455 non-null object\n",
      "original_title           45466 non-null object\n",
      "overview                 44512 non-null object\n",
      "popularity               45461 non-null object\n",
      "poster_path              45080 non-null object\n",
      "production_companies     45463 non-null object\n",
      "production_countries     45463 non-null object\n",
      "release_date             45379 non-null object\n",
      "revenue                  45460 non-null float64\n",
      "runtime                  45203 non-null float64\n",
      "spoken_languages         45460 non-null object\n",
      "status                   45379 non-null object\n",
      "tagline                  20412 non-null object\n",
      "title                    45460 non-null object\n",
      "video                    45460 non-null object\n",
      "vote_average             45460 non-null float64\n",
      "vote_count               45460 non-null float64\n",
      "description              20404 non-null object\n",
      "dtypes: float64(4), object(21)\n",
      "memory usage: 8.7+ MB\n"
     ]
    }
   ],
   "source": [
    "mvs.info()"
   ]
  },
  {
   "cell_type": "markdown",
   "metadata": {
    "colab_type": "text",
    "id": "8HkHsif8qwW6"
   },
   "source": [
    "### Lets drop the null values in `description` column"
   ]
  },
  {
   "cell_type": "code",
   "execution_count": 6,
   "metadata": {},
   "outputs": [
    {
     "data": {
      "text/plain": [
       "adult                        0\n",
       "belongs_to_collection    40972\n",
       "budget                       0\n",
       "genres                       0\n",
       "homepage                 37684\n",
       "id                           0\n",
       "imdb_id                     17\n",
       "original_language           11\n",
       "original_title               0\n",
       "overview                   954\n",
       "popularity                   5\n",
       "poster_path                386\n",
       "production_companies         3\n",
       "production_countries         3\n",
       "release_date                87\n",
       "revenue                      6\n",
       "runtime                    263\n",
       "spoken_languages             6\n",
       "status                      87\n",
       "tagline                  25054\n",
       "title                        6\n",
       "video                        6\n",
       "vote_average                 6\n",
       "vote_count                   6\n",
       "description              25062\n",
       "dtype: int64"
      ]
     },
     "execution_count": 6,
     "metadata": {},
     "output_type": "execute_result"
    }
   ],
   "source": [
    "mvs.isna().sum()"
   ]
  },
  {
   "cell_type": "code",
   "execution_count": 7,
   "metadata": {
    "colab": {},
    "colab_type": "code",
    "id": "OJKM-j_SqwW9"
   },
   "outputs": [],
   "source": [
    "mvs.dropna(subset=['description'], inplace=True)"
   ]
  },
  {
   "cell_type": "code",
   "execution_count": 8,
   "metadata": {},
   "outputs": [
    {
     "name": "stdout",
     "output_type": "stream",
     "text": [
      "<class 'pandas.core.frame.DataFrame'>\n",
      "Int64Index: 20404 entries, 1 to 45463\n",
      "Data columns (total 25 columns):\n",
      "adult                    20404 non-null object\n",
      "belongs_to_collection    2572 non-null object\n",
      "budget                   20404 non-null object\n",
      "genres                   20404 non-null object\n",
      "homepage                 4410 non-null object\n",
      "id                       20404 non-null object\n",
      "imdb_id                  20400 non-null object\n",
      "original_language        20404 non-null object\n",
      "original_title           20404 non-null object\n",
      "overview                 20404 non-null object\n",
      "popularity               20404 non-null object\n",
      "poster_path              20389 non-null object\n",
      "production_companies     20404 non-null object\n",
      "production_countries     20404 non-null object\n",
      "release_date             20390 non-null object\n",
      "revenue                  20404 non-null float64\n",
      "runtime                  20404 non-null float64\n",
      "spoken_languages         20404 non-null object\n",
      "status                   20390 non-null object\n",
      "tagline                  20404 non-null object\n",
      "title                    20404 non-null object\n",
      "video                    20404 non-null object\n",
      "vote_average             20404 non-null float64\n",
      "vote_count               20404 non-null float64\n",
      "description              20404 non-null object\n",
      "dtypes: float64(4), object(21)\n",
      "memory usage: 4.0+ MB\n"
     ]
    }
   ],
   "source": [
    "mvs.info()"
   ]
  },
  {
   "cell_type": "markdown",
   "metadata": {
    "colab_type": "text",
    "id": "tXhrhwoaqwXC"
   },
   "source": [
    "### Keep the first occurance and drop duplicates of each title in column `title`"
   ]
  },
  {
   "cell_type": "code",
   "execution_count": 9,
   "metadata": {
    "colab": {},
    "colab_type": "code",
    "id": "f8K-otuYqwXD"
   },
   "outputs": [],
   "source": [
    "mvs['title'].drop_duplicates(inplace=True)"
   ]
  },
  {
   "cell_type": "code",
   "execution_count": 10,
   "metadata": {},
   "outputs": [
    {
     "data": {
      "text/plain": [
       "(20404, 25)"
      ]
     },
     "execution_count": 10,
     "metadata": {},
     "output_type": "execute_result"
    }
   ],
   "source": [
    "mvs.shape"
   ]
  },
  {
   "cell_type": "markdown",
   "metadata": {
    "colab_type": "text",
    "id": "f1n3Sl4fqwXJ"
   },
   "source": [
    "### As we might have dropped a few rows with duplicate `title` in above step, just reset the index [make sure you are not adding any new column to the dataframe while doing reset index]"
   ]
  },
  {
   "cell_type": "code",
   "execution_count": 11,
   "metadata": {
    "colab": {},
    "colab_type": "code",
    "id": "CE5xfXt9qwXL"
   },
   "outputs": [],
   "source": [
    "mvs.reset_index(inplace=True)"
   ]
  },
  {
   "cell_type": "markdown",
   "metadata": {
    "colab_type": "text",
    "id": "pihbAI1UqwXP"
   },
   "source": [
    "### Generate tf-idf matrix using the column `description`. Consider till 3-grams, with minimum document frequency as 0."
   ]
  },
  {
   "cell_type": "code",
   "execution_count": 12,
   "metadata": {
    "colab": {},
    "colab_type": "code",
    "id": "CC8rJxwAqwXQ"
   },
   "outputs": [],
   "source": [
    "tfidf_vect = TfidfVectorizer(analyzer='word', ngram_range=(1, 3), min_df=0, stop_words='english')\n",
    "tfidf_matrix = tfidf_vect.fit_transform(mvs['description'])"
   ]
  },
  {
   "cell_type": "code",
   "execution_count": 13,
   "metadata": {},
   "outputs": [
    {
     "data": {
      "text/plain": [
       "(20404, 1198573)"
      ]
     },
     "execution_count": 13,
     "metadata": {},
     "output_type": "execute_result"
    }
   ],
   "source": [
    "tfidf_matrix.shape"
   ]
  },
  {
   "cell_type": "markdown",
   "metadata": {
    "colab_type": "text",
    "id": "H1UT-M3KqwXY"
   },
   "source": [
    "### create cosine similarity matrix"
   ]
  },
  {
   "cell_type": "code",
   "execution_count": 14,
   "metadata": {
    "colab": {},
    "colab_type": "code",
    "id": "cnUwk3g2qwXc"
   },
   "outputs": [],
   "source": [
    "cos_sim_matrix = cosine_similarity(tfidf_matrix)"
   ]
  },
  {
   "cell_type": "code",
   "execution_count": 15,
   "metadata": {},
   "outputs": [
    {
     "data": {
      "text/plain": [
       "array([[1.        , 0.00842055, 0.        , ..., 0.00183679, 0.        ,\n",
       "        0.01214359],\n",
       "       [0.00842055, 1.        , 0.        , ..., 0.        , 0.        ,\n",
       "        0.        ],\n",
       "       [0.        , 0.        , 1.        , ..., 0.        , 0.00405881,\n",
       "        0.        ],\n",
       "       ...,\n",
       "       [0.00183679, 0.        , 0.        , ..., 1.        , 0.        ,\n",
       "        0.        ],\n",
       "       [0.        , 0.        , 0.00405881, ..., 0.        , 1.        ,\n",
       "        0.        ],\n",
       "       [0.01214359, 0.        , 0.        , ..., 0.        , 0.        ,\n",
       "        1.        ]])"
      ]
     },
     "execution_count": 15,
     "metadata": {},
     "output_type": "execute_result"
    }
   ],
   "source": [
    "cos_sim_matrix"
   ]
  },
  {
   "cell_type": "code",
   "execution_count": 16,
   "metadata": {},
   "outputs": [
    {
     "data": {
      "text/plain": [
       "(20404, 20404)"
      ]
     },
     "execution_count": 16,
     "metadata": {},
     "output_type": "execute_result"
    }
   ],
   "source": [
    "cos_sim_matrix.shape"
   ]
  },
  {
   "cell_type": "markdown",
   "metadata": {
    "colab_type": "text",
    "id": "NhQ67SDMqwXu"
   },
   "source": [
    "### Write a function with name `recommend` which takes `title` as argument and returns a list of 10 recommended title names in the output based on the above cosine similarities"
   ]
  },
  {
   "cell_type": "code",
   "execution_count": 17,
   "metadata": {},
   "outputs": [
    {
     "data": {
      "text/plain": [
       "RangeIndex(start=0, stop=20404, step=1)"
      ]
     },
     "execution_count": 17,
     "metadata": {},
     "output_type": "execute_result"
    }
   ],
   "source": [
    "mvs.index"
   ]
  },
  {
   "cell_type": "code",
   "execution_count": 18,
   "metadata": {},
   "outputs": [
    {
     "data": {
      "text/plain": [
       "0                                              Jumanji\n",
       "1                                     Grumpier Old Men\n",
       "2                                    Waiting to Exhale\n",
       "3                          Father of the Bride Part II\n",
       "4                                                 Heat\n",
       "5                                              Sabrina\n",
       "6                                         Tom and Huck\n",
       "7                                         Sudden Death\n",
       "8                                            GoldenEye\n",
       "9                               The American President\n",
       "10                                               Balto\n",
       "11                                               Nixon\n",
       "12                                    Cutthroat Island\n",
       "13                                              Casino\n",
       "14                               Sense and Sensibility\n",
       "15                                          Four Rooms\n",
       "16                      Ace Ventura: When Nature Calls\n",
       "17                                         Money Train\n",
       "18                                          Get Shorty\n",
       "19                                             Copycat\n",
       "20                                           Assassins\n",
       "21                                              Powder\n",
       "22                                   Leaving Las Vegas\n",
       "23                                             Othello\n",
       "24                                        Now and Then\n",
       "25                           The City of Lost Children\n",
       "26                                      Shanghai Triad\n",
       "27                                     Dangerous Minds\n",
       "28                                      Twelve Monkeys\n",
       "29                                                Babe\n",
       "                             ...                      \n",
       "20374                                   The Witchmaker\n",
       "20375                                 Carry On Camping\n",
       "20376                 The Return of Captain Invincible\n",
       "20377                                 She Fought Alone\n",
       "20378                                Dawn of the Mummy\n",
       "20379                                The Pope Must Die\n",
       "20380                                 Treasure Raiders\n",
       "20381                                          Take Me\n",
       "20382                                        Phillauri\n",
       "20383                     The Incredible Jessica James\n",
       "20384                          It Stains the Sands Red\n",
       "20385                                     Bloodletting\n",
       "20386                                   Dead Daughters\n",
       "20387                      Cop and a Half: New Recruit\n",
       "20388                                   Arabian Nights\n",
       "20389    The Fortunes and Misfortunes of Moll Flanders\n",
       "20390                        An American Vampire Story\n",
       "20391                                      Fit to Kill\n",
       "20392                                     TechnoCalyps\n",
       "20393                                  The Final Storm\n",
       "20394                                   In a Heartbeat\n",
       "20395                           Blood, Sweat and Tears\n",
       "20396                                     Jungle Woman\n",
       "20397                                      Cadet Kelly\n",
       "20398                 Pooh's Heffalump Halloween Movie\n",
       "20399                                The Morning After\n",
       "20400                                 House of Horrors\n",
       "20401                              The Burkittsville 7\n",
       "20402                                           Subdue\n",
       "20403                                         Betrayal\n",
       "Name: title, Length: 20404, dtype: object"
      ]
     },
     "execution_count": 18,
     "metadata": {},
     "output_type": "execute_result"
    }
   ],
   "source": [
    "mvs.title"
   ]
  },
  {
   "cell_type": "code",
   "execution_count": 22,
   "metadata": {
    "colab": {},
    "colab_type": "code",
    "id": "MVBDntGlqwXw"
   },
   "outputs": [],
   "source": [
    "def recommend(title, top_n = 10):\n",
    "    title_id = (mvs.loc[mvs['title']==title].index)[0]\n",
    "    features = tfidf_vect.get_feature_names()\n",
    "\n",
    "    top_n_idx = np.flip(np.argsort(cos_sim_matrix[title_id,]),axis=0)[1:(top_n + 1)]\n",
    "    top_n_sim_values = cos_sim_matrix[title_id, top_n_idx]\n",
    "    \n",
    "    # find top n with values > 0\n",
    "    top_n_idx = top_n_idx[top_n_sim_values > 0]\n",
    "    scores = top_n_sim_values[top_n_sim_values > 0]\n",
    "    \n",
    "    \n",
    "    # find features from the vectorized matrix\n",
    "    sim_movies_idx = mvs['title'].iloc[top_n_idx].index\n",
    "    words = []\n",
    "    for movie_idx in sim_movies_idx:\n",
    "        try:\n",
    "            idx = np.where(np.squeeze(tfidf_matrix[movie_idx,].toarray()) > 0)\n",
    "        except:\n",
    "            idx = np.where(np.squeeze(tfidf_matrix[movie_idx,]) > 0)\n",
    "        \n",
    "        words.append([\" , \".join([features[i] for i in idx[0]])])\n",
    "        \n",
    "    # collate results\n",
    "    res = pd.DataFrame({\"movie_title\" : mvs['title'].iloc[title_id],\n",
    "           \"sim_movies\": mvs['title'].iloc[top_n_idx].values,\"words\":words,\n",
    "           \"scores\":scores}, columns = [\"movie_title\",\"sim_movies\",\"scores\",\"words\"])\n",
    "    \n",
    "    return res"
   ]
  },
  {
   "cell_type": "markdown",
   "metadata": {
    "colab_type": "text",
    "id": "u7qmxyLaqwX2"
   },
   "source": [
    "### Give the recommendations from above functions for movies `The Godfather` and `The Dark Knight Rises`"
   ]
  },
  {
   "cell_type": "code",
   "execution_count": 23,
   "metadata": {
    "colab": {},
    "colab_type": "code",
    "id": "uXiBkwz7qwX4"
   },
   "outputs": [
    {
     "data": {
      "text/html": [
       "<div>\n",
       "<style scoped>\n",
       "    .dataframe tbody tr th:only-of-type {\n",
       "        vertical-align: middle;\n",
       "    }\n",
       "\n",
       "    .dataframe tbody tr th {\n",
       "        vertical-align: top;\n",
       "    }\n",
       "\n",
       "    .dataframe thead th {\n",
       "        text-align: right;\n",
       "    }\n",
       "</style>\n",
       "<table border=\"1\" class=\"dataframe\">\n",
       "  <thead>\n",
       "    <tr style=\"text-align: right;\">\n",
       "      <th></th>\n",
       "      <th>movie_title</th>\n",
       "      <th>sim_movies</th>\n",
       "      <th>scores</th>\n",
       "      <th>words</th>\n",
       "    </tr>\n",
       "  </thead>\n",
       "  <tbody>\n",
       "    <tr>\n",
       "      <th>0</th>\n",
       "      <td>The Godfather</td>\n",
       "      <td>The Godfather: Part II</td>\n",
       "      <td>0.149801</td>\n",
       "      <td>[1910s , 1910s new , 1910s new york , 1950s , ...</td>\n",
       "    </tr>\n",
       "    <tr>\n",
       "      <th>1</th>\n",
       "      <td>The Godfather</td>\n",
       "      <td>Honor Thy Father</td>\n",
       "      <td>0.096300</td>\n",
       "      <td>[1964 , 1964 compelled , 1964 compelled empire...</td>\n",
       "    </tr>\n",
       "    <tr>\n",
       "      <th>2</th>\n",
       "      <td>The Godfather</td>\n",
       "      <td>The Family</td>\n",
       "      <td>0.071295</td>\n",
       "      <td>[challenging , challenging old , challenging o...</td>\n",
       "    </tr>\n",
       "    <tr>\n",
       "      <th>3</th>\n",
       "      <td>The Godfather</td>\n",
       "      <td>Blood Ties</td>\n",
       "      <td>0.054169</td>\n",
       "      <td>[1970s , 1970s crime , 1970s crime runs , broo...</td>\n",
       "    </tr>\n",
       "    <tr>\n",
       "      <th>4</th>\n",
       "      <td>The Godfather</td>\n",
       "      <td>Made</td>\n",
       "      <td>0.036224</td>\n",
       "      <td>[aspiring , aspiring boxers , aspiring boxers ...</td>\n",
       "    </tr>\n",
       "    <tr>\n",
       "      <th>5</th>\n",
       "      <td>The Godfather</td>\n",
       "      <td>Johnny Dangerously</td>\n",
       "      <td>0.035239</td>\n",
       "      <td>[1930s , 1930s honest , 1930s honest goodheart...</td>\n",
       "    </tr>\n",
       "    <tr>\n",
       "      <th>6</th>\n",
       "      <td>The Godfather</td>\n",
       "      <td>Fury</td>\n",
       "      <td>0.033934</td>\n",
       "      <td>[attack , attack presumed , attack presumed de...</td>\n",
       "    </tr>\n",
       "    <tr>\n",
       "      <th>7</th>\n",
       "      <td>The Godfather</td>\n",
       "      <td>Live by Night</td>\n",
       "      <td>0.033905</td>\n",
       "      <td>[american , american dream , centered , center...</td>\n",
       "    </tr>\n",
       "    <tr>\n",
       "      <th>8</th>\n",
       "      <td>The Godfather</td>\n",
       "      <td>Shanghai Triad</td>\n",
       "      <td>0.033472</td>\n",
       "      <td>[1930 , 1930 shanghai , 1930 shanghai violence...</td>\n",
       "    </tr>\n",
       "    <tr>\n",
       "      <th>9</th>\n",
       "      <td>The Godfather</td>\n",
       "      <td>In Memory of My Father</td>\n",
       "      <td>0.031764</td>\n",
       "      <td>[accepts , accepts bribe , accepts bribe fathe...</td>\n",
       "    </tr>\n",
       "  </tbody>\n",
       "</table>\n",
       "</div>"
      ],
      "text/plain": [
       "     movie_title              sim_movies    scores  \\\n",
       "0  The Godfather  The Godfather: Part II  0.149801   \n",
       "1  The Godfather        Honor Thy Father  0.096300   \n",
       "2  The Godfather              The Family  0.071295   \n",
       "3  The Godfather              Blood Ties  0.054169   \n",
       "4  The Godfather                    Made  0.036224   \n",
       "5  The Godfather      Johnny Dangerously  0.035239   \n",
       "6  The Godfather                    Fury  0.033934   \n",
       "7  The Godfather           Live by Night  0.033905   \n",
       "8  The Godfather          Shanghai Triad  0.033472   \n",
       "9  The Godfather  In Memory of My Father  0.031764   \n",
       "\n",
       "                                               words  \n",
       "0  [1910s , 1910s new , 1910s new york , 1950s , ...  \n",
       "1  [1964 , 1964 compelled , 1964 compelled empire...  \n",
       "2  [challenging , challenging old , challenging o...  \n",
       "3  [1970s , 1970s crime , 1970s crime runs , broo...  \n",
       "4  [aspiring , aspiring boxers , aspiring boxers ...  \n",
       "5  [1930s , 1930s honest , 1930s honest goodheart...  \n",
       "6  [attack , attack presumed , attack presumed de...  \n",
       "7  [american , american dream , centered , center...  \n",
       "8  [1930 , 1930 shanghai , 1930 shanghai violence...  \n",
       "9  [accepts , accepts bribe , accepts bribe fathe...  "
      ]
     },
     "execution_count": 23,
     "metadata": {},
     "output_type": "execute_result"
    }
   ],
   "source": [
    "recommend(title='The Godfather', top_n=10)"
   ]
  },
  {
   "cell_type": "code",
   "execution_count": 24,
   "metadata": {
    "colab": {},
    "colab_type": "code",
    "id": "jBMDNtbeqwX_"
   },
   "outputs": [
    {
     "data": {
      "text/html": [
       "<div>\n",
       "<style scoped>\n",
       "    .dataframe tbody tr th:only-of-type {\n",
       "        vertical-align: middle;\n",
       "    }\n",
       "\n",
       "    .dataframe tbody tr th {\n",
       "        vertical-align: top;\n",
       "    }\n",
       "\n",
       "    .dataframe thead th {\n",
       "        text-align: right;\n",
       "    }\n",
       "</style>\n",
       "<table border=\"1\" class=\"dataframe\">\n",
       "  <thead>\n",
       "    <tr style=\"text-align: right;\">\n",
       "      <th></th>\n",
       "      <th>movie_title</th>\n",
       "      <th>sim_movies</th>\n",
       "      <th>scores</th>\n",
       "      <th>words</th>\n",
       "    </tr>\n",
       "  </thead>\n",
       "  <tbody>\n",
       "    <tr>\n",
       "      <th>0</th>\n",
       "      <td>The Dark Knight Rises</td>\n",
       "      <td>The Dark Knight</td>\n",
       "      <td>0.128280</td>\n",
       "      <td>[attorney , attorney harvey , attorney harvey ...</td>\n",
       "    </tr>\n",
       "    <tr>\n",
       "      <th>1</th>\n",
       "      <td>The Dark Knight Rises</td>\n",
       "      <td>Batman Forever</td>\n",
       "      <td>0.118706</td>\n",
       "      <td>[accident , accident left , accident left disf...</td>\n",
       "    </tr>\n",
       "    <tr>\n",
       "      <th>2</th>\n",
       "      <td>The Dark Knight Rises</td>\n",
       "      <td>Batman Returns</td>\n",
       "      <td>0.074320</td>\n",
       "      <td>[accepted , accepted gotham , accepted gotham ...</td>\n",
       "    </tr>\n",
       "    <tr>\n",
       "      <th>3</th>\n",
       "      <td>The Dark Knight Rises</td>\n",
       "      <td>Batman: Mask of the Phantasm</td>\n",
       "      <td>0.071435</td>\n",
       "      <td>[andrea , andrea beaumont , andrea beaumont da...</td>\n",
       "    </tr>\n",
       "    <tr>\n",
       "      <th>4</th>\n",
       "      <td>The Dark Knight Rises</td>\n",
       "      <td>Batman</td>\n",
       "      <td>0.069976</td>\n",
       "      <td>[begins , begins war , begins war crime , city...</td>\n",
       "    </tr>\n",
       "    <tr>\n",
       "      <th>5</th>\n",
       "      <td>The Dark Knight Rises</td>\n",
       "      <td>Batman: Mystery of the Batwoman</td>\n",
       "      <td>0.065782</td>\n",
       "      <td>[batwoman , batwoman wreaking , batwoman wreak...</td>\n",
       "    </tr>\n",
       "    <tr>\n",
       "      <th>6</th>\n",
       "      <td>The Dark Knight Rises</td>\n",
       "      <td>Batman: Under the Red Hood</td>\n",
       "      <td>0.064691</td>\n",
       "      <td>[batman , batman faces , batman faces ultimate...</td>\n",
       "    </tr>\n",
       "    <tr>\n",
       "      <th>7</th>\n",
       "      <td>The Dark Knight Rises</td>\n",
       "      <td>Batman Beyond: Return of the Joker</td>\n",
       "      <td>0.055104</td>\n",
       "      <td>[answers , answers stands , answers stands fac...</td>\n",
       "    </tr>\n",
       "    <tr>\n",
       "      <th>8</th>\n",
       "      <td>The Dark Knight Rises</td>\n",
       "      <td>Batman vs Dracula</td>\n",
       "      <td>0.053249</td>\n",
       "      <td>[bat , bat gotham , batman , batman stop , bat...</td>\n",
       "    </tr>\n",
       "    <tr>\n",
       "      <th>9</th>\n",
       "      <td>The Dark Knight Rises</td>\n",
       "      <td>Batman: Year One</td>\n",
       "      <td>0.050468</td>\n",
       "      <td>[abroad , abroad feeding , abroad feeding life...</td>\n",
       "    </tr>\n",
       "  </tbody>\n",
       "</table>\n",
       "</div>"
      ],
      "text/plain": [
       "             movie_title                          sim_movies    scores  \\\n",
       "0  The Dark Knight Rises                     The Dark Knight  0.128280   \n",
       "1  The Dark Knight Rises                      Batman Forever  0.118706   \n",
       "2  The Dark Knight Rises                      Batman Returns  0.074320   \n",
       "3  The Dark Knight Rises        Batman: Mask of the Phantasm  0.071435   \n",
       "4  The Dark Knight Rises                              Batman  0.069976   \n",
       "5  The Dark Knight Rises     Batman: Mystery of the Batwoman  0.065782   \n",
       "6  The Dark Knight Rises          Batman: Under the Red Hood  0.064691   \n",
       "7  The Dark Knight Rises  Batman Beyond: Return of the Joker  0.055104   \n",
       "8  The Dark Knight Rises                   Batman vs Dracula  0.053249   \n",
       "9  The Dark Knight Rises                    Batman: Year One  0.050468   \n",
       "\n",
       "                                               words  \n",
       "0  [attorney , attorney harvey , attorney harvey ...  \n",
       "1  [accident , accident left , accident left disf...  \n",
       "2  [accepted , accepted gotham , accepted gotham ...  \n",
       "3  [andrea , andrea beaumont , andrea beaumont da...  \n",
       "4  [begins , begins war , begins war crime , city...  \n",
       "5  [batwoman , batwoman wreaking , batwoman wreak...  \n",
       "6  [batman , batman faces , batman faces ultimate...  \n",
       "7  [answers , answers stands , answers stands fac...  \n",
       "8  [bat , bat gotham , batman , batman stop , bat...  \n",
       "9  [abroad , abroad feeding , abroad feeding life...  "
      ]
     },
     "execution_count": 24,
     "metadata": {},
     "output_type": "execute_result"
    }
   ],
   "source": [
    "recommend(title='The Dark Knight Rises', top_n=10)"
   ]
  },
  {
   "cell_type": "code",
   "execution_count": null,
   "metadata": {},
   "outputs": [],
   "source": []
  }
 ],
 "metadata": {
  "kernelspec": {
   "display_name": "Python 3",
   "language": "python",
   "name": "python3"
  },
  "language_info": {
   "codemirror_mode": {
    "name": "ipython",
    "version": 3
   },
   "file_extension": ".py",
   "mimetype": "text/x-python",
   "name": "python",
   "nbconvert_exporter": "python",
   "pygments_lexer": "ipython3",
   "version": "3.7.3"
  }
 },
 "nbformat": 4,
 "nbformat_minor": 2
}
