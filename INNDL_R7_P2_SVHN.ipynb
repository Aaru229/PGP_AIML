{
 "cells": [
  {
   "cell_type": "markdown",
   "metadata": {
    "colab_type": "text",
    "id": "eZb_TjPb79Zs"
   },
   "source": [
    "## The Street View House Numbers (SVHN) Dataset"
   ]
  },
  {
   "cell_type": "markdown",
   "metadata": {
    "colab_type": "text",
    "id": "G5Yvm2Mq79aA"
   },
   "source": [
    "**SVHN is a real-world image dataset for developing machine learning and object recognition algorithms with minimal requirement on data formatting but comes from a significantly harder, unsolved, real world problem (recognizing digits and numbers in natural scene images). SVHN is obtained from house numbers in Google Street View images.**\n",
    "\n",
    "\n",
    "**The goal of this project is to take an image from the SVHN dataset and determine what that digit is. This is a multi-class classification problem with 10 classes, one for each digit 0-9. Digit '1' has label 1, '9' has label 9 and '0' has label 10.**"
   ]
  },
  {
   "cell_type": "markdown",
   "metadata": {
    "colab_type": "text",
    "id": "LMAF1Bfe79aH"
   },
   "source": [
    "*The objective of the project is to learn how to implement a simple image classification\n",
    "pipeline based on the k-Nearest Neighbour and a deep neural network. The goals of this\n",
    "assignment are as follows:*"
   ]
  },
  {
   "cell_type": "code",
   "execution_count": 1,
   "metadata": {
    "colab": {
     "base_uri": "https://localhost:8080/",
     "height": 63
    },
    "colab_type": "code",
    "id": "jSKgzBFA79aQ",
    "outputId": "d5903d56-ee59-47ab-854c-a182ee1458f6"
   },
   "outputs": [
    {
     "data": {
      "text/html": [
       "<p style=\"color: red;\">\n",
       "The default version of TensorFlow in Colab will soon switch to TensorFlow 2.x.<br>\n",
       "We recommend you <a href=\"https://www.tensorflow.org/guide/migrate\" target=\"_blank\">upgrade</a> now \n",
       "or ensure your notebook will continue to use TensorFlow 1.x via the <code>%tensorflow_version 1.x</code> magic:\n",
       "<a href=\"https://colab.research.google.com/notebooks/tensorflow_version.ipynb\" target=\"_blank\">more info</a>.</p>\n"
      ],
      "text/plain": [
       "<IPython.core.display.HTML object>"
      ]
     },
     "metadata": {
      "tags": []
     },
     "output_type": "display_data"
    }
   ],
   "source": [
    "import os\n",
    "import pandas as pd\n",
    "import numpy as np\n",
    "import matplotlib\n",
    "from matplotlib import pyplot as plt\n",
    "import seaborn as sns\n",
    "import mpl_toolkits.axes_grid1\n",
    "from sklearn.neighbors import KNeighborsClassifier\n",
    "from sklearn.metrics import accuracy_score, classification_report, confusion_matrix\n",
    "import tensorflow as tf\n",
    "import h5py\n",
    "from sklearn.model_selection import GridSearchCV\n",
    "from google.colab import drive"
   ]
  },
  {
   "cell_type": "code",
   "execution_count": 2,
   "metadata": {
    "colab": {
     "base_uri": "https://localhost:8080/",
     "height": 122
    },
    "colab_type": "code",
    "id": "RMEaRWwk79am",
    "outputId": "c58a51cc-bd9b-4054-8f53-af910f6c7e45"
   },
   "outputs": [
    {
     "name": "stdout",
     "output_type": "stream",
     "text": [
      "Go to this URL in a browser: https://accounts.google.com/o/oauth2/auth?client_id=947318989803-6bn6qk8qdgf4n4g3pfee6491hc0brc4i.apps.googleusercontent.com&redirect_uri=urn%3aietf%3awg%3aoauth%3a2.0%3aoob&response_type=code&scope=email%20https%3a%2f%2fwww.googleapis.com%2fauth%2fdocs.test%20https%3a%2f%2fwww.googleapis.com%2fauth%2fdrive%20https%3a%2f%2fwww.googleapis.com%2fauth%2fdrive.photos.readonly%20https%3a%2f%2fwww.googleapis.com%2fauth%2fpeopleapi.readonly\n",
      "\n",
      "Enter your authorization code:\n",
      "··········\n",
      "Mounted at /content/drive\n"
     ]
    }
   ],
   "source": [
    "drive.mount('/content/drive')"
   ]
  },
  {
   "cell_type": "code",
   "execution_count": 0,
   "metadata": {
    "colab": {},
    "colab_type": "code",
    "id": "NdbSDrkD83xl"
   },
   "outputs": [],
   "source": [
    "data = h5py.File('/content/drive/My Drive/SVHN_single_grey1.h5', 'r')"
   ]
  },
  {
   "cell_type": "code",
   "execution_count": 4,
   "metadata": {
    "colab": {
     "base_uri": "https://localhost:8080/",
     "height": 34
    },
    "colab_type": "code",
    "id": "iDCbWbO1-THH",
    "outputId": "cfc0406b-210b-4042-974b-8ded1d5b58be"
   },
   "outputs": [
    {
     "name": "stdout",
     "output_type": "stream",
     "text": [
      "['X_test', 'X_train', 'X_val', 'y_test', 'y_train', 'y_val']\n"
     ]
    }
   ],
   "source": [
    "print(list(data.keys()))"
   ]
  },
  {
   "cell_type": "code",
   "execution_count": 0,
   "metadata": {
    "colab": {},
    "colab_type": "code",
    "id": "ZhobKLRP79a1"
   },
   "outputs": [],
   "source": [
    "X_train = data['X_train'][:]\n",
    "Y_train=data['y_train'][:]\n",
    "X_test=data['X_test'][:]\n",
    "Y_test=data['y_test'][:]\n",
    "X_val=data['X_val'][:]\n",
    "Y_val=data['y_val'][:]"
   ]
  },
  {
   "cell_type": "code",
   "execution_count": 0,
   "metadata": {
    "colab": {},
    "colab_type": "code",
    "id": "IM7cBawl_1gB"
   },
   "outputs": [],
   "source": [
    "data.close()"
   ]
  },
  {
   "cell_type": "markdown",
   "metadata": {
    "colab_type": "text",
    "id": "c0uuUV_R79bQ"
   },
   "source": [
    "**1. Data fetching and understand the train/val/test splits.**"
   ]
  },
  {
   "cell_type": "code",
   "execution_count": 7,
   "metadata": {
    "colab": {
     "base_uri": "https://localhost:8080/",
     "height": 119
    },
    "colab_type": "code",
    "id": "RG0Eqm3e79bU",
    "outputId": "8b90eb10-cfc3-40f2-c2c9-2039627e7b70"
   },
   "outputs": [
    {
     "name": "stdout",
     "output_type": "stream",
     "text": [
      "Trainingset X: (42000, 32, 32)\n",
      " Trainingset Y: (42000,)\n",
      "Test set X: (18000, 32, 32)\n",
      " Test set Y: (18000,)\n",
      "Validation set X: (60000, 32, 32)\n",
      " Validation set Y: (60000,)\n"
     ]
    }
   ],
   "source": [
    "print(f'Trainingset X: {X_train.shape}\\n Trainingset Y: {Y_train.shape}\\nTest set X: {X_test.shape}\\n Test set Y: {Y_test.shape}\\nValidation set X: {X_val.shape}\\n Validation set Y: {Y_val.shape}')"
   ]
  },
  {
   "cell_type": "code",
   "execution_count": null,
   "metadata": {},
   "outputs": [],
   "source": [
    "# Print first few images in test dataset\n",
    "fig = plt.figure(1, figsize=(10, 10))\n",
    "grid = mpl_toolkits.axes_grid1.ImageGrid(fig, 111, nrows_ncols=(5, 10), \n",
    "                                          axes_pad=0.05)\n",
    "for img in X_train:\n",
    "    ax = grid[i]\n",
    "    img = read_image(filepath, (32, 32))\n",
    "    ax.imshow(img.astype(np.uint8))\n",
    "    ax.axis('off')\n",
    "    i += 1\n",
    "plt.show();"
   ]
  },
  {
   "cell_type": "markdown",
   "metadata": {
    "colab_type": "text",
    "id": "S59EC3b079cG"
   },
   "source": [
    "**2. Implement and apply an optimal k-Nearest Neighbor (kNN) classifier (7.5 points)**"
   ]
  },
  {
   "cell_type": "code",
   "execution_count": 0,
   "metadata": {
    "colab": {},
    "colab_type": "code",
    "id": "NGuect43Ax1T"
   },
   "outputs": [],
   "source": [
    "# kmax = 200\n",
    "kmax = 20\n",
    "krange = np.arange(1, kmax, 2)\n",
    "acc = []\n",
    "for n in krange:\n",
    "    NNH = KNeighborsClassifier(n_neighbors= n)\n",
    "    NNH.fit(np.reshape(X_train, (X_train.shape[0],X_train.shape[1]*X_train.shape[2])), Y_train)\n",
    "    acc.append({'K_value': n, 'accuracy': NNH.score(np.reshape(X_test, (X_test.shape[0],X_test.shape[1]*X_test.shape[2])), Y_test)})"
   ]
  },
  {
   "cell_type": "code",
   "execution_count": 0,
   "metadata": {
    "colab": {},
    "colab_type": "code",
    "id": "D58GKfhxMRTX"
   },
   "outputs": [],
   "source": [
    "acc = sorted(acc, key = lambda i: i['accuracy'],reverse=True)"
   ]
  },
  {
   "cell_type": "code",
   "execution_count": 0,
   "metadata": {
    "colab": {
     "base_uri": "https://localhost:8080/",
     "height": 51
    },
    "colab_type": "code",
    "id": "4qToIzRim6Y8",
    "outputId": "c5c80670-971f-4c7e-be87-920f95c2f7c7"
   },
   "outputs": [
    {
     "name": "stdout",
     "output_type": "stream",
     "text": [
      "Top accuracy: 0.5287222222222222\n",
      "K-Value: 17\n"
     ]
    }
   ],
   "source": [
    "print(f\"Top accuracy: {acc[0]['accuracy']}\\nK-Value: {acc[0]['K_value']}\")"
   ]
  },
  {
   "cell_type": "code",
   "execution_count": 9,
   "metadata": {
    "colab": {
     "base_uri": "https://localhost:8080/",
     "height": 68
    },
    "colab_type": "code",
    "id": "ZyDSAODkeUpv",
    "outputId": "d737d571-d0a6-4fd9-a575-6792a179eb73"
   },
   "outputs": [
    {
     "data": {
      "text/plain": [
       "KNeighborsClassifier(algorithm='auto', leaf_size=30, metric='minkowski',\n",
       "                     metric_params=None, n_jobs=None, n_neighbors=17, p=2,\n",
       "                     weights='uniform')"
      ]
     },
     "execution_count": 9,
     "metadata": {
      "tags": []
     },
     "output_type": "execute_result"
    }
   ],
   "source": [
    "knn_mdl = KNeighborsClassifier(n_neighbors= acc[0]['K_value'])\n",
    "knn_mdl.fit(np.reshape(X_train, (X_train.shape[0],X_train.shape[1]*X_train.shape[2])), Y_train)"
   ]
  },
  {
   "cell_type": "code",
   "execution_count": 0,
   "metadata": {
    "colab": {},
    "colab_type": "code",
    "id": "ONu6fZEKfIuZ"
   },
   "outputs": [],
   "source": [
    "y_pred = knn_mdl.predict(np.reshape(X_test, (X_test.shape[0],X_test.shape[1]*X_test.shape[2])))"
   ]
  },
  {
   "cell_type": "markdown",
   "metadata": {
    "colab_type": "text",
    "id": "wjUgkAgc79cg"
   },
   "source": [
    "**3. Print the classification metric report (2.5 points)**"
   ]
  },
  {
   "cell_type": "code",
   "execution_count": 13,
   "metadata": {
    "colab": {
     "base_uri": "https://localhost:8080/",
     "height": 306
    },
    "colab_type": "code",
    "id": "GDVhjgku79cn",
    "outputId": "34933789-b863-46a0-8363-9f0cd975a619"
   },
   "outputs": [
    {
     "name": "stdout",
     "output_type": "stream",
     "text": [
      "              precision    recall  f1-score   support\n",
      "\n",
      "    class 10       0.45      0.70      0.55      1814\n",
      "     class 1       0.46      0.73      0.56      1828\n",
      "     class 2       0.62      0.55      0.59      1803\n",
      "     class 3       0.45      0.43      0.44      1719\n",
      "     class 4       0.67      0.65      0.66      1812\n",
      "     class 5       0.51      0.39      0.44      1768\n",
      "     class 6       0.50      0.41      0.45      1832\n",
      "     class 7       0.71      0.62      0.67      1808\n",
      "     class 8       0.47      0.36      0.41      1812\n",
      "     class 9       0.55      0.43      0.48      1804\n",
      "\n",
      "    accuracy                           0.53     18000\n",
      "   macro avg       0.54      0.53      0.52     18000\n",
      "weighted avg       0.54      0.53      0.52     18000\n",
      "\n"
     ]
    }
   ],
   "source": [
    "target_names = ['class 10', 'class 1', 'class 2', 'class 3', 'class 4', 'class 5', 'class 6', 'class 7', 'class 8', 'class 9']\n",
    "print(classification_report(Y_test, y_pred, target_names=target_names))"
   ]
  },
  {
   "cell_type": "markdown",
   "metadata": {
    "colab_type": "text",
    "id": "DNjHgtL879dD"
   },
   "source": [
    "**4. Implement and apply a deep neural network classifier including (feedforward neural network, RELU activations) (5 points)**\n",
    "\n",
    "**5. Implement batch normalization for training the neural network (2.5 points)**"
   ]
  },
  {
   "cell_type": "code",
   "execution_count": 14,
   "metadata": {
    "colab": {
     "base_uri": "https://localhost:8080/",
     "height": 88
    },
    "colab_type": "code",
    "id": "pvNwPD2Y79dJ",
    "outputId": "0e47a3c1-3eec-46e1-bdc0-8a154fbc73a9"
   },
   "outputs": [
    {
     "name": "stdout",
     "output_type": "stream",
     "text": [
      "WARNING:tensorflow:From /usr/local/lib/python3.6/dist-packages/tensorflow_core/python/ops/resource_variable_ops.py:1630: calling BaseResourceVariable.__init__ (from tensorflow.python.ops.resource_variable_ops) with constraint is deprecated and will be removed in a future version.\n",
      "Instructions for updating:\n",
      "If using Keras pass *_constraint arguments to layers.\n"
     ]
    }
   ],
   "source": [
    "model = tf.keras.models.Sequential()\n",
    "# Reshape data from 2D to 1D -> 32x32 to 1024\n",
    "model.add(tf.keras.layers.Reshape((1024,),input_shape=(32,32,)))\n",
    "\n",
    "# Normalize the data\n",
    "model.add(tf.keras.layers.BatchNormalization())\n",
    "\n",
    "model.add(tf.keras.layers.Dense(10000, activation='relu'))\n",
    "\n",
    "model.add(tf.keras.layers.Dense(10000, activation='relu'))\n",
    "\n",
    "model.add(tf.keras.layers.Dense(10, activation='relu'))\n",
    "\n"
   ]
  },
  {
   "cell_type": "markdown",
   "metadata": {
    "colab_type": "text",
    "id": "BXFKclVh79dy"
   },
   "source": [
    "**6. Understand and be able to implement (vectorized) backpropagation (cost stochastic gradient descent, cross entropy loss, cost functions) (2.5 points)**"
   ]
  },
  {
   "cell_type": "code",
   "execution_count": 0,
   "metadata": {
    "colab": {},
    "colab_type": "code",
    "id": "sXPcy-xf79d5"
   },
   "outputs": [],
   "source": [
    "# sgd Optimizer\n",
    "sgd = tf.keras.optimizers.SGD(lr=0.01)\n",
    "# Compile the model\n",
    "model.compile(optimizer=sgd, loss='categorical_crossentropy', metrics=['accuracy'])"
   ]
  },
  {
   "cell_type": "code",
   "execution_count": 18,
   "metadata": {
    "colab": {
     "base_uri": "https://localhost:8080/",
     "height": 479
    },
    "colab_type": "code",
    "id": "MQzp2es6wK4L",
    "outputId": "6e4f06bb-3f17-4c7b-b8dd-a97139cc4a2b"
   },
   "outputs": [
    {
     "name": "stdout",
     "output_type": "stream",
     "text": [
      "WARNING:tensorflow:From /usr/local/lib/python3.6/dist-packages/tensorflow_core/python/ops/math_grad.py:1424: where (from tensorflow.python.ops.array_ops) is deprecated and will be removed in a future version.\n",
      "Instructions for updating:\n",
      "Use tf.where in 2.0, which has the same broadcast rule as np.where\n",
      "Train on 42000 samples\n",
      "Epoch 1/50\n",
      "42000/42000 [==============================] - 1754s 42ms/sample - loss: 5.0058 - acc: 0.1520\n",
      "Epoch 2/50\n",
      "42000/42000 [==============================] - 1731s 41ms/sample - loss: 3.5400 - acc: 0.1828\n",
      "Epoch 3/50\n",
      "42000/42000 [==============================] - 1737s 41ms/sample - loss: 3.4828 - acc: 0.1855\n",
      "Epoch 4/50\n",
      "42000/42000 [==============================] - 1731s 41ms/sample - loss: 3.4300 - acc: 0.2316\n",
      "Epoch 5/50\n",
      "42000/42000 [==============================] - 1732s 41ms/sample - loss: 3.2988 - acc: 0.3123\n",
      "Epoch 6/50\n",
      "42000/42000 [==============================] - 1733s 41ms/sample - loss: 2.2434 - acc: 0.1938\n",
      "Epoch 7/50\n",
      "42000/42000 [==============================] - 1730s 41ms/sample - loss: 2.0475 - acc: 0.2564\n",
      "Epoch 8/50\n",
      "42000/42000 [==============================] - 1722s 41ms/sample - loss: 2.0294 - acc: 0.2456\n",
      "Epoch 9/50\n",
      "42000/42000 [==============================] - 1728s 41ms/sample - loss: 2.0253 - acc: 0.2253\n",
      "Epoch 10/50\n",
      "42000/42000 [==============================] - 1726s 41ms/sample - loss: 2.4859 - acc: 0.1410\n",
      "Epoch 00010: early stopping\n"
     ]
    },
    {
     "data": {
      "text/plain": [
       "<tensorflow.python.keras.callbacks.History at 0x7f64915eea58>"
      ]
     },
     "execution_count": 18,
     "metadata": {
      "tags": []
     },
     "output_type": "execute_result"
    }
   ],
   "source": [
    "early_stopping = tf.keras.callbacks.EarlyStopping(monitor='acc', patience=5, verbose=1, mode='auto')\n",
    "callback_list = [early_stopping]\n",
    "y_train = tf.keras.utils.to_categorical(Y_train, 10)\n",
    "# model.fit(X_train, Y_train, batch_size=16, validation_data=(x_valid, y_valid), epochs=50, callbacks=callback_list)\n",
    "\n",
    "model.fit(X_train, y_train, batch_size=16, epochs=50, callbacks=callback_list)"
   ]
  },
  {
   "cell_type": "markdown",
   "metadata": {
    "colab_type": "text",
    "id": "we-zqEOe79eu"
   },
   "source": [
    "**7. Understand the differences and trade-offs between traditional and NN classifiers with the help of classification metrics (5 points)**"
   ]
  },
  {
   "cell_type": "code",
   "execution_count": 20,
   "metadata": {
    "colab": {
     "base_uri": "https://localhost:8080/",
     "height": 34
    },
    "colab_type": "code",
    "id": "N87tEUVm79e2",
    "outputId": "9f97c183-c96d-4094-d45b-a7912e20410b"
   },
   "outputs": [
    {
     "name": "stdout",
     "output_type": "stream",
     "text": [
      "Test Set Accuracy: 10.066666454076767\n"
     ]
    }
   ],
   "source": [
    "# Final evaluation of the model\n",
    "y_test = tf.keras.utils.to_categorical(Y_test, 10)\n",
    "\n",
    "test_scores = model.evaluate(X_test,y_test, verbose=0)\n",
    "print(f\"Test Set Accuracy: {test_scores[1]*100}\")"
   ]
  },
  {
   "cell_type": "code",
   "execution_count": null,
   "metadata": {},
   "outputs": [],
   "source": [
    "batch_size = [10, 20, 40, 60, 80]\n",
    "epochs = [10, 15, 20, 25, 30, 40, 50]\n",
    "param_grid = dict(batch_size=batch_size, epochs=epochs)\n",
    "grid = GridSearchCV(estimator=model, param_grid=param_grid,cv=3)\n",
    "grid_result = grid.fit(X, y)"
   ]
  },
  {
   "cell_type": "markdown",
   "metadata": {},
   "source": [
    "* The knn model is comparatively time consuming than the neural network model. It is also resource consuming which has been resulting in the very longer training time as well as the prediction times.\n",
    "* The accuracy reached with such a process doesn't do justice\n",
    "* On the other hand the neural network implementation is comparatively easy and the predictin of values is also lesser time consuming than the KNN model\n",
    "* grid search implementation can considerable increase the accuracy of the neural network model"
   ]
  },
  {
   "cell_type": "markdown",
   "metadata": {
    "colab_type": "text",
    "id": "ZLdEvnhK79fH"
   },
   "source": []
  }
 ],
 "metadata": {
  "colab": {
   "collapsed_sections": [],
   "name": "INNDL_R7_P2_SVHN.ipynb",
   "provenance": []
  },
  "kernelspec": {
   "display_name": "Python 3",
   "language": "python",
   "name": "python3"
  },
  "language_info": {
   "codemirror_mode": {
    "name": "ipython",
    "version": 3
   },
   "file_extension": ".py",
   "mimetype": "text/x-python",
   "name": "python",
   "nbconvert_exporter": "python",
   "pygments_lexer": "ipython3",
   "version": "3.7.3"
  }
 },
 "nbformat": 4,
 "nbformat_minor": 1
}
