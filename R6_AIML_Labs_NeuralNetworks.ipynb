{
 "cells": [
  {
   "cell_type": "markdown",
   "metadata": {
    "colab_type": "text",
    "id": "zUZjPnVXGz0Z"
   },
   "source": [
    "# The Iris Dataset\n",
    "The data set consists of 50 samples from each of three species of Iris (Iris setosa, Iris virginica and Iris versicolor). Four features were measured from each sample: the length and the width of the sepals and petals, in centimeters.\n",
    "\n",
    "The dataset contains a set of 150 records under five attributes - petal length, petal width, sepal length, sepal width and species."
   ]
  },
  {
   "cell_type": "markdown",
   "metadata": {
    "colab_type": "text",
    "id": "RMbmpriavLE9"
   },
   "source": [
    "### Specifying the TensorFlow version\n",
    "Running `import tensorflow` will import the default version (currently 1.x). You can use 2.x by running a cell with the `tensorflow_version` magic **before** you run `import tensorflow`."
   ]
  },
  {
   "cell_type": "code",
   "execution_count": 1,
   "metadata": {
    "colab": {},
    "colab_type": "code",
    "id": "fu8bUU__oa7h"
   },
   "outputs": [],
   "source": [
    "# %tensorflow_version 2.x"
   ]
  },
  {
   "cell_type": "markdown",
   "metadata": {
    "colab_type": "text",
    "id": "bLz1Ckvfvn6D"
   },
   "source": [
    "### Import TensorFlow\n",
    "Once you have specified a version via this magic, you can run `import tensorflow` as normal and verify which version was imported as follows:"
   ]
  },
  {
   "cell_type": "code",
   "execution_count": 2,
   "metadata": {
    "colab": {},
    "colab_type": "code",
    "id": "CWrzVTLOvn6M"
   },
   "outputs": [
    {
     "name": "stdout",
     "output_type": "stream",
     "text": [
      "2.0.0\n"
     ]
    }
   ],
   "source": [
    "import tensorflow as tf\n",
    "print(tf.__version__)"
   ]
  },
  {
   "cell_type": "markdown",
   "metadata": {
    "colab_type": "text",
    "id": "_uYeJgkNuXNC"
   },
   "source": [
    "### Set random seed"
   ]
  },
  {
   "cell_type": "code",
   "execution_count": 3,
   "metadata": {
    "colab": {},
    "colab_type": "code",
    "id": "lcASNsewsfQX"
   },
   "outputs": [],
   "source": [
    "tf.random.set_seed(42)"
   ]
  },
  {
   "cell_type": "markdown",
   "metadata": {
    "colab_type": "text",
    "id": "5-vVQBBqg7DI"
   },
   "source": [
    "## Question 1"
   ]
  },
  {
   "cell_type": "markdown",
   "metadata": {
    "colab_type": "text",
    "id": "kE0EDKvQhEIe"
   },
   "source": [
    "### Import dataset\n",
    "- Import iris dataset\n",
    "- Import the dataset using sklearn library"
   ]
  },
  {
   "cell_type": "code",
   "execution_count": 4,
   "metadata": {
    "colab": {},
    "colab_type": "code",
    "id": "IOOWpD26Haq3"
   },
   "outputs": [],
   "source": [
    "import numpy as np\n",
    "import pandas as pd\n",
    "import sklearn.datasets\n",
    "from sklearn.model_selection import train_test_split"
   ]
  },
  {
   "cell_type": "code",
   "execution_count": 5,
   "metadata": {},
   "outputs": [],
   "source": [
    "df = sklearn.datasets.load_iris()"
   ]
  },
  {
   "cell_type": "markdown",
   "metadata": {
    "colab_type": "text",
    "id": "ta8YqInTh5v5"
   },
   "source": [
    "## Question 2"
   ]
  },
  {
   "cell_type": "markdown",
   "metadata": {
    "colab_type": "text",
    "id": "HERt3drbhX0i"
   },
   "source": [
    "### Get features and label from the dataset in separate variable\n",
    "- you can get the features using .data method\n",
    "- you can get the features using .target method"
   ]
  },
  {
   "cell_type": "code",
   "execution_count": 6,
   "metadata": {
    "colab": {},
    "colab_type": "code",
    "id": "0cV-_qHAHyvE"
   },
   "outputs": [],
   "source": [
    "X = df.data"
   ]
  },
  {
   "cell_type": "code",
   "execution_count": 7,
   "metadata": {},
   "outputs": [],
   "source": [
    "y = df.target"
   ]
  },
  {
   "cell_type": "markdown",
   "metadata": {
    "colab_type": "text",
    "id": "Qg1A2lkUjFak"
   },
   "source": [
    "## Question 3"
   ]
  },
  {
   "cell_type": "markdown",
   "metadata": {
    "colab_type": "text",
    "id": "3YErwYLCH0N_"
   },
   "source": [
    "### Create train and test data\n",
    "- use train_test_split to get train and test set\n",
    "- set a random_state\n",
    "- test_size: 0.25"
   ]
  },
  {
   "cell_type": "code",
   "execution_count": 8,
   "metadata": {
    "colab": {},
    "colab_type": "code",
    "id": "TYKNJL85h7pQ"
   },
   "outputs": [],
   "source": [
    "size = 0.25\n",
    "seed = 7\n",
    "x_train, x_test, y_train, y_test = train_test_split(X, y, test_size=size, random_state=seed)"
   ]
  },
  {
   "cell_type": "markdown",
   "metadata": {
    "colab_type": "text",
    "id": "g0KVP17Ozaix"
   },
   "source": [
    "## Question 4"
   ]
  },
  {
   "cell_type": "markdown",
   "metadata": {
    "colab_type": "text",
    "id": "SIjqxbhWv1zv"
   },
   "source": [
    "### One-hot encode the labels\n",
    "- convert class vectors (integers) to binary class matrix\n",
    "- convert labels\n",
    "- number of classes: 3\n",
    "- we are doing this to use categorical_crossentropy as loss"
   ]
  },
  {
   "cell_type": "code",
   "execution_count": 9,
   "metadata": {
    "colab": {},
    "colab_type": "code",
    "id": "R9vv-_gpyLY9"
   },
   "outputs": [],
   "source": [
    "y_train = tf.keras.utils.to_categorical(y_train, num_classes=3)\n",
    "y_test = tf.keras.utils.to_categorical(y_test, num_classes=3)"
   ]
  },
  {
   "cell_type": "markdown",
   "metadata": {
    "colab_type": "text",
    "id": "ovjLyYzWkO9s"
   },
   "source": [
    "## Question 5"
   ]
  },
  {
   "cell_type": "markdown",
   "metadata": {
    "colab_type": "text",
    "id": "hbIFzoPNSyYo"
   },
   "source": [
    "### Initialize a sequential model\n",
    "- Define a sequential model"
   ]
  },
  {
   "cell_type": "code",
   "execution_count": 10,
   "metadata": {
    "colab": {},
    "colab_type": "code",
    "id": "4FvSbf1UjHtl"
   },
   "outputs": [],
   "source": [
    "model = tf.keras.models.Sequential()"
   ]
  },
  {
   "cell_type": "markdown",
   "metadata": {
    "colab_type": "text",
    "id": "dGMy999vlacX"
   },
   "source": [
    "## Question 6"
   ]
  },
  {
   "cell_type": "markdown",
   "metadata": {
    "colab_type": "text",
    "id": "72ibK5Jxm8iL"
   },
   "source": [
    "### Add a layer\n",
    "- Use Dense Layer  with input shape of 4 (according to the feature set) and number of outputs set to 3\n",
    "- Apply Softmax on Dense Layer outputs"
   ]
  },
  {
   "cell_type": "code",
   "execution_count": 11,
   "metadata": {
    "colab": {},
    "colab_type": "code",
    "id": "uZKrBNSRm_o9"
   },
   "outputs": [],
   "source": [
    "model.add(tf.keras.layers.Dense(units=3, input_shape=(4,), activation='softmax'))"
   ]
  },
  {
   "cell_type": "markdown",
   "metadata": {
    "colab_type": "text",
    "id": "i4uiTH8plmNX"
   },
   "source": [
    "## Question 7"
   ]
  },
  {
   "cell_type": "markdown",
   "metadata": {
    "colab_type": "text",
    "id": "yJL8n8vcSyYz"
   },
   "source": [
    "### Compile the model\n",
    "- Use SGD as Optimizer\n",
    "- Use categorical_crossentropy as loss function\n",
    "- Use accuracy as metrics"
   ]
  },
  {
   "cell_type": "code",
   "execution_count": 12,
   "metadata": {
    "colab": {},
    "colab_type": "code",
    "id": "Tc_-fjIEk1ve"
   },
   "outputs": [],
   "source": [
    "model.compile(optimizer='sgd', loss='categorical_crossentropy', metrics=['accuracy'])"
   ]
  },
  {
   "cell_type": "markdown",
   "metadata": {
    "colab_type": "text",
    "id": "sihIGbRll_jT"
   },
   "source": [
    "## Question 8"
   ]
  },
  {
   "cell_type": "markdown",
   "metadata": {
    "colab_type": "text",
    "id": "54ZZCfNGlu0i"
   },
   "source": [
    "### Summarize the model\n",
    "- Check model layers\n",
    "- Understand number of trainable parameters"
   ]
  },
  {
   "cell_type": "code",
   "execution_count": 13,
   "metadata": {
    "colab": {},
    "colab_type": "code",
    "id": "elER3F_4ln8n"
   },
   "outputs": [
    {
     "name": "stdout",
     "output_type": "stream",
     "text": [
      "Model: \"sequential\"\n",
      "_________________________________________________________________\n",
      "Layer (type)                 Output Shape              Param #   \n",
      "=================================================================\n",
      "dense (Dense)                (None, 3)                 15        \n",
      "=================================================================\n",
      "Total params: 15\n",
      "Trainable params: 15\n",
      "Non-trainable params: 0\n",
      "_________________________________________________________________\n"
     ]
    }
   ],
   "source": [
    "model.summary()"
   ]
  },
  {
   "cell_type": "markdown",
   "metadata": {
    "colab_type": "text",
    "id": "2PiP7j3Vmj4p"
   },
   "source": [
    "## Question 9"
   ]
  },
  {
   "cell_type": "markdown",
   "metadata": {
    "colab_type": "text",
    "id": "rWdbfFCXmCHt"
   },
   "source": [
    "### Fit the model\n",
    "- Give train data as training features and labels\n",
    "- Epochs: 100\n",
    "- Give validation data as testing features and labels"
   ]
  },
  {
   "cell_type": "code",
   "execution_count": 14,
   "metadata": {
    "colab": {},
    "colab_type": "code",
    "id": "cO1c-5tjmBVZ"
   },
   "outputs": [
    {
     "name": "stdout",
     "output_type": "stream",
     "text": [
      "Train on 112 samples, validate on 38 samples\n",
      "Epoch 1/100\n",
      "112/112 [==============================] - 3s 27ms/sample - loss: 2.6440 - accuracy: 0.3482 - val_loss: 1.8549 - val_accuracy: 0.2895\n",
      "Epoch 2/100\n",
      "112/112 [==============================] - 0s 616us/sample - loss: 1.6175 - accuracy: 0.3304 - val_loss: 1.4040 - val_accuracy: 0.1579\n",
      "Epoch 3/100\n",
      "112/112 [==============================] - 0s 697us/sample - loss: 1.3306 - accuracy: 0.1607 - val_loss: 1.2363 - val_accuracy: 0.1053\n",
      "Epoch 4/100\n",
      "112/112 [==============================] - 0s 670us/sample - loss: 1.2189 - accuracy: 0.1696 - val_loss: 1.1956 - val_accuracy: 0.1316\n",
      "Epoch 5/100\n",
      "112/112 [==============================] - 0s 643us/sample - loss: 1.1715 - accuracy: 0.1964 - val_loss: 1.1616 - val_accuracy: 0.2105\n",
      "Epoch 6/100\n",
      "112/112 [==============================] - 0s 473us/sample - loss: 1.1267 - accuracy: 0.2054 - val_loss: 1.1215 - val_accuracy: 0.2632\n",
      "Epoch 7/100\n",
      "112/112 [==============================] - 0s 527us/sample - loss: 1.0940 - accuracy: 0.2500 - val_loss: 1.0894 - val_accuracy: 0.2632\n",
      "Epoch 8/100\n",
      "112/112 [==============================] - 0s 536us/sample - loss: 1.0575 - accuracy: 0.2411 - val_loss: 1.0566 - val_accuracy: 0.2105\n",
      "Epoch 9/100\n",
      "112/112 [==============================] - 0s 545us/sample - loss: 1.0419 - accuracy: 0.2321 - val_loss: 1.0332 - val_accuracy: 0.2368\n",
      "Epoch 10/100\n",
      "112/112 [==============================] - 0s 482us/sample - loss: 0.9971 - accuracy: 0.3482 - val_loss: 1.0122 - val_accuracy: 0.3947\n",
      "Epoch 11/100\n",
      "112/112 [==============================] - 0s 589us/sample - loss: 0.9687 - accuracy: 0.3839 - val_loss: 0.9866 - val_accuracy: 0.4474\n",
      "Epoch 12/100\n",
      "112/112 [==============================] - 0s 375us/sample - loss: 0.9455 - accuracy: 0.4286 - val_loss: 0.9623 - val_accuracy: 0.5263\n",
      "Epoch 13/100\n",
      "112/112 [==============================] - 0s 429us/sample - loss: 0.9214 - accuracy: 0.5179 - val_loss: 0.9513 - val_accuracy: 0.4474\n",
      "Epoch 14/100\n",
      "112/112 [==============================] - 0s 572us/sample - loss: 0.9004 - accuracy: 0.5179 - val_loss: 0.9240 - val_accuracy: 0.6316\n",
      "Epoch 15/100\n",
      "112/112 [==============================] - 0s 429us/sample - loss: 0.8782 - accuracy: 0.6161 - val_loss: 0.9074 - val_accuracy: 0.5526\n",
      "Epoch 16/100\n",
      "112/112 [==============================] - 0s 447us/sample - loss: 0.8688 - accuracy: 0.6071 - val_loss: 0.9053 - val_accuracy: 0.5263\n",
      "Epoch 17/100\n",
      "112/112 [==============================] - 0s 500us/sample - loss: 0.8419 - accuracy: 0.6339 - val_loss: 0.8673 - val_accuracy: 0.6053\n",
      "Epoch 18/100\n",
      "112/112 [==============================] - 0s 438us/sample - loss: 0.8280 - accuracy: 0.6518 - val_loss: 0.8542 - val_accuracy: 0.5789\n",
      "Epoch 19/100\n",
      "112/112 [==============================] - 0s 384us/sample - loss: 0.8071 - accuracy: 0.6429 - val_loss: 0.8397 - val_accuracy: 0.5789\n",
      "Epoch 20/100\n",
      "112/112 [==============================] - 0s 393us/sample - loss: 0.7909 - accuracy: 0.6161 - val_loss: 0.8257 - val_accuracy: 0.6053\n",
      "Epoch 21/100\n",
      "112/112 [==============================] - 0s 429us/sample - loss: 0.7867 - accuracy: 0.6161 - val_loss: 0.8160 - val_accuracy: 0.6053\n",
      "Epoch 22/100\n",
      "112/112 [==============================] - 0s 447us/sample - loss: 0.7646 - accuracy: 0.6875 - val_loss: 0.8202 - val_accuracy: 0.5526\n",
      "Epoch 23/100\n",
      "112/112 [==============================] - 0s 411us/sample - loss: 0.7589 - accuracy: 0.6607 - val_loss: 0.8096 - val_accuracy: 0.5526\n",
      "Epoch 24/100\n",
      "112/112 [==============================] - 0s 322us/sample - loss: 0.7417 - accuracy: 0.6696 - val_loss: 0.7898 - val_accuracy: 0.5789\n",
      "Epoch 25/100\n",
      "112/112 [==============================] - 0s 375us/sample - loss: 0.7289 - accuracy: 0.6964 - val_loss: 0.7815 - val_accuracy: 0.5789\n",
      "Epoch 26/100\n",
      "112/112 [==============================] - 0s 393us/sample - loss: 0.7219 - accuracy: 0.7054 - val_loss: 0.7652 - val_accuracy: 0.6316\n",
      "Epoch 27/100\n",
      "112/112 [==============================] - 0s 420us/sample - loss: 0.7051 - accuracy: 0.6964 - val_loss: 0.7540 - val_accuracy: 0.6316\n",
      "Epoch 28/100\n",
      "112/112 [==============================] - 0s 447us/sample - loss: 0.6990 - accuracy: 0.6875 - val_loss: 0.7414 - val_accuracy: 0.7632\n",
      "Epoch 29/100\n",
      "112/112 [==============================] - 0s 607us/sample - loss: 0.6871 - accuracy: 0.6875 - val_loss: 0.7313 - val_accuracy: 0.7632\n",
      "Epoch 30/100\n",
      "112/112 [==============================] - 0s 402us/sample - loss: 0.6796 - accuracy: 0.7143 - val_loss: 0.7284 - val_accuracy: 0.6316\n",
      "Epoch 31/100\n",
      "112/112 [==============================] - 0s 384us/sample - loss: 0.6683 - accuracy: 0.7232 - val_loss: 0.7217 - val_accuracy: 0.5789\n",
      "Epoch 32/100\n",
      "112/112 [==============================] - 0s 402us/sample - loss: 0.6606 - accuracy: 0.6964 - val_loss: 0.7194 - val_accuracy: 0.5789\n",
      "Epoch 33/100\n",
      "112/112 [==============================] - 0s 384us/sample - loss: 0.6530 - accuracy: 0.7143 - val_loss: 0.7149 - val_accuracy: 0.5789\n",
      "Epoch 34/100\n",
      "112/112 [==============================] - 0s 384us/sample - loss: 0.6484 - accuracy: 0.7232 - val_loss: 0.7011 - val_accuracy: 0.6053\n",
      "Epoch 35/100\n",
      "112/112 [==============================] - 0s 384us/sample - loss: 0.6393 - accuracy: 0.7232 - val_loss: 0.6982 - val_accuracy: 0.5789\n",
      "Epoch 36/100\n",
      "112/112 [==============================] - 0s 339us/sample - loss: 0.6330 - accuracy: 0.7143 - val_loss: 0.6892 - val_accuracy: 0.6579\n",
      "Epoch 37/100\n",
      "112/112 [==============================] - 0s 384us/sample - loss: 0.6296 - accuracy: 0.7411 - val_loss: 0.6792 - val_accuracy: 0.7368\n",
      "Epoch 38/100\n",
      "112/112 [==============================] - 0s 464us/sample - loss: 0.6209 - accuracy: 0.7589 - val_loss: 0.6735 - val_accuracy: 0.7895\n",
      "Epoch 39/100\n",
      "112/112 [==============================] - 0s 375us/sample - loss: 0.6136 - accuracy: 0.7321 - val_loss: 0.6752 - val_accuracy: 0.6053\n",
      "Epoch 40/100\n",
      "112/112 [==============================] - 0s 375us/sample - loss: 0.6056 - accuracy: 0.7500 - val_loss: 0.6687 - val_accuracy: 0.6579\n",
      "Epoch 41/100\n",
      "112/112 [==============================] - 0s 447us/sample - loss: 0.6015 - accuracy: 0.7411 - val_loss: 0.6583 - val_accuracy: 0.7895\n",
      "Epoch 42/100\n",
      "112/112 [==============================] - 0s 375us/sample - loss: 0.5977 - accuracy: 0.7500 - val_loss: 0.6537 - val_accuracy: 0.7632\n",
      "Epoch 43/100\n",
      "112/112 [==============================] - 0s 456us/sample - loss: 0.5919 - accuracy: 0.7500 - val_loss: 0.6568 - val_accuracy: 0.6053\n",
      "Epoch 44/100\n",
      "112/112 [==============================] - 0s 420us/sample - loss: 0.5865 - accuracy: 0.7411 - val_loss: 0.6531 - val_accuracy: 0.6053\n",
      "Epoch 45/100\n",
      "112/112 [==============================] - 0s 339us/sample - loss: 0.5815 - accuracy: 0.7321 - val_loss: 0.6402 - val_accuracy: 0.7895\n",
      "Epoch 46/100\n",
      "112/112 [==============================] - 0s 375us/sample - loss: 0.5774 - accuracy: 0.7857 - val_loss: 0.6368 - val_accuracy: 0.7632\n",
      "Epoch 47/100\n",
      "112/112 [==============================] - 0s 429us/sample - loss: 0.5726 - accuracy: 0.7500 - val_loss: 0.6312 - val_accuracy: 0.7895\n",
      "Epoch 48/100\n",
      "112/112 [==============================] - 0s 527us/sample - loss: 0.5700 - accuracy: 0.7857 - val_loss: 0.6277 - val_accuracy: 0.7895\n",
      "Epoch 49/100\n",
      "112/112 [==============================] - 0s 357us/sample - loss: 0.5626 - accuracy: 0.8125 - val_loss: 0.6282 - val_accuracy: 0.7105\n",
      "Epoch 50/100\n",
      "112/112 [==============================] - 0s 357us/sample - loss: 0.5622 - accuracy: 0.7500 - val_loss: 0.6250 - val_accuracy: 0.6842\n",
      "Epoch 51/100\n",
      "112/112 [==============================] - 0s 348us/sample - loss: 0.5580 - accuracy: 0.7589 - val_loss: 0.6174 - val_accuracy: 0.7632\n",
      "Epoch 52/100\n",
      "112/112 [==============================] - 0s 393us/sample - loss: 0.5510 - accuracy: 0.8125 - val_loss: 0.6229 - val_accuracy: 0.6053\n",
      "Epoch 53/100\n",
      "112/112 [==============================] - 0s 357us/sample - loss: 0.5478 - accuracy: 0.7500 - val_loss: 0.6179 - val_accuracy: 0.6579\n",
      "Epoch 54/100\n",
      "112/112 [==============================] - 0s 366us/sample - loss: 0.5457 - accuracy: 0.7589 - val_loss: 0.6092 - val_accuracy: 0.7368\n",
      "Epoch 55/100\n",
      "112/112 [==============================] - 0s 473us/sample - loss: 0.5419 - accuracy: 0.8304 - val_loss: 0.6181 - val_accuracy: 0.6053\n",
      "Epoch 56/100\n"
     ]
    },
    {
     "name": "stdout",
     "output_type": "stream",
     "text": [
      "112/112 [==============================] - 0s 429us/sample - loss: 0.5372 - accuracy: 0.7589 - val_loss: 0.6137 - val_accuracy: 0.6053\n",
      "Epoch 57/100\n",
      "112/112 [==============================] - 0s 438us/sample - loss: 0.5366 - accuracy: 0.7321 - val_loss: 0.5989 - val_accuracy: 0.7632\n",
      "Epoch 58/100\n",
      "112/112 [==============================] - 0s 527us/sample - loss: 0.5299 - accuracy: 0.7946 - val_loss: 0.5952 - val_accuracy: 0.7632\n",
      "Epoch 59/100\n",
      "112/112 [==============================] - 0s 545us/sample - loss: 0.5281 - accuracy: 0.8482 - val_loss: 0.5997 - val_accuracy: 0.6579\n",
      "Epoch 60/100\n",
      "112/112 [==============================] - 0s 473us/sample - loss: 0.5273 - accuracy: 0.7679 - val_loss: 0.5959 - val_accuracy: 0.7105\n",
      "Epoch 61/100\n",
      "112/112 [==============================] - 0s 482us/sample - loss: 0.5211 - accuracy: 0.7589 - val_loss: 0.5895 - val_accuracy: 0.7368\n",
      "Epoch 62/100\n",
      "112/112 [==============================] - 0s 393us/sample - loss: 0.5198 - accuracy: 0.7768 - val_loss: 0.5823 - val_accuracy: 0.7895\n",
      "Epoch 63/100\n",
      "112/112 [==============================] - 0s 384us/sample - loss: 0.5169 - accuracy: 0.8304 - val_loss: 0.5806 - val_accuracy: 0.7895\n",
      "Epoch 64/100\n",
      "112/112 [==============================] - 0s 384us/sample - loss: 0.5130 - accuracy: 0.8304 - val_loss: 0.5779 - val_accuracy: 0.7895\n",
      "Epoch 65/100\n",
      "112/112 [==============================] - 0s 366us/sample - loss: 0.5118 - accuracy: 0.8125 - val_loss: 0.5821 - val_accuracy: 0.7105\n",
      "Epoch 66/100\n",
      "112/112 [==============================] - 0s 464us/sample - loss: 0.5064 - accuracy: 0.7768 - val_loss: 0.5752 - val_accuracy: 0.7632\n",
      "Epoch 67/100\n",
      "112/112 [==============================] - 0s 429us/sample - loss: 0.5050 - accuracy: 0.8304 - val_loss: 0.5720 - val_accuracy: 0.7632\n",
      "Epoch 68/100\n",
      "112/112 [==============================] - 0s 455us/sample - loss: 0.5052 - accuracy: 0.8036 - val_loss: 0.5721 - val_accuracy: 0.7368\n",
      "Epoch 69/100\n",
      "112/112 [==============================] - 0s 402us/sample - loss: 0.4989 - accuracy: 0.8304 - val_loss: 0.5736 - val_accuracy: 0.7105\n",
      "Epoch 70/100\n",
      "112/112 [==============================] - 0s 429us/sample - loss: 0.4987 - accuracy: 0.7768 - val_loss: 0.5658 - val_accuracy: 0.7632\n",
      "Epoch 71/100\n",
      "112/112 [==============================] - 0s 500us/sample - loss: 0.4971 - accuracy: 0.8571 - val_loss: 0.5678 - val_accuracy: 0.7105\n",
      "Epoch 72/100\n",
      "112/112 [==============================] - 0s 393us/sample - loss: 0.4914 - accuracy: 0.7946 - val_loss: 0.5625 - val_accuracy: 0.7632\n",
      "Epoch 73/100\n",
      "112/112 [==============================] - 0s 393us/sample - loss: 0.4948 - accuracy: 0.8482 - val_loss: 0.5655 - val_accuracy: 0.7105\n",
      "Epoch 74/100\n",
      "112/112 [==============================] - 0s 375us/sample - loss: 0.4901 - accuracy: 0.7946 - val_loss: 0.5601 - val_accuracy: 0.7368\n",
      "Epoch 75/100\n",
      "112/112 [==============================] - 0s 339us/sample - loss: 0.4860 - accuracy: 0.8304 - val_loss: 0.5665 - val_accuracy: 0.6842\n",
      "Epoch 76/100\n",
      "112/112 [==============================] - 0s 402us/sample - loss: 0.4862 - accuracy: 0.7857 - val_loss: 0.5626 - val_accuracy: 0.7105\n",
      "Epoch 77/100\n",
      "112/112 [==============================] - 0s 420us/sample - loss: 0.4842 - accuracy: 0.7768 - val_loss: 0.5569 - val_accuracy: 0.7105\n",
      "Epoch 78/100\n",
      "112/112 [==============================] - 0s 339us/sample - loss: 0.4812 - accuracy: 0.7946 - val_loss: 0.5556 - val_accuracy: 0.7105\n",
      "Epoch 79/100\n",
      "112/112 [==============================] - 0s 375us/sample - loss: 0.4762 - accuracy: 0.8036 - val_loss: 0.5567 - val_accuracy: 0.7105\n",
      "Epoch 80/100\n",
      "112/112 [==============================] - 0s 357us/sample - loss: 0.4757 - accuracy: 0.8125 - val_loss: 0.5504 - val_accuracy: 0.7105\n",
      "Epoch 81/100\n",
      "112/112 [==============================] - 0s 384us/sample - loss: 0.4745 - accuracy: 0.8304 - val_loss: 0.5486 - val_accuracy: 0.7368\n",
      "Epoch 82/100\n",
      "112/112 [==============================] - 0s 402us/sample - loss: 0.4718 - accuracy: 0.8125 - val_loss: 0.5423 - val_accuracy: 0.7895\n",
      "Epoch 83/100\n",
      "112/112 [==============================] - 0s 420us/sample - loss: 0.4720 - accuracy: 0.8571 - val_loss: 0.5405 - val_accuracy: 0.7632\n",
      "Epoch 84/100\n",
      "112/112 [==============================] - 0s 375us/sample - loss: 0.4693 - accuracy: 0.8214 - val_loss: 0.5371 - val_accuracy: 0.7895\n",
      "Epoch 85/100\n",
      "112/112 [==============================] - 0s 482us/sample - loss: 0.4688 - accuracy: 0.8661 - val_loss: 0.5432 - val_accuracy: 0.7105\n",
      "Epoch 86/100\n",
      "112/112 [==============================] - 0s 438us/sample - loss: 0.4670 - accuracy: 0.8393 - val_loss: 0.5387 - val_accuracy: 0.7368\n",
      "Epoch 87/100\n",
      "112/112 [==============================] - 0s 598us/sample - loss: 0.4610 - accuracy: 0.8393 - val_loss: 0.5393 - val_accuracy: 0.7105\n",
      "Epoch 88/100\n",
      "112/112 [==============================] - 0s 464us/sample - loss: 0.4599 - accuracy: 0.8214 - val_loss: 0.5440 - val_accuracy: 0.7105\n",
      "Epoch 89/100\n",
      "112/112 [==============================] - 0s 429us/sample - loss: 0.4615 - accuracy: 0.8214 - val_loss: 0.5453 - val_accuracy: 0.6842\n",
      "Epoch 90/100\n",
      "112/112 [==============================] - 0s 393us/sample - loss: 0.4574 - accuracy: 0.8036 - val_loss: 0.5375 - val_accuracy: 0.7105\n",
      "Epoch 91/100\n",
      "112/112 [==============================] - 0s 411us/sample - loss: 0.4589 - accuracy: 0.8214 - val_loss: 0.5301 - val_accuracy: 0.7632\n",
      "Epoch 92/100\n",
      "112/112 [==============================] - 0s 375us/sample - loss: 0.4543 - accuracy: 0.8393 - val_loss: 0.5271 - val_accuracy: 0.7632\n",
      "Epoch 93/100\n",
      "112/112 [==============================] - 0s 455us/sample - loss: 0.4529 - accuracy: 0.8393 - val_loss: 0.5242 - val_accuracy: 0.7895\n",
      "Epoch 94/100\n",
      "112/112 [==============================] - 0s 473us/sample - loss: 0.4532 - accuracy: 0.8661 - val_loss: 0.5229 - val_accuracy: 0.7895\n",
      "Epoch 95/100\n",
      "112/112 [==============================] - 0s 563us/sample - loss: 0.4506 - accuracy: 0.8661 - val_loss: 0.5209 - val_accuracy: 0.8158\n",
      "Epoch 96/100\n",
      "112/112 [==============================] - 0s 652us/sample - loss: 0.4495 - accuracy: 0.8661 - val_loss: 0.5235 - val_accuracy: 0.7632\n",
      "Epoch 97/100\n",
      "112/112 [==============================] - 0s 286us/sample - loss: 0.4460 - accuracy: 0.8571 - val_loss: 0.5260 - val_accuracy: 0.7105\n",
      "Epoch 98/100\n",
      "112/112 [==============================] - 0s 268us/sample - loss: 0.4443 - accuracy: 0.8661 - val_loss: 0.5298 - val_accuracy: 0.7368\n",
      "Epoch 99/100\n",
      "112/112 [==============================] - 0s 268us/sample - loss: 0.4470 - accuracy: 0.8482 - val_loss: 0.5325 - val_accuracy: 0.7368\n",
      "Epoch 100/100\n",
      "112/112 [==============================] - 0s 268us/sample - loss: 0.4432 - accuracy: 0.8125 - val_loss: 0.5205 - val_accuracy: 0.7368\n"
     ]
    },
    {
     "data": {
      "text/plain": [
       "<tensorflow.python.keras.callbacks.History at 0x1b3fc608a58>"
      ]
     },
     "execution_count": 14,
     "metadata": {},
     "output_type": "execute_result"
    }
   ],
   "source": [
    "model.fit(x_train, y_train, validation_data=(x_test, y_test), epochs=100)"
   ]
  },
  {
   "cell_type": "markdown",
   "metadata": {
    "colab_type": "text",
    "id": "re9ItAR3yS3J"
   },
   "source": [
    "## Question 10"
   ]
  },
  {
   "cell_type": "markdown",
   "metadata": {
    "colab_type": "text",
    "id": "liw0IFf9yVqH"
   },
   "source": [
    "### Make predictions\n",
    "- Predict labels on one row"
   ]
  },
  {
   "cell_type": "code",
   "execution_count": 15,
   "metadata": {
    "colab": {},
    "colab_type": "code",
    "id": "H5sBybi6mlLl"
   },
   "outputs": [],
   "source": [
    "y_pred = model.predict(x_test[0:1])"
   ]
  },
  {
   "cell_type": "code",
   "execution_count": 16,
   "metadata": {},
   "outputs": [
    {
     "data": {
      "text/plain": [
       "array([[0.0247709 , 0.3185221 , 0.65670705]], dtype=float32)"
      ]
     },
     "execution_count": 16,
     "metadata": {},
     "output_type": "execute_result"
    }
   ],
   "source": [
    "y_pred"
   ]
  },
  {
   "cell_type": "markdown",
   "metadata": {
    "colab_type": "text",
    "id": "hSUgMq3m0bG7"
   },
   "source": [
    "### Compare the prediction with actual label\n",
    "- Print the same row as done in the previous step but of actual labels"
   ]
  },
  {
   "cell_type": "code",
   "execution_count": 17,
   "metadata": {
    "colab": {},
    "colab_type": "code",
    "id": "K5WbwVPyz-qQ"
   },
   "outputs": [
    {
     "data": {
      "text/plain": [
       "array([[0., 0., 1.]], dtype=float32)"
      ]
     },
     "execution_count": 17,
     "metadata": {},
     "output_type": "execute_result"
    }
   ],
   "source": [
    "y_test[0:1]"
   ]
  },
  {
   "cell_type": "markdown",
   "metadata": {
    "colab_type": "text",
    "id": "FrTKwbgE7NFT"
   },
   "source": [
    "\n",
    "\n",
    "---\n",
    "\n"
   ]
  },
  {
   "cell_type": "markdown",
   "metadata": {
    "colab_type": "text",
    "id": "a1UBYPNp5Tn1"
   },
   "source": [
    "# Stock prices dataset\n",
    "The data is of tock exchange's stock listings for each trading day of 2010 to 2016.\n",
    "\n",
    "## Description\n",
    "A brief description of columns.\n",
    "- open: The opening market price of the equity symbol on the date\n",
    "- high: The highest market price of the equity symbol on the date\n",
    "- low: The lowest recorded market price of the equity symbol on the date\n",
    "- close: The closing recorded price of the equity symbol on the date\n",
    "- symbol: Symbol of the listed company\n",
    "- volume: Total traded volume of the equity symbol on the date\n",
    "- date: Date of record"
   ]
  },
  {
   "cell_type": "markdown",
   "metadata": {
    "colab_type": "text",
    "id": "ctH_ZW5g-M3g"
   },
   "source": [
    "### Specifying the TensorFlow version\n",
    "Running `import tensorflow` will import the default version (currently 1.x). You can use 2.x by running a cell with the `tensorflow_version` magic **before** you run `import tensorflow`."
   ]
  },
  {
   "cell_type": "code",
   "execution_count": 18,
   "metadata": {
    "colab": {},
    "colab_type": "code",
    "id": "vQbdODpH-M3r"
   },
   "outputs": [],
   "source": [
    "# %tensorflow_version 2.x"
   ]
  },
  {
   "cell_type": "markdown",
   "metadata": {
    "colab_type": "text",
    "id": "nFQWH1tj-M38"
   },
   "source": [
    "### Import TensorFlow\n",
    "Once you have specified a version via this magic, you can run `import tensorflow` as normal and verify which version was imported as follows:"
   ]
  },
  {
   "cell_type": "code",
   "execution_count": 19,
   "metadata": {
    "colab": {},
    "colab_type": "code",
    "id": "Ho5n-xhd-M3_"
   },
   "outputs": [
    {
     "name": "stdout",
     "output_type": "stream",
     "text": [
      "2.0.0\n"
     ]
    }
   ],
   "source": [
    "import tensorflow as tf\n",
    "print(tf.__version__)"
   ]
  },
  {
   "cell_type": "markdown",
   "metadata": {
    "colab_type": "text",
    "id": "tgkl0qu6-M4F"
   },
   "source": [
    "### Set random seed"
   ]
  },
  {
   "cell_type": "code",
   "execution_count": 20,
   "metadata": {
    "colab": {},
    "colab_type": "code",
    "id": "TKgTyuA3-M4G"
   },
   "outputs": [],
   "source": [
    "tf.random.set_seed(42)"
   ]
  },
  {
   "cell_type": "markdown",
   "metadata": {
    "colab_type": "text",
    "id": "_88voqAH-O6J"
   },
   "source": [
    "## Question 1"
   ]
  },
  {
   "cell_type": "markdown",
   "metadata": {
    "colab_type": "text",
    "id": "dRHCeJqP-evf"
   },
   "source": [
    "### Load the data\n",
    "- load the csv file and read it using pandas\n",
    "- file name is prices.csv"
   ]
  },
  {
   "cell_type": "code",
   "execution_count": 21,
   "metadata": {
    "colab": {},
    "colab_type": "code",
    "id": "cKVH5v7r-RmC"
   },
   "outputs": [],
   "source": [
    "# run this cell to upload file if you are using google colab\n",
    "# from google.colab import files\n",
    "# files.upload()"
   ]
  },
  {
   "cell_type": "code",
   "execution_count": 22,
   "metadata": {
    "colab": {},
    "colab_type": "code",
    "id": "-gDC6cSW_FSK"
   },
   "outputs": [],
   "source": [
    "df = pd.read_csv('prices.csv')"
   ]
  },
  {
   "cell_type": "code",
   "execution_count": 23,
   "metadata": {},
   "outputs": [
    {
     "name": "stdout",
     "output_type": "stream",
     "text": [
      "<class 'pandas.core.frame.DataFrame'>\n",
      "RangeIndex: 851264 entries, 0 to 851263\n",
      "Data columns (total 7 columns):\n",
      "date      851264 non-null object\n",
      "symbol    851264 non-null object\n",
      "open      851264 non-null float64\n",
      "close     851264 non-null float64\n",
      "low       851264 non-null float64\n",
      "high      851264 non-null float64\n",
      "volume    851264 non-null float64\n",
      "dtypes: float64(5), object(2)\n",
      "memory usage: 45.5+ MB\n"
     ]
    }
   ],
   "source": [
    "df.info()"
   ]
  },
  {
   "cell_type": "markdown",
   "metadata": {
    "colab_type": "text",
    "id": "HlLKVPVH_BCT"
   },
   "source": [
    "## Question 2"
   ]
  },
  {
   "cell_type": "markdown",
   "metadata": {
    "colab_type": "text",
    "id": "9J4BlzVA_gZd"
   },
   "source": [
    "### Drop columnns\n",
    "- drop \"date\" and \"symbol\" column from the data"
   ]
  },
  {
   "cell_type": "code",
   "execution_count": 24,
   "metadata": {
    "colab": {},
    "colab_type": "code",
    "id": "IKEK8aEE_Csx"
   },
   "outputs": [],
   "source": [
    "df.drop(labels=['date', 'symbol'], axis=1, inplace=True)"
   ]
  },
  {
   "cell_type": "code",
   "execution_count": 25,
   "metadata": {},
   "outputs": [
    {
     "name": "stdout",
     "output_type": "stream",
     "text": [
      "<class 'pandas.core.frame.DataFrame'>\n",
      "RangeIndex: 851264 entries, 0 to 851263\n",
      "Data columns (total 5 columns):\n",
      "open      851264 non-null float64\n",
      "close     851264 non-null float64\n",
      "low       851264 non-null float64\n",
      "high      851264 non-null float64\n",
      "volume    851264 non-null float64\n",
      "dtypes: float64(5)\n",
      "memory usage: 32.5 MB\n"
     ]
    }
   ],
   "source": [
    "df.info()"
   ]
  },
  {
   "cell_type": "markdown",
   "metadata": {
    "colab_type": "text",
    "id": "cTPhO6v-AiZt"
   },
   "source": [
    "## Question 3"
   ]
  },
  {
   "cell_type": "markdown",
   "metadata": {
    "colab_type": "text",
    "id": "SsZXmF3NAkna"
   },
   "source": [
    "### Take initial rows\n",
    "- Take first 1000 rows from the data\n",
    "- This step is done to make the execution faster"
   ]
  },
  {
   "cell_type": "code",
   "execution_count": 26,
   "metadata": {
    "colab": {},
    "colab_type": "code",
    "id": "aKs04iIHAjxN"
   },
   "outputs": [],
   "source": [
    "df_sample = df.head(1000)"
   ]
  },
  {
   "cell_type": "code",
   "execution_count": 27,
   "metadata": {},
   "outputs": [
    {
     "data": {
      "text/html": [
       "<div>\n",
       "<style scoped>\n",
       "    .dataframe tbody tr th:only-of-type {\n",
       "        vertical-align: middle;\n",
       "    }\n",
       "\n",
       "    .dataframe tbody tr th {\n",
       "        vertical-align: top;\n",
       "    }\n",
       "\n",
       "    .dataframe thead th {\n",
       "        text-align: right;\n",
       "    }\n",
       "</style>\n",
       "<table border=\"1\" class=\"dataframe\">\n",
       "  <thead>\n",
       "    <tr style=\"text-align: right;\">\n",
       "      <th></th>\n",
       "      <th>open</th>\n",
       "      <th>close</th>\n",
       "      <th>low</th>\n",
       "      <th>high</th>\n",
       "      <th>volume</th>\n",
       "    </tr>\n",
       "  </thead>\n",
       "  <tbody>\n",
       "    <tr>\n",
       "      <th>0</th>\n",
       "      <td>123.430000</td>\n",
       "      <td>125.839996</td>\n",
       "      <td>122.309998</td>\n",
       "      <td>126.250000</td>\n",
       "      <td>2163600.0</td>\n",
       "    </tr>\n",
       "    <tr>\n",
       "      <th>1</th>\n",
       "      <td>125.239998</td>\n",
       "      <td>119.980003</td>\n",
       "      <td>119.940002</td>\n",
       "      <td>125.540001</td>\n",
       "      <td>2386400.0</td>\n",
       "    </tr>\n",
       "    <tr>\n",
       "      <th>2</th>\n",
       "      <td>116.379997</td>\n",
       "      <td>114.949997</td>\n",
       "      <td>114.930000</td>\n",
       "      <td>119.739998</td>\n",
       "      <td>2489500.0</td>\n",
       "    </tr>\n",
       "    <tr>\n",
       "      <th>3</th>\n",
       "      <td>115.480003</td>\n",
       "      <td>116.620003</td>\n",
       "      <td>113.500000</td>\n",
       "      <td>117.440002</td>\n",
       "      <td>2006300.0</td>\n",
       "    </tr>\n",
       "    <tr>\n",
       "      <th>4</th>\n",
       "      <td>117.010002</td>\n",
       "      <td>114.970001</td>\n",
       "      <td>114.089996</td>\n",
       "      <td>117.330002</td>\n",
       "      <td>1408600.0</td>\n",
       "    </tr>\n",
       "    <tr>\n",
       "      <th>5</th>\n",
       "      <td>115.510002</td>\n",
       "      <td>115.550003</td>\n",
       "      <td>114.500000</td>\n",
       "      <td>116.059998</td>\n",
       "      <td>1098000.0</td>\n",
       "    </tr>\n",
       "    <tr>\n",
       "      <th>6</th>\n",
       "      <td>116.459999</td>\n",
       "      <td>112.849998</td>\n",
       "      <td>112.589996</td>\n",
       "      <td>117.070000</td>\n",
       "      <td>949600.0</td>\n",
       "    </tr>\n",
       "    <tr>\n",
       "      <th>7</th>\n",
       "      <td>113.510002</td>\n",
       "      <td>114.379997</td>\n",
       "      <td>110.050003</td>\n",
       "      <td>115.029999</td>\n",
       "      <td>785300.0</td>\n",
       "    </tr>\n",
       "    <tr>\n",
       "      <th>8</th>\n",
       "      <td>113.330002</td>\n",
       "      <td>112.529999</td>\n",
       "      <td>111.919998</td>\n",
       "      <td>114.879997</td>\n",
       "      <td>1093700.0</td>\n",
       "    </tr>\n",
       "    <tr>\n",
       "      <th>9</th>\n",
       "      <td>113.660004</td>\n",
       "      <td>110.379997</td>\n",
       "      <td>109.870003</td>\n",
       "      <td>115.870003</td>\n",
       "      <td>1523500.0</td>\n",
       "    </tr>\n",
       "    <tr>\n",
       "      <th>10</th>\n",
       "      <td>109.059998</td>\n",
       "      <td>109.300003</td>\n",
       "      <td>108.320000</td>\n",
       "      <td>111.599998</td>\n",
       "      <td>1653900.0</td>\n",
       "    </tr>\n",
       "    <tr>\n",
       "      <th>11</th>\n",
       "      <td>109.730003</td>\n",
       "      <td>110.000000</td>\n",
       "      <td>108.320000</td>\n",
       "      <td>110.580002</td>\n",
       "      <td>944300.0</td>\n",
       "    </tr>\n",
       "    <tr>\n",
       "      <th>12</th>\n",
       "      <td>111.879997</td>\n",
       "      <td>111.949997</td>\n",
       "      <td>110.190002</td>\n",
       "      <td>112.949997</td>\n",
       "      <td>744900.0</td>\n",
       "    </tr>\n",
       "    <tr>\n",
       "      <th>13</th>\n",
       "      <td>111.320000</td>\n",
       "      <td>110.120003</td>\n",
       "      <td>110.000000</td>\n",
       "      <td>114.629997</td>\n",
       "      <td>703800.0</td>\n",
       "    </tr>\n",
       "    <tr>\n",
       "      <th>14</th>\n",
       "      <td>110.419998</td>\n",
       "      <td>111.000000</td>\n",
       "      <td>107.300003</td>\n",
       "      <td>111.400002</td>\n",
       "      <td>563100.0</td>\n",
       "    </tr>\n",
       "  </tbody>\n",
       "</table>\n",
       "</div>"
      ],
      "text/plain": [
       "          open       close         low        high     volume\n",
       "0   123.430000  125.839996  122.309998  126.250000  2163600.0\n",
       "1   125.239998  119.980003  119.940002  125.540001  2386400.0\n",
       "2   116.379997  114.949997  114.930000  119.739998  2489500.0\n",
       "3   115.480003  116.620003  113.500000  117.440002  2006300.0\n",
       "4   117.010002  114.970001  114.089996  117.330002  1408600.0\n",
       "5   115.510002  115.550003  114.500000  116.059998  1098000.0\n",
       "6   116.459999  112.849998  112.589996  117.070000   949600.0\n",
       "7   113.510002  114.379997  110.050003  115.029999   785300.0\n",
       "8   113.330002  112.529999  111.919998  114.879997  1093700.0\n",
       "9   113.660004  110.379997  109.870003  115.870003  1523500.0\n",
       "10  109.059998  109.300003  108.320000  111.599998  1653900.0\n",
       "11  109.730003  110.000000  108.320000  110.580002   944300.0\n",
       "12  111.879997  111.949997  110.190002  112.949997   744900.0\n",
       "13  111.320000  110.120003  110.000000  114.629997   703800.0\n",
       "14  110.419998  111.000000  107.300003  111.400002   563100.0"
      ]
     },
     "execution_count": 27,
     "metadata": {},
     "output_type": "execute_result"
    }
   ],
   "source": [
    "df_sample.head(15)"
   ]
  },
  {
   "cell_type": "markdown",
   "metadata": {
    "colab_type": "text",
    "id": "6vGtnapgBIJm"
   },
   "source": [
    "## Question 4"
   ]
  },
  {
   "cell_type": "markdown",
   "metadata": {
    "colab_type": "text",
    "id": "C8u_jlbABTip"
   },
   "source": [
    "### Get features and label from the dataset in separate variable\n",
    "- Take \"open\", \"close\", \"low\", \"high\" columns as features\n",
    "- Take \"volume\" column as label\n",
    "- Normalize label column by dividing it with 1000000"
   ]
  },
  {
   "cell_type": "code",
   "execution_count": 28,
   "metadata": {
    "colab": {},
    "colab_type": "code",
    "id": "xQjCMzUXBJbg"
   },
   "outputs": [],
   "source": [
    "x = df_sample.drop('volume', axis=1)\n",
    "y = df_sample['volume']/1000000"
   ]
  },
  {
   "cell_type": "markdown",
   "metadata": {
    "colab_type": "text",
    "id": "aTAKzlxZBz0z"
   },
   "source": [
    "## Question 5"
   ]
  },
  {
   "cell_type": "markdown",
   "metadata": {
    "colab_type": "text",
    "id": "IfY8Km1Zzyt2"
   },
   "source": [
    "### Convert data\n",
    "- Convert features and labels to numpy array\n",
    "- Convert their data type to \"float32\""
   ]
  },
  {
   "cell_type": "code",
   "execution_count": 29,
   "metadata": {},
   "outputs": [],
   "source": [
    "X = x.to_numpy()"
   ]
  },
  {
   "cell_type": "code",
   "execution_count": 30,
   "metadata": {},
   "outputs": [],
   "source": [
    "Y = y.to_numpy()"
   ]
  },
  {
   "cell_type": "code",
   "execution_count": 31,
   "metadata": {
    "colab": {},
    "colab_type": "code",
    "id": "Ko7nnQVbYENh"
   },
   "outputs": [],
   "source": [
    "X = X.astype('float32')\n",
    "Y = Y.astype('float32')"
   ]
  },
  {
   "cell_type": "markdown",
   "metadata": {
    "colab_type": "text",
    "id": "3TWpN0nVTpUx"
   },
   "source": [
    "## Question 6"
   ]
  },
  {
   "cell_type": "markdown",
   "metadata": {
    "colab_type": "text",
    "id": "WQ1FKEs-4btX"
   },
   "source": [
    "### Normalize data\n",
    "- Normalize features\n",
    "- Use tf.math.l2_normalize to normalize features\n",
    "- You can read more about it here https://www.tensorflow.org/api_docs/python/tf/math/l2_normalize"
   ]
  },
  {
   "cell_type": "code",
   "execution_count": 32,
   "metadata": {
    "colab": {},
    "colab_type": "code",
    "id": "V0Tfe00X78wB"
   },
   "outputs": [],
   "source": [
    "X = tf.math.l2_normalize(X)"
   ]
  },
  {
   "cell_type": "code",
   "execution_count": 33,
   "metadata": {},
   "outputs": [
    {
     "name": "stdout",
     "output_type": "stream",
     "text": [
      "Number of examples:  1000\n",
      "Number of features for each example:  4\n",
      "Shape of actual prices data:  (1000, 5)\n"
     ]
    }
   ],
   "source": [
    "print('Number of examples: ', X.shape[0])\n",
    "print('Number of features for each example: ', X.shape[1])\n",
    "print('Shape of actual prices data: ', df_sample.shape)"
   ]
  },
  {
   "cell_type": "markdown",
   "metadata": {
    "colab_type": "text",
    "id": "wmXUGc2oTspa"
   },
   "source": [
    "## Question 7"
   ]
  },
  {
   "cell_type": "markdown",
   "metadata": {
    "colab_type": "text",
    "id": "VJelDMpzxs0L"
   },
   "source": [
    "### Define weight and bias\n",
    "- Initialize weight and bias with tf.zeros\n",
    "- tf.zeros is an initializer that generates tensors initialized to 0\n",
    "- Specify the value for shape"
   ]
  },
  {
   "cell_type": "code",
   "execution_count": 34,
   "metadata": {
    "colab": {},
    "colab_type": "code",
    "id": "8o9RPWVTxs0O"
   },
   "outputs": [],
   "source": [
    "W = tf.zeros(shape=(4, 1))\n",
    "b = tf.zeros(shape=(1))"
   ]
  },
  {
   "cell_type": "markdown",
   "metadata": {
    "colab_type": "text",
    "id": "8a0wr94aTyjg"
   },
   "source": [
    "## Question 8"
   ]
  },
  {
   "cell_type": "markdown",
   "metadata": {
    "colab_type": "text",
    "id": "zMXXYdOSxs0Q"
   },
   "source": [
    "### Get prediction\n",
    "- Define a function to get prediction\n",
    "- Approach: prediction = (X * W) + b; here is X is features"
   ]
  },
  {
   "cell_type": "code",
   "execution_count": 35,
   "metadata": {
    "colab": {},
    "colab_type": "code",
    "id": "U8Cty1y0xs0S"
   },
   "outputs": [],
   "source": [
    "@tf.function\n",
    "def prediction(features, W, b):\n",
    "    y_pred = tf.add(tf.matmul(features, W), b)\n",
    "    return y_pred"
   ]
  },
  {
   "cell_type": "markdown",
   "metadata": {
    "colab_type": "text",
    "id": "lQmS3Tauxs0V"
   },
   "source": [
    "### Calculate loss\n",
    "- Calculate loss using predictions\n",
    "- Define a function to calculate loss\n",
    "- We are calculating mean squared error"
   ]
  },
  {
   "cell_type": "code",
   "execution_count": 36,
   "metadata": {
    "colab": {},
    "colab_type": "code",
    "id": "-FRXmDd5xs0X"
   },
   "outputs": [],
   "source": [
    "@tf.function\n",
    "def loss(y_actual, y_predicted):\n",
    "    diff = y_actual - y_predicted\n",
    "    sqr = tf.square(diff)\n",
    "    avg = tf.reduce_mean(sqr)\n",
    "    return avg"
   ]
  },
  {
   "cell_type": "markdown",
   "metadata": {
    "colab_type": "text",
    "id": "ZbBpnOtfT0wd"
   },
   "source": [
    "## Question 9"
   ]
  },
  {
   "cell_type": "markdown",
   "metadata": {
    "colab_type": "text",
    "id": "bkOzAUUsTmF_"
   },
   "source": [
    "### Define a function to train the model\n",
    "1.   Record all the mathematical steps to calculate Loss\n",
    "2.   Calculate Gradients of Loss w.r.t weights and bias\n",
    "3.   Update Weights and Bias based on gradients and learning rate to minimize loss"
   ]
  },
  {
   "cell_type": "code",
   "execution_count": 37,
   "metadata": {
    "colab": {},
    "colab_type": "code",
    "id": "2R4uieGYLYtM"
   },
   "outputs": [],
   "source": [
    "@tf.function\n",
    "def train(x, y_actual, w, b, learning_rate=0.01):\n",
    "    \n",
    "    # Record mathematical operations on 'tape' to calculate loss\n",
    "    with tf.GradientTape() as t:\n",
    "        t.watch([w,b])\n",
    "        current_prediction = prediction(x, w, b)\n",
    "        current_loss = loss(y_actual, current_prediction)\n",
    "    \n",
    "    # Calculate Gradients for Loss with respect to Weights and Bias\n",
    "    dw, db = t.gradient(current_loss,[w, b])\n",
    "    \n",
    "    # Update Weights and Bias\n",
    "    w = w - learning_rate * dw\n",
    "    b = b - learning_rate * db\n",
    "    \n",
    "    return w, b"
   ]
  },
  {
   "cell_type": "markdown",
   "metadata": {
    "colab_type": "text",
    "id": "AW4SEP8kT2ls"
   },
   "source": [
    "## Question 10"
   ]
  },
  {
   "cell_type": "markdown",
   "metadata": {
    "colab_type": "text",
    "id": "yeN0deOvT81N"
   },
   "source": [
    "### Train the model for 100 epochs \n",
    "- Observe the training loss at every iteration"
   ]
  },
  {
   "cell_type": "code",
   "execution_count": 38,
   "metadata": {
    "colab": {},
    "colab_type": "code",
    "id": "Jjkn4gUgLevE"
   },
   "outputs": [
    {
     "name": "stdout",
     "output_type": "stream",
     "text": [
      "Current Training Loss on iteration 0 236.16759\n",
      "Current Training Loss on iteration 1 235.09299\n",
      "Current Training Loss on iteration 2 234.06102\n",
      "Current Training Loss on iteration 3 233.06998\n",
      "Current Training Loss on iteration 4 232.11781\n",
      "Current Training Loss on iteration 5 231.20381\n",
      "Current Training Loss on iteration 6 230.32585\n",
      "Current Training Loss on iteration 7 229.48265\n",
      "Current Training Loss on iteration 8 228.67297\n",
      "Current Training Loss on iteration 9 227.89539\n",
      "Current Training Loss on iteration 10 227.14832\n",
      "Current Training Loss on iteration 11 226.43114\n",
      "Current Training Loss on iteration 12 225.74234\n",
      "Current Training Loss on iteration 13 225.0808\n",
      "Current Training Loss on iteration 14 224.44553\n",
      "Current Training Loss on iteration 15 223.835\n",
      "Current Training Loss on iteration 16 223.24931\n",
      "Current Training Loss on iteration 17 222.68655\n",
      "Current Training Loss on iteration 18 222.14595\n",
      "Current Training Loss on iteration 19 221.62688\n",
      "Current Training Loss on iteration 20 221.12842\n",
      "Current Training Loss on iteration 21 220.6498\n",
      "Current Training Loss on iteration 22 220.18993\n",
      "Current Training Loss on iteration 23 219.74841\n",
      "Current Training Loss on iteration 24 219.32425\n",
      "Current Training Loss on iteration 25 218.91705\n",
      "Current Training Loss on iteration 26 218.52579\n",
      "Current Training Loss on iteration 27 218.15027\n",
      "Current Training Loss on iteration 28 217.78957\n",
      "Current Training Loss on iteration 29 217.44315\n",
      "Current Training Loss on iteration 30 217.11034\n",
      "Current Training Loss on iteration 31 216.79077\n",
      "Current Training Loss on iteration 32 216.48412\n",
      "Current Training Loss on iteration 33 216.18932\n",
      "Current Training Loss on iteration 34 215.90611\n",
      "Current Training Loss on iteration 35 215.63437\n",
      "Current Training Loss on iteration 36 215.37334\n",
      "Current Training Loss on iteration 37 215.12263\n",
      "Current Training Loss on iteration 38 214.88185\n",
      "Current Training Loss on iteration 39 214.65053\n",
      "Current Training Loss on iteration 40 214.42859\n",
      "Current Training Loss on iteration 41 214.21527\n",
      "Current Training Loss on iteration 42 214.01044\n",
      "Current Training Loss on iteration 43 213.81369\n",
      "Current Training Loss on iteration 44 213.62482\n",
      "Current Training Loss on iteration 45 213.44333\n",
      "Current Training Loss on iteration 46 213.2691\n",
      "Current Training Loss on iteration 47 213.10179\n",
      "Current Training Loss on iteration 48 212.94106\n",
      "Current Training Loss on iteration 49 212.78687\n",
      "Current Training Loss on iteration 50 212.63857\n",
      "Current Training Loss on iteration 51 212.4961\n",
      "Current Training Loss on iteration 52 212.35948\n",
      "Current Training Loss on iteration 53 212.22816\n",
      "Current Training Loss on iteration 54 212.10205\n",
      "Current Training Loss on iteration 55 211.98093\n",
      "Current Training Loss on iteration 56 211.86461\n",
      "Current Training Loss on iteration 57 211.75293\n",
      "Current Training Loss on iteration 58 211.64558\n",
      "Current Training Loss on iteration 59 211.54266\n",
      "Current Training Loss on iteration 60 211.44374\n",
      "Current Training Loss on iteration 61 211.34874\n",
      "Current Training Loss on iteration 62 211.2575\n",
      "Current Training Loss on iteration 63 211.16982\n",
      "Current Training Loss on iteration 64 211.08572\n",
      "Current Training Loss on iteration 65 211.00484\n",
      "Current Training Loss on iteration 66 210.92729\n",
      "Current Training Loss on iteration 67 210.85278\n",
      "Current Training Loss on iteration 68 210.78104\n",
      "Current Training Loss on iteration 69 210.71225\n",
      "Current Training Loss on iteration 70 210.64633\n",
      "Current Training Loss on iteration 71 210.58289\n",
      "Current Training Loss on iteration 72 210.52199\n",
      "Current Training Loss on iteration 73 210.46347\n",
      "Current Training Loss on iteration 74 210.4073\n",
      "Current Training Loss on iteration 75 210.3533\n",
      "Current Training Loss on iteration 76 210.30153\n",
      "Current Training Loss on iteration 77 210.2518\n",
      "Current Training Loss on iteration 78 210.204\n",
      "Current Training Loss on iteration 79 210.15811\n",
      "Current Training Loss on iteration 80 210.1141\n",
      "Current Training Loss on iteration 81 210.0717\n",
      "Current Training Loss on iteration 82 210.03108\n",
      "Current Training Loss on iteration 83 209.99205\n",
      "Current Training Loss on iteration 84 209.95453\n",
      "Current Training Loss on iteration 85 209.91852\n",
      "Current Training Loss on iteration 86 209.88396\n",
      "Current Training Loss on iteration 87 209.85075\n",
      "Current Training Loss on iteration 88 209.81891\n",
      "Current Training Loss on iteration 89 209.78818\n",
      "Current Training Loss on iteration 90 209.75874\n",
      "Current Training Loss on iteration 91 209.73053\n",
      "Current Training Loss on iteration 92 209.70349\n",
      "Current Training Loss on iteration 93 209.67744\n",
      "Current Training Loss on iteration 94 209.65225\n",
      "Current Training Loss on iteration 95 209.62833\n",
      "Current Training Loss on iteration 96 209.6052\n",
      "Current Training Loss on iteration 97 209.58302\n",
      "Current Training Loss on iteration 98 209.56174\n",
      "Current Training Loss on iteration 99 209.5413\n"
     ]
    }
   ],
   "source": [
    "for i in range(100):\n",
    "    W, b = train(X, Y, W, b)\n",
    "    print('Current Training Loss on iteration', i, loss(Y, prediction(X, W, b)).numpy())"
   ]
  },
  {
   "cell_type": "markdown",
   "metadata": {
    "colab_type": "text",
    "id": "vanvD93FV0_k"
   },
   "source": [
    "### Observe values of Weight\n",
    "- Print the updated values"
   ]
  },
  {
   "cell_type": "code",
   "execution_count": 39,
   "metadata": {
    "colab": {},
    "colab_type": "code",
    "id": "QSqpy4gtWaOD"
   },
   "outputs": [
    {
     "data": {
      "text/plain": [
       "array([[0.05478281],\n",
       "       [0.05488191],\n",
       "       [0.05422735],\n",
       "       [0.05533117]], dtype=float32)"
      ]
     },
     "execution_count": 39,
     "metadata": {},
     "output_type": "execute_result"
    }
   ],
   "source": [
    "W.numpy()"
   ]
  },
  {
   "cell_type": "markdown",
   "metadata": {
    "colab_type": "text",
    "id": "y9KpRupYUEwy"
   },
   "source": [
    "### Observe values of Bias\n",
    "- Print the updated values"
   ]
  },
  {
   "cell_type": "code",
   "execution_count": 40,
   "metadata": {
    "colab": {},
    "colab_type": "code",
    "id": "bhEWkGqHWohg"
   },
   "outputs": [
    {
     "data": {
      "text/plain": [
       "array([4.607657], dtype=float32)"
      ]
     },
     "execution_count": 40,
     "metadata": {},
     "output_type": "execute_result"
    }
   ],
   "source": [
    "b.numpy()"
   ]
  },
  {
   "cell_type": "code",
   "execution_count": null,
   "metadata": {},
   "outputs": [],
   "source": []
  }
 ],
 "metadata": {
  "colab": {
   "collapsed_sections": [],
   "name": "Questions - Internal - R6 - AIML Labs",
   "provenance": []
  },
  "kernelspec": {
   "display_name": "Python 3",
   "language": "python",
   "name": "python3"
  },
  "language_info": {
   "codemirror_mode": {
    "name": "ipython",
    "version": 3
   },
   "file_extension": ".py",
   "mimetype": "text/x-python",
   "name": "python",
   "nbconvert_exporter": "python",
   "pygments_lexer": "ipython3",
   "version": "3.7.3"
  }
 },
 "nbformat": 4,
 "nbformat_minor": 1
}
