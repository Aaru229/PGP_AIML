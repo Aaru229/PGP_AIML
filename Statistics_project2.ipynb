{
 "cells": [
  {
   "cell_type": "markdown",
   "metadata": {},
   "source": [
    "# Statistics Project 2"
   ]
  },
  {
   "cell_type": "markdown",
   "metadata": {},
   "source": [
    "### Description\n",
    "In 2013, students of the Statistics class at FSEV UK were asked to invite their friends to participate in this survey.\n",
    "\n",
    "The data file (responses.csv) consists of 1010 rows and 150 columns (139 integers and 11 categorical).\n",
    "\n",
    "For convenience, the original variable names were shortened in the data file.\n",
    "\n",
    "See the columns.csv file if you want to match the data with the original names.\n",
    "\n",
    "The data contain missing values.\n",
    "The survey was presented to participants in both electronic and written form.\n",
    "The original questionnaire was in Slovak language and was later translated into English.\n",
    "All participants were of Slovakian nationality, aged between 15-30.\n",
    "For this Project we are considering 2 sections of data –  Health Habits and Spending Habits\n",
    "\n",
    "Health Habits - I live a very healthy lifestyle. Here Strongly disagree 1-2-3-4-5 Strongly agree\n",
    "Spending Habits - I save all the money I can.: Strongly disagree 1-2-3-4-5 Strongly agree\n",
    "The Agenda is to find whether Spending Habits and Healthy Lifestyle is related to Gender and Place or not.\n",
    "\n",
    "\n",
    " –\n",
    "Is saving money (finances) gender dependant?\n",
    "Is there any differences in money saving (finances) between people from city or village?\n",
    "Do Women have a Healthier Lifestyle than Men?\n",
    "Are Village People Healthier than City People?\n",
    "Perform the required statistical tests to validate/reject the Hypothesis in above step.\n",
    "State your insights and conclusions.\n",
    " \n",
    "\n",
    "Please Note:\n",
    "\n",
    "Request  to submit .html and .ipynb version of Python notebook in Olympus.\n",
    "\n",
    "There is no need to add .html in Github repository (.ipynb file will suffice in Github)."
   ]
  },
  {
   "cell_type": "markdown",
   "metadata": {},
   "source": [
    "### Step 1: Load the data and extract the relevant columns.\n",
    "* Hint – Relevant Columns will be Finances, Gender, Village-Town and Healthy Eating."
   ]
  },
  {
   "cell_type": "code",
   "execution_count": 1,
   "metadata": {},
   "outputs": [
    {
     "name": "stdout",
     "output_type": "stream",
     "text": [
      "<class 'pandas.core.frame.DataFrame'>\n",
      "RangeIndex: 1010 entries, 0 to 1009\n",
      "Columns: 150 entries, Music to House - block of flats\n",
      "dtypes: float64(134), int64(5), object(11)\n",
      "memory usage: 1.2+ MB\n"
     ]
    }
   ],
   "source": [
    "import pandas as pd\n",
    "import numpy as np\n",
    "import scipy.stats as stats\n",
    "import seaborn as sns\n",
    "\n",
    "df = pd.read_csv(\"responses.csv\")\n",
    "df.info()"
   ]
  },
  {
   "cell_type": "code",
   "execution_count": 2,
   "metadata": {},
   "outputs": [],
   "source": [
    "# df.describe()"
   ]
  },
  {
   "cell_type": "code",
   "execution_count": 3,
   "metadata": {},
   "outputs": [],
   "source": [
    "df1 = df[['Healthy eating', 'Finances', 'Gender', 'Village - town']]"
   ]
  },
  {
   "cell_type": "markdown",
   "metadata": {},
   "source": [
    "### Step 2: Explore the data and understand how the data is distributed\n",
    "* Is there any outlier or missing value? And Share your insights."
   ]
  },
  {
   "cell_type": "code",
   "execution_count": 4,
   "metadata": {},
   "outputs": [
    {
     "data": {
      "text/plain": [
       "Healthy eating    3\n",
       "Finances          3\n",
       "Gender            6\n",
       "Village - town    4\n",
       "dtype: int64"
      ]
     },
     "execution_count": 4,
     "metadata": {},
     "output_type": "execute_result"
    }
   ],
   "source": [
    "df1.isna().sum()"
   ]
  },
  {
   "cell_type": "code",
   "execution_count": 5,
   "metadata": {},
   "outputs": [],
   "source": [
    "df1 = df1.fillna(df1.mode().iloc[0])"
   ]
  },
  {
   "cell_type": "code",
   "execution_count": 6,
   "metadata": {},
   "outputs": [
    {
     "name": "stdout",
     "output_type": "stream",
     "text": [
      "<class 'pandas.core.frame.DataFrame'>\n",
      "RangeIndex: 1010 entries, 0 to 1009\n",
      "Data columns (total 4 columns):\n",
      "Healthy eating    1010 non-null float64\n",
      "Finances          1010 non-null float64\n",
      "Gender            1010 non-null object\n",
      "Village - town    1010 non-null object\n",
      "dtypes: float64(2), object(2)\n",
      "memory usage: 31.6+ KB\n"
     ]
    }
   ],
   "source": [
    "df1.info()"
   ]
  },
  {
   "cell_type": "code",
   "execution_count": 7,
   "metadata": {},
   "outputs": [],
   "source": [
    "df1['Gender'] = df1['Gender'].astype('category')\n",
    "df1['Village - town'] = df1['Village - town'].astype('category')"
   ]
  },
  {
   "cell_type": "code",
   "execution_count": 8,
   "metadata": {},
   "outputs": [
    {
     "data": {
      "text/plain": [
       "<seaborn.axisgrid.PairGrid at 0x2312850a080>"
      ]
     },
     "execution_count": 8,
     "metadata": {},
     "output_type": "execute_result"
    },
    {
     "data": {
      "image/png": "[encoded data removed]",
      "text/plain": [
       "<Figure size 360x360 with 6 Axes>"
      ]
     },
     "metadata": {
      "needs_background": "light"
     },
     "output_type": "display_data"
    }
   ],
   "source": [
    "sns.pairplot(df1)"
   ]
  },
  {
   "cell_type": "code",
   "execution_count": 9,
   "metadata": {},
   "outputs": [
    {
     "data": {
      "text/plain": [
       "<matplotlib.axes._subplots.AxesSubplot at 0x23128885908>"
      ]
     },
     "execution_count": 9,
     "metadata": {},
     "output_type": "execute_result"
    },
    {
     "data": {
      "image/png": "[encoded data removed]",
      "text/plain": [
       "<Figure size 432x288 with 1 Axes>"
      ]
     },
     "metadata": {
      "needs_background": "light"
     },
     "output_type": "display_data"
    }
   ],
   "source": [
    "sns.distplot(df1['Healthy eating'], hist=False)"
   ]
  },
  {
   "cell_type": "code",
   "execution_count": 10,
   "metadata": {},
   "outputs": [
    {
     "data": {
      "text/plain": [
       "<matplotlib.axes._subplots.AxesSubplot at 0x231288edac8>"
      ]
     },
     "execution_count": 10,
     "metadata": {},
     "output_type": "execute_result"
    },
    {
     "data": {
      "image/png": "[encoded data removed]",
      "text/plain": [
       "<Figure size 432x288 with 1 Axes>"
      ]
     },
     "metadata": {
      "needs_background": "light"
     },
     "output_type": "display_data"
    }
   ],
   "source": [
    "sns.distplot(df1['Finances'], hist=False)"
   ]
  },
  {
   "cell_type": "code",
   "execution_count": 11,
   "metadata": {},
   "outputs": [
    {
     "data": {
      "text/plain": [
       "<matplotlib.axes._subplots.AxesSubplot at 0x23128b9da20>"
      ]
     },
     "execution_count": 11,
     "metadata": {},
     "output_type": "execute_result"
    },
    {
     "data": {
      "image/png": "[encoded data removed]",
      "text/plain": [
       "<Figure size 432x288 with 1 Axes>"
      ]
     },
     "metadata": {
      "needs_background": "light"
     },
     "output_type": "display_data"
    }
   ],
   "source": [
    "sns.boxplot(data=df1)"
   ]
  },
  {
   "cell_type": "code",
   "execution_count": 12,
   "metadata": {},
   "outputs": [
    {
     "data": {
      "text/plain": [
       "<matplotlib.axes._subplots.AxesSubplot at 0x23128c12b00>"
      ]
     },
     "execution_count": 12,
     "metadata": {},
     "output_type": "execute_result"
    },
    {
     "data": {
      "image/png": "[encoded data removed]",
      "text/plain": [
       "<Figure size 432x288 with 1 Axes>"
      ]
     },
     "metadata": {
      "needs_background": "light"
     },
     "output_type": "display_data"
    }
   ],
   "source": [
    "sns.boxplot(data=df1, x='Village - town', y='Finances', hue='Gender')"
   ]
  },
  {
   "cell_type": "code",
   "execution_count": 13,
   "metadata": {},
   "outputs": [
    {
     "data": {
      "text/plain": [
       "<matplotlib.axes._subplots.AxesSubplot at 0x23128ccb358>"
      ]
     },
     "execution_count": 13,
     "metadata": {},
     "output_type": "execute_result"
    },
    {
     "data": {
      "image/png": "[encoded data removed]",
      "text/plain": [
       "<Figure size 432x288 with 1 Axes>"
      ]
     },
     "metadata": {
      "needs_background": "light"
     },
     "output_type": "display_data"
    }
   ],
   "source": [
    "sns.boxplot(data=df1, x='Village - town', y='Healthy eating', hue='Gender')"
   ]
  },
  {
   "cell_type": "markdown",
   "metadata": {},
   "source": [
    "* \"Healthy eating\" is left skewed and \"Finances\" is normally distributed\n",
    "* There are missing values which have been replaced with Mode values"
   ]
  },
  {
   "cell_type": "markdown",
   "metadata": {},
   "source": [
    "Analysis on the outliers:\n",
    "    * Women in village are cautious in \"Spending Habits\" as they rarely chose \"Strongly Disagree\"\n",
    "    * Men in city are concerned about their health  since most of them avoided \"Strongly Disagree\" in \"Health Habits\"\n",
    "    * Women in village are conscious of their \"Health Habits\" as most of them have selected \"Agree\""
   ]
  },
  {
   "cell_type": "markdown",
   "metadata": {},
   "source": [
    "### Step 3: Create Hypothesis on the following questions\n",
    "* Is saving money (finances) gender dependant?\n",
    "* Is there any differences in money saving (finances) between people from city or village?\n",
    "* Do Women have a Healthier Lifestyle than Men?\n",
    "* Are Village People Healthier than City People?"
   ]
  },
  {
   "cell_type": "markdown",
   "metadata": {},
   "source": [
    "#### Is saving money (finances) gender dependant?"
   ]
  },
  {
   "cell_type": "markdown",
   "metadata": {},
   "source": [
    "Null hypothesis: There is no difference in money saving based on gender\n",
    "\n",
    "Alternative hypothesis: There is a significant difference in money saving based on gender\n",
    "\n",
    "Considering $\\alpha$ = 0.05"
   ]
  },
  {
   "cell_type": "code",
   "execution_count": 14,
   "metadata": {},
   "outputs": [
    {
     "name": "stdout",
     "output_type": "stream",
     "text": [
      "Chi-square 5.328890527727397 p-value 0.25518454225298753 DOF 4\n",
      "Since p-value 0.25518454225298753 is significantly greater than 0.05, we failed to reject the null hypothesis\n",
      "There is no difference in money saving based on gender\n"
     ]
    }
   ],
   "source": [
    "a = 0.05\n",
    "fin_gen = pd.crosstab(df1['Gender'], df1['Finances'])\n",
    "\n",
    "chi, p_value, dof, exp_freq = stats.chi2_contingency(fin_gen)\n",
    "\n",
    "print(f'Chi-square {chi} p-value {p_value} DOF {dof}')\n",
    "\n",
    "if p_value > a:\n",
    "    print(f'Since p-value {p_value} is significantly greater than {a}, we failed to reject the null hypothesis')\n",
    "    print('There is no difference in money saving based on gender')\n",
    "else:\n",
    "    print(f'Since p-value {p_value} not significantly greater than {a}, we reject the null hypothesis')\n",
    "    print('There is a significant difference in money saving based on gender')"
   ]
  },
  {
   "cell_type": "markdown",
   "metadata": {},
   "source": [
    "#### Is there any differences in money saving (finances) between people from city or village?"
   ]
  },
  {
   "cell_type": "markdown",
   "metadata": {},
   "source": [
    "Null hypothesis: There is no difference in money saving between people from city and village.\n",
    "\n",
    "Alternative hypothesis: There is a significant difference in money saving between people from city and village.\n",
    "\n",
    "Considering $\\alpha$ = 0.05"
   ]
  },
  {
   "cell_type": "code",
   "execution_count": 15,
   "metadata": {},
   "outputs": [
    {
     "name": "stdout",
     "output_type": "stream",
     "text": [
      "Chi-square 13.336002693956441 p-value 0.009745541835991274 DOF 4\n",
      "Since p-value 0.009745541835991274 not significantly greater than 0.05, we reject the null hypothesis\n",
      "There is a significant difference in money saving between people from city and village\n"
     ]
    }
   ],
   "source": [
    "a = 0.05\n",
    "fin_loc = pd.crosstab(df1['Village - town'], df1['Finances'])\n",
    "\n",
    "chi, p_value, dof, exp_freq = stats.chi2_contingency(fin_loc)\n",
    "\n",
    "print(f'Chi-square {chi} p-value {p_value} DOF {dof}')\n",
    "\n",
    "if p_value > a:\n",
    "    print(f'Since p-value {p_value} is significantly greater than {a}, we failed to reject the null hypothesis')\n",
    "    print('There is no difference in money saving between people from city and village')\n",
    "else:\n",
    "    print(f'Since p-value {p_value} not significantly greater than {a}, we reject the null hypothesis')\n",
    "    print('There is a significant difference in money saving between people from city and village')"
   ]
  },
  {
   "cell_type": "markdown",
   "metadata": {},
   "source": [
    "#### Do Women have a Healthier Lifestyle than Men?"
   ]
  },
  {
   "cell_type": "markdown",
   "metadata": {},
   "source": [
    "Null hypothesis: There is no difference in Lifestyles lifestyle with respect to health between Women and Men\n",
    "\n",
    "Alternative hypothesis: Women live a Healthier Lifestyle than Men\n",
    "Considering $\\alpha$ = 0.05"
   ]
  },
  {
   "cell_type": "code",
   "execution_count": 16,
   "metadata": {},
   "outputs": [
    {
     "name": "stdout",
     "output_type": "stream",
     "text": [
      "Chi-square 4.45133452312021 p-value 0.03487398376152508 DOF 1\n",
      "Since p-value 0.03487398376152508 not significantly greater than 0.05, we reject the null hypothesis\n",
      "Women live a Healthier Lifestyle than Men\n"
     ]
    }
   ],
   "source": [
    "a = 0.05\n",
    "hls = df1[df1['Healthy eating']>=4]\n",
    "\n",
    "wom_men_ls = pd.crosstab(hls['Gender'], hls['Healthy eating'])\n",
    "\n",
    "chi, p_value, dof, exp_freq = stats.chi2_contingency(wom_men_ls)\n",
    "\n",
    "print(f'Chi-square {chi} p-value {p_value} DOF {dof}')\n",
    "\n",
    "if p_value > a:\n",
    "    print(f'Since p-value {p_value} is significantly greater than {a}, we failed to reject the null hypothesis')\n",
    "    print('There is no difference in Lifestyles lifestyle with respect to health between Women and Men')\n",
    "else:\n",
    "    print(f'Since p-value {p_value} not significantly greater than {a}, we reject the null hypothesis')\n",
    "    print('Women live a Healthier Lifestyle than Men')"
   ]
  },
  {
   "cell_type": "markdown",
   "metadata": {},
   "source": [
    "#### Are Village People Healthier than City People?"
   ]
  },
  {
   "cell_type": "markdown",
   "metadata": {},
   "source": [
    "Null hypothesis: There is No difference in lifestyle with respect to health between people who live in Village and those in City\n",
    "\n",
    "Alternative hypothesis: People in village live a Healthier Lifestyle than the people in city\n",
    "Considering $\\alpha$ = 0.05"
   ]
  },
  {
   "cell_type": "code",
   "execution_count": 17,
   "metadata": {},
   "outputs": [
    {
     "name": "stdout",
     "output_type": "stream",
     "text": [
      "Chi-square 0.2016414945342085 p-value 0.6533991286819472 DOF 1\n",
      "Since p-value 0.6533991286819472 is significantly greater than 0.05, we failed to reject the null hypothesis\n",
      "There is No difference in lifestyle with respect to health between people who live in Village and those in City\n"
     ]
    }
   ],
   "source": [
    "a = 0.05\n",
    "vill_city_ls = pd.crosstab(hls['Village - town'], hls['Healthy eating'])\n",
    "\n",
    "chi, p_value, dof, exp_freq = stats.chi2_contingency(vill_city_ls)\n",
    "\n",
    "print(f'Chi-square {chi} p-value {p_value} DOF {dof}')\n",
    "\n",
    "if p_value > a:\n",
    "    print(f'Since p-value {p_value} is significantly greater than {a}, we failed to reject the null hypothesis')\n",
    "    print('There is No difference in lifestyle with respect to health between people who live in Village and those in City')\n",
    "else:\n",
    "    print(f'Since p-value {p_value} not significantly greater than {a}, we reject the null hypothesis')\n",
    "    print('People in village live a Healthier Lifestyle than the people in city')"
   ]
  }
 ],
 "metadata": {
  "kernelspec": {
   "display_name": "Python 3",
   "language": "python",
   "name": "python3"
  },
  "language_info": {
   "codemirror_mode": {
    "name": "ipython",
    "version": 3
   },
   "file_extension": ".py",
   "mimetype": "text/x-python",
   "name": "python",
   "nbconvert_exporter": "python",
   "pygments_lexer": "ipython3",
   "version": "3.7.3"
  }
 },
 "nbformat": 4,
 "nbformat_minor": 2
}
