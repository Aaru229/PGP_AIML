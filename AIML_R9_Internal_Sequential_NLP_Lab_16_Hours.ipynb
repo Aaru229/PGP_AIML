{
 "cells": [
  {
   "cell_type": "markdown",
   "metadata": {
    "colab_type": "text",
    "id": "vXE926qT0jHg"
   },
   "source": [
    "# Time series prediction using LSTM"
   ]
  },
  {
   "cell_type": "markdown",
   "metadata": {
    "colab_type": "text",
    "id": "54u8ql4Z4kBE"
   },
   "source": [
    "## Dataset\n",
    "- Daily minimum temperatures in Melbourne, Australia, 1981-1990\n",
    "- Units: Degrees Celcius"
   ]
  },
  {
   "cell_type": "markdown",
   "metadata": {
    "colab_type": "text",
    "id": "IPkYyOzY77yl"
   },
   "source": [
    "## Question 1"
   ]
  },
  {
   "cell_type": "markdown",
   "metadata": {
    "colab_type": "text",
    "id": "aXEOY69f8B9d"
   },
   "source": [
    "### Load the data\n",
    "- load daily-minimum-temperatures-in-me.csv"
   ]
  },
  {
   "cell_type": "code",
   "execution_count": 1,
   "metadata": {
    "ExecuteTime": {
     "end_time": "2020-03-01T09:58:05.824218Z",
     "start_time": "2020-03-01T09:57:54.822773Z"
    },
    "colab": {
     "base_uri": "https://localhost:8080/",
     "height": 63
    },
    "colab_type": "code",
    "id": "LA7R2II8-Jxh",
    "outputId": "511459ad-fb82-41b0-aa64-e53e86aeec7b"
   },
   "outputs": [
    {
     "data": {
      "text/html": [
       "<p style=\"color: red;\">\n",
       "The default version of TensorFlow in Colab will soon switch to TensorFlow 2.x.<br>\n",
       "We recommend you <a href=\"https://www.tensorflow.org/guide/migrate\" target=\"_blank\">upgrade</a> now \n",
       "or ensure your notebook will continue to use TensorFlow 1.x via the <code>%tensorflow_version 1.x</code> magic:\n",
       "<a href=\"https://colab.research.google.com/notebooks/tensorflow_version.ipynb\" target=\"_blank\">more info</a>.</p>\n"
      ],
      "text/plain": [
       "<IPython.core.display.HTML object>"
      ]
     },
     "metadata": {
      "tags": []
     },
     "output_type": "display_data"
    }
   ],
   "source": [
    "import numpy as np\n",
    "import pandas as pd\n",
    "from sklearn.preprocessing import MinMaxScaler\n",
    "import tensorflow as tf"
   ]
  },
  {
   "cell_type": "code",
   "execution_count": 0,
   "metadata": {
    "ExecuteTime": {
     "end_time": "2020-03-01T09:58:05.844221Z",
     "start_time": "2020-03-01T09:58:05.833219Z"
    },
    "colab": {},
    "colab_type": "code",
    "id": "1Yvcuhqz0m23"
   },
   "outputs": [],
   "source": [
    "# if you are using google colab\n",
    "# from google.colab import files\n",
    "# files.upload()"
   ]
  },
  {
   "cell_type": "code",
   "execution_count": 0,
   "metadata": {
    "ExecuteTime": {
     "end_time": "2020-03-01T09:58:06.107296Z",
     "start_time": "2020-03-01T09:58:05.910238Z"
    },
    "colab": {},
    "colab_type": "code",
    "id": "qflGit1JinM3"
   },
   "outputs": [],
   "source": [
    "df=pd.read_csv('daily-minimum-temperatures-in-me.csv')"
   ]
  },
  {
   "cell_type": "markdown",
   "metadata": {
    "colab_type": "text",
    "id": "pWcMgg69-T6k"
   },
   "source": [
    "### Print the data\n",
    "- First 5 rows only"
   ]
  },
  {
   "cell_type": "code",
   "execution_count": 3,
   "metadata": {
    "ExecuteTime": {
     "end_time": "2020-03-01T09:58:06.316341Z",
     "start_time": "2020-03-01T09:58:06.117290Z"
    },
    "colab": {
     "base_uri": "https://localhost:8080/",
     "height": 204
    },
    "colab_type": "code",
    "id": "SM828gT_-Ra2",
    "outputId": "1eb75c28-3608-439b-f777-986ae3d729d3"
   },
   "outputs": [
    {
     "data": {
      "text/html": [
       "<div>\n",
       "<style scoped>\n",
       "    .dataframe tbody tr th:only-of-type {\n",
       "        vertical-align: middle;\n",
       "    }\n",
       "\n",
       "    .dataframe tbody tr th {\n",
       "        vertical-align: top;\n",
       "    }\n",
       "\n",
       "    .dataframe thead th {\n",
       "        text-align: right;\n",
       "    }\n",
       "</style>\n",
       "<table border=\"1\" class=\"dataframe\">\n",
       "  <thead>\n",
       "    <tr style=\"text-align: right;\">\n",
       "      <th></th>\n",
       "      <th>Date</th>\n",
       "      <th>Temperature</th>\n",
       "    </tr>\n",
       "  </thead>\n",
       "  <tbody>\n",
       "    <tr>\n",
       "      <th>0</th>\n",
       "      <td>1981-01-01</td>\n",
       "      <td>20.7</td>\n",
       "    </tr>\n",
       "    <tr>\n",
       "      <th>1</th>\n",
       "      <td>1981-01-02</td>\n",
       "      <td>17.9</td>\n",
       "    </tr>\n",
       "    <tr>\n",
       "      <th>2</th>\n",
       "      <td>1981-01-03</td>\n",
       "      <td>18.8</td>\n",
       "    </tr>\n",
       "    <tr>\n",
       "      <th>3</th>\n",
       "      <td>1981-01-04</td>\n",
       "      <td>14.6</td>\n",
       "    </tr>\n",
       "    <tr>\n",
       "      <th>4</th>\n",
       "      <td>1981-01-05</td>\n",
       "      <td>15.8</td>\n",
       "    </tr>\n",
       "  </tbody>\n",
       "</table>\n",
       "</div>"
      ],
      "text/plain": [
       "         Date  Temperature\n",
       "0  1981-01-01         20.7\n",
       "1  1981-01-02         17.9\n",
       "2  1981-01-03         18.8\n",
       "3  1981-01-04         14.6\n",
       "4  1981-01-05         15.8"
      ]
     },
     "execution_count": 3,
     "metadata": {
      "tags": []
     },
     "output_type": "execute_result"
    }
   ],
   "source": [
    "df.head(5)"
   ]
  },
  {
   "cell_type": "markdown",
   "metadata": {
    "colab_type": "text",
    "id": "JGnWESz9BKx8"
   },
   "source": [
    "### Set index column\n",
    "- Set the DataFrame index using \"Date\" column"
   ]
  },
  {
   "cell_type": "code",
   "execution_count": 4,
   "metadata": {
    "ExecuteTime": {
     "end_time": "2020-03-01T09:58:06.446372Z",
     "start_time": "2020-03-01T09:58:06.325342Z"
    },
    "colab": {
     "base_uri": "https://localhost:8080/",
     "height": 450
    },
    "colab_type": "code",
    "id": "nFrbd_vd-eZP",
    "outputId": "ba42cbcd-38ee-4f98-cd55-9781449b7ee2"
   },
   "outputs": [
    {
     "data": {
      "text/html": [
       "<div>\n",
       "<style scoped>\n",
       "    .dataframe tbody tr th:only-of-type {\n",
       "        vertical-align: middle;\n",
       "    }\n",
       "\n",
       "    .dataframe tbody tr th {\n",
       "        vertical-align: top;\n",
       "    }\n",
       "\n",
       "    .dataframe thead th {\n",
       "        text-align: right;\n",
       "    }\n",
       "</style>\n",
       "<table border=\"1\" class=\"dataframe\">\n",
       "  <thead>\n",
       "    <tr style=\"text-align: right;\">\n",
       "      <th></th>\n",
       "      <th>Temperature</th>\n",
       "    </tr>\n",
       "    <tr>\n",
       "      <th>Date</th>\n",
       "      <th></th>\n",
       "    </tr>\n",
       "  </thead>\n",
       "  <tbody>\n",
       "    <tr>\n",
       "      <th>1981-01-01</th>\n",
       "      <td>20.7</td>\n",
       "    </tr>\n",
       "    <tr>\n",
       "      <th>1981-01-02</th>\n",
       "      <td>17.9</td>\n",
       "    </tr>\n",
       "    <tr>\n",
       "      <th>1981-01-03</th>\n",
       "      <td>18.8</td>\n",
       "    </tr>\n",
       "    <tr>\n",
       "      <th>1981-01-04</th>\n",
       "      <td>14.6</td>\n",
       "    </tr>\n",
       "    <tr>\n",
       "      <th>1981-01-05</th>\n",
       "      <td>15.8</td>\n",
       "    </tr>\n",
       "    <tr>\n",
       "      <th>...</th>\n",
       "      <td>...</td>\n",
       "    </tr>\n",
       "    <tr>\n",
       "      <th>1990-12-27</th>\n",
       "      <td>14.0</td>\n",
       "    </tr>\n",
       "    <tr>\n",
       "      <th>1990-12-28</th>\n",
       "      <td>13.6</td>\n",
       "    </tr>\n",
       "    <tr>\n",
       "      <th>1990-12-29</th>\n",
       "      <td>13.5</td>\n",
       "    </tr>\n",
       "    <tr>\n",
       "      <th>1990-12-30</th>\n",
       "      <td>15.7</td>\n",
       "    </tr>\n",
       "    <tr>\n",
       "      <th>1990-12-31</th>\n",
       "      <td>13.0</td>\n",
       "    </tr>\n",
       "  </tbody>\n",
       "</table>\n",
       "<p>3650 rows × 1 columns</p>\n",
       "</div>"
      ],
      "text/plain": [
       "            Temperature\n",
       "Date                   \n",
       "1981-01-01         20.7\n",
       "1981-01-02         17.9\n",
       "1981-01-03         18.8\n",
       "1981-01-04         14.6\n",
       "1981-01-05         15.8\n",
       "...                 ...\n",
       "1990-12-27         14.0\n",
       "1990-12-28         13.6\n",
       "1990-12-29         13.5\n",
       "1990-12-30         15.7\n",
       "1990-12-31         13.0\n",
       "\n",
       "[3650 rows x 1 columns]"
      ]
     },
     "execution_count": 4,
     "metadata": {
      "tags": []
     },
     "output_type": "execute_result"
    }
   ],
   "source": [
    "df.set_index('Date')"
   ]
  },
  {
   "cell_type": "code",
   "execution_count": 0,
   "metadata": {
    "ExecuteTime": {
     "end_time": "2020-03-01T09:58:06.639422Z",
     "start_time": "2020-03-01T09:58:06.455377Z"
    },
    "colab": {},
    "colab_type": "code",
    "id": "k6hmqaS0inNy"
   },
   "outputs": [],
   "source": [
    "df.drop('Date', axis=1, inplace=True)"
   ]
  },
  {
   "cell_type": "markdown",
   "metadata": {
    "colab_type": "text",
    "id": "sS7IVXq7B1P1"
   },
   "source": [
    "## Question 2"
   ]
  },
  {
   "cell_type": "markdown",
   "metadata": {
    "colab_type": "text",
    "id": "PcgAOybZCc5-"
   },
   "source": [
    "### Check the total count of null values in the data"
   ]
  },
  {
   "cell_type": "code",
   "execution_count": 6,
   "metadata": {
    "ExecuteTime": {
     "end_time": "2020-03-01T09:58:06.873480Z",
     "start_time": "2020-03-01T09:58:06.649425Z"
    },
    "colab": {
     "base_uri": "https://localhost:8080/",
     "height": 51
    },
    "colab_type": "code",
    "id": "UTMe5jdCCj4k",
    "outputId": "ce675c55-063b-4f42-ef8e-c6ad34ee3239"
   },
   "outputs": [
    {
     "data": {
      "text/plain": [
       "Temperature    0\n",
       "dtype: int64"
      ]
     },
     "execution_count": 6,
     "metadata": {
      "tags": []
     },
     "output_type": "execute_result"
    }
   ],
   "source": [
    "df.isnull().sum()"
   ]
  },
  {
   "cell_type": "markdown",
   "metadata": {
    "colab_type": "text",
    "id": "Ua-AeW2YC3kY"
   },
   "source": [
    "### Drop all the rows with null values\n",
    "- use dropna() method"
   ]
  },
  {
   "cell_type": "code",
   "execution_count": 0,
   "metadata": {
    "ExecuteTime": {
     "end_time": "2020-03-01T09:58:07.018519Z",
     "start_time": "2020-03-01T09:58:06.885483Z"
    },
    "colab": {},
    "colab_type": "code",
    "id": "9l9UeA6YC8RV"
   },
   "outputs": [],
   "source": [
    "df.dropna(inplace=True)"
   ]
  },
  {
   "cell_type": "markdown",
   "metadata": {
    "colab_type": "text",
    "id": "SJam5Ho-DHK7"
   },
   "source": [
    "## Question 3"
   ]
  },
  {
   "cell_type": "markdown",
   "metadata": {
    "colab_type": "text",
    "id": "3esUPJAMDzCJ"
   },
   "source": [
    "### Describe your dataframe\n",
    "- use describe() method"
   ]
  },
  {
   "cell_type": "code",
   "execution_count": 8,
   "metadata": {
    "ExecuteTime": {
     "end_time": "2020-03-01T09:58:07.241573Z",
     "start_time": "2020-03-01T09:58:07.029521Z"
    },
    "colab": {
     "base_uri": "https://localhost:8080/",
     "height": 297
    },
    "colab_type": "code",
    "id": "uhH8OwGVELyH",
    "outputId": "573cb728-6027-4798-ad66-1e2d809a5fb3"
   },
   "outputs": [
    {
     "data": {
      "text/html": [
       "<div>\n",
       "<style scoped>\n",
       "    .dataframe tbody tr th:only-of-type {\n",
       "        vertical-align: middle;\n",
       "    }\n",
       "\n",
       "    .dataframe tbody tr th {\n",
       "        vertical-align: top;\n",
       "    }\n",
       "\n",
       "    .dataframe thead th {\n",
       "        text-align: right;\n",
       "    }\n",
       "</style>\n",
       "<table border=\"1\" class=\"dataframe\">\n",
       "  <thead>\n",
       "    <tr style=\"text-align: right;\">\n",
       "      <th></th>\n",
       "      <th>Temperature</th>\n",
       "    </tr>\n",
       "  </thead>\n",
       "  <tbody>\n",
       "    <tr>\n",
       "      <th>count</th>\n",
       "      <td>3650.000000</td>\n",
       "    </tr>\n",
       "    <tr>\n",
       "      <th>mean</th>\n",
       "      <td>11.177753</td>\n",
       "    </tr>\n",
       "    <tr>\n",
       "      <th>std</th>\n",
       "      <td>4.071837</td>\n",
       "    </tr>\n",
       "    <tr>\n",
       "      <th>min</th>\n",
       "      <td>0.000000</td>\n",
       "    </tr>\n",
       "    <tr>\n",
       "      <th>25%</th>\n",
       "      <td>8.300000</td>\n",
       "    </tr>\n",
       "    <tr>\n",
       "      <th>50%</th>\n",
       "      <td>11.000000</td>\n",
       "    </tr>\n",
       "    <tr>\n",
       "      <th>75%</th>\n",
       "      <td>14.000000</td>\n",
       "    </tr>\n",
       "    <tr>\n",
       "      <th>max</th>\n",
       "      <td>26.300000</td>\n",
       "    </tr>\n",
       "  </tbody>\n",
       "</table>\n",
       "</div>"
      ],
      "text/plain": [
       "       Temperature\n",
       "count  3650.000000\n",
       "mean     11.177753\n",
       "std       4.071837\n",
       "min       0.000000\n",
       "25%       8.300000\n",
       "50%      11.000000\n",
       "75%      14.000000\n",
       "max      26.300000"
      ]
     },
     "execution_count": 8,
     "metadata": {
      "tags": []
     },
     "output_type": "execute_result"
    }
   ],
   "source": [
    "df.describe()"
   ]
  },
  {
   "cell_type": "markdown",
   "metadata": {
    "colab_type": "text",
    "id": "bizrToFMB4ix"
   },
   "source": [
    "### Plot the dataframe\n",
    "- use plot() method"
   ]
  },
  {
   "cell_type": "code",
   "execution_count": 9,
   "metadata": {
    "ExecuteTime": {
     "end_time": "2020-03-01T09:58:08.013770Z",
     "start_time": "2020-03-01T09:58:07.247576Z"
    },
    "colab": {
     "base_uri": "https://localhost:8080/",
     "height": 282
    },
    "colab_type": "code",
    "id": "rNiXK6YZB30N",
    "outputId": "04fc9996-fd69-41e8-9c59-e27b26fa71e3"
   },
   "outputs": [
    {
     "data": {
      "text/plain": [
       "<matplotlib.axes._subplots.AxesSubplot at 0x7ffa620ed4a8>"
      ]
     },
     "execution_count": 9,
     "metadata": {
      "tags": []
     },
     "output_type": "execute_result"
    },
    {
     "data": {
      "image/png": "[encoded data removed]",
      "text/plain": [
       "<Figure size 432x288 with 1 Axes>"
      ]
     },
     "metadata": {
      "tags": []
     },
     "output_type": "display_data"
    }
   ],
   "source": [
    "df.plot()"
   ]
  },
  {
   "cell_type": "markdown",
   "metadata": {
    "colab_type": "text",
    "id": "OtI9ZGJqE1lh"
   },
   "source": [
    "### Get representation of the distribution of data using histogram\n",
    "- use hist() method"
   ]
  },
  {
   "cell_type": "code",
   "execution_count": 10,
   "metadata": {
    "ExecuteTime": {
     "end_time": "2020-03-01T09:58:08.523900Z",
     "start_time": "2020-03-01T09:58:08.017771Z"
    },
    "colab": {
     "base_uri": "https://localhost:8080/",
     "height": 315
    },
    "colab_type": "code",
    "id": "qan611HdE9nR",
    "outputId": "3c4e5566-9905-4f75-ef83-e1b19bc1096b"
   },
   "outputs": [
    {
     "data": {
      "text/plain": [
       "array([[<matplotlib.axes._subplots.AxesSubplot object at 0x7ffa61be34e0>]],\n",
       "      dtype=object)"
      ]
     },
     "execution_count": 10,
     "metadata": {
      "tags": []
     },
     "output_type": "execute_result"
    },
    {
     "data": {
      "image/png": "[encoded data removed]",
      "text/plain": [
       "<Figure size 432x288 with 1 Axes>"
      ]
     },
     "metadata": {
      "tags": []
     },
     "output_type": "display_data"
    }
   ],
   "source": [
    "df.hist()"
   ]
  },
  {
   "cell_type": "markdown",
   "metadata": {
    "colab_type": "text",
    "id": "D8VDVRisHAsH"
   },
   "source": [
    "### Check minimum and maximum temperature\n",
    "- use min() and max() methods"
   ]
  },
  {
   "cell_type": "code",
   "execution_count": 11,
   "metadata": {
    "ExecuteTime": {
     "end_time": "2020-03-01T09:58:08.565910Z",
     "start_time": "2020-03-01T09:58:08.533901Z"
    },
    "colab": {
     "base_uri": "https://localhost:8080/",
     "height": 51
    },
    "colab_type": "code",
    "id": "xlwlVtRfG_qX",
    "outputId": "3a667a12-166b-4606-87ac-590f2ddbfe09"
   },
   "outputs": [
    {
     "name": "stdout",
     "output_type": "stream",
     "text": [
      "Minimum Value:  Temperature    0.0\n",
      "dtype: float64\n"
     ]
    }
   ],
   "source": [
    "print('Minimum Value: ', df.min())"
   ]
  },
  {
   "cell_type": "code",
   "execution_count": 12,
   "metadata": {
    "ExecuteTime": {
     "end_time": "2020-03-01T09:58:08.705949Z",
     "start_time": "2020-03-01T09:58:08.570912Z"
    },
    "colab": {
     "base_uri": "https://localhost:8080/",
     "height": 51
    },
    "colab_type": "code",
    "id": "abO5iWWAFFCJ",
    "outputId": "589898e6-3683-44af-dd0a-03160120761d"
   },
   "outputs": [
    {
     "name": "stdout",
     "output_type": "stream",
     "text": [
      "Maximum value:  Temperature    26.3\n",
      "dtype: float64\n"
     ]
    }
   ],
   "source": [
    "print('Maximum value: ', df.max())"
   ]
  },
  {
   "cell_type": "markdown",
   "metadata": {
    "colab_type": "text",
    "id": "qTjD3zhSI_BD"
   },
   "source": [
    "## Question 4"
   ]
  },
  {
   "cell_type": "markdown",
   "metadata": {
    "colab_type": "text",
    "id": "QSDmmRxBMOO7"
   },
   "source": [
    "### Split the dataset into training and testing\n",
    "- training data: 75%\n",
    "- testing data: 25%"
   ]
  },
  {
   "cell_type": "code",
   "execution_count": 0,
   "metadata": {
    "ExecuteTime": {
     "end_time": "2020-03-01T09:58:08.892975Z",
     "start_time": "2020-03-01T09:58:08.711948Z"
    },
    "colab": {},
    "colab_type": "code",
    "id": "dbrspzBVM6Gg"
   },
   "outputs": [],
   "source": [
    "train_size=int(0.75 * len(df))\n",
    "test_size=int(0.25 * len(df))"
   ]
  },
  {
   "cell_type": "code",
   "execution_count": 14,
   "metadata": {
    "ExecuteTime": {
     "end_time": "2020-03-01T09:58:09.093017Z",
     "start_time": "2020-03-01T09:58:08.899978Z"
    },
    "colab": {
     "base_uri": "https://localhost:8080/",
     "height": 51
    },
    "colab_type": "code",
    "id": "1O017oDninQn",
    "outputId": "3bf7ff77-ae3c-4677-983b-b66090f911ce"
   },
   "outputs": [
    {
     "name": "stdout",
     "output_type": "stream",
     "text": [
      "train dataset records: 2737\n",
      "test dataset records count: 913\n"
     ]
    }
   ],
   "source": [
    "train, test = df[0:train_size], df[train_size: len(df)]\n",
    "print(f'train dataset records: {len(train)}\\ntest dataset records count: {len(test)}')"
   ]
  },
  {
   "cell_type": "markdown",
   "metadata": {
    "colab_type": "text",
    "id": "eEgBn5JkKwrZ"
   },
   "source": [
    "### Normalize the data\n",
    "- normalize temperature values using MinMaxScaler\n",
    "- feature_range: 0-1\n",
    "- fit MinMaxScaler on train data and transform it\n",
    "  - use fit_transform() method\n",
    "- transform test data using MinMaxScaler object\n",
    "  - use transform() method"
   ]
  },
  {
   "cell_type": "code",
   "execution_count": 0,
   "metadata": {
    "ExecuteTime": {
     "end_time": "2020-03-01T09:58:09.225048Z",
     "start_time": "2020-03-01T09:58:09.099014Z"
    },
    "colab": {},
    "colab_type": "code",
    "id": "OqDcm7tbI19Z"
   },
   "outputs": [],
   "source": [
    "scaler = MinMaxScaler(feature_range=(0, 1))\n",
    "scaled_train = scaler.fit_transform(train)"
   ]
  },
  {
   "cell_type": "code",
   "execution_count": 0,
   "metadata": {
    "ExecuteTime": {
     "end_time": "2020-03-01T09:58:09.370079Z",
     "start_time": "2020-03-01T09:58:09.231047Z"
    },
    "colab": {},
    "colab_type": "code",
    "id": "Xz_DolpQinRR"
   },
   "outputs": [],
   "source": [
    "scaled_test = scaler.transform(test)"
   ]
  },
  {
   "cell_type": "markdown",
   "metadata": {
    "colab_type": "text",
    "id": "4HjbO8gRQ3M1"
   },
   "source": [
    "### Print scaled train and test data\n",
    "- print only first 5 values"
   ]
  },
  {
   "cell_type": "code",
   "execution_count": 17,
   "metadata": {
    "ExecuteTime": {
     "end_time": "2020-03-01T09:58:09.547096Z",
     "start_time": "2020-03-01T09:58:09.375079Z"
    },
    "colab": {
     "base_uri": "https://localhost:8080/",
     "height": 102
    },
    "colab_type": "code",
    "id": "U_WDZwKxRBRx",
    "outputId": "94bd8b90-af02-4db0-ce5d-58ea63d5bbe8"
   },
   "outputs": [
    {
     "data": {
      "text/plain": [
       "array([[0.78707224],\n",
       "       [0.68060837],\n",
       "       [0.7148289 ],\n",
       "       [0.55513308],\n",
       "       [0.60076046]])"
      ]
     },
     "execution_count": 17,
     "metadata": {
      "tags": []
     },
     "output_type": "execute_result"
    }
   ],
   "source": [
    "scaled_train[:5]"
   ]
  },
  {
   "cell_type": "code",
   "execution_count": 18,
   "metadata": {
    "ExecuteTime": {
     "end_time": "2020-03-01T09:58:09.563097Z",
     "start_time": "2020-03-01T09:58:09.552093Z"
    },
    "colab": {
     "base_uri": "https://localhost:8080/",
     "height": 102
    },
    "colab_type": "code",
    "id": "vYlwALHrRGcX",
    "outputId": "3d51ab56-2b61-43e5-be56-1acf81726a3d"
   },
   "outputs": [
    {
     "data": {
      "text/plain": [
       "array([[0.22813688],\n",
       "       [0.22053232],\n",
       "       [0.18631179],\n",
       "       [0.19011407],\n",
       "       [0.31939163]])"
      ]
     },
     "execution_count": 18,
     "metadata": {
      "tags": []
     },
     "output_type": "execute_result"
    }
   ],
   "source": [
    "scaled_test[:5]"
   ]
  },
  {
   "cell_type": "markdown",
   "metadata": {
    "colab_type": "text",
    "id": "JB5lHp94RQWY"
   },
   "source": [
    "## Question 5"
   ]
  },
  {
   "cell_type": "markdown",
   "metadata": {
    "colab_type": "text",
    "id": "kVqNUf00RSiv"
   },
   "source": [
    "### Create sequential data\n",
    "Map the temperature at a particular day 'd' to the temperature at day t\n",
    "'d+n', where n is any number you define.\n",
    "\n",
    "For example: to map temperatures of consecutive days, use d+1, i.e. lookback = 1\n",
    "- Below function takes data as input and returns sequential data.\n",
    "- X as features and y as labels"
   ]
  },
  {
   "cell_type": "code",
   "execution_count": 0,
   "metadata": {
    "ExecuteTime": {
     "end_time": "2020-03-01T09:58:09.580101Z",
     "start_time": "2020-03-01T09:58:09.568097Z"
    },
    "colab": {},
    "colab_type": "code",
    "id": "AtxhXruAWws-"
   },
   "outputs": [],
   "source": [
    "def create_seq_data(data, lookback=1):\n",
    "  X, y = list(), list()\n",
    "  \n",
    "  for day in range((len(data)-lookback)):\n",
    "    X.append(data[day: day+lookback, 0])\n",
    "    y.append(data[day+lookback, 0])\n",
    "  return np.array(X), np.array(y)"
   ]
  },
  {
   "cell_type": "markdown",
   "metadata": {
    "colab_type": "text",
    "id": "VMBJpuDQJzcG"
   },
   "source": [
    "### Use the above function to create train and test sets\n",
    "- Get X_train and y_train\n",
    "- Get X_test and y_test\n",
    "- lookback = 1"
   ]
  },
  {
   "cell_type": "code",
   "execution_count": 0,
   "metadata": {
    "ExecuteTime": {
     "end_time": "2020-03-01T09:58:09.752147Z",
     "start_time": "2020-03-01T09:58:09.586103Z"
    },
    "colab": {},
    "colab_type": "code",
    "id": "Uq6GGmJ0Zqem"
   },
   "outputs": [],
   "source": [
    "lookback = 1\n",
    "X_train, y_train = create_seq_data(scaled_train, lookback)\n",
    "X_test, y_test = create_seq_data(scaled_test, lookback)"
   ]
  },
  {
   "cell_type": "markdown",
   "metadata": {
    "colab_type": "text",
    "id": "-E2iixEfK0Px"
   },
   "source": [
    "### Reshape the data\n",
    "- Reshape X_train and X_test\n",
    "- use np.reshape() method\n",
    "- this is to be done to make the data ready for input in model"
   ]
  },
  {
   "cell_type": "code",
   "execution_count": 0,
   "metadata": {
    "ExecuteTime": {
     "end_time": "2020-03-01T09:58:09.934190Z",
     "start_time": "2020-03-01T09:58:09.757148Z"
    },
    "colab": {},
    "colab_type": "code",
    "id": "X3qhXEqoZxQ3"
   },
   "outputs": [],
   "source": [
    "#Make it 3 Dimensional Data - needed for LSTM\n",
    "X_train = np.reshape(X_train, (X_train.shape[0], X_train.shape[1], 1))\n",
    "X_test = np.reshape(X_test, (X_test.shape[0], X_test.shape[1], 1))"
   ]
  },
  {
   "cell_type": "markdown",
   "metadata": {
    "colab_type": "text",
    "id": "zKZ8SALZcuNB"
   },
   "source": [
    "### Print shape of data\n",
    "- print shape of X_train and X_test"
   ]
  },
  {
   "cell_type": "code",
   "execution_count": 22,
   "metadata": {
    "ExecuteTime": {
     "end_time": "2020-03-01T09:58:10.080219Z",
     "start_time": "2020-03-01T09:58:09.953197Z"
    },
    "colab": {
     "base_uri": "https://localhost:8080/",
     "height": 51
    },
    "colab_type": "code",
    "id": "OSg_rbP6c_HI",
    "outputId": "2363a341-f09f-4403-c460-b249bd781495"
   },
   "outputs": [
    {
     "name": "stdout",
     "output_type": "stream",
     "text": [
      "X_train Shape: (2736, 1, 1)\n",
      "X_test Shape: (912, 1, 1)\n"
     ]
    }
   ],
   "source": [
    "print(f'X_train Shape: {X_train.shape}')\n",
    "print(f'X_test Shape: {X_test.shape}')"
   ]
  },
  {
   "cell_type": "markdown",
   "metadata": {
    "colab_type": "text",
    "id": "emGjaYZ5dfRq"
   },
   "source": [
    "## Question 6"
   ]
  },
  {
   "cell_type": "markdown",
   "metadata": {
    "colab_type": "text",
    "id": "7fk2Ze24dsXw"
   },
   "source": [
    "### Define sequential model\n",
    "- initialize a Sequential model\n",
    "- add an LSTM layer\n",
    "  - units: 10\n",
    "  - stateful: True\n",
    "  - pass a `batch_input_shape` argument to your layer\n",
    "  - batch_input_shape: (batch_size, look_back, 1)\n",
    "    - batch_size: 1\n",
    "    - look_back: 1\n",
    "- add Dense layer with 1 neuron"
   ]
  },
  {
   "cell_type": "code",
   "execution_count": 0,
   "metadata": {
    "ExecuteTime": {
     "end_time": "2020-03-01T09:58:10.199247Z",
     "start_time": "2020-03-01T09:58:10.088219Z"
    },
    "colab": {},
    "colab_type": "code",
    "id": "i1msQZKiinTf"
   },
   "outputs": [],
   "source": [
    "batch_size = 1\n",
    "look_back = 1"
   ]
  },
  {
   "cell_type": "code",
   "execution_count": 24,
   "metadata": {
    "ExecuteTime": {
     "end_time": "2020-03-01T09:58:19.155490Z",
     "start_time": "2020-03-01T09:58:10.207250Z"
    },
    "colab": {
     "base_uri": "https://localhost:8080/",
     "height": 88
    },
    "colab_type": "code",
    "id": "eXU6UNt4dhJz",
    "outputId": "ee00f2dd-66e5-4fee-eb4c-cd3caf098471"
   },
   "outputs": [
    {
     "name": "stdout",
     "output_type": "stream",
     "text": [
      "WARNING:tensorflow:From /usr/local/lib/python3.6/dist-packages/tensorflow_core/python/ops/resource_variable_ops.py:1630: calling BaseResourceVariable.__init__ (from tensorflow.python.ops.resource_variable_ops) with constraint is deprecated and will be removed in a future version.\n",
      "Instructions for updating:\n",
      "If using Keras pass *_constraint arguments to layers.\n"
     ]
    }
   ],
   "source": [
    "model = tf.keras.models.Sequential()\n",
    "model.add(tf.keras.layers.LSTM(10, stateful=True, batch_input_shape=(batch_size, look_back, 1)))\n",
    "model.add(tf.keras.layers.Dense(1))"
   ]
  },
  {
   "cell_type": "markdown",
   "metadata": {
    "colab_type": "text",
    "id": "cLymvPFzEQSp"
   },
   "source": [
    "## Question 7"
   ]
  },
  {
   "cell_type": "markdown",
   "metadata": {
    "colab_type": "text",
    "id": "AZmlvbcMrCTh"
   },
   "source": [
    "### compile your model\n",
    "- loss: mean_squared_error\n",
    "- optimizer: adam"
   ]
  },
  {
   "cell_type": "code",
   "execution_count": 0,
   "metadata": {
    "ExecuteTime": {
     "end_time": "2020-03-01T09:58:19.558588Z",
     "start_time": "2020-03-01T09:58:19.160491Z"
    },
    "colab": {},
    "colab_type": "code",
    "id": "TrcHrSdtg62Q"
   },
   "outputs": [],
   "source": [
    "model.compile(optimizer='adam', loss='mse')"
   ]
  },
  {
   "cell_type": "markdown",
   "metadata": {
    "colab_type": "text",
    "id": "WWAoHdFurJN5"
   },
   "source": [
    "### summarize your model\n",
    "- use summary() method"
   ]
  },
  {
   "cell_type": "code",
   "execution_count": 26,
   "metadata": {
    "ExecuteTime": {
     "end_time": "2020-03-01T09:58:23.790669Z",
     "start_time": "2020-03-01T09:58:19.563588Z"
    },
    "colab": {
     "base_uri": "https://localhost:8080/",
     "height": 221
    },
    "colab_type": "code",
    "id": "UlIaCMtBrPU2",
    "outputId": "cfdcd03b-4e71-4115-a148-41136ee86df3"
   },
   "outputs": [
    {
     "name": "stdout",
     "output_type": "stream",
     "text": [
      "Model: \"sequential\"\n",
      "_________________________________________________________________\n",
      "Layer (type)                 Output Shape              Param #   \n",
      "=================================================================\n",
      "lstm (LSTM)                  (1, 10)                   480       \n",
      "_________________________________________________________________\n",
      "dense (Dense)                (1, 1)                    11        \n",
      "=================================================================\n",
      "Total params: 491\n",
      "Trainable params: 491\n",
      "Non-trainable params: 0\n",
      "_________________________________________________________________\n"
     ]
    }
   ],
   "source": [
    "model.summary()"
   ]
  },
  {
   "cell_type": "markdown",
   "metadata": {
    "colab_type": "text",
    "id": "dq5a3i6uEcJI"
   },
   "source": [
    "## Question 8"
   ]
  },
  {
   "cell_type": "markdown",
   "metadata": {
    "colab_type": "text",
    "id": "0Ca3CFhOrf83"
   },
   "source": [
    "### fit your model\n",
    "- epochs: 50\n",
    "- batch_size: 1"
   ]
  },
  {
   "cell_type": "code",
   "execution_count": 27,
   "metadata": {
    "ExecuteTime": {
     "start_time": "2020-03-01T09:57:55.486Z"
    },
    "colab": {
     "base_uri": "https://localhost:8080/",
     "height": 1000
    },
    "colab_type": "code",
    "id": "BbuB-XGPhH6h",
    "outputId": "2f066573-3bd8-4728-8271-cfdfa4218ca4"
   },
   "outputs": [
    {
     "name": "stdout",
     "output_type": "stream",
     "text": [
      "WARNING:tensorflow:From /usr/local/lib/python3.6/dist-packages/tensorflow_core/python/ops/math_grad.py:1424: where (from tensorflow.python.ops.array_ops) is deprecated and will be removed in a future version.\n",
      "Instructions for updating:\n",
      "Use tf.where in 2.0, which has the same broadcast rule as np.where\n",
      "Train on 2736 samples, validate on 912 samples\n",
      "Epoch 1/50\n",
      "2736/2736 [==============================] - 7s 2ms/sample - loss: 0.0198 - val_loss: 0.0093\n",
      "Epoch 2/50\n",
      "2736/2736 [==============================] - 6s 2ms/sample - loss: 0.0102 - val_loss: 0.0093\n",
      "Epoch 3/50\n",
      "2736/2736 [==============================] - 6s 2ms/sample - loss: 0.0101 - val_loss: 0.0092\n",
      "Epoch 4/50\n",
      "2736/2736 [==============================] - 6s 2ms/sample - loss: 0.0101 - val_loss: 0.0091\n",
      "Epoch 5/50\n",
      "2736/2736 [==============================] - 6s 2ms/sample - loss: 0.0101 - val_loss: 0.0091\n",
      "Epoch 6/50\n",
      "2736/2736 [==============================] - 6s 2ms/sample - loss: 0.0101 - val_loss: 0.0091\n",
      "Epoch 7/50\n",
      "2736/2736 [==============================] - 6s 2ms/sample - loss: 0.0101 - val_loss: 0.0093\n",
      "Epoch 8/50\n",
      "2736/2736 [==============================] - 6s 2ms/sample - loss: 0.0101 - val_loss: 0.0094\n",
      "Epoch 9/50\n",
      "2736/2736 [==============================] - 6s 2ms/sample - loss: 0.0100 - val_loss: 0.0091\n",
      "Epoch 10/50\n",
      "2736/2736 [==============================] - 6s 2ms/sample - loss: 0.0100 - val_loss: 0.0092\n",
      "Epoch 11/50\n",
      "2736/2736 [==============================] - 6s 2ms/sample - loss: 0.0099 - val_loss: 0.0094\n",
      "Epoch 12/50\n",
      "2736/2736 [==============================] - 6s 2ms/sample - loss: 0.0100 - val_loss: 0.0093\n",
      "Epoch 13/50\n",
      "2736/2736 [==============================] - 6s 2ms/sample - loss: 0.0100 - val_loss: 0.0092\n",
      "Epoch 14/50\n",
      "2736/2736 [==============================] - 6s 2ms/sample - loss: 0.0099 - val_loss: 0.0100\n",
      "Epoch 15/50\n",
      "2736/2736 [==============================] - 6s 2ms/sample - loss: 0.0100 - val_loss: 0.0106\n",
      "Epoch 16/50\n",
      "2736/2736 [==============================] - 6s 2ms/sample - loss: 0.0100 - val_loss: 0.0093\n",
      "Epoch 17/50\n",
      "2736/2736 [==============================] - 7s 2ms/sample - loss: 0.0099 - val_loss: 0.0093\n",
      "Epoch 18/50\n",
      "2736/2736 [==============================] - 6s 2ms/sample - loss: 0.0099 - val_loss: 0.0092\n",
      "Epoch 19/50\n",
      "2736/2736 [==============================] - 6s 2ms/sample - loss: 0.0100 - val_loss: 0.0093\n",
      "Epoch 20/50\n",
      "2736/2736 [==============================] - 6s 2ms/sample - loss: 0.0099 - val_loss: 0.0091\n",
      "Epoch 21/50\n",
      "2736/2736 [==============================] - 6s 2ms/sample - loss: 0.0100 - val_loss: 0.0091\n",
      "Epoch 22/50\n",
      "2736/2736 [==============================] - 6s 2ms/sample - loss: 0.0100 - val_loss: 0.0092\n",
      "Epoch 23/50\n",
      "2736/2736 [==============================] - 6s 2ms/sample - loss: 0.0099 - val_loss: 0.0094\n",
      "Epoch 24/50\n",
      "2736/2736 [==============================] - 6s 2ms/sample - loss: 0.0100 - val_loss: 0.0090\n",
      "Epoch 25/50\n",
      "2736/2736 [==============================] - 6s 2ms/sample - loss: 0.0099 - val_loss: 0.0097\n",
      "Epoch 26/50\n",
      "2736/2736 [==============================] - 6s 2ms/sample - loss: 0.0099 - val_loss: 0.0102\n",
      "Epoch 27/50\n",
      "2736/2736 [==============================] - 6s 2ms/sample - loss: 0.0099 - val_loss: 0.0092\n",
      "Epoch 28/50\n",
      "2736/2736 [==============================] - 6s 2ms/sample - loss: 0.0099 - val_loss: 0.0106\n",
      "Epoch 29/50\n",
      "2736/2736 [==============================] - 6s 2ms/sample - loss: 0.0100 - val_loss: 0.0092\n",
      "Epoch 30/50\n",
      "2736/2736 [==============================] - 6s 2ms/sample - loss: 0.0100 - val_loss: 0.0094\n",
      "Epoch 31/50\n",
      "2736/2736 [==============================] - 6s 2ms/sample - loss: 0.0099 - val_loss: 0.0097\n",
      "Epoch 32/50\n",
      "2736/2736 [==============================] - 6s 2ms/sample - loss: 0.0099 - val_loss: 0.0091\n",
      "Epoch 33/50\n",
      "2736/2736 [==============================] - 6s 2ms/sample - loss: 0.0099 - val_loss: 0.0096\n",
      "Epoch 34/50\n",
      "2736/2736 [==============================] - 6s 2ms/sample - loss: 0.0099 - val_loss: 0.0100\n",
      "Epoch 35/50\n",
      "2736/2736 [==============================] - 6s 2ms/sample - loss: 0.0099 - val_loss: 0.0092\n",
      "Epoch 36/50\n",
      "2736/2736 [==============================] - 6s 2ms/sample - loss: 0.0099 - val_loss: 0.0092\n",
      "Epoch 37/50\n",
      "2736/2736 [==============================] - 6s 2ms/sample - loss: 0.0099 - val_loss: 0.0091\n",
      "Epoch 38/50\n",
      "2736/2736 [==============================] - 6s 2ms/sample - loss: 0.0099 - val_loss: 0.0099\n",
      "Epoch 39/50\n",
      "2736/2736 [==============================] - 6s 2ms/sample - loss: 0.0099 - val_loss: 0.0096\n",
      "Epoch 40/50\n",
      "2736/2736 [==============================] - 6s 2ms/sample - loss: 0.0100 - val_loss: 0.0104\n",
      "Epoch 41/50\n",
      "2736/2736 [==============================] - 6s 2ms/sample - loss: 0.0100 - val_loss: 0.0095\n",
      "Epoch 42/50\n",
      "2736/2736 [==============================] - 6s 2ms/sample - loss: 0.0099 - val_loss: 0.0095\n",
      "Epoch 43/50\n",
      "2736/2736 [==============================] - 6s 2ms/sample - loss: 0.0099 - val_loss: 0.0091\n",
      "Epoch 44/50\n",
      "2736/2736 [==============================] - 6s 2ms/sample - loss: 0.0099 - val_loss: 0.0095\n",
      "Epoch 45/50\n",
      "2736/2736 [==============================] - 6s 2ms/sample - loss: 0.0099 - val_loss: 0.0091\n",
      "Epoch 46/50\n",
      "2736/2736 [==============================] - 6s 2ms/sample - loss: 0.0100 - val_loss: 0.0091\n",
      "Epoch 47/50\n",
      "2736/2736 [==============================] - 7s 2ms/sample - loss: 0.0099 - val_loss: 0.0092\n",
      "Epoch 48/50\n",
      "2736/2736 [==============================] - 6s 2ms/sample - loss: 0.0099 - val_loss: 0.0091\n",
      "Epoch 49/50\n",
      "2736/2736 [==============================] - 6s 2ms/sample - loss: 0.0099 - val_loss: 0.0092\n",
      "Epoch 50/50\n",
      "2736/2736 [==============================] - 6s 2ms/sample - loss: 0.0100 - val_loss: 0.0091\n"
     ]
    },
    {
     "data": {
      "text/plain": [
       "<tensorflow.python.keras.callbacks.History at 0x7ffa610b6ef0>"
      ]
     },
     "execution_count": 27,
     "metadata": {
      "tags": []
     },
     "output_type": "execute_result"
    }
   ],
   "source": [
    "model.fit(X_train, y_train, epochs=50, validation_data=(X_test, y_test), batch_size=batch_size)"
   ]
  },
  {
   "cell_type": "markdown",
   "metadata": {
    "colab_type": "text",
    "id": "hqRlEmbjEqyG"
   },
   "source": [
    "## Question 9"
   ]
  },
  {
   "cell_type": "markdown",
   "metadata": {
    "colab_type": "text",
    "id": "12IhOtvUHJBF"
   },
   "source": [
    "### make predictions on train data\n",
    "- use predict() method\n",
    "  - batch_size: 1\n",
    "- store predictions in a variable"
   ]
  },
  {
   "cell_type": "code",
   "execution_count": 0,
   "metadata": {
    "ExecuteTime": {
     "start_time": "2020-03-01T09:57:55.532Z"
    },
    "colab": {},
    "colab_type": "code",
    "id": "iXWuJikQHURm"
   },
   "outputs": [],
   "source": [
    "trainPredict = model.predict(X_train)"
   ]
  },
  {
   "cell_type": "markdown",
   "metadata": {
    "colab_type": "text",
    "id": "XxxWOa-PsieH"
   },
   "source": [
    "### reset model state\n",
    "- if you are using stateful=True in your model then you should call reset_states every time, when you want to make consecutive model calls independent.\n",
    "- use reset_states() method"
   ]
  },
  {
   "cell_type": "code",
   "execution_count": 0,
   "metadata": {
    "ExecuteTime": {
     "start_time": "2020-03-01T09:57:55.544Z"
    },
    "colab": {},
    "colab_type": "code",
    "id": "ZdV5_F1Eo8SY"
   },
   "outputs": [],
   "source": [
    "model.reset_states()"
   ]
  },
  {
   "cell_type": "markdown",
   "metadata": {
    "colab_type": "text",
    "id": "KAhziPVBJD0u"
   },
   "source": [
    "### make predictions on test data\n",
    "- use predict() method\n",
    "  - batch_size: 1\n",
    "- store predictions in a variable"
   ]
  },
  {
   "cell_type": "code",
   "execution_count": 0,
   "metadata": {
    "ExecuteTime": {
     "start_time": "2020-03-01T09:57:55.575Z"
    },
    "colab": {},
    "colab_type": "code",
    "id": "HuHopEXNJU_y"
   },
   "outputs": [],
   "source": [
    "testPredict = model.predict(X_test)"
   ]
  },
  {
   "cell_type": "markdown",
   "metadata": {
    "colab_type": "text",
    "id": "pO81E-fsJruD"
   },
   "source": [
    "## Question 10"
   ]
  },
  {
   "cell_type": "markdown",
   "metadata": {
    "colab_type": "text",
    "id": "RImBG7sCtnlb"
   },
   "source": [
    "### Inverse train predictions and true labels\n",
    "- use your MinMaxSclarer object\n",
    "- use inverse_transform() method"
   ]
  },
  {
   "cell_type": "code",
   "execution_count": 0,
   "metadata": {
    "ExecuteTime": {
     "start_time": "2020-03-01T09:57:55.594Z"
    },
    "colab": {},
    "colab_type": "code",
    "id": "xXfce41cqN-h"
   },
   "outputs": [],
   "source": [
    "trainPredict = scaler.inverse_transform(trainPredict)"
   ]
  },
  {
   "cell_type": "markdown",
   "metadata": {
    "colab_type": "text",
    "id": "5fWSzk8cuPbp"
   },
   "source": [
    "### Inverse test predictions and true labels\n",
    "- use your MinMaxSclarer object\n",
    "- use inverse_transform() method"
   ]
  },
  {
   "cell_type": "code",
   "execution_count": 0,
   "metadata": {
    "ExecuteTime": {
     "start_time": "2020-03-01T09:57:55.607Z"
    },
    "colab": {},
    "colab_type": "code",
    "id": "nVJ1wMupuPbu"
   },
   "outputs": [],
   "source": [
    "testPredict = scaler.inverse_transform(testPredict)"
   ]
  },
  {
   "cell_type": "markdown",
   "metadata": {
    "colab_type": "text",
    "id": "VtowvAItJv6c"
   },
   "source": [
    "### Evaluate train predictions\n",
    "- calculate RMSE\n",
    "- RMSE = sqrt(mean_squared_error(true_labels, predicted_labels))\n",
    "- use sqrt() and mean_squared_error() method\n",
    "- print training RMSE"
   ]
  },
  {
   "cell_type": "code",
   "execution_count": 0,
   "metadata": {
    "ExecuteTime": {
     "start_time": "2020-03-01T09:57:55.629Z"
    },
    "colab": {},
    "colab_type": "code",
    "id": "GjXbis_bJ9GL"
   },
   "outputs": [],
   "source": [
    "train_mse = ((X_train - trainPredict) ** 2).mean()\n",
    "train_rmse = np.sqrt(train_mse)"
   ]
  },
  {
   "cell_type": "code",
   "execution_count": 34,
   "metadata": {
    "ExecuteTime": {
     "start_time": "2020-03-01T09:57:55.644Z"
    },
    "colab": {
     "base_uri": "https://localhost:8080/",
     "height": 34
    },
    "colab_type": "code",
    "id": "pLb65-QiqMDX",
    "outputId": "1527e38d-9866-456e-cb76-f8d37a7f3d10"
   },
   "outputs": [
    {
     "name": "stdout",
     "output_type": "stream",
     "text": [
      "The Root Mean Squared Error of our train data predictions: 11.004\n"
     ]
    }
   ],
   "source": [
    "print(f'The Root Mean Squared Error of our train data predictions: {round(train_rmse, 3)}')"
   ]
  },
  {
   "cell_type": "markdown",
   "metadata": {
    "colab_type": "text",
    "id": "DBOfSPRDvERE"
   },
   "source": [
    "### Evaluate test predictions\n",
    "- calculate RMSE\n",
    "- RMSE = sqrt(mean_squared_error(true_labels, predicted_labels))\n",
    "- use sqrt() and mean_squared_error() method\n",
    "- print testing RMSE"
   ]
  },
  {
   "cell_type": "code",
   "execution_count": 0,
   "metadata": {
    "ExecuteTime": {
     "start_time": "2020-03-01T09:57:55.661Z"
    },
    "colab": {},
    "colab_type": "code",
    "id": "NYEaAxTeinW_"
   },
   "outputs": [],
   "source": [
    "test_mse = ((X_train - testPredict) ** 2).mean()\n",
    "test_rmse = np.sqrt(test_mse)"
   ]
  },
  {
   "cell_type": "code",
   "execution_count": 36,
   "metadata": {
    "ExecuteTime": {
     "start_time": "2020-03-01T09:57:55.680Z"
    },
    "colab": {
     "base_uri": "https://localhost:8080/",
     "height": 34
    },
    "colab_type": "code",
    "id": "yVqKBIuxinXP",
    "outputId": "530df06e-4be2-4fa0-bee6-ec3250aa1af0"
   },
   "outputs": [
    {
     "name": "stdout",
     "output_type": "stream",
     "text": [
      "The Root Mean Squared Error of our test data predictions: 11.152\n"
     ]
    }
   ],
   "source": [
    "print(f'The Root Mean Squared Error of our test data predictions: {round(test_rmse, 3)}')"
   ]
  }
 ],
 "metadata": {
  "colab": {
   "collapsed_sections": [],
   "name": "Questions - Internal - Sequential NLP Lab - 16 Hours.ipynb",
   "provenance": []
  },
  "kernelspec": {
   "display_name": "Python 3",
   "language": "python",
   "name": "python3"
  },
  "language_info": {
   "codemirror_mode": {
    "name": "ipython",
    "version": 3
   },
   "file_extension": ".py",
   "mimetype": "text/x-python",
   "name": "python",
   "nbconvert_exporter": "python",
   "pygments_lexer": "ipython3",
   "version": "3.7.4"
  },
  "toc": {
   "base_numbering": 1,
   "nav_menu": {},
   "number_sections": true,
   "sideBar": true,
   "skip_h1_title": false,
   "title_cell": "Table of Contents",
   "title_sidebar": "Contents",
   "toc_cell": false,
   "toc_position": {},
   "toc_section_display": true,
   "toc_window_display": false
  },
  "varInspector": {
   "cols": {
    "lenName": 16,
    "lenType": 16,
    "lenVar": 40
   },
   "kernels_config": {
    "python": {
     "delete_cmd_postfix": "",
     "delete_cmd_prefix": "del ",
     "library": "var_list.py",
     "varRefreshCmd": "print(var_dic_list())"
    },
    "r": {
     "delete_cmd_postfix": ") ",
     "delete_cmd_prefix": "rm(",
     "library": "var_list.r",
     "varRefreshCmd": "cat(var_dic_list()) "
    }
   },
   "types_to_exclude": [
    "module",
    "function",
    "builtin_function_or_method",
    "instance",
    "_Feature"
   ],
   "window_display": false
  }
 },
 "nbformat": 4,
 "nbformat_minor": 1
}
