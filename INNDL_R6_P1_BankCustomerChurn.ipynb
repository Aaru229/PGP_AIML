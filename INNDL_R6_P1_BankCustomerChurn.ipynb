{
 "cells": [
  {
   "cell_type": "markdown",
   "metadata": {},
   "source": [
    "# Neural Networks & Deep Learning - Project 1"
   ]
  },
  {
   "cell_type": "markdown",
   "metadata": {},
   "source": [
    "### Dataset Used: Bank Customer Churn (Source: https://www.kaggle.com/barelydedicated/bank-customer-churn-modeling)"
   ]
  },
  {
   "cell_type": "markdown",
   "metadata": {},
   "source": [
    "### About the project:\n",
    "\n",
    "The objective of this project is to build a model in Neural Networks which can classify whether a Bank customer would leave or not based on the customer information available in the dataset format"
   ]
  },
  {
   "cell_type": "code",
   "execution_count": 1,
   "metadata": {},
   "outputs": [
    {
     "name": "stdout",
     "output_type": "stream",
     "text": [
      "2.0.0\n"
     ]
    }
   ],
   "source": [
    "# Load the tensorflow package\n",
    "import tensorflow as tf\n",
    "print(tf.__version__)"
   ]
  },
  {
   "cell_type": "code",
   "execution_count": 2,
   "metadata": {},
   "outputs": [],
   "source": [
    "tf.random.set_seed(10)"
   ]
  },
  {
   "cell_type": "code",
   "execution_count": 3,
   "metadata": {},
   "outputs": [],
   "source": [
    "# Load necessary packages\n",
    "import numpy as np\n",
    "import pandas as pd\n",
    "import warnings\n",
    "warnings.filterwarnings('ignore')"
   ]
  },
  {
   "cell_type": "markdown",
   "metadata": {},
   "source": [
    "## 1. Read the dataset"
   ]
  },
  {
   "cell_type": "code",
   "execution_count": 4,
   "metadata": {},
   "outputs": [],
   "source": [
    "df = pd.read_csv(\"bank.csv\")"
   ]
  },
  {
   "cell_type": "code",
   "execution_count": 5,
   "metadata": {},
   "outputs": [
    {
     "data": {
      "text/html": [
       "<div>\n",
       "<style scoped>\n",
       "    .dataframe tbody tr th:only-of-type {\n",
       "        vertical-align: middle;\n",
       "    }\n",
       "\n",
       "    .dataframe tbody tr th {\n",
       "        vertical-align: top;\n",
       "    }\n",
       "\n",
       "    .dataframe thead th {\n",
       "        text-align: right;\n",
       "    }\n",
       "</style>\n",
       "<table border=\"1\" class=\"dataframe\">\n",
       "  <thead>\n",
       "    <tr style=\"text-align: right;\">\n",
       "      <th></th>\n",
       "      <th>RowNumber</th>\n",
       "      <th>CustomerId</th>\n",
       "      <th>Surname</th>\n",
       "      <th>CreditScore</th>\n",
       "      <th>Geography</th>\n",
       "      <th>Gender</th>\n",
       "      <th>Age</th>\n",
       "      <th>Tenure</th>\n",
       "      <th>Balance</th>\n",
       "      <th>NumOfProducts</th>\n",
       "      <th>HasCrCard</th>\n",
       "      <th>IsActiveMember</th>\n",
       "      <th>EstimatedSalary</th>\n",
       "      <th>Exited</th>\n",
       "    </tr>\n",
       "  </thead>\n",
       "  <tbody>\n",
       "    <tr>\n",
       "      <th>0</th>\n",
       "      <td>1</td>\n",
       "      <td>15634602</td>\n",
       "      <td>Hargrave</td>\n",
       "      <td>619</td>\n",
       "      <td>France</td>\n",
       "      <td>Female</td>\n",
       "      <td>42</td>\n",
       "      <td>2</td>\n",
       "      <td>0.00</td>\n",
       "      <td>1</td>\n",
       "      <td>1</td>\n",
       "      <td>1</td>\n",
       "      <td>101348.88</td>\n",
       "      <td>1</td>\n",
       "    </tr>\n",
       "    <tr>\n",
       "      <th>1</th>\n",
       "      <td>2</td>\n",
       "      <td>15647311</td>\n",
       "      <td>Hill</td>\n",
       "      <td>608</td>\n",
       "      <td>Spain</td>\n",
       "      <td>Female</td>\n",
       "      <td>41</td>\n",
       "      <td>1</td>\n",
       "      <td>83807.86</td>\n",
       "      <td>1</td>\n",
       "      <td>0</td>\n",
       "      <td>1</td>\n",
       "      <td>112542.58</td>\n",
       "      <td>0</td>\n",
       "    </tr>\n",
       "    <tr>\n",
       "      <th>2</th>\n",
       "      <td>3</td>\n",
       "      <td>15619304</td>\n",
       "      <td>Onio</td>\n",
       "      <td>502</td>\n",
       "      <td>France</td>\n",
       "      <td>Female</td>\n",
       "      <td>42</td>\n",
       "      <td>8</td>\n",
       "      <td>159660.80</td>\n",
       "      <td>3</td>\n",
       "      <td>1</td>\n",
       "      <td>0</td>\n",
       "      <td>113931.57</td>\n",
       "      <td>1</td>\n",
       "    </tr>\n",
       "    <tr>\n",
       "      <th>3</th>\n",
       "      <td>4</td>\n",
       "      <td>15701354</td>\n",
       "      <td>Boni</td>\n",
       "      <td>699</td>\n",
       "      <td>France</td>\n",
       "      <td>Female</td>\n",
       "      <td>39</td>\n",
       "      <td>1</td>\n",
       "      <td>0.00</td>\n",
       "      <td>2</td>\n",
       "      <td>0</td>\n",
       "      <td>0</td>\n",
       "      <td>93826.63</td>\n",
       "      <td>0</td>\n",
       "    </tr>\n",
       "    <tr>\n",
       "      <th>4</th>\n",
       "      <td>5</td>\n",
       "      <td>15737888</td>\n",
       "      <td>Mitchell</td>\n",
       "      <td>850</td>\n",
       "      <td>Spain</td>\n",
       "      <td>Female</td>\n",
       "      <td>43</td>\n",
       "      <td>2</td>\n",
       "      <td>125510.82</td>\n",
       "      <td>1</td>\n",
       "      <td>1</td>\n",
       "      <td>1</td>\n",
       "      <td>79084.10</td>\n",
       "      <td>0</td>\n",
       "    </tr>\n",
       "  </tbody>\n",
       "</table>\n",
       "</div>"
      ],
      "text/plain": [
       "   RowNumber  CustomerId   Surname  CreditScore Geography  Gender  Age  \\\n",
       "0          1    15634602  Hargrave          619    France  Female   42   \n",
       "1          2    15647311      Hill          608     Spain  Female   41   \n",
       "2          3    15619304      Onio          502    France  Female   42   \n",
       "3          4    15701354      Boni          699    France  Female   39   \n",
       "4          5    15737888  Mitchell          850     Spain  Female   43   \n",
       "\n",
       "   Tenure    Balance  NumOfProducts  HasCrCard  IsActiveMember  \\\n",
       "0       2       0.00              1          1               1   \n",
       "1       1   83807.86              1          0               1   \n",
       "2       8  159660.80              3          1               0   \n",
       "3       1       0.00              2          0               0   \n",
       "4       2  125510.82              1          1               1   \n",
       "\n",
       "   EstimatedSalary  Exited  \n",
       "0        101348.88       1  \n",
       "1        112542.58       0  \n",
       "2        113931.57       1  \n",
       "3         93826.63       0  \n",
       "4         79084.10       0  "
      ]
     },
     "execution_count": 5,
     "metadata": {},
     "output_type": "execute_result"
    }
   ],
   "source": [
    "df.head()"
   ]
  },
  {
   "cell_type": "code",
   "execution_count": 6,
   "metadata": {},
   "outputs": [
    {
     "name": "stdout",
     "output_type": "stream",
     "text": [
      "<class 'pandas.core.frame.DataFrame'>\n",
      "RangeIndex: 10000 entries, 0 to 9999\n",
      "Data columns (total 14 columns):\n",
      "RowNumber          10000 non-null int64\n",
      "CustomerId         10000 non-null int64\n",
      "Surname            10000 non-null object\n",
      "CreditScore        10000 non-null int64\n",
      "Geography          10000 non-null object\n",
      "Gender             10000 non-null object\n",
      "Age                10000 non-null int64\n",
      "Tenure             10000 non-null int64\n",
      "Balance            10000 non-null float64\n",
      "NumOfProducts      10000 non-null int64\n",
      "HasCrCard          10000 non-null int64\n",
      "IsActiveMember     10000 non-null int64\n",
      "EstimatedSalary    10000 non-null float64\n",
      "Exited             10000 non-null int64\n",
      "dtypes: float64(2), int64(9), object(3)\n",
      "memory usage: 1.1+ MB\n"
     ]
    }
   ],
   "source": [
    "df.info()"
   ]
  },
  {
   "cell_type": "code",
   "execution_count": 7,
   "metadata": {},
   "outputs": [
    {
     "data": {
      "text/plain": [
       "0    7963\n",
       "1    2037\n",
       "Name: Exited, dtype: int64"
      ]
     },
     "execution_count": 7,
     "metadata": {},
     "output_type": "execute_result"
    }
   ],
   "source": [
    "df[\"Exited\"].value_counts()"
   ]
  },
  {
   "cell_type": "markdown",
   "metadata": {},
   "source": [
    "### 1. The given dataset has 13 independent variables, 1 dependent variable (Exited) and 10000 observations.\n",
    "### 2. No missing values.\n",
    "### 3. The target variable `Exited` has 2 values, 0 (No) and 1 (Yes) respectively. So, we need to build a binary classification model"
   ]
  },
  {
   "cell_type": "markdown",
   "metadata": {},
   "source": [
    "## 2. Drop the columns which are unique for all users like IDs"
   ]
  },
  {
   "cell_type": "markdown",
   "metadata": {},
   "source": [
    "The columns `RowNumber`, `CustomerId` and `Surname` are stored with unique values and identities. We can remove these columns as these have no significance in our model."
   ]
  },
  {
   "cell_type": "code",
   "execution_count": 8,
   "metadata": {},
   "outputs": [],
   "source": [
    "df = df.drop(labels=['RowNumber', 'CustomerId', 'Surname'], axis=1)"
   ]
  },
  {
   "cell_type": "code",
   "execution_count": 9,
   "metadata": {},
   "outputs": [
    {
     "name": "stdout",
     "output_type": "stream",
     "text": [
      "<class 'pandas.core.frame.DataFrame'>\n",
      "RangeIndex: 10000 entries, 0 to 9999\n",
      "Data columns (total 11 columns):\n",
      "CreditScore        10000 non-null int64\n",
      "Geography          10000 non-null object\n",
      "Gender             10000 non-null object\n",
      "Age                10000 non-null int64\n",
      "Tenure             10000 non-null int64\n",
      "Balance            10000 non-null float64\n",
      "NumOfProducts      10000 non-null int64\n",
      "HasCrCard          10000 non-null int64\n",
      "IsActiveMember     10000 non-null int64\n",
      "EstimatedSalary    10000 non-null float64\n",
      "Exited             10000 non-null int64\n",
      "dtypes: float64(2), int64(7), object(2)\n",
      "memory usage: 859.5+ KB\n"
     ]
    }
   ],
   "source": [
    "df.info()"
   ]
  },
  {
   "cell_type": "markdown",
   "metadata": {},
   "source": [
    "### Object data type to numbers"
   ]
  },
  {
   "cell_type": "code",
   "execution_count": 10,
   "metadata": {},
   "outputs": [
    {
     "data": {
      "text/html": [
       "<div>\n",
       "<style scoped>\n",
       "    .dataframe tbody tr th:only-of-type {\n",
       "        vertical-align: middle;\n",
       "    }\n",
       "\n",
       "    .dataframe tbody tr th {\n",
       "        vertical-align: top;\n",
       "    }\n",
       "\n",
       "    .dataframe thead th {\n",
       "        text-align: right;\n",
       "    }\n",
       "</style>\n",
       "<table border=\"1\" class=\"dataframe\">\n",
       "  <thead>\n",
       "    <tr style=\"text-align: right;\">\n",
       "      <th></th>\n",
       "      <th>CreditScore</th>\n",
       "      <th>Geography</th>\n",
       "      <th>Gender</th>\n",
       "      <th>Age</th>\n",
       "      <th>Tenure</th>\n",
       "      <th>Balance</th>\n",
       "      <th>NumOfProducts</th>\n",
       "      <th>HasCrCard</th>\n",
       "      <th>IsActiveMember</th>\n",
       "      <th>EstimatedSalary</th>\n",
       "      <th>Exited</th>\n",
       "    </tr>\n",
       "  </thead>\n",
       "  <tbody>\n",
       "    <tr>\n",
       "      <th>0</th>\n",
       "      <td>619</td>\n",
       "      <td>France</td>\n",
       "      <td>Female</td>\n",
       "      <td>42</td>\n",
       "      <td>2</td>\n",
       "      <td>0.00</td>\n",
       "      <td>1</td>\n",
       "      <td>1</td>\n",
       "      <td>1</td>\n",
       "      <td>101348.88</td>\n",
       "      <td>1</td>\n",
       "    </tr>\n",
       "    <tr>\n",
       "      <th>1</th>\n",
       "      <td>608</td>\n",
       "      <td>Spain</td>\n",
       "      <td>Female</td>\n",
       "      <td>41</td>\n",
       "      <td>1</td>\n",
       "      <td>83807.86</td>\n",
       "      <td>1</td>\n",
       "      <td>0</td>\n",
       "      <td>1</td>\n",
       "      <td>112542.58</td>\n",
       "      <td>0</td>\n",
       "    </tr>\n",
       "    <tr>\n",
       "      <th>2</th>\n",
       "      <td>502</td>\n",
       "      <td>France</td>\n",
       "      <td>Female</td>\n",
       "      <td>42</td>\n",
       "      <td>8</td>\n",
       "      <td>159660.80</td>\n",
       "      <td>3</td>\n",
       "      <td>1</td>\n",
       "      <td>0</td>\n",
       "      <td>113931.57</td>\n",
       "      <td>1</td>\n",
       "    </tr>\n",
       "    <tr>\n",
       "      <th>3</th>\n",
       "      <td>699</td>\n",
       "      <td>France</td>\n",
       "      <td>Female</td>\n",
       "      <td>39</td>\n",
       "      <td>1</td>\n",
       "      <td>0.00</td>\n",
       "      <td>2</td>\n",
       "      <td>0</td>\n",
       "      <td>0</td>\n",
       "      <td>93826.63</td>\n",
       "      <td>0</td>\n",
       "    </tr>\n",
       "    <tr>\n",
       "      <th>4</th>\n",
       "      <td>850</td>\n",
       "      <td>Spain</td>\n",
       "      <td>Female</td>\n",
       "      <td>43</td>\n",
       "      <td>2</td>\n",
       "      <td>125510.82</td>\n",
       "      <td>1</td>\n",
       "      <td>1</td>\n",
       "      <td>1</td>\n",
       "      <td>79084.10</td>\n",
       "      <td>0</td>\n",
       "    </tr>\n",
       "  </tbody>\n",
       "</table>\n",
       "</div>"
      ],
      "text/plain": [
       "   CreditScore Geography  Gender  Age  Tenure    Balance  NumOfProducts  \\\n",
       "0          619    France  Female   42       2       0.00              1   \n",
       "1          608     Spain  Female   41       1   83807.86              1   \n",
       "2          502    France  Female   42       8  159660.80              3   \n",
       "3          699    France  Female   39       1       0.00              2   \n",
       "4          850     Spain  Female   43       2  125510.82              1   \n",
       "\n",
       "   HasCrCard  IsActiveMember  EstimatedSalary  Exited  \n",
       "0          1               1        101348.88       1  \n",
       "1          0               1        112542.58       0  \n",
       "2          1               0        113931.57       1  \n",
       "3          0               0         93826.63       0  \n",
       "4          1               1         79084.10       0  "
      ]
     },
     "execution_count": 10,
     "metadata": {},
     "output_type": "execute_result"
    }
   ],
   "source": [
    "df.head()"
   ]
  },
  {
   "cell_type": "code",
   "execution_count": 11,
   "metadata": {},
   "outputs": [],
   "source": [
    "# import labelencoder\n",
    "from sklearn.preprocessing import LabelEncoder\n",
    "\n",
    "# instantiate labelencoder object\n",
    "le = LabelEncoder()"
   ]
  },
  {
   "cell_type": "code",
   "execution_count": 12,
   "metadata": {},
   "outputs": [],
   "source": [
    "df[[\"Geography\", \"Gender\"]] = df[[\"Geography\", \"Gender\"]].apply(lambda col: le.fit_transform(col))"
   ]
  },
  {
   "cell_type": "code",
   "execution_count": 13,
   "metadata": {},
   "outputs": [
    {
     "data": {
      "text/html": [
       "<div>\n",
       "<style scoped>\n",
       "    .dataframe tbody tr th:only-of-type {\n",
       "        vertical-align: middle;\n",
       "    }\n",
       "\n",
       "    .dataframe tbody tr th {\n",
       "        vertical-align: top;\n",
       "    }\n",
       "\n",
       "    .dataframe thead th {\n",
       "        text-align: right;\n",
       "    }\n",
       "</style>\n",
       "<table border=\"1\" class=\"dataframe\">\n",
       "  <thead>\n",
       "    <tr style=\"text-align: right;\">\n",
       "      <th></th>\n",
       "      <th>CreditScore</th>\n",
       "      <th>Geography</th>\n",
       "      <th>Gender</th>\n",
       "      <th>Age</th>\n",
       "      <th>Tenure</th>\n",
       "      <th>Balance</th>\n",
       "      <th>NumOfProducts</th>\n",
       "      <th>HasCrCard</th>\n",
       "      <th>IsActiveMember</th>\n",
       "      <th>EstimatedSalary</th>\n",
       "      <th>Exited</th>\n",
       "    </tr>\n",
       "  </thead>\n",
       "  <tbody>\n",
       "    <tr>\n",
       "      <th>0</th>\n",
       "      <td>619</td>\n",
       "      <td>0</td>\n",
       "      <td>0</td>\n",
       "      <td>42</td>\n",
       "      <td>2</td>\n",
       "      <td>0.00</td>\n",
       "      <td>1</td>\n",
       "      <td>1</td>\n",
       "      <td>1</td>\n",
       "      <td>101348.88</td>\n",
       "      <td>1</td>\n",
       "    </tr>\n",
       "    <tr>\n",
       "      <th>1</th>\n",
       "      <td>608</td>\n",
       "      <td>2</td>\n",
       "      <td>0</td>\n",
       "      <td>41</td>\n",
       "      <td>1</td>\n",
       "      <td>83807.86</td>\n",
       "      <td>1</td>\n",
       "      <td>0</td>\n",
       "      <td>1</td>\n",
       "      <td>112542.58</td>\n",
       "      <td>0</td>\n",
       "    </tr>\n",
       "    <tr>\n",
       "      <th>2</th>\n",
       "      <td>502</td>\n",
       "      <td>0</td>\n",
       "      <td>0</td>\n",
       "      <td>42</td>\n",
       "      <td>8</td>\n",
       "      <td>159660.80</td>\n",
       "      <td>3</td>\n",
       "      <td>1</td>\n",
       "      <td>0</td>\n",
       "      <td>113931.57</td>\n",
       "      <td>1</td>\n",
       "    </tr>\n",
       "    <tr>\n",
       "      <th>3</th>\n",
       "      <td>699</td>\n",
       "      <td>0</td>\n",
       "      <td>0</td>\n",
       "      <td>39</td>\n",
       "      <td>1</td>\n",
       "      <td>0.00</td>\n",
       "      <td>2</td>\n",
       "      <td>0</td>\n",
       "      <td>0</td>\n",
       "      <td>93826.63</td>\n",
       "      <td>0</td>\n",
       "    </tr>\n",
       "    <tr>\n",
       "      <th>4</th>\n",
       "      <td>850</td>\n",
       "      <td>2</td>\n",
       "      <td>0</td>\n",
       "      <td>43</td>\n",
       "      <td>2</td>\n",
       "      <td>125510.82</td>\n",
       "      <td>1</td>\n",
       "      <td>1</td>\n",
       "      <td>1</td>\n",
       "      <td>79084.10</td>\n",
       "      <td>0</td>\n",
       "    </tr>\n",
       "  </tbody>\n",
       "</table>\n",
       "</div>"
      ],
      "text/plain": [
       "   CreditScore  Geography  Gender  Age  Tenure    Balance  NumOfProducts  \\\n",
       "0          619          0       0   42       2       0.00              1   \n",
       "1          608          2       0   41       1   83807.86              1   \n",
       "2          502          0       0   42       8  159660.80              3   \n",
       "3          699          0       0   39       1       0.00              2   \n",
       "4          850          2       0   43       2  125510.82              1   \n",
       "\n",
       "   HasCrCard  IsActiveMember  EstimatedSalary  Exited  \n",
       "0          1               1        101348.88       1  \n",
       "1          0               1        112542.58       0  \n",
       "2          1               0        113931.57       1  \n",
       "3          0               0         93826.63       0  \n",
       "4          1               1         79084.10       0  "
      ]
     },
     "execution_count": 13,
     "metadata": {},
     "output_type": "execute_result"
    }
   ],
   "source": [
    "df.head()"
   ]
  },
  {
   "cell_type": "markdown",
   "metadata": {},
   "source": [
    "## 3. Distinguish the feature and target set"
   ]
  },
  {
   "cell_type": "code",
   "execution_count": 14,
   "metadata": {},
   "outputs": [],
   "source": [
    "X = df.drop(\"Exited\", axis=1).to_numpy()\n",
    "y = df[[\"Exited\"]].to_numpy()"
   ]
  },
  {
   "cell_type": "code",
   "execution_count": 15,
   "metadata": {},
   "outputs": [],
   "source": [
    "X = X.astype('float32')\n",
    "y = y.astype('float32')"
   ]
  },
  {
   "cell_type": "code",
   "execution_count": 16,
   "metadata": {},
   "outputs": [
    {
     "data": {
      "text/plain": [
       "((10000, 10), (10000, 1))"
      ]
     },
     "execution_count": 16,
     "metadata": {},
     "output_type": "execute_result"
    }
   ],
   "source": [
    "X.shape, y.shape"
   ]
  },
  {
   "cell_type": "markdown",
   "metadata": {},
   "source": [
    "## 4. Divide the data set into train and test sets"
   ]
  },
  {
   "cell_type": "code",
   "execution_count": 17,
   "metadata": {},
   "outputs": [],
   "source": [
    "from sklearn.model_selection import train_test_split\n",
    "\n",
    "# Splitting data into train and test in 70:30 ratio\n",
    "X_train, X_test, y_train, y_test = train_test_split(X, y, test_size=0.30, random_state=7)"
   ]
  },
  {
   "cell_type": "code",
   "execution_count": 18,
   "metadata": {},
   "outputs": [
    {
     "data": {
      "text/plain": [
       "((7000, 10), (7000, 1))"
      ]
     },
     "execution_count": 18,
     "metadata": {},
     "output_type": "execute_result"
    }
   ],
   "source": [
    "X_train.shape, y_train.shape"
   ]
  },
  {
   "cell_type": "code",
   "execution_count": 19,
   "metadata": {},
   "outputs": [
    {
     "data": {
      "text/plain": [
       "((3000, 10), (3000, 1))"
      ]
     },
     "execution_count": 19,
     "metadata": {},
     "output_type": "execute_result"
    }
   ],
   "source": [
    "X_test.shape, y_test.shape"
   ]
  },
  {
   "cell_type": "markdown",
   "metadata": {},
   "source": [
    "## 5. Normalize the train and test data"
   ]
  },
  {
   "cell_type": "code",
   "execution_count": 20,
   "metadata": {},
   "outputs": [],
   "source": [
    "from sklearn.preprocessing import StandardScaler\n",
    "scaler = StandardScaler()\n",
    "\n",
    "X_train = scaler.fit_transform(X_train)"
   ]
  },
  {
   "cell_type": "code",
   "execution_count": 21,
   "metadata": {},
   "outputs": [],
   "source": [
    "# X_test has testing features set\n",
    "X_test = scaler.fit_transform(X_test)"
   ]
  },
  {
   "cell_type": "markdown",
   "metadata": {},
   "source": [
    "## 6. Initialize & build the model"
   ]
  },
  {
   "cell_type": "code",
   "execution_count": 22,
   "metadata": {},
   "outputs": [],
   "source": [
    "# Import model packages\n",
    "from tensorflow.keras.models import Sequential\n",
    "from tensorflow.keras.layers import Dense, Activation, Dropout"
   ]
  },
  {
   "cell_type": "markdown",
   "metadata": {},
   "source": [
    "### Let us add a baseline model and test the accuracy and then we can optimize the model by introducing additional parameters and hidden layers"
   ]
  },
  {
   "cell_type": "code",
   "execution_count": 23,
   "metadata": {},
   "outputs": [],
   "source": [
    "model = Sequential()"
   ]
  },
  {
   "cell_type": "code",
   "execution_count": 24,
   "metadata": {},
   "outputs": [],
   "source": [
    "model.add(Dense(12, input_shape=(X_train.shape[1],), activation='relu'))\n",
    "# Output layer\n",
    "model.add(Dense(1, activation='sigmoid'))\n",
    "\n",
    "# Compile model\n",
    "model.compile(loss='binary_crossentropy', optimizer='adam', metrics=['accuracy'])"
   ]
  },
  {
   "cell_type": "code",
   "execution_count": 25,
   "metadata": {},
   "outputs": [
    {
     "name": "stdout",
     "output_type": "stream",
     "text": [
      "Model: \"sequential\"\n",
      "_________________________________________________________________\n",
      "Layer (type)                 Output Shape              Param #   \n",
      "=================================================================\n",
      "dense (Dense)                (None, 12)                132       \n",
      "_________________________________________________________________\n",
      "dense_1 (Dense)              (None, 1)                 13        \n",
      "=================================================================\n",
      "Total params: 145\n",
      "Trainable params: 145\n",
      "Non-trainable params: 0\n",
      "_________________________________________________________________\n"
     ]
    }
   ],
   "source": [
    "model.summary()"
   ]
  },
  {
   "cell_type": "code",
   "execution_count": 26,
   "metadata": {},
   "outputs": [
    {
     "name": "stdout",
     "output_type": "stream",
     "text": [
      "Train on 7000 samples\n",
      "Epoch 1/50\n",
      "7000/7000 [==============================] - 9s 1ms/sample - loss: 0.5120 - accuracy: 0.7763\n",
      "Epoch 2/50\n",
      "7000/7000 [==============================] - 3s 373us/sample - loss: 0.4404 - accuracy: 0.8016\n",
      "Epoch 3/50\n",
      "7000/7000 [==============================] - 2s 273us/sample - loss: 0.4201 - accuracy: 0.8179\n",
      "Epoch 4/50\n",
      "7000/7000 [==============================] - 2s 287us/sample - loss: 0.4061 - accuracy: 0.8261\n",
      "Epoch 5/50\n",
      "7000/7000 [==============================] - 2s 256us/sample - loss: 0.3945 - accuracy: 0.8353\n",
      "Epoch 6/50\n",
      "7000/7000 [==============================] - 2s 218us/sample - loss: 0.3845 - accuracy: 0.8411\n",
      "Epoch 7/50\n",
      "7000/7000 [==============================] - 2s 227us/sample - loss: 0.3760 - accuracy: 0.8470\n",
      "Epoch 8/50\n",
      "7000/7000 [==============================] - 2s 243us/sample - loss: 0.3691 - accuracy: 0.8493\n",
      "Epoch 9/50\n",
      "7000/7000 [==============================] - 2s 277us/sample - loss: 0.3635 - accuracy: 0.8530\n",
      "Epoch 10/50\n",
      "7000/7000 [==============================] - 2s 322us/sample - loss: 0.3590 - accuracy: 0.8554\n",
      "Epoch 11/50\n",
      "7000/7000 [==============================] - 2s 318us/sample - loss: 0.3559 - accuracy: 0.8560\n",
      "Epoch 12/50\n",
      "7000/7000 [==============================] - 2s 279us/sample - loss: 0.3532 - accuracy: 0.8563\n",
      "Epoch 13/50\n",
      "7000/7000 [==============================] - 2s 292us/sample - loss: 0.3512 - accuracy: 0.8541\n",
      "Epoch 14/50\n",
      "7000/7000 [==============================] - 2s 296us/sample - loss: 0.3498 - accuracy: 0.8576\n",
      "Epoch 15/50\n",
      "7000/7000 [==============================] - 2s 305us/sample - loss: 0.3489 - accuracy: 0.8566\n",
      "Epoch 16/50\n",
      "7000/7000 [==============================] - 2s 291us/sample - loss: 0.3477 - accuracy: 0.8559\n",
      "Epoch 17/50\n",
      "7000/7000 [==============================] - 2s 340us/sample - loss: 0.3470 - accuracy: 0.8579\n",
      "Epoch 18/50\n",
      "7000/7000 [==============================] - 2s 315us/sample - loss: 0.3465 - accuracy: 0.8583\n",
      "Epoch 19/50\n",
      "7000/7000 [==============================] - 2s 332us/sample - loss: 0.3460 - accuracy: 0.8576\n",
      "Epoch 20/50\n",
      "7000/7000 [==============================] - 2s 286us/sample - loss: 0.3454 - accuracy: 0.8583\n",
      "Epoch 21/50\n",
      "7000/7000 [==============================] - 2s 338us/sample - loss: 0.3453 - accuracy: 0.8590\n",
      "Epoch 22/50\n",
      "7000/7000 [==============================] - 1s 193us/sample - loss: 0.3446 - accuracy: 0.8580\n",
      "Epoch 23/50\n",
      "7000/7000 [==============================] - 1s 182us/sample - loss: 0.3445 - accuracy: 0.8584\n",
      "Epoch 24/50\n",
      "7000/7000 [==============================] - 1s 177us/sample - loss: 0.3437 - accuracy: 0.8590\n",
      "Epoch 25/50\n",
      "7000/7000 [==============================] - 1s 174us/sample - loss: 0.3439 - accuracy: 0.8599\n",
      "Epoch 26/50\n",
      "7000/7000 [==============================] - 1s 151us/sample - loss: 0.3438 - accuracy: 0.8607\n",
      "Epoch 27/50\n",
      "7000/7000 [==============================] - 1s 174us/sample - loss: 0.3432 - accuracy: 0.8601\n",
      "Epoch 28/50\n",
      "7000/7000 [==============================] - 1s 159us/sample - loss: 0.3428 - accuracy: 0.8606\n",
      "Epoch 29/50\n",
      "7000/7000 [==============================] - 1s 194us/sample - loss: 0.3428 - accuracy: 0.8596\n",
      "Epoch 30/50\n",
      "7000/7000 [==============================] - 1s 174us/sample - loss: 0.3425 - accuracy: 0.8599\n",
      "Epoch 31/50\n",
      "7000/7000 [==============================] - 1s 169us/sample - loss: 0.3423 - accuracy: 0.8603\n",
      "Epoch 32/50\n",
      "7000/7000 [==============================] - 1s 180us/sample - loss: 0.3419 - accuracy: 0.8596\n",
      "Epoch 33/50\n",
      "7000/7000 [==============================] - 1s 166us/sample - loss: 0.3417 - accuracy: 0.8593\n",
      "Epoch 34/50\n",
      "7000/7000 [==============================] - 1s 167us/sample - loss: 0.3418 - accuracy: 0.8601\n",
      "Epoch 35/50\n",
      "7000/7000 [==============================] - 1s 167us/sample - loss: 0.3415 - accuracy: 0.8614\n",
      "Epoch 36/50\n",
      "7000/7000 [==============================] - 1s 191us/sample - loss: 0.3414 - accuracy: 0.8626\n",
      "Epoch 37/50\n",
      "7000/7000 [==============================] - 1s 195us/sample - loss: 0.3411 - accuracy: 0.8611\n",
      "Epoch 38/50\n",
      "7000/7000 [==============================] - 1s 178us/sample - loss: 0.3411 - accuracy: 0.8604\n",
      "Epoch 39/50\n",
      "7000/7000 [==============================] - 1s 174us/sample - loss: 0.3406 - accuracy: 0.8606\n",
      "Epoch 40/50\n",
      "7000/7000 [==============================] - 1s 172us/sample - loss: 0.3406 - accuracy: 0.8611\n",
      "Epoch 41/50\n",
      "7000/7000 [==============================] - 1s 168us/sample - loss: 0.3406 - accuracy: 0.8616\n",
      "Epoch 42/50\n",
      "7000/7000 [==============================] - 1s 184us/sample - loss: 0.3405 - accuracy: 0.8610\n",
      "Epoch 43/50\n",
      "7000/7000 [==============================] - 1s 166us/sample - loss: 0.3401 - accuracy: 0.8603\n",
      "Epoch 44/50\n",
      "7000/7000 [==============================] - 1s 169us/sample - loss: 0.3403 - accuracy: 0.8613\n",
      "Epoch 45/50\n",
      "7000/7000 [==============================] - 1s 179us/sample - loss: 0.3400 - accuracy: 0.8606\n",
      "Epoch 46/50\n",
      "7000/7000 [==============================] - 1s 169us/sample - loss: 0.3402 - accuracy: 0.8633\n",
      "Epoch 47/50\n",
      "7000/7000 [==============================] - 1s 166us/sample - loss: 0.3398 - accuracy: 0.8619\n",
      "Epoch 48/50\n",
      "7000/7000 [==============================] - 1s 172us/sample - loss: 0.3400 - accuracy: 0.8631\n",
      "Epoch 49/50\n",
      "7000/7000 [==============================] - 1s 195us/sample - loss: 0.3399 - accuracy: 0.8624\n",
      "Epoch 50/50\n",
      "7000/7000 [==============================] - 1s 193us/sample - loss: 0.3395 - accuracy: 0.8611\n"
     ]
    },
    {
     "data": {
      "text/plain": [
       "<tensorflow.python.keras.callbacks.History at 0x1b8ab588c88>"
      ]
     },
     "execution_count": 26,
     "metadata": {},
     "output_type": "execute_result"
    }
   ],
   "source": [
    "model.fit(X_train, y_train, batch_size=16, epochs=50)"
   ]
  },
  {
   "cell_type": "markdown",
   "metadata": {},
   "source": [
    "## 7. Optimize the model"
   ]
  },
  {
   "cell_type": "markdown",
   "metadata": {},
   "source": [
    "### Let us introduce Dropout rate and add more hidden layers to optimize the model"
   ]
  },
  {
   "cell_type": "code",
   "execution_count": 27,
   "metadata": {},
   "outputs": [],
   "source": [
    "model1 = Sequential()\n",
    "\n",
    "# Input_shape is required for the first hidden layer, as it is the starting point. --> number of nodes.\n",
    "# Implement dropout rate to avoid model to over learning. It drops 10% of the neurons in each epoch. \n",
    "# It helps every neuron to learn the patters\n",
    "model1.add(Dense(12, input_shape=(X_train.shape[1],)))\n",
    "model1.add(Dropout(0.1))\n",
    "model1.add(Activation('relu'))\n",
    "\n",
    "#As we want to implement Deep Learning, we are adding many layers\n",
    "model1.add(Dense(24))\n",
    "model1.add(Dropout(0.1))\n",
    "model1.add(Activation('relu'))\n",
    "\n",
    "model1.add(Dense(36))\n",
    "model1.add(Dropout(0.1))\n",
    "model1.add(Activation('relu'))\n",
    "\n",
    "model1.add(Dense(24))\n",
    "model1.add(Dropout(0.1))\n",
    "model1.add(Activation('relu'))\n",
    "\n",
    "model1.add(Dense(12))\n",
    "model1.add(Activation('relu'))"
   ]
  },
  {
   "cell_type": "code",
   "execution_count": 28,
   "metadata": {},
   "outputs": [],
   "source": [
    "# Adding the output layer\n",
    "# we have an output of 1 node, which is the the desired dimensions of our output (stay with the bank or not)\n",
    "# We use the sigmoid because we want probability outcomes\n",
    "\n",
    "model1.add(Dense(1))\n",
    "model1.add(Activation('sigmoid'))"
   ]
  },
  {
   "cell_type": "markdown",
   "metadata": {},
   "source": [
    "The breakdown of the inputs for compiling is as follows:\n",
    "\n",
    "`optimizer`: adam The algorithm we want to use to find the optimal set of weights in the neural networks. Adam is a very efficeint variation of Stochastic Gradient Descent.\n",
    "\n",
    "`loss`: binary_crossentropy This is the loss function used within adam. As our dependent (output variable) is Binary, we can use binary_crossentropy.\n",
    "\n",
    "`metrics: [accuracy]` The accuracy metrics which will be evaluated(minimized) by the model. Used as accuracy criteria to imporve model performance."
   ]
  },
  {
   "cell_type": "code",
   "execution_count": 29,
   "metadata": {},
   "outputs": [],
   "source": [
    "model1.compile(optimizer='adam', loss='binary_crossentropy', metrics=['accuracy'])"
   ]
  },
  {
   "cell_type": "code",
   "execution_count": 30,
   "metadata": {},
   "outputs": [
    {
     "name": "stdout",
     "output_type": "stream",
     "text": [
      "Model: \"sequential_1\"\n",
      "_________________________________________________________________\n",
      "Layer (type)                 Output Shape              Param #   \n",
      "=================================================================\n",
      "dense_2 (Dense)              (None, 12)                132       \n",
      "_________________________________________________________________\n",
      "dropout (Dropout)            (None, 12)                0         \n",
      "_________________________________________________________________\n",
      "activation (Activation)      (None, 12)                0         \n",
      "_________________________________________________________________\n",
      "dense_3 (Dense)              (None, 24)                312       \n",
      "_________________________________________________________________\n",
      "dropout_1 (Dropout)          (None, 24)                0         \n",
      "_________________________________________________________________\n",
      "activation_1 (Activation)    (None, 24)                0         \n",
      "_________________________________________________________________\n",
      "dense_4 (Dense)              (None, 36)                900       \n",
      "_________________________________________________________________\n",
      "dropout_2 (Dropout)          (None, 36)                0         \n",
      "_________________________________________________________________\n",
      "activation_2 (Activation)    (None, 36)                0         \n",
      "_________________________________________________________________\n",
      "dense_5 (Dense)              (None, 24)                888       \n",
      "_________________________________________________________________\n",
      "dropout_3 (Dropout)          (None, 24)                0         \n",
      "_________________________________________________________________\n",
      "activation_3 (Activation)    (None, 24)                0         \n",
      "_________________________________________________________________\n",
      "dense_6 (Dense)              (None, 12)                300       \n",
      "_________________________________________________________________\n",
      "activation_4 (Activation)    (None, 12)                0         \n",
      "_________________________________________________________________\n",
      "dense_7 (Dense)              (None, 1)                 13        \n",
      "_________________________________________________________________\n",
      "activation_5 (Activation)    (None, 1)                 0         \n",
      "=================================================================\n",
      "Total params: 2,545\n",
      "Trainable params: 2,545\n",
      "Non-trainable params: 0\n",
      "_________________________________________________________________\n"
     ]
    }
   ],
   "source": [
    "model1.summary()"
   ]
  },
  {
   "cell_type": "code",
   "execution_count": 31,
   "metadata": {},
   "outputs": [
    {
     "name": "stdout",
     "output_type": "stream",
     "text": [
      "Train on 7000 samples\n",
      "Epoch 1/50\n",
      "7000/7000 [==============================] - 7s 979us/sample - loss: 0.4891 - accuracy: 0.7910\n",
      "Epoch 2/50\n",
      "7000/7000 [==============================] - 2s 293us/sample - loss: 0.4187 - accuracy: 0.8204\n",
      "Epoch 3/50\n",
      "7000/7000 [==============================] - 2s 305us/sample - loss: 0.4007 - accuracy: 0.8377\n",
      "Epoch 4/50\n",
      "7000/7000 [==============================] - 2s 316us/sample - loss: 0.3918 - accuracy: 0.8344\n",
      "Epoch 5/50\n",
      "7000/7000 [==============================] - 2s 287us/sample - loss: 0.3866 - accuracy: 0.8374\n",
      "Epoch 6/50\n",
      "7000/7000 [==============================] - 2s 302us/sample - loss: 0.3793 - accuracy: 0.8401\n",
      "Epoch 7/50\n",
      "7000/7000 [==============================] - 3s 380us/sample - loss: 0.3811 - accuracy: 0.8434\n",
      "Epoch 8/50\n",
      "7000/7000 [==============================] - 2s 331us/sample - loss: 0.3710 - accuracy: 0.8476\n",
      "Epoch 9/50\n",
      "7000/7000 [==============================] - 2s 307us/sample - loss: 0.3756 - accuracy: 0.8457\n",
      "Epoch 10/50\n",
      "7000/7000 [==============================] - 2s 343us/sample - loss: 0.3700 - accuracy: 0.8474\n",
      "Epoch 11/50\n",
      "7000/7000 [==============================] - 3s 437us/sample - loss: 0.3689 - accuracy: 0.8481 - loss:\n",
      "Epoch 12/50\n",
      "7000/7000 [==============================] - 2s 224us/sample - loss: 0.3663 - accuracy: 0.8460\n",
      "Epoch 13/50\n",
      "7000/7000 [==============================] - 2s 234us/sample - loss: 0.3656 - accuracy: 0.8483\n",
      "Epoch 14/50\n",
      "7000/7000 [==============================] - 2s 272us/sample - loss: 0.3592 - accuracy: 0.8509\n",
      "Epoch 15/50\n",
      "7000/7000 [==============================] - 2s 237us/sample - loss: 0.3633 - accuracy: 0.8493\n",
      "Epoch 16/50\n",
      "7000/7000 [==============================] - 2s 222us/sample - loss: 0.3589 - accuracy: 0.8510\n",
      "Epoch 17/50\n",
      "7000/7000 [==============================] - 2s 248us/sample - loss: 0.3592 - accuracy: 0.8514\n",
      "Epoch 18/50\n",
      "7000/7000 [==============================] - 1s 206us/sample - loss: 0.3582 - accuracy: 0.8529\n",
      "Epoch 19/50\n",
      "7000/7000 [==============================] - 2s 289us/sample - loss: 0.3617 - accuracy: 0.8499\n",
      "Epoch 20/50\n",
      "7000/7000 [==============================] - 2s 301us/sample - loss: 0.3601 - accuracy: 0.8543\n",
      "Epoch 21/50\n",
      "7000/7000 [==============================] - 2s 232us/sample - loss: 0.3541 - accuracy: 0.8576\n",
      "Epoch 22/50\n",
      "7000/7000 [==============================] - 2s 318us/sample - loss: 0.3525 - accuracy: 0.8570\n",
      "Epoch 23/50\n",
      "7000/7000 [==============================] - 2s 253us/sample - loss: 0.3517 - accuracy: 0.8533\n",
      "Epoch 24/50\n",
      "7000/7000 [==============================] - 2s 220us/sample - loss: 0.3525 - accuracy: 0.8547\n",
      "Epoch 25/50\n",
      "7000/7000 [==============================] - 2s 311us/sample - loss: 0.3556 - accuracy: 0.8519\n",
      "Epoch 26/50\n",
      "7000/7000 [==============================] - 3s 431us/sample - loss: 0.3503 - accuracy: 0.8579\n",
      "Epoch 27/50\n",
      "7000/7000 [==============================] - 2s 353us/sample - loss: 0.3542 - accuracy: 0.8541\n",
      "Epoch 28/50\n",
      "7000/7000 [==============================] - 4s 606us/sample - loss: 0.3515 - accuracy: 0.8527\n",
      "Epoch 29/50\n",
      "7000/7000 [==============================] - 2s 355us/sample - loss: 0.3492 - accuracy: 0.8579\n",
      "Epoch 30/50\n",
      "7000/7000 [==============================] - 3s 357us/sample - loss: 0.3511 - accuracy: 0.8553\n",
      "Epoch 31/50\n",
      "7000/7000 [==============================] - 3s 389us/sample - loss: 0.3499 - accuracy: 0.8559\n",
      "Epoch 32/50\n",
      "7000/7000 [==============================] - 3s 386us/sample - loss: 0.3498 - accuracy: 0.8557\n",
      "Epoch 33/50\n",
      "7000/7000 [==============================] - 2s 305us/sample - loss: 0.3531 - accuracy: 0.8520\n",
      "Epoch 34/50\n",
      "7000/7000 [==============================] - 2s 314us/sample - loss: 0.3506 - accuracy: 0.8521\n",
      "Epoch 35/50\n",
      "7000/7000 [==============================] - 2s 316us/sample - loss: 0.3549 - accuracy: 0.8506\n",
      "Epoch 36/50\n",
      "7000/7000 [==============================] - 2s 215us/sample - loss: 0.3471 - accuracy: 0.8573\n",
      "Epoch 37/50\n",
      "7000/7000 [==============================] - 1s 211us/sample - loss: 0.3490 - accuracy: 0.8587\n",
      "Epoch 38/50\n",
      "7000/7000 [==============================] - 1s 209us/sample - loss: 0.3494 - accuracy: 0.8561\n",
      "Epoch 39/50\n",
      "7000/7000 [==============================] - 1s 210us/sample - loss: 0.3532 - accuracy: 0.8520\n",
      "Epoch 40/50\n",
      "7000/7000 [==============================] - 1s 212us/sample - loss: 0.3444 - accuracy: 0.8553\n",
      "Epoch 41/50\n",
      "7000/7000 [==============================] - 2s 229us/sample - loss: 0.3447 - accuracy: 0.8571\n",
      "Epoch 42/50\n",
      "7000/7000 [==============================] - 2s 223us/sample - loss: 0.3442 - accuracy: 0.8587\n",
      "Epoch 43/50\n",
      "7000/7000 [==============================] - 1s 213us/sample - loss: 0.3467 - accuracy: 0.8583\n",
      "Epoch 44/50\n",
      "7000/7000 [==============================] - 2s 234us/sample - loss: 0.3428 - accuracy: 0.8561\n",
      "Epoch 45/50\n",
      "7000/7000 [==============================] - 2s 251us/sample - loss: 0.3417 - accuracy: 0.8591\n",
      "Epoch 46/50\n",
      "7000/7000 [==============================] - 2s 226us/sample - loss: 0.3415 - accuracy: 0.8556\n",
      "Epoch 47/50\n",
      "7000/7000 [==============================] - 2s 214us/sample - loss: 0.3465 - accuracy: 0.8576\n",
      "Epoch 48/50\n",
      "7000/7000 [==============================] - 2s 239us/sample - loss: 0.3451 - accuracy: 0.8581\n",
      "Epoch 49/50\n",
      "7000/7000 [==============================] - 2s 289us/sample - loss: 0.3447 - accuracy: 0.8571\n",
      "Epoch 50/50\n",
      "7000/7000 [==============================] - 2s 231us/sample - loss: 0.3402 - accuracy: 0.8596\n"
     ]
    },
    {
     "data": {
      "text/plain": [
       "<tensorflow.python.keras.callbacks.History at 0x1b8ac0265c0>"
      ]
     },
     "execution_count": 31,
     "metadata": {},
     "output_type": "execute_result"
    }
   ],
   "source": [
    "model1.fit(X_train, y_train, batch_size=16, epochs=50)"
   ]
  },
  {
   "cell_type": "markdown",
   "metadata": {},
   "source": [
    "### Adding more hidden layers and dropout rate haven't improved the accuracy and it remains in 86%"
   ]
  },
  {
   "cell_type": "markdown",
   "metadata": {},
   "source": [
    "## 8. Predict the results using 0.5 as a threshold"
   ]
  },
  {
   "cell_type": "code",
   "execution_count": 32,
   "metadata": {},
   "outputs": [
    {
     "name": "stdout",
     "output_type": "stream",
     "text": [
      "[[0.6797044 ]\n",
      " [0.08563331]\n",
      " [0.05012977]\n",
      " [0.75091594]\n",
      " [0.0688076 ]]\n"
     ]
    }
   ],
   "source": [
    "y_pred = model1.predict(X_test)\n",
    "\n",
    "# Print the first 5 predictions probabilities\n",
    "print(y_pred[:5])"
   ]
  },
  {
   "cell_type": "markdown",
   "metadata": {},
   "source": [
    "### To make the Confusion Matrix, we need to convert the probabilities that a customer will leave the bank into the form `true or false`. So we will use the cutoff value 0.5 to indicate whether they are likely to exit or not."
   ]
  },
  {
   "cell_type": "code",
   "execution_count": 33,
   "metadata": {},
   "outputs": [
    {
     "name": "stdout",
     "output_type": "stream",
     "text": [
      "[[1]\n",
      " [0]\n",
      " [0]\n",
      " [1]\n",
      " [0]]\n"
     ]
    }
   ],
   "source": [
    "y_pred = (y_pred > 0.5).astype(int)\n",
    "\n",
    "# Print the first 5 predictions\n",
    "print(y_pred[:5])"
   ]
  },
  {
   "cell_type": "markdown",
   "metadata": {},
   "source": [
    "## 9. Print the Accuracy score and confusion matrix"
   ]
  },
  {
   "cell_type": "code",
   "execution_count": 34,
   "metadata": {},
   "outputs": [],
   "source": [
    "from sklearn.metrics import confusion_matrix\n",
    "\n",
    "cm = confusion_matrix(y_test, y_pred)"
   ]
  },
  {
   "cell_type": "code",
   "execution_count": 35,
   "metadata": {},
   "outputs": [
    {
     "data": {
      "text/html": [
       "<div>\n",
       "<style scoped>\n",
       "    .dataframe tbody tr th:only-of-type {\n",
       "        vertical-align: middle;\n",
       "    }\n",
       "\n",
       "    .dataframe tbody tr th {\n",
       "        vertical-align: top;\n",
       "    }\n",
       "\n",
       "    .dataframe thead th {\n",
       "        text-align: right;\n",
       "    }\n",
       "</style>\n",
       "<table border=\"1\" class=\"dataframe\">\n",
       "  <thead>\n",
       "    <tr style=\"text-align: right;\">\n",
       "      <th></th>\n",
       "      <th>Predicted: No</th>\n",
       "      <th>Predicted: Yes</th>\n",
       "    </tr>\n",
       "  </thead>\n",
       "  <tbody>\n",
       "    <tr>\n",
       "      <th>Actual: No</th>\n",
       "      <td>2240</td>\n",
       "      <td>155</td>\n",
       "    </tr>\n",
       "    <tr>\n",
       "      <th>Actual: Yes</th>\n",
       "      <td>282</td>\n",
       "      <td>323</td>\n",
       "    </tr>\n",
       "  </tbody>\n",
       "</table>\n",
       "</div>"
      ],
      "text/plain": [
       "             Predicted: No  Predicted: Yes\n",
       "Actual: No            2240             155\n",
       "Actual: Yes            282             323"
      ]
     },
     "execution_count": 35,
     "metadata": {},
     "output_type": "execute_result"
    }
   ],
   "source": [
    "pd.DataFrame(cm, columns=['Predicted: No', 'Predicted: Yes'], index=['Actual: No', 'Actual: Yes'])"
   ]
  },
  {
   "cell_type": "code",
   "execution_count": 36,
   "metadata": {},
   "outputs": [
    {
     "name": "stdout",
     "output_type": "stream",
     "text": [
      "85.43333333333334 % of testing data was classified correctly\n"
     ]
    }
   ],
   "source": [
    "print(((cm[0][0]+cm[1][1])*100)/(len(y_test)), '% of testing data was classified correctly')"
   ]
  },
  {
   "cell_type": "code",
   "execution_count": 37,
   "metadata": {},
   "outputs": [
    {
     "name": "stdout",
     "output_type": "stream",
     "text": [
      "              precision    recall  f1-score   support\n",
      "\n",
      "         0.0       0.89      0.94      0.91      2395\n",
      "         1.0       0.68      0.53      0.60       605\n",
      "\n",
      "   micro avg       0.85      0.85      0.85      3000\n",
      "   macro avg       0.78      0.73      0.75      3000\n",
      "weighted avg       0.85      0.85      0.85      3000\n",
      "\n"
     ]
    }
   ],
   "source": [
    "from sklearn.metrics import classification_report\n",
    "\n",
    "print(classification_report(y_test, y_pred))"
   ]
  }
 ],
 "metadata": {
  "kernelspec": {
   "display_name": "Python 3",
   "language": "python",
   "name": "python3"
  },
  "language_info": {
   "codemirror_mode": {
    "name": "ipython",
    "version": 3
   },
   "file_extension": ".py",
   "mimetype": "text/x-python",
   "name": "python",
   "nbconvert_exporter": "python",
   "pygments_lexer": "ipython3",
   "version": "3.7.3"
  }
 },
 "nbformat": 4,
 "nbformat_minor": 2
}
