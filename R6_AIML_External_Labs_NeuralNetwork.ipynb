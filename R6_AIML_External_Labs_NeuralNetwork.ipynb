{
 "cells": [
  {
   "cell_type": "markdown",
   "metadata": {
    "colab_type": "text",
    "id": "YYk8NG3yOIT9"
   },
   "source": [
    "### A MNIST-like fashion product database\n",
    "\n",
    "In this, we classify the images into respective classes given in the dataset. We use a Neural Net and a Deep Neural Net in Keras to solve this and check the accuracy scores."
   ]
  },
  {
   "cell_type": "markdown",
   "metadata": {
    "colab_type": "text",
    "id": "tFO6PuxzOIT_",
    "slideshow": {
     "slide_type": "slide"
    }
   },
   "source": [
    "### Load tensorflow"
   ]
  },
  {
   "cell_type": "code",
   "execution_count": 1,
   "metadata": {
    "colab": {},
    "colab_type": "code",
    "id": "l9C4aAIGOIUH",
    "outputId": "5ef9aff6-a7bd-4b26-cba6-8750955f6ca3"
   },
   "outputs": [
    {
     "name": "stdout",
     "output_type": "stream",
     "text": [
      "2.0.0\n"
     ]
    }
   ],
   "source": [
    "import tensorflow as tf\n",
    "print(tf.__version__)"
   ]
  },
  {
   "cell_type": "code",
   "execution_count": 2,
   "metadata": {},
   "outputs": [],
   "source": [
    "tf.random.set_seed(42)"
   ]
  },
  {
   "cell_type": "markdown",
   "metadata": {
    "colab_type": "text",
    "id": "HcoZBStrOIUQ",
    "slideshow": {
     "slide_type": "slide"
    }
   },
   "source": [
    "### Collect Data"
   ]
  },
  {
   "cell_type": "code",
   "execution_count": 3,
   "metadata": {
    "colab": {},
    "colab_type": "code",
    "id": "XA1WsFSeOIUS"
   },
   "outputs": [
    {
     "name": "stderr",
     "output_type": "stream",
     "text": [
      "Using Theano backend.\n",
      "WARNING (theano.configdefaults): g++ not available, if using conda: `conda install m2w64-toolchain`\n",
      "C:\\Anaconda3\\lib\\site-packages\\theano\\configdefaults.py:560: UserWarning: DeprecationWarning: there is no c++ compiler.This is deprecated and with Theano 0.11 a c++ compiler will be mandatory\n",
      "  warnings.warn(\"DeprecationWarning: there is no c++ compiler.\"\n",
      "WARNING (theano.configdefaults): g++ not detected ! Theano will be unable to execute optimized C-implementations (for both CPU and GPU) and will default to Python implementations. Performance will be severely degraded. To remove this warning, set Theano flags cxx to an empty string.\n",
      "WARNING (theano.tensor.blas): Using NumPy C-API based implementation for BLAS functions.\n"
     ]
    }
   ],
   "source": [
    "import keras"
   ]
  },
  {
   "cell_type": "code",
   "execution_count": 4,
   "metadata": {
    "colab": {},
    "colab_type": "code",
    "id": "qnbx7TyQOIUY"
   },
   "outputs": [],
   "source": [
    "(trainX, trainY), (testX, testY) = keras.datasets.fashion_mnist.load_data()"
   ]
  },
  {
   "cell_type": "code",
   "execution_count": 5,
   "metadata": {
    "colab": {},
    "colab_type": "code",
    "id": "UbiHj5YPOIUc",
    "outputId": "87e1b9cd-07f0-45cb-e706-0d51ad742d72",
    "slideshow": {
     "slide_type": "fragment"
    }
   },
   "outputs": [
    {
     "name": "stdout",
     "output_type": "stream",
     "text": [
      "[9 2 1 1 6]\n"
     ]
    }
   ],
   "source": [
    "print(testY[0:5])"
   ]
  },
  {
   "cell_type": "markdown",
   "metadata": {
    "colab_type": "text",
    "id": "lDAYzkwyOIUj",
    "slideshow": {
     "slide_type": "slide"
    }
   },
   "source": [
    "### Convert both training and testing labels into one-hot vectors.\n",
    "\n",
    "**Hint:** check **tf.keras.utils.to_categorical()**"
   ]
  },
  {
   "cell_type": "code",
   "execution_count": 6,
   "metadata": {
    "colab": {},
    "colab_type": "code",
    "id": "vBlfYlANOIUk"
   },
   "outputs": [],
   "source": [
    "trainY = tf.keras.utils.to_categorical(trainY, num_classes=10)"
   ]
  },
  {
   "cell_type": "code",
   "execution_count": 7,
   "metadata": {},
   "outputs": [],
   "source": [
    "testY = tf.keras.utils.to_categorical(testY, num_classes=10)"
   ]
  },
  {
   "cell_type": "code",
   "execution_count": 8,
   "metadata": {
    "colab": {},
    "colab_type": "code",
    "id": "RHV3b9mzOIUq",
    "outputId": "27bdfe58-91ee-4677-fe49-e742ad306c70",
    "scrolled": true,
    "slideshow": {
     "slide_type": "fragment"
    }
   },
   "outputs": [
    {
     "name": "stdout",
     "output_type": "stream",
     "text": [
      "(60000, 10)\n",
      "First 5 examples now are:  [[0. 0. 0. 0. 0. 0. 0. 0. 0. 1.]\n",
      " [1. 0. 0. 0. 0. 0. 0. 0. 0. 0.]\n",
      " [1. 0. 0. 0. 0. 0. 0. 0. 0. 0.]\n",
      " [0. 0. 0. 1. 0. 0. 0. 0. 0. 0.]\n",
      " [1. 0. 0. 0. 0. 0. 0. 0. 0. 0.]]\n"
     ]
    }
   ],
   "source": [
    "print(trainY.shape)\n",
    "print('First 5 examples now are: ', trainY[0:5])"
   ]
  },
  {
   "cell_type": "markdown",
   "metadata": {
    "colab_type": "text",
    "id": "FwhQ8e7VOIUw"
   },
   "source": [
    "### Visualize the data\n",
    "\n",
    "Plot first 10 images in the triaining set and their labels."
   ]
  },
  {
   "cell_type": "code",
   "execution_count": 19,
   "metadata": {},
   "outputs": [
    {
     "data": {
      "image/png": "[encoded data removed]",
      "text/plain": [
       "<Figure size 432x288 with 9 Axes>"
      ]
     },
     "metadata": {
      "needs_background": "light"
     },
     "output_type": "display_data"
    }
   ],
   "source": [
    "import matplotlib.pyplot as plt\n",
    "for i in range(0, 9):\n",
    "    plt.subplot(1, 10, i + 1)\n",
    "    plt.imshow(trainX[i])"
   ]
  },
  {
   "cell_type": "code",
   "execution_count": 10,
   "metadata": {},
   "outputs": [
    {
     "name": "stdout",
     "output_type": "stream",
     "text": [
      "[9 0 0 3 0 2 7 2 5 5]\n"
     ]
    }
   ],
   "source": [
    "# Labels for the first 10 images in the training data\n",
    "\n",
    "import numpy as np\n",
    "print(np.where(trainY[:10] == 1)[1])"
   ]
  },
  {
   "cell_type": "markdown",
   "metadata": {
    "colab_type": "text",
    "id": "l4TbJGeSOIU4",
    "slideshow": {
     "slide_type": "slide"
    }
   },
   "source": [
    "### Build a neural Network with a cross entropy loss function and sgd optimizer in Keras. The output layer with 10 neurons as we have 10 classes."
   ]
  },
  {
   "cell_type": "code",
   "execution_count": 11,
   "metadata": {
    "colab": {},
    "colab_type": "code",
    "id": "Ac06XZZTOIU6"
   },
   "outputs": [],
   "source": [
    "# Initialize Sequential model\n",
    "model = tf.keras.models.Sequential()\n",
    "\n",
    "# Reshape data from 2D to 1D -> 28x28 to 784\n",
    "model.add(tf.keras.layers.Reshape((784,),input_shape=(28,28,)))\n",
    "\n",
    "# Add Dense Layer which provides 10 Outputs after applying softmax\n",
    "model.add(tf.keras.layers.Dense(10, activation='softmax'))\n",
    "# Comile the model\n",
    "model.compile(optimizer='sgd', loss='categorical_crossentropy', metrics=['accuracy'])"
   ]
  },
  {
   "cell_type": "code",
   "execution_count": 12,
   "metadata": {},
   "outputs": [
    {
     "name": "stdout",
     "output_type": "stream",
     "text": [
      "Train on 60000 samples, validate on 10000 samples\n",
      "Epoch 1/50\n",
      "60000/60000 [==============================] - 9s 158us/sample - loss: 2008.2224 - accuracy: 0.7387 - val_loss: 1383.4051 - val_accuracy: 0.7851\n",
      "Epoch 2/50\n",
      "60000/60000 [==============================] - 9s 144us/sample - loss: 1635.8757 - accuracy: 0.7778 - val_loss: 2599.6534 - val_accuracy: 0.6583\n",
      "Epoch 3/50\n",
      "60000/60000 [==============================] - 8s 129us/sample - loss: 1543.6133 - accuracy: 0.7861 - val_loss: 3101.9444 - val_accuracy: 0.7681\n",
      "Epoch 4/50\n",
      "60000/60000 [==============================] - 8s 131us/sample - loss: 1503.9179 - accuracy: 0.7884 - val_loss: 1101.7666 - val_accuracy: 0.8155\n",
      "Epoch 5/50\n",
      "60000/60000 [==============================] - 7s 119us/sample - loss: 1477.7012 - accuracy: 0.7936 - val_loss: 977.8621 - val_accuracy: 0.8121\n",
      "Epoch 6/50\n",
      "60000/60000 [==============================] - 7s 119us/sample - loss: 1497.8763 - accuracy: 0.7930 - val_loss: 1122.4718 - val_accuracy: 0.7993\n",
      "Epoch 7/50\n",
      "60000/60000 [==============================] - 7s 119us/sample - loss: 1479.5984 - accuracy: 0.7960 - val_loss: 1524.0041 - val_accuracy: 0.7770\n",
      "Epoch 8/50\n",
      "60000/60000 [==============================] - 7s 119us/sample - loss: 1451.2236 - accuracy: 0.7984 - val_loss: 1396.6148 - val_accuracy: 0.7938\n",
      "Epoch 9/50\n",
      "60000/60000 [==============================] - 7s 121us/sample - loss: 1420.9911 - accuracy: 0.7977 - val_loss: 2064.5567 - val_accuracy: 0.7659\n",
      "Epoch 10/50\n",
      "60000/60000 [==============================] - 7s 122us/sample - loss: 1441.5896 - accuracy: 0.8016 - val_loss: 1433.5519 - val_accuracy: 0.7650\n",
      "Epoch 11/50\n",
      "60000/60000 [==============================] - 7s 122us/sample - loss: 1436.9972 - accuracy: 0.7988 - val_loss: 1688.5477 - val_accuracy: 0.7674\n",
      "Epoch 12/50\n",
      "60000/60000 [==============================] - 8s 130us/sample - loss: 1423.5666 - accuracy: 0.8012 - val_loss: 1223.7446 - val_accuracy: 0.7959\n",
      "Epoch 13/50\n",
      "60000/60000 [==============================] - 8s 135us/sample - loss: 1402.0570 - accuracy: 0.8015 - val_loss: 2857.7113 - val_accuracy: 0.7240\n",
      "Epoch 14/50\n",
      "60000/60000 [==============================] - 7s 123us/sample - loss: 1385.5852 - accuracy: 0.8045 - val_loss: 1337.7668 - val_accuracy: 0.7868\n",
      "Epoch 15/50\n",
      "60000/60000 [==============================] - 7s 125us/sample - loss: 1391.7271 - accuracy: 0.8025 - val_loss: 1302.1901 - val_accuracy: 0.8029\n",
      "Epoch 16/50\n",
      "60000/60000 [==============================] - 8s 127us/sample - loss: 1415.2567 - accuracy: 0.8030 - val_loss: 2774.3945 - val_accuracy: 0.6836\n",
      "Epoch 17/50\n",
      "60000/60000 [==============================] - 7s 121us/sample - loss: 1443.0302 - accuracy: 0.8021 - val_loss: 1177.3072 - val_accuracy: 0.8137\n",
      "Epoch 18/50\n",
      "60000/60000 [==============================] - 7s 125us/sample - loss: 1419.6817 - accuracy: 0.8049 - val_loss: 1209.4721 - val_accuracy: 0.8250\n",
      "Epoch 19/50\n",
      "60000/60000 [==============================] - 8s 129us/sample - loss: 1400.5574 - accuracy: 0.8043 - val_loss: 1215.2705 - val_accuracy: 0.8113\n",
      "Epoch 20/50\n",
      "60000/60000 [==============================] - 8s 130us/sample - loss: 1434.1045 - accuracy: 0.8055 - val_loss: 1307.3517 - val_accuracy: 0.8098\n",
      "Epoch 21/50\n",
      "60000/60000 [==============================] - 8s 134us/sample - loss: 1381.2193 - accuracy: 0.8077 - val_loss: 1475.7830 - val_accuracy: 0.7874\n",
      "Epoch 22/50\n",
      "60000/60000 [==============================] - 7s 125us/sample - loss: 1393.1321 - accuracy: 0.8060 - val_loss: 1104.5337 - val_accuracy: 0.8217\n",
      "Epoch 23/50\n",
      "60000/60000 [==============================] - 8s 129us/sample - loss: 1376.7407 - accuracy: 0.8059 - val_loss: 1963.6191 - val_accuracy: 0.7550\n",
      "Epoch 24/50\n",
      "60000/60000 [==============================] - 8s 128us/sample - loss: 1407.8008 - accuracy: 0.8064 - val_loss: 1125.3090 - val_accuracy: 0.8153\n",
      "Epoch 25/50\n",
      "60000/60000 [==============================] - 8s 130us/sample - loss: 1352.1998 - accuracy: 0.8058 - val_loss: 1709.2576 - val_accuracy: 0.7517\n",
      "Epoch 26/50\n",
      "60000/60000 [==============================] - 8s 134us/sample - loss: 1351.6219 - accuracy: 0.8081 - val_loss: 1379.1849 - val_accuracy: 0.7859\n",
      "Epoch 27/50\n",
      "60000/60000 [==============================] - 8s 131us/sample - loss: 1355.4247 - accuracy: 0.8089 - val_loss: 1655.0207 - val_accuracy: 0.7755\n",
      "Epoch 28/50\n",
      "60000/60000 [==============================] - 8s 131us/sample - loss: 1380.6364 - accuracy: 0.8068 - val_loss: 1350.9233 - val_accuracy: 0.8013\n",
      "Epoch 29/50\n",
      "60000/60000 [==============================] - 8s 133us/sample - loss: 1380.9595 - accuracy: 0.8069 - val_loss: 1411.1787 - val_accuracy: 0.7875\n",
      "Epoch 30/50\n",
      "60000/60000 [==============================] - 8s 137us/sample - loss: 1390.0604 - accuracy: 0.8082 - val_loss: 1375.3092 - val_accuracy: 0.7564\n",
      "Epoch 31/50\n",
      "60000/60000 [==============================] - 9s 155us/sample - loss: 1388.6995 - accuracy: 0.8057 - val_loss: 4247.8677 - val_accuracy: 0.7410\n",
      "Epoch 32/50\n",
      "60000/60000 [==============================] - 10s 166us/sample - loss: 1340.4178 - accuracy: 0.8104 - val_loss: 1520.9608 - val_accuracy: 0.8010\n",
      "Epoch 33/50\n",
      "60000/60000 [==============================] - 8s 132us/sample - loss: 1385.6624 - accuracy: 0.8057 - val_loss: 2302.2374 - val_accuracy: 0.7704\n",
      "Epoch 34/50\n",
      "60000/60000 [==============================] - 8s 134us/sample - loss: 1333.0614 - accuracy: 0.8112 - val_loss: 1423.1652 - val_accuracy: 0.7857\n",
      "Epoch 35/50\n",
      "60000/60000 [==============================] - 8s 131us/sample - loss: 1400.6731 - accuracy: 0.8069 - val_loss: 1609.4570 - val_accuracy: 0.7725\n",
      "Epoch 36/50\n",
      "60000/60000 [==============================] - 7s 124us/sample - loss: 1334.8746 - accuracy: 0.8112 - val_loss: 1016.6349 - val_accuracy: 0.8307\n",
      "Epoch 37/50\n",
      "60000/60000 [==============================] - 8s 125us/sample - loss: 1364.3711 - accuracy: 0.8094 - val_loss: 1579.0121 - val_accuracy: 0.7867\n",
      "Epoch 38/50\n",
      "60000/60000 [==============================] - 8s 127us/sample - loss: 1341.7140 - accuracy: 0.8089 - val_loss: 1360.2843 - val_accuracy: 0.8100\n",
      "Epoch 39/50\n",
      "60000/60000 [==============================] - 8s 126us/sample - loss: 1355.1847 - accuracy: 0.8091 - val_loss: 1279.8018 - val_accuracy: 0.7865\n",
      "Epoch 40/50\n",
      "60000/60000 [==============================] - 9s 150us/sample - loss: 1346.3342 - accuracy: 0.8098 - val_loss: 1470.4958 - val_accuracy: 0.7815\n",
      "Epoch 41/50\n",
      "60000/60000 [==============================] - 9s 151us/sample - loss: 1354.0152 - accuracy: 0.8087 - val_loss: 3396.7016 - val_accuracy: 0.7405\n",
      "Epoch 42/50\n",
      "60000/60000 [==============================] - 8s 137us/sample - loss: 1364.7615 - accuracy: 0.8105 - val_loss: 1581.7388 - val_accuracy: 0.7994\n",
      "Epoch 43/50\n",
      "60000/60000 [==============================] - 8s 141us/sample - loss: 1395.0840 - accuracy: 0.8087 - val_loss: 1205.2195 - val_accuracy: 0.8126\n",
      "Epoch 44/50\n",
      "60000/60000 [==============================] - 8s 134us/sample - loss: 1328.0904 - accuracy: 0.8104 - val_loss: 1514.9937 - val_accuracy: 0.7872\n",
      "Epoch 45/50\n",
      "60000/60000 [==============================] - 8s 129us/sample - loss: 1327.8133 - accuracy: 0.8119 - val_loss: 2218.8399 - val_accuracy: 0.7304\n",
      "Epoch 46/50\n",
      "60000/60000 [==============================] - 8s 130us/sample - loss: 1358.0949 - accuracy: 0.8099 - val_loss: 1233.9992 - val_accuracy: 0.7942\n",
      "Epoch 47/50\n",
      "60000/60000 [==============================] - 8s 126us/sample - loss: 1319.9558 - accuracy: 0.8121 - val_loss: 1619.9692 - val_accuracy: 0.7790\n",
      "Epoch 48/50\n",
      "60000/60000 [==============================] - 8s 131us/sample - loss: 1357.1920 - accuracy: 0.8098 - val_loss: 2986.3186 - val_accuracy: 0.7627\n",
      "Epoch 49/50\n",
      "60000/60000 [==============================] - 8s 133us/sample - loss: 1347.6437 - accuracy: 0.8108 - val_loss: 2156.4240 - val_accuracy: 0.7632\n",
      "Epoch 50/50\n",
      "60000/60000 [==============================] - 8s 128us/sample - loss: 1344.0193 - accuracy: 0.8101 - val_loss: 1545.9919 - val_accuracy: 0.7820\n"
     ]
    },
    {
     "data": {
      "text/plain": [
       "<tensorflow.python.keras.callbacks.History at 0x1cd90535ba8>"
      ]
     },
     "execution_count": 12,
     "metadata": {},
     "output_type": "execute_result"
    }
   ],
   "source": [
    "model.fit(trainX, trainY, validation_data=(testX, testY), epochs=50)"
   ]
  },
  {
   "cell_type": "markdown",
   "metadata": {
    "colab_type": "text",
    "id": "3hQpLv3aOIU_",
    "slideshow": {
     "slide_type": "slide"
    }
   },
   "source": [
    "### Execute the model using model.fit()"
   ]
  },
  {
   "cell_type": "markdown",
   "metadata": {
    "colab_type": "text",
    "id": "JdzDtGwDOIVF",
    "slideshow": {
     "slide_type": "slide"
    }
   },
   "source": [
    "### In the above Neural Network model add Batch Normalization layer after the input layer and repeat the steps."
   ]
  },
  {
   "cell_type": "code",
   "execution_count": 13,
   "metadata": {
    "colab": {},
    "colab_type": "code",
    "id": "kndfpdidOIVI"
   },
   "outputs": [],
   "source": [
    "model = tf.keras.models.Sequential()\n",
    "# Reshape data from 2D to 1D -> 28x28 to 784\n",
    "model.add(tf.keras.layers.Reshape((784,),input_shape=(28,28,)))\n",
    "\n",
    "# Normalize the data\n",
    "model.add(tf.keras.layers.BatchNormalization())\n",
    "\n",
    "model.add(tf.keras.layers.Dense(10, activation='softmax'))\n",
    "model.compile(optimizer='sgd', loss='categorical_crossentropy', metrics=['accuracy'])"
   ]
  },
  {
   "cell_type": "markdown",
   "metadata": {
    "colab_type": "text",
    "id": "mwk3T5LJOIVN",
    "slideshow": {
     "slide_type": "slide"
    }
   },
   "source": [
    "### Execute the model"
   ]
  },
  {
   "cell_type": "code",
   "execution_count": 14,
   "metadata": {
    "colab": {},
    "colab_type": "code",
    "id": "O59C_-IgOIVB"
   },
   "outputs": [
    {
     "name": "stdout",
     "output_type": "stream",
     "text": [
      "Train on 60000 samples, validate on 10000 samples\n",
      "Epoch 1/50\n",
      "60000/60000 [==============================] - 11s 175us/sample - loss: 0.5955 - accuracy: 0.7956 - val_loss: 0.5088 - val_accuracy: 0.8241\n",
      "Epoch 2/50\n",
      "60000/60000 [==============================] - 8s 137us/sample - loss: 0.4907 - accuracy: 0.8306 - val_loss: 0.4866 - val_accuracy: 0.8305\n",
      "Epoch 3/50\n",
      "60000/60000 [==============================] - 8s 140us/sample - loss: 0.4679 - accuracy: 0.8390 - val_loss: 0.4876 - val_accuracy: 0.8356\n",
      "Epoch 4/50\n",
      "60000/60000 [==============================] - 8s 140us/sample - loss: 0.4555 - accuracy: 0.8420 - val_loss: 0.4724 - val_accuracy: 0.8368\n",
      "Epoch 5/50\n",
      "60000/60000 [==============================] - 9s 152us/sample - loss: 0.4502 - accuracy: 0.8454 - val_loss: 0.4656 - val_accuracy: 0.8405\n",
      "Epoch 6/50\n",
      "60000/60000 [==============================] - 9s 148us/sample - loss: 0.4445 - accuracy: 0.8462 - val_loss: 0.4564 - val_accuracy: 0.8415\n",
      "Epoch 7/50\n",
      "60000/60000 [==============================] - 9s 145us/sample - loss: 0.4406 - accuracy: 0.8470 - val_loss: 0.4674 - val_accuracy: 0.8399\n",
      "Epoch 8/50\n",
      "60000/60000 [==============================] - 9s 143us/sample - loss: 0.4365 - accuracy: 0.8486 - val_loss: 0.4637 - val_accuracy: 0.8398\n",
      "Epoch 9/50\n",
      "60000/60000 [==============================] - 9s 145us/sample - loss: 0.4329 - accuracy: 0.8505 - val_loss: 0.4671 - val_accuracy: 0.8394\n",
      "Epoch 10/50\n",
      "60000/60000 [==============================] - 9s 144us/sample - loss: 0.4311 - accuracy: 0.8511 - val_loss: 0.4674 - val_accuracy: 0.8416\n",
      "Epoch 11/50\n",
      "60000/60000 [==============================] - 9s 145us/sample - loss: 0.4284 - accuracy: 0.8514 - val_loss: 0.4643 - val_accuracy: 0.8403\n",
      "Epoch 12/50\n",
      "60000/60000 [==============================] - 10s 166us/sample - loss: 0.4281 - accuracy: 0.8513 - val_loss: 0.4577 - val_accuracy: 0.8424\n",
      "Epoch 13/50\n",
      "60000/60000 [==============================] - 10s 170us/sample - loss: 0.4233 - accuracy: 0.8523 - val_loss: 0.4701 - val_accuracy: 0.8403\n",
      "Epoch 14/50\n",
      "60000/60000 [==============================] - 9s 148us/sample - loss: 0.4229 - accuracy: 0.8528 - val_loss: 0.4716 - val_accuracy: 0.8436\n",
      "Epoch 15/50\n",
      "60000/60000 [==============================] - 9s 154us/sample - loss: 0.4205 - accuracy: 0.8535 - val_loss: 0.4639 - val_accuracy: 0.8405\n",
      "Epoch 16/50\n",
      "60000/60000 [==============================] - 9s 152us/sample - loss: 0.4213 - accuracy: 0.8540 - val_loss: 0.4671 - val_accuracy: 0.8402\n",
      "Epoch 17/50\n",
      "60000/60000 [==============================] - 9s 155us/sample - loss: 0.4189 - accuracy: 0.8533 - val_loss: 0.4789 - val_accuracy: 0.8424\n",
      "Epoch 18/50\n",
      "60000/60000 [==============================] - 9s 150us/sample - loss: 0.4188 - accuracy: 0.8547 - val_loss: 0.4813 - val_accuracy: 0.8402\n",
      "Epoch 19/50\n",
      "60000/60000 [==============================] - 9s 147us/sample - loss: 0.4173 - accuracy: 0.8547 - val_loss: 0.4669 - val_accuracy: 0.8430\n",
      "Epoch 20/50\n",
      "60000/60000 [==============================] - 9s 149us/sample - loss: 0.4146 - accuracy: 0.8553 - val_loss: 0.4701 - val_accuracy: 0.8372\n",
      "Epoch 21/50\n",
      "60000/60000 [==============================] - 9s 147us/sample - loss: 0.4163 - accuracy: 0.8547 - val_loss: 0.4627 - val_accuracy: 0.8402\n",
      "Epoch 22/50\n",
      "60000/60000 [==============================] - 9s 147us/sample - loss: 0.4176 - accuracy: 0.8552 - val_loss: 0.4582 - val_accuracy: 0.8424\n",
      "Epoch 23/50\n",
      "60000/60000 [==============================] - 10s 169us/sample - loss: 0.4137 - accuracy: 0.8555 - val_loss: 0.4619 - val_accuracy: 0.8413\n",
      "Epoch 24/50\n",
      "60000/60000 [==============================] - 10s 163us/sample - loss: 0.4134 - accuracy: 0.8553 - val_loss: 0.4687 - val_accuracy: 0.8406\n",
      "Epoch 25/50\n",
      "60000/60000 [==============================] - 8s 141us/sample - loss: 0.4152 - accuracy: 0.8554 - val_loss: 0.4646 - val_accuracy: 0.8426\n",
      "Epoch 26/50\n",
      "60000/60000 [==============================] - 9s 143us/sample - loss: 0.4146 - accuracy: 0.8551 - val_loss: 0.4807 - val_accuracy: 0.8387\n",
      "Epoch 27/50\n",
      "60000/60000 [==============================] - 9s 145us/sample - loss: 0.4111 - accuracy: 0.8560 - val_loss: 0.4615 - val_accuracy: 0.8448\n",
      "Epoch 28/50\n",
      "60000/60000 [==============================] - 9s 151us/sample - loss: 0.4129 - accuracy: 0.8554 - val_loss: 0.4624 - val_accuracy: 0.8446\n",
      "Epoch 29/50\n",
      "60000/60000 [==============================] - 9s 157us/sample - loss: 0.4084 - accuracy: 0.8560 - val_loss: 0.4828 - val_accuracy: 0.8371\n",
      "Epoch 30/50\n",
      "60000/60000 [==============================] - 9s 143us/sample - loss: 0.4109 - accuracy: 0.8559 - val_loss: 0.4733 - val_accuracy: 0.8412\n",
      "Epoch 31/50\n",
      "60000/60000 [==============================] - 9s 145us/sample - loss: 0.4111 - accuracy: 0.8548 - val_loss: 0.4721 - val_accuracy: 0.8428\n",
      "Epoch 32/50\n",
      "60000/60000 [==============================] - 9s 147us/sample - loss: 0.4096 - accuracy: 0.8577 - val_loss: 0.4615 - val_accuracy: 0.8427\n",
      "Epoch 33/50\n",
      "60000/60000 [==============================] - 9s 144us/sample - loss: 0.4082 - accuracy: 0.8567 - val_loss: 0.4633 - val_accuracy: 0.8431\n",
      "Epoch 34/50\n",
      "60000/60000 [==============================] - 9s 145us/sample - loss: 0.4105 - accuracy: 0.8573 - val_loss: 0.4794 - val_accuracy: 0.8405\n",
      "Epoch 35/50\n",
      "60000/60000 [==============================] - 9s 152us/sample - loss: 0.4076 - accuracy: 0.8573 - val_loss: 0.4785 - val_accuracy: 0.8425\n",
      "Epoch 36/50\n",
      "60000/60000 [==============================] - 8s 137us/sample - loss: 0.4077 - accuracy: 0.8570 - val_loss: 0.4815 - val_accuracy: 0.8392\n",
      "Epoch 37/50\n",
      "60000/60000 [==============================] - 10s 159us/sample - loss: 0.4081 - accuracy: 0.8559 - val_loss: 0.4699 - val_accuracy: 0.8409\n",
      "Epoch 38/50\n",
      "60000/60000 [==============================] - 9s 142us/sample - loss: 0.4074 - accuracy: 0.8576 - val_loss: 0.4751 - val_accuracy: 0.8392\n",
      "Epoch 39/50\n",
      "60000/60000 [==============================] - 9s 149us/sample - loss: 0.4076 - accuracy: 0.8556 - val_loss: 0.4741 - val_accuracy: 0.8426\n",
      "Epoch 40/50\n",
      "60000/60000 [==============================] - 9s 151us/sample - loss: 0.4092 - accuracy: 0.8568 - val_loss: 0.4685 - val_accuracy: 0.8387\n",
      "Epoch 41/50\n",
      "60000/60000 [==============================] - 9s 154us/sample - loss: 0.4077 - accuracy: 0.8554 - val_loss: 0.4734 - val_accuracy: 0.8432\n",
      "Epoch 42/50\n",
      "60000/60000 [==============================] - 9s 155us/sample - loss: 0.4087 - accuracy: 0.8565 - val_loss: 0.4769 - val_accuracy: 0.8391\n",
      "Epoch 43/50\n",
      "60000/60000 [==============================] - 9s 153us/sample - loss: 0.4079 - accuracy: 0.8571 - val_loss: 0.4723 - val_accuracy: 0.8413\n",
      "Epoch 44/50\n",
      "60000/60000 [==============================] - 9s 152us/sample - loss: 0.4061 - accuracy: 0.8576 - val_loss: 0.4786 - val_accuracy: 0.8411\n",
      "Epoch 45/50\n",
      "60000/60000 [==============================] - 10s 166us/sample - loss: 0.4065 - accuracy: 0.8572 - val_loss: 0.4756 - val_accuracy: 0.8397\n",
      "Epoch 46/50\n",
      "60000/60000 [==============================] - 9s 152us/sample - loss: 0.4049 - accuracy: 0.8576 - val_loss: 0.4706 - val_accuracy: 0.8407\n",
      "Epoch 47/50\n",
      "60000/60000 [==============================] - 9s 153us/sample - loss: 0.4056 - accuracy: 0.8594 - val_loss: 0.4744 - val_accuracy: 0.8392\n",
      "Epoch 48/50\n",
      "60000/60000 [==============================] - 9s 152us/sample - loss: 0.4064 - accuracy: 0.8579 - val_loss: 0.4812 - val_accuracy: 0.8373\n",
      "Epoch 49/50\n",
      "60000/60000 [==============================] - 9s 152us/sample - loss: 0.4049 - accuracy: 0.8583 - val_loss: 0.4709 - val_accuracy: 0.8418\n",
      "Epoch 50/50\n",
      "60000/60000 [==============================] - 9s 155us/sample - loss: 0.4044 - accuracy: 0.8573 - val_loss: 0.4725 - val_accuracy: 0.8412\n"
     ]
    },
    {
     "data": {
      "text/plain": [
       "<tensorflow.python.keras.callbacks.History at 0x1cd94a87278>"
      ]
     },
     "execution_count": 14,
     "metadata": {},
     "output_type": "execute_result"
    }
   ],
   "source": [
    "model.fit(trainX, trainY, validation_data=(testX, testY), epochs=50)"
   ]
  },
  {
   "cell_type": "markdown",
   "metadata": {
    "colab_type": "text",
    "id": "Py-KwkmjOIVU"
   },
   "source": [
    "### Customize the learning rate to 0.001 in sgd optimizer and run the model"
   ]
  },
  {
   "cell_type": "code",
   "execution_count": 16,
   "metadata": {
    "colab": {},
    "colab_type": "code",
    "id": "yLXUE9jWOIVV"
   },
   "outputs": [],
   "source": [
    "# Initialize Sequential model\n",
    "model = tf.keras.models.Sequential()\n",
    "\n",
    "# Reshape data from 2D to 1D -> 28x28 to 784\n",
    "model.add(tf.keras.layers.Reshape((784,),input_shape=(28,28,)))\n",
    "# Normalize the data\n",
    "model.add(tf.keras.layers.BatchNormalization())\n",
    "# Add Dense Layer which provides 10 Outputs after applying softmax\n",
    "model.add(tf.keras.layers.Dense(10, activation='softmax'))"
   ]
  },
  {
   "cell_type": "code",
   "execution_count": 20,
   "metadata": {},
   "outputs": [],
   "source": [
    "# sgd Optimizer\n",
    "sgd = tf.keras.optimizers.SGD(lr=0.01)\n",
    "# Compile the model\n",
    "model.compile(optimizer=sgd, loss='categorical_crossentropy', metrics=['accuracy'])"
   ]
  },
  {
   "cell_type": "code",
   "execution_count": 21,
   "metadata": {
    "colab": {},
    "colab_type": "code",
    "id": "pJUqA5T4OIVc"
   },
   "outputs": [
    {
     "name": "stdout",
     "output_type": "stream",
     "text": [
      "Train on 60000 samples, validate on 10000 samples\n",
      "Epoch 1/50\n",
      "60000/60000 [==============================] - 12s 204us/sample - loss: 0.5998 - accuracy: 0.7952 - val_loss: 0.5109 - val_accuracy: 0.8282\n",
      "Epoch 2/50\n",
      "60000/60000 [==============================] - 10s 173us/sample - loss: 0.4909 - accuracy: 0.8318 - val_loss: 0.4931 - val_accuracy: 0.8301\n",
      "Epoch 3/50\n",
      "60000/60000 [==============================] - 10s 159us/sample - loss: 0.4685 - accuracy: 0.8382 - val_loss: 0.4934 - val_accuracy: 0.8354\n",
      "Epoch 4/50\n",
      "60000/60000 [==============================] - 8s 141us/sample - loss: 0.4562 - accuracy: 0.8430 - val_loss: 0.4811 - val_accuracy: 0.8366\n",
      "Epoch 5/50\n",
      "60000/60000 [==============================] - 9s 142us/sample - loss: 0.4507 - accuracy: 0.8446 - val_loss: 0.4724 - val_accuracy: 0.8398\n",
      "Epoch 6/50\n",
      "60000/60000 [==============================] - 9s 146us/sample - loss: 0.4447 - accuracy: 0.8456 - val_loss: 0.4593 - val_accuracy: 0.8399\n",
      "Epoch 7/50\n",
      "60000/60000 [==============================] - 9s 142us/sample - loss: 0.4405 - accuracy: 0.8464 - val_loss: 0.4703 - val_accuracy: 0.8397\n",
      "Epoch 8/50\n",
      "60000/60000 [==============================] - 9s 146us/sample - loss: 0.4372 - accuracy: 0.8491 - val_loss: 0.4657 - val_accuracy: 0.8395\n",
      "Epoch 9/50\n",
      "60000/60000 [==============================] - 9s 147us/sample - loss: 0.4331 - accuracy: 0.8503 - val_loss: 0.4756 - val_accuracy: 0.8390\n",
      "Epoch 10/50\n",
      "60000/60000 [==============================] - 9s 144us/sample - loss: 0.4317 - accuracy: 0.8504 - val_loss: 0.4741 - val_accuracy: 0.8415\n",
      "Epoch 11/50\n",
      "60000/60000 [==============================] - 9s 145us/sample - loss: 0.4286 - accuracy: 0.8515 - val_loss: 0.4692 - val_accuracy: 0.8403\n",
      "Epoch 12/50\n",
      "60000/60000 [==============================] - 9s 142us/sample - loss: 0.4281 - accuracy: 0.8510 - val_loss: 0.4615 - val_accuracy: 0.8427\n",
      "Epoch 13/50\n",
      "60000/60000 [==============================] - 9s 146us/sample - loss: 0.4235 - accuracy: 0.8524 - val_loss: 0.4792 - val_accuracy: 0.8399\n",
      "Epoch 14/50\n",
      "60000/60000 [==============================] - 9s 143us/sample - loss: 0.4231 - accuracy: 0.8528 - val_loss: 0.4750 - val_accuracy: 0.8436\n",
      "Epoch 15/50\n",
      "60000/60000 [==============================] - 9s 146us/sample - loss: 0.4206 - accuracy: 0.8530 - val_loss: 0.4667 - val_accuracy: 0.8412\n",
      "Epoch 16/50\n",
      "60000/60000 [==============================] - 9s 144us/sample - loss: 0.4213 - accuracy: 0.8531 - val_loss: 0.4700 - val_accuracy: 0.8383\n",
      "Epoch 17/50\n",
      "60000/60000 [==============================] - 9s 148us/sample - loss: 0.4189 - accuracy: 0.8537 - val_loss: 0.4881 - val_accuracy: 0.8413\n",
      "Epoch 18/50\n",
      "60000/60000 [==============================] - 9s 153us/sample - loss: 0.4184 - accuracy: 0.8548 - val_loss: 0.4840 - val_accuracy: 0.8375\n",
      "Epoch 19/50\n",
      "60000/60000 [==============================] - 9s 145us/sample - loss: 0.4171 - accuracy: 0.8539 - val_loss: 0.4700 - val_accuracy: 0.8410\n",
      "Epoch 20/50\n",
      "60000/60000 [==============================] - 9s 146us/sample - loss: 0.4146 - accuracy: 0.8557 - val_loss: 0.4726 - val_accuracy: 0.8366\n",
      "Epoch 21/50\n",
      "60000/60000 [==============================] - 9s 143us/sample - loss: 0.4162 - accuracy: 0.8544 - val_loss: 0.4649 - val_accuracy: 0.8388\n",
      "Epoch 22/50\n",
      "60000/60000 [==============================] - 9s 146us/sample - loss: 0.4176 - accuracy: 0.8544 - val_loss: 0.4601 - val_accuracy: 0.8427\n",
      "Epoch 23/50\n",
      "60000/60000 [==============================] - 9s 147us/sample - loss: 0.4136 - accuracy: 0.8559 - val_loss: 0.4631 - val_accuracy: 0.8407\n",
      "Epoch 24/50\n",
      "60000/60000 [==============================] - 9s 144us/sample - loss: 0.4133 - accuracy: 0.8548 - val_loss: 0.4733 - val_accuracy: 0.8396\n",
      "Epoch 25/50\n",
      "60000/60000 [==============================] - 9s 147us/sample - loss: 0.4150 - accuracy: 0.8546 - val_loss: 0.4667 - val_accuracy: 0.8426\n",
      "Epoch 26/50\n",
      "60000/60000 [==============================] - 9s 145us/sample - loss: 0.4145 - accuracy: 0.8547 - val_loss: 0.4827 - val_accuracy: 0.8382\n",
      "Epoch 27/50\n",
      "60000/60000 [==============================] - 9s 145us/sample - loss: 0.4114 - accuracy: 0.8560 - val_loss: 0.4643 - val_accuracy: 0.8431\n",
      "Epoch 28/50\n",
      "60000/60000 [==============================] - 9s 145us/sample - loss: 0.4130 - accuracy: 0.8549 - val_loss: 0.4649 - val_accuracy: 0.8417\n",
      "Epoch 29/50\n",
      "60000/60000 [==============================] - 9s 147us/sample - loss: 0.4085 - accuracy: 0.8556 - val_loss: 0.4872 - val_accuracy: 0.8378\n",
      "Epoch 30/50\n",
      "60000/60000 [==============================] - 8s 141us/sample - loss: 0.4110 - accuracy: 0.8553 - val_loss: 0.4751 - val_accuracy: 0.8398\n",
      "Epoch 31/50\n",
      "60000/60000 [==============================] - 9s 151us/sample - loss: 0.4113 - accuracy: 0.8548 - val_loss: 0.4771 - val_accuracy: 0.8422\n",
      "Epoch 32/50\n",
      "60000/60000 [==============================] - 9s 149us/sample - loss: 0.4093 - accuracy: 0.8575 - val_loss: 0.4638 - val_accuracy: 0.8429\n",
      "Epoch 33/50\n",
      "60000/60000 [==============================] - 9s 150us/sample - loss: 0.4079 - accuracy: 0.8567 - val_loss: 0.4668 - val_accuracy: 0.8410\n",
      "Epoch 34/50\n",
      "60000/60000 [==============================] - 9s 145us/sample - loss: 0.4102 - accuracy: 0.8574 - val_loss: 0.4844 - val_accuracy: 0.8403\n",
      "Epoch 35/50\n",
      "60000/60000 [==============================] - 9s 148us/sample - loss: 0.4073 - accuracy: 0.8567 - val_loss: 0.4822 - val_accuracy: 0.8412\n",
      "Epoch 36/50\n",
      "60000/60000 [==============================] - 11s 177us/sample - loss: 0.4078 - accuracy: 0.8569 - val_loss: 0.4846 - val_accuracy: 0.8405\n",
      "Epoch 37/50\n",
      "60000/60000 [==============================] - 9s 153us/sample - loss: 0.4081 - accuracy: 0.8565 - val_loss: 0.4739 - val_accuracy: 0.8414\n",
      "Epoch 38/50\n",
      "60000/60000 [==============================] - 10s 159us/sample - loss: 0.4071 - accuracy: 0.8571 - val_loss: 0.4777 - val_accuracy: 0.8385\n",
      "Epoch 39/50\n",
      "60000/60000 [==============================] - 9s 154us/sample - loss: 0.4076 - accuracy: 0.8557 - val_loss: 0.4801 - val_accuracy: 0.8416\n",
      "Epoch 40/50\n",
      "60000/60000 [==============================] - 9s 156us/sample - loss: 0.4091 - accuracy: 0.8564 - val_loss: 0.4715 - val_accuracy: 0.8383\n",
      "Epoch 41/50\n",
      "60000/60000 [==============================] - 10s 159us/sample - loss: 0.4078 - accuracy: 0.8560 - val_loss: 0.4750 - val_accuracy: 0.8432\n",
      "Epoch 42/50\n",
      "60000/60000 [==============================] - 9s 153us/sample - loss: 0.4084 - accuracy: 0.8558 - val_loss: 0.4800 - val_accuracy: 0.8387\n",
      "Epoch 43/50\n",
      "60000/60000 [==============================] - 9s 157us/sample - loss: 0.4077 - accuracy: 0.8569 - val_loss: 0.4734 - val_accuracy: 0.8397\n",
      "Epoch 44/50\n",
      "60000/60000 [==============================] - 9s 151us/sample - loss: 0.4060 - accuracy: 0.8574 - val_loss: 0.4806 - val_accuracy: 0.8412\n",
      "Epoch 45/50\n",
      "60000/60000 [==============================] - 9s 156us/sample - loss: 0.4067 - accuracy: 0.8566 - val_loss: 0.4793 - val_accuracy: 0.8395\n",
      "Epoch 46/50\n",
      "60000/60000 [==============================] - 9s 154us/sample - loss: 0.4051 - accuracy: 0.8568 - val_loss: 0.4736 - val_accuracy: 0.8405\n",
      "Epoch 47/50\n",
      "60000/60000 [==============================] - 9s 157us/sample - loss: 0.4054 - accuracy: 0.8591 - val_loss: 0.4762 - val_accuracy: 0.8390\n",
      "Epoch 48/50\n",
      "60000/60000 [==============================] - 10s 165us/sample - loss: 0.4064 - accuracy: 0.8576 - val_loss: 0.4806 - val_accuracy: 0.8374\n",
      "Epoch 49/50\n",
      "60000/60000 [==============================] - 10s 161us/sample - loss: 0.4049 - accuracy: 0.8588 - val_loss: 0.4743 - val_accuracy: 0.8429\n",
      "Epoch 50/50\n",
      "60000/60000 [==============================] - 9s 158us/sample - loss: 0.4042 - accuracy: 0.8574 - val_loss: 0.4727 - val_accuracy: 0.8408\n"
     ]
    },
    {
     "data": {
      "text/plain": [
       "<tensorflow.python.keras.callbacks.History at 0x1cd8e0dbe10>"
      ]
     },
     "execution_count": 21,
     "metadata": {},
     "output_type": "execute_result"
    }
   ],
   "source": [
    "model.fit(trainX, trainY, validation_data=(testX, testY), epochs=50)"
   ]
  },
  {
   "cell_type": "markdown",
   "metadata": {
    "colab_type": "text",
    "id": "j9CSqKvpOIVk",
    "slideshow": {
     "slide_type": "slide"
    }
   },
   "source": [
    "### Build the Neural Network model with 3 Dense layers with 100,100,10 neurons respectively in each layer. Use cross entropy loss function and singmoid as activation in the hidden layers and softmax as activation function in the output layer. Use sgd optimizer with learning rate 0.03."
   ]
  },
  {
   "cell_type": "code",
   "execution_count": 22,
   "metadata": {
    "colab": {},
    "colab_type": "code",
    "id": "GGAad54JOIVm"
   },
   "outputs": [],
   "source": [
    "model = tf.keras.models.Sequential()\n",
    "# Input Layer\n",
    "model.add(tf.keras.layers.Reshape((784,),input_shape=(28,28,)))"
   ]
  },
  {
   "cell_type": "code",
   "execution_count": 23,
   "metadata": {},
   "outputs": [],
   "source": [
    "# Normalize the data\n",
    "model.add(tf.keras.layers.BatchNormalization())"
   ]
  },
  {
   "cell_type": "code",
   "execution_count": 24,
   "metadata": {},
   "outputs": [],
   "source": [
    "# Adding layers\n",
    "model.add(tf.keras.layers.Dense(100, activation='sigmoid'))\n",
    "model.add(tf.keras.layers.Dense(100, activation='sigmoid'))\n",
    "\n",
    "# Output layer\n",
    "model.add(tf.keras.layers.Dense(10, activation='softmax'))"
   ]
  },
  {
   "cell_type": "code",
   "execution_count": 25,
   "metadata": {},
   "outputs": [],
   "source": [
    "sgd = tf.keras.optimizers.SGD(lr=0.03)\n",
    "model.compile(optimizer=sgd, loss='categorical_crossentropy', metrics=['accuracy'])"
   ]
  },
  {
   "cell_type": "markdown",
   "metadata": {
    "colab_type": "text",
    "id": "gfFGmbZLOIV5",
    "slideshow": {
     "slide_type": "slide"
    }
   },
   "source": [
    "### Run the model"
   ]
  },
  {
   "cell_type": "code",
   "execution_count": 26,
   "metadata": {
    "colab": {},
    "colab_type": "code",
    "id": "bIkbMEN5OIV7"
   },
   "outputs": [
    {
     "name": "stdout",
     "output_type": "stream",
     "text": [
      "Train on 60000 samples, validate on 10000 samples\n",
      "Epoch 1/50\n",
      "60000/60000 [==============================] - 15s 249us/sample - loss: 1.0213 - accuracy: 0.6897 - val_loss: 0.6330 - val_accuracy: 0.7769\n",
      "Epoch 2/50\n",
      "60000/60000 [==============================] - 13s 224us/sample - loss: 0.5733 - accuracy: 0.7974 - val_loss: 0.5129 - val_accuracy: 0.8162\n",
      "Epoch 3/50\n",
      "60000/60000 [==============================] - 13s 214us/sample - loss: 0.4909 - accuracy: 0.8260 - val_loss: 0.4692 - val_accuracy: 0.8323\n",
      "Epoch 4/50\n",
      "60000/60000 [==============================] - 13s 220us/sample - loss: 0.4532 - accuracy: 0.8379 - val_loss: 0.4420 - val_accuracy: 0.8403\n",
      "Epoch 5/50\n",
      "60000/60000 [==============================] - 13s 215us/sample - loss: 0.4318 - accuracy: 0.8469 - val_loss: 0.4265 - val_accuracy: 0.8462\n",
      "Epoch 6/50\n",
      "60000/60000 [==============================] - 13s 220us/sample - loss: 0.4148 - accuracy: 0.8512 - val_loss: 0.4177 - val_accuracy: 0.8510\n",
      "Epoch 7/50\n",
      "60000/60000 [==============================] - 14s 233us/sample - loss: 0.4022 - accuracy: 0.8553 - val_loss: 0.4073 - val_accuracy: 0.8544\n",
      "Epoch 8/50\n",
      "60000/60000 [==============================] - 14s 228us/sample - loss: 0.3901 - accuracy: 0.8612 - val_loss: 0.3991 - val_accuracy: 0.8549\n",
      "Epoch 9/50\n",
      "60000/60000 [==============================] - 14s 228us/sample - loss: 0.3807 - accuracy: 0.8628 - val_loss: 0.3926 - val_accuracy: 0.8583\n",
      "Epoch 10/50\n",
      "60000/60000 [==============================] - 13s 217us/sample - loss: 0.3713 - accuracy: 0.8661 - val_loss: 0.3877 - val_accuracy: 0.8610\n",
      "Epoch 11/50\n",
      "60000/60000 [==============================] - 13s 223us/sample - loss: 0.3621 - accuracy: 0.8693 - val_loss: 0.3818 - val_accuracy: 0.8619\n",
      "Epoch 12/50\n",
      "60000/60000 [==============================] - 13s 219us/sample - loss: 0.3558 - accuracy: 0.8719 - val_loss: 0.3746 - val_accuracy: 0.8635\n",
      "Epoch 13/50\n",
      "60000/60000 [==============================] - 14s 226us/sample - loss: 0.3457 - accuracy: 0.8758 - val_loss: 0.3726 - val_accuracy: 0.8656\n",
      "Epoch 14/50\n",
      "60000/60000 [==============================] - 14s 229us/sample - loss: 0.3393 - accuracy: 0.8772 - val_loss: 0.3637 - val_accuracy: 0.8700\n",
      "Epoch 15/50\n",
      "60000/60000 [==============================] - 14s 225us/sample - loss: 0.3323 - accuracy: 0.8801 - val_loss: 0.3626 - val_accuracy: 0.8682\n",
      "Epoch 16/50\n",
      "60000/60000 [==============================] - 13s 225us/sample - loss: 0.3283 - accuracy: 0.8813 - val_loss: 0.3633 - val_accuracy: 0.8677\n",
      "Epoch 17/50\n",
      "60000/60000 [==============================] - 14s 226us/sample - loss: 0.3214 - accuracy: 0.8839 - val_loss: 0.3606 - val_accuracy: 0.8699\n",
      "Epoch 18/50\n",
      "60000/60000 [==============================] - 14s 234us/sample - loss: 0.3162 - accuracy: 0.8857 - val_loss: 0.3554 - val_accuracy: 0.8697\n",
      "Epoch 19/50\n",
      "60000/60000 [==============================] - 13s 220us/sample - loss: 0.3112 - accuracy: 0.8877 - val_loss: 0.3505 - val_accuracy: 0.8732\n",
      "Epoch 20/50\n",
      "60000/60000 [==============================] - 13s 220us/sample - loss: 0.3043 - accuracy: 0.8894 - val_loss: 0.3557 - val_accuracy: 0.8701\n",
      "Epoch 21/50\n",
      "60000/60000 [==============================] - 13s 224us/sample - loss: 0.3002 - accuracy: 0.8913 - val_loss: 0.3490 - val_accuracy: 0.8722\n",
      "Epoch 22/50\n",
      "60000/60000 [==============================] - 13s 223us/sample - loss: 0.2956 - accuracy: 0.8934 - val_loss: 0.3413 - val_accuracy: 0.8747\n",
      "Epoch 23/50\n",
      "60000/60000 [==============================] - 13s 218us/sample - loss: 0.2891 - accuracy: 0.8957 - val_loss: 0.3412 - val_accuracy: 0.8746\n",
      "Epoch 24/50\n",
      "60000/60000 [==============================] - 13s 217us/sample - loss: 0.2844 - accuracy: 0.8970 - val_loss: 0.3386 - val_accuracy: 0.8781\n",
      "Epoch 25/50\n",
      "60000/60000 [==============================] - 13s 219us/sample - loss: 0.2818 - accuracy: 0.8972 - val_loss: 0.3373 - val_accuracy: 0.8764\n",
      "Epoch 26/50\n",
      "60000/60000 [==============================] - 14s 232us/sample - loss: 0.2765 - accuracy: 0.8996 - val_loss: 0.3432 - val_accuracy: 0.8784\n",
      "Epoch 27/50\n",
      "60000/60000 [==============================] - 15s 247us/sample - loss: 0.2724 - accuracy: 0.9018 - val_loss: 0.3319 - val_accuracy: 0.8802\n",
      "Epoch 28/50\n",
      "60000/60000 [==============================] - 14s 227us/sample - loss: 0.2698 - accuracy: 0.9021 - val_loss: 0.3338 - val_accuracy: 0.8789\n",
      "Epoch 29/50\n",
      "60000/60000 [==============================] - 14s 238us/sample - loss: 0.2628 - accuracy: 0.9050 - val_loss: 0.3441 - val_accuracy: 0.8754\n",
      "Epoch 30/50\n",
      "60000/60000 [==============================] - 14s 226us/sample - loss: 0.2599 - accuracy: 0.9062 - val_loss: 0.3324 - val_accuracy: 0.8793\n",
      "Epoch 31/50\n",
      "60000/60000 [==============================] - 13s 219us/sample - loss: 0.2561 - accuracy: 0.9060 - val_loss: 0.3282 - val_accuracy: 0.8829\n",
      "Epoch 32/50\n",
      "60000/60000 [==============================] - 13s 222us/sample - loss: 0.2523 - accuracy: 0.9086 - val_loss: 0.3290 - val_accuracy: 0.8805\n",
      "Epoch 33/50\n",
      "60000/60000 [==============================] - 13s 221us/sample - loss: 0.2482 - accuracy: 0.9097 - val_loss: 0.3301 - val_accuracy: 0.8810\n",
      "Epoch 34/50\n",
      "60000/60000 [==============================] - 13s 225us/sample - loss: 0.2456 - accuracy: 0.9112 - val_loss: 0.3277 - val_accuracy: 0.8818\n",
      "Epoch 35/50\n",
      "60000/60000 [==============================] - 14s 230us/sample - loss: 0.2421 - accuracy: 0.9115 - val_loss: 0.3303 - val_accuracy: 0.8810\n",
      "Epoch 36/50\n",
      "60000/60000 [==============================] - 14s 227us/sample - loss: 0.2382 - accuracy: 0.9133 - val_loss: 0.3309 - val_accuracy: 0.8807\n",
      "Epoch 37/50\n",
      "60000/60000 [==============================] - 14s 230us/sample - loss: 0.2355 - accuracy: 0.9145 - val_loss: 0.3260 - val_accuracy: 0.8823\n",
      "Epoch 38/50\n",
      "60000/60000 [==============================] - 14s 226us/sample - loss: 0.2319 - accuracy: 0.9160 - val_loss: 0.3296 - val_accuracy: 0.8834\n",
      "Epoch 39/50\n",
      "60000/60000 [==============================] - 14s 225us/sample - loss: 0.2286 - accuracy: 0.9166 - val_loss: 0.3316 - val_accuracy: 0.8827\n",
      "Epoch 40/50\n",
      "60000/60000 [==============================] - 14s 228us/sample - loss: 0.2257 - accuracy: 0.9179 - val_loss: 0.3285 - val_accuracy: 0.8804\n",
      "Epoch 41/50\n",
      "60000/60000 [==============================] - 14s 240us/sample - loss: 0.2238 - accuracy: 0.9190 - val_loss: 0.3272 - val_accuracy: 0.8837\n",
      "Epoch 42/50\n",
      "60000/60000 [==============================] - 14s 229us/sample - loss: 0.2219 - accuracy: 0.9193 - val_loss: 0.3343 - val_accuracy: 0.8839\n",
      "Epoch 43/50\n",
      "60000/60000 [==============================] - 14s 229us/sample - loss: 0.2179 - accuracy: 0.9201 - val_loss: 0.3412 - val_accuracy: 0.8833\n",
      "Epoch 44/50\n",
      "60000/60000 [==============================] - 14s 231us/sample - loss: 0.2150 - accuracy: 0.9217 - val_loss: 0.3304 - val_accuracy: 0.8828\n",
      "Epoch 45/50\n",
      "60000/60000 [==============================] - 15s 247us/sample - loss: 0.2119 - accuracy: 0.9225 - val_loss: 0.3317 - val_accuracy: 0.8827\n",
      "Epoch 46/50\n",
      "60000/60000 [==============================] - 14s 240us/sample - loss: 0.2095 - accuracy: 0.9238 - val_loss: 0.3283 - val_accuracy: 0.8845\n",
      "Epoch 47/50\n",
      "60000/60000 [==============================] - 14s 227us/sample - loss: 0.2057 - accuracy: 0.9252 - val_loss: 0.3359 - val_accuracy: 0.8851\n",
      "Epoch 48/50\n",
      "60000/60000 [==============================] - 14s 227us/sample - loss: 0.2029 - accuracy: 0.9269 - val_loss: 0.3368 - val_accuracy: 0.8860\n",
      "Epoch 49/50\n",
      "60000/60000 [==============================] - 14s 226us/sample - loss: 0.2009 - accuracy: 0.9272 - val_loss: 0.3393 - val_accuracy: 0.8849\n",
      "Epoch 50/50\n",
      "60000/60000 [==============================] - 14s 229us/sample - loss: 0.1963 - accuracy: 0.9284 - val_loss: 0.3296 - val_accuracy: 0.8866\n"
     ]
    },
    {
     "data": {
      "text/plain": [
       "<tensorflow.python.keras.callbacks.History at 0x1cd8f1e1390>"
      ]
     },
     "execution_count": 26,
     "metadata": {},
     "output_type": "execute_result"
    }
   ],
   "source": [
    "model.fit(trainX, trainY, validation_data=(testX, testY), epochs=50)"
   ]
  }
 ],
 "metadata": {
  "colab": {
   "name": "R6_ExternalLab_AIML.ipynb",
   "provenance": [],
   "version": "0.3.2"
  },
  "kernelspec": {
   "display_name": "Python 3",
   "language": "python",
   "name": "python3"
  },
  "language_info": {
   "codemirror_mode": {
    "name": "ipython",
    "version": 3
   },
   "file_extension": ".py",
   "mimetype": "text/x-python",
   "name": "python",
   "nbconvert_exporter": "python",
   "pygments_lexer": "ipython3",
   "version": "3.7.3"
  }
 },
 "nbformat": 4,
 "nbformat_minor": 1
}
